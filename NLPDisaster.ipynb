{
  "cells": [
    {
      "cell_type": "markdown",
      "id": "5763c712",
      "metadata": {
        "id": "5763c712"
      },
      "source": [
        "# IMPORT LIBRARIES"
      ]
    },
    {
      "cell_type": "code",
      "execution_count": 1,
      "id": "d29d73fb",
      "metadata": {
        "trusted": true,
        "id": "d29d73fb"
      },
      "outputs": [],
      "source": [
        "import pandas as pd"
      ]
    },
    {
      "cell_type": "code",
      "execution_count": 2,
      "id": "3a3083f8",
      "metadata": {
        "trusted": true,
        "id": "3a3083f8"
      },
      "outputs": [],
      "source": [
        "import numpy as np"
      ]
    },
    {
      "cell_type": "code",
      "source": [
        "!pip install opendatasets"
      ],
      "metadata": {
        "colab": {
          "base_uri": "https://localhost:8080/"
        },
        "id": "CAAxkv1y4Lvm",
        "outputId": "7ca53527-4012-4cfb-ddf8-c5872fb669f3"
      },
      "id": "CAAxkv1y4Lvm",
      "execution_count": 4,
      "outputs": [
        {
          "output_type": "stream",
          "name": "stdout",
          "text": [
            "Looking in indexes: https://pypi.org/simple, https://us-python.pkg.dev/colab-wheels/public/simple/\n",
            "Collecting opendatasets\n",
            "  Downloading opendatasets-0.1.22-py3-none-any.whl (15 kB)\n",
            "Requirement already satisfied: click in /usr/local/lib/python3.7/dist-packages (from opendatasets) (7.1.2)\n",
            "Requirement already satisfied: kaggle in /usr/local/lib/python3.7/dist-packages (from opendatasets) (1.5.12)\n",
            "Requirement already satisfied: tqdm in /usr/local/lib/python3.7/dist-packages (from opendatasets) (4.64.1)\n",
            "Requirement already satisfied: python-slugify in /usr/local/lib/python3.7/dist-packages (from kaggle->opendatasets) (6.1.2)\n",
            "Requirement already satisfied: python-dateutil in /usr/local/lib/python3.7/dist-packages (from kaggle->opendatasets) (2.8.2)\n",
            "Requirement already satisfied: certifi in /usr/local/lib/python3.7/dist-packages (from kaggle->opendatasets) (2022.6.15)\n",
            "Requirement already satisfied: urllib3 in /usr/local/lib/python3.7/dist-packages (from kaggle->opendatasets) (1.24.3)\n",
            "Requirement already satisfied: requests in /usr/local/lib/python3.7/dist-packages (from kaggle->opendatasets) (2.23.0)\n",
            "Requirement already satisfied: six>=1.10 in /usr/local/lib/python3.7/dist-packages (from kaggle->opendatasets) (1.15.0)\n",
            "Requirement already satisfied: text-unidecode>=1.3 in /usr/local/lib/python3.7/dist-packages (from python-slugify->kaggle->opendatasets) (1.3)\n",
            "Requirement already satisfied: chardet<4,>=3.0.2 in /usr/local/lib/python3.7/dist-packages (from requests->kaggle->opendatasets) (3.0.4)\n",
            "Requirement already satisfied: idna<3,>=2.5 in /usr/local/lib/python3.7/dist-packages (from requests->kaggle->opendatasets) (2.10)\n",
            "Installing collected packages: opendatasets\n",
            "Successfully installed opendatasets-0.1.22\n"
          ]
        }
      ]
    },
    {
      "cell_type": "code",
      "execution_count": 5,
      "id": "e44f6078",
      "metadata": {
        "trusted": true,
        "id": "e44f6078"
      },
      "outputs": [],
      "source": [
        "import opendatasets as od"
      ]
    },
    {
      "cell_type": "code",
      "execution_count": 6,
      "id": "b9d108a7",
      "metadata": {
        "trusted": true,
        "id": "b9d108a7"
      },
      "outputs": [],
      "source": [
        "import seaborn as sns"
      ]
    },
    {
      "cell_type": "code",
      "execution_count": 7,
      "id": "0cffd1e5",
      "metadata": {
        "trusted": true,
        "id": "0cffd1e5"
      },
      "outputs": [],
      "source": [
        "import matplotlib.pyplot as plt"
      ]
    },
    {
      "cell_type": "code",
      "execution_count": 8,
      "id": "c958b552",
      "metadata": {
        "trusted": true,
        "id": "c958b552"
      },
      "outputs": [],
      "source": [
        "from sklearn.model_selection import train_test_split"
      ]
    },
    {
      "cell_type": "code",
      "execution_count": 9,
      "id": "8ae4161e",
      "metadata": {
        "trusted": true,
        "id": "8ae4161e"
      },
      "outputs": [],
      "source": [
        "from sklearn.naive_bayes import MultinomialNB"
      ]
    },
    {
      "cell_type": "code",
      "execution_count": 10,
      "id": "7532c9b9",
      "metadata": {
        "trusted": true,
        "id": "7532c9b9"
      },
      "outputs": [],
      "source": [
        "import pickle\n"
      ]
    },
    {
      "cell_type": "code",
      "execution_count": 11,
      "id": "c1fb040b",
      "metadata": {
        "trusted": true,
        "id": "c1fb040b"
      },
      "outputs": [],
      "source": [
        "from sklearn.tree import DecisionTreeClassifier"
      ]
    },
    {
      "cell_type": "code",
      "execution_count": 12,
      "id": "5e04d10c",
      "metadata": {
        "trusted": true,
        "id": "5e04d10c"
      },
      "outputs": [],
      "source": [
        "import tensorflow as tf"
      ]
    },
    {
      "cell_type": "code",
      "execution_count": 13,
      "id": "f996b664",
      "metadata": {
        "trusted": true,
        "id": "f996b664"
      },
      "outputs": [],
      "source": [
        "\n",
        "from keras.layers import Conv1D, Dense, MaxPooling1D, Flatten"
      ]
    },
    {
      "cell_type": "code",
      "execution_count": 14,
      "id": "25142435",
      "metadata": {
        "trusted": true,
        "id": "25142435"
      },
      "outputs": [],
      "source": [
        "from keras.models import Sequential"
      ]
    },
    {
      "cell_type": "code",
      "execution_count": 15,
      "id": "2604a01d",
      "metadata": {
        "trusted": true,
        "id": "2604a01d"
      },
      "outputs": [],
      "source": [
        "from tensorflow.keras.metrics import TruePositives, FalsePositives, TrueNegatives, FalseNegatives, BinaryAccuracy, Precision, Recall, AUC"
      ]
    },
    {
      "cell_type": "code",
      "execution_count": 16,
      "id": "d2a19b77",
      "metadata": {
        "trusted": true,
        "id": "d2a19b77"
      },
      "outputs": [],
      "source": [
        "from sklearn.metrics import confusion_matrix"
      ]
    },
    {
      "cell_type": "code",
      "execution_count": 17,
      "id": "797978ca",
      "metadata": {
        "trusted": true,
        "id": "797978ca"
      },
      "outputs": [],
      "source": [
        "\n",
        "from sklearn.metrics import accuracy_score"
      ]
    },
    {
      "cell_type": "code",
      "execution_count": 18,
      "id": "b6f334c4",
      "metadata": {
        "trusted": true,
        "id": "b6f334c4"
      },
      "outputs": [],
      "source": [
        "\n",
        "from sklearn.metrics import classification_report"
      ]
    },
    {
      "cell_type": "code",
      "execution_count": 19,
      "id": "60214f28",
      "metadata": {
        "trusted": true,
        "id": "60214f28"
      },
      "outputs": [],
      "source": [
        "import nltk"
      ]
    },
    {
      "cell_type": "code",
      "execution_count": 20,
      "id": "4c8e4a36",
      "metadata": {
        "trusted": true,
        "colab": {
          "base_uri": "https://localhost:8080/"
        },
        "id": "4c8e4a36",
        "outputId": "3ce16780-dc3c-4ef3-9006-16aa7de81d9a"
      },
      "outputs": [
        {
          "output_type": "stream",
          "name": "stderr",
          "text": [
            "[nltk_data] Downloading package wordnet to /root/nltk_data...\n"
          ]
        },
        {
          "output_type": "execute_result",
          "data": {
            "text/plain": [
              "True"
            ]
          },
          "metadata": {},
          "execution_count": 20
        }
      ],
      "source": [
        "nltk.download('wordnet')"
      ]
    },
    {
      "cell_type": "code",
      "execution_count": 21,
      "id": "a5fc7471",
      "metadata": {
        "trusted": true,
        "colab": {
          "base_uri": "https://localhost:8080/"
        },
        "id": "a5fc7471",
        "outputId": "fe35bb4e-c4dd-4d41-ad8a-e18c6ce054e7"
      },
      "outputs": [
        {
          "output_type": "stream",
          "name": "stderr",
          "text": [
            "[nltk_data] Downloading package omw-1.4 to /root/nltk_data...\n"
          ]
        },
        {
          "output_type": "execute_result",
          "data": {
            "text/plain": [
              "True"
            ]
          },
          "metadata": {},
          "execution_count": 21
        }
      ],
      "source": [
        "nltk.download('omw-1.4')\n"
      ]
    },
    {
      "cell_type": "code",
      "execution_count": 22,
      "id": "79d94b3a",
      "metadata": {
        "trusted": true,
        "id": "79d94b3a"
      },
      "outputs": [],
      "source": [
        "from nltk.stem import WordNetLemmatizer\n"
      ]
    },
    {
      "cell_type": "code",
      "execution_count": 23,
      "id": "7a49a4d1",
      "metadata": {
        "trusted": true,
        "id": "7a49a4d1"
      },
      "outputs": [],
      "source": [
        "from nltk.corpus import stopwords"
      ]
    },
    {
      "cell_type": "code",
      "execution_count": 24,
      "id": "0b22ce46",
      "metadata": {
        "trusted": true,
        "id": "0b22ce46"
      },
      "outputs": [],
      "source": [
        "import re"
      ]
    },
    {
      "cell_type": "code",
      "execution_count": 25,
      "id": "0ff1cae0",
      "metadata": {
        "trusted": true,
        "id": "0ff1cae0"
      },
      "outputs": [],
      "source": [
        "import os"
      ]
    },
    {
      "cell_type": "code",
      "execution_count": 26,
      "id": "df9463fb",
      "metadata": {
        "trusted": true,
        "id": "df9463fb"
      },
      "outputs": [],
      "source": [
        "from sklearn.feature_extraction.text import CountVectorizer"
      ]
    },
    {
      "cell_type": "code",
      "execution_count": 27,
      "id": "f9d0bb68",
      "metadata": {
        "trusted": true,
        "id": "f9d0bb68"
      },
      "outputs": [],
      "source": [
        "from sklearn.feature_extraction.text import TfidfVectorizer"
      ]
    },
    {
      "cell_type": "code",
      "execution_count": 28,
      "id": "f70d9bfb",
      "metadata": {
        "trusted": true,
        "id": "f70d9bfb"
      },
      "outputs": [],
      "source": [
        "# Importing the Embedding Layer from keras layers\n",
        "from tensorflow.keras.layers import Embedding"
      ]
    },
    {
      "cell_type": "code",
      "execution_count": 29,
      "id": "6a9701e3",
      "metadata": {
        "trusted": true,
        "id": "6a9701e3"
      },
      "outputs": [],
      "source": [
        "from keras.preprocessing.text import Tokenizer"
      ]
    },
    {
      "cell_type": "code",
      "execution_count": 30,
      "id": "5cb73e67",
      "metadata": {
        "trusted": true,
        "id": "5cb73e67"
      },
      "outputs": [],
      "source": [
        "from tensorflow.keras.preprocessing.sequence import pad_sequences"
      ]
    },
    {
      "cell_type": "code",
      "execution_count": 31,
      "id": "b2c6af79",
      "metadata": {
        "trusted": true,
        "id": "b2c6af79"
      },
      "outputs": [],
      "source": [
        "from sklearn.metrics import roc_curve, roc_auc_score\n"
      ]
    },
    {
      "cell_type": "markdown",
      "id": "34a44196",
      "metadata": {
        "id": "34a44196"
      },
      "source": [
        "# DOWNLOADING THE DATASET"
      ]
    },
    {
      "cell_type": "code",
      "execution_count": 113,
      "id": "25e54a1f",
      "metadata": {
        "trusted": true,
        "colab": {
          "base_uri": "https://localhost:8080/"
        },
        "id": "25e54a1f",
        "outputId": "cf4eef35-efcf-45e0-acbb-fd1f20d91c66"
      },
      "outputs": [
        {
          "output_type": "stream",
          "name": "stdout",
          "text": [
            "Skipping, found downloaded files in \"./nlp-getting-started\" (use force=True to force download)\n"
          ]
        }
      ],
      "source": [
        "od.download(\"https://www.kaggle.com/competitions/nlp-getting-started/data\")"
      ]
    },
    {
      "cell_type": "code",
      "execution_count": 132,
      "id": "e41dc003",
      "metadata": {
        "trusted": true,
        "id": "e41dc003"
      },
      "outputs": [],
      "source": [
        "data_train = pd.read_csv(\"nlp-getting-started/train.csv\")"
      ]
    },
    {
      "cell_type": "code",
      "execution_count": 215,
      "id": "c3ed4a71",
      "metadata": {
        "trusted": true,
        "id": "c3ed4a71"
      },
      "outputs": [],
      "source": [
        "data_test = pd.read_csv(\"nlp-getting-started/test.csv\")"
      ]
    },
    {
      "cell_type": "code",
      "execution_count": 216,
      "id": "d6dd3b75",
      "metadata": {
        "trusted": true,
        "colab": {
          "base_uri": "https://localhost:8080/"
        },
        "id": "d6dd3b75",
        "outputId": "6eeaf5d3-bde6-46be-c422-923e88a7c321"
      },
      "outputs": [
        {
          "output_type": "stream",
          "name": "stdout",
          "text": [
            "                                                text  target\n",
            "0         deed reason earthquake may allah forgive u       1\n",
            "1              forest fire near la ronge sask canada       1\n",
            "2  resident asked shelter place notified officer ...       1\n",
            "3  13 000 people receive wildfire evacuation orde...       1\n",
            "4  got sent photo ruby alaska smoke wildfire pour...       1\n"
          ]
        }
      ],
      "source": [
        "print(data_train.head())"
      ]
    },
    {
      "cell_type": "code",
      "execution_count": 217,
      "id": "4b33f22e",
      "metadata": {
        "trusted": true,
        "colab": {
          "base_uri": "https://localhost:8080/"
        },
        "id": "4b33f22e",
        "outputId": "d2e8a83c-2d36-40fc-a37a-edbbf8d42e03"
      },
      "outputs": [
        {
          "output_type": "stream",
          "name": "stdout",
          "text": [
            "                                                   text  target\n",
            "7608  two giant crane holding bridge collapse nearby...       1\n",
            "7609  aria_ahrary thetawniest control wild fire cali...       1\n",
            "7610  m1 94 01 04 utc 5km volcano hawaii http co zdt...       1\n",
            "7611  police investigating e bike collided car littl...       1\n",
            "7612  latest home razed northern california wildfire...       1\n"
          ]
        }
      ],
      "source": [
        "print(data_train.tail())"
      ]
    },
    {
      "cell_type": "code",
      "execution_count": 218,
      "id": "c5d405d6",
      "metadata": {
        "trusted": true,
        "colab": {
          "base_uri": "https://localhost:8080/"
        },
        "id": "c5d405d6",
        "outputId": "b23939fa-9174-4be3-a726-a01543bf7250"
      },
      "outputs": [
        {
          "output_type": "stream",
          "name": "stdout",
          "text": [
            "   id keyword location                                               text\n",
            "0   0     NaN      NaN                 Just happened a terrible car crash\n",
            "1   2     NaN      NaN  Heard about #earthquake is different cities, s...\n",
            "2   3     NaN      NaN  there is a forest fire at spot pond, geese are...\n",
            "3   9     NaN      NaN           Apocalypse lighting. #Spokane #wildfires\n",
            "4  11     NaN      NaN      Typhoon Soudelor kills 28 in China and Taiwan\n"
          ]
        }
      ],
      "source": [
        "print(data_test.head())"
      ]
    },
    {
      "cell_type": "code",
      "execution_count": 219,
      "id": "5a4c7057",
      "metadata": {
        "trusted": true,
        "colab": {
          "base_uri": "https://localhost:8080/"
        },
        "id": "5a4c7057",
        "outputId": "deb09f19-c1da-4d9f-e885-83361ccd6275"
      },
      "outputs": [
        {
          "output_type": "stream",
          "name": "stdout",
          "text": [
            "         id keyword location  \\\n",
            "3258  10861     NaN      NaN   \n",
            "3259  10865     NaN      NaN   \n",
            "3260  10868     NaN      NaN   \n",
            "3261  10874     NaN      NaN   \n",
            "3262  10875     NaN      NaN   \n",
            "\n",
            "                                                   text  \n",
            "3258  EARTHQUAKE SAFETY LOS ANGELES ÛÒ SAFETY FASTE...  \n",
            "3259  Storm in RI worse than last hurricane. My city...  \n",
            "3260  Green Line derailment in Chicago http://t.co/U...  \n",
            "3261  MEG issues Hazardous Weather Outlook (HWO) htt...  \n",
            "3262  #CityofCalgary has activated its Municipal Eme...  \n"
          ]
        }
      ],
      "source": [
        "print(data_test.tail())"
      ]
    },
    {
      "cell_type": "markdown",
      "id": "3d7ce65a",
      "metadata": {
        "id": "3d7ce65a"
      },
      "source": [
        "# Selecting the Required Columns i.e. Selecting the Text and the Target Column"
      ]
    },
    {
      "cell_type": "code",
      "execution_count": 220,
      "id": "07198373",
      "metadata": {
        "trusted": true,
        "id": "07198373"
      },
      "outputs": [],
      "source": [
        "data_train  = data_train[[\"text\", \"target\"]]"
      ]
    },
    {
      "cell_type": "code",
      "execution_count": 221,
      "id": "1ea28520",
      "metadata": {
        "trusted": true,
        "id": "1ea28520"
      },
      "outputs": [],
      "source": [
        "data_test = data_test[[\"text\"]]"
      ]
    },
    {
      "cell_type": "code",
      "source": [
        "data_train.head()"
      ],
      "metadata": {
        "colab": {
          "base_uri": "https://localhost:8080/",
          "height": 206
        },
        "id": "GIoE3ijd5DNC",
        "outputId": "b509f17b-90e2-43cd-b32e-a1a5e64e2c92"
      },
      "id": "GIoE3ijd5DNC",
      "execution_count": 222,
      "outputs": [
        {
          "output_type": "execute_result",
          "data": {
            "text/plain": [
              "                                                text  target\n",
              "0         deed reason earthquake may allah forgive u       1\n",
              "1              forest fire near la ronge sask canada       1\n",
              "2  resident asked shelter place notified officer ...       1\n",
              "3  13 000 people receive wildfire evacuation orde...       1\n",
              "4  got sent photo ruby alaska smoke wildfire pour...       1"
            ],
            "text/html": [
              "\n",
              "  <div id=\"df-5dd36c5d-7db6-407d-9d95-6e39f5d42a12\">\n",
              "    <div class=\"colab-df-container\">\n",
              "      <div>\n",
              "<style scoped>\n",
              "    .dataframe tbody tr th:only-of-type {\n",
              "        vertical-align: middle;\n",
              "    }\n",
              "\n",
              "    .dataframe tbody tr th {\n",
              "        vertical-align: top;\n",
              "    }\n",
              "\n",
              "    .dataframe thead th {\n",
              "        text-align: right;\n",
              "    }\n",
              "</style>\n",
              "<table border=\"1\" class=\"dataframe\">\n",
              "  <thead>\n",
              "    <tr style=\"text-align: right;\">\n",
              "      <th></th>\n",
              "      <th>text</th>\n",
              "      <th>target</th>\n",
              "    </tr>\n",
              "  </thead>\n",
              "  <tbody>\n",
              "    <tr>\n",
              "      <th>0</th>\n",
              "      <td>deed reason earthquake may allah forgive u</td>\n",
              "      <td>1</td>\n",
              "    </tr>\n",
              "    <tr>\n",
              "      <th>1</th>\n",
              "      <td>forest fire near la ronge sask canada</td>\n",
              "      <td>1</td>\n",
              "    </tr>\n",
              "    <tr>\n",
              "      <th>2</th>\n",
              "      <td>resident asked shelter place notified officer ...</td>\n",
              "      <td>1</td>\n",
              "    </tr>\n",
              "    <tr>\n",
              "      <th>3</th>\n",
              "      <td>13 000 people receive wildfire evacuation orde...</td>\n",
              "      <td>1</td>\n",
              "    </tr>\n",
              "    <tr>\n",
              "      <th>4</th>\n",
              "      <td>got sent photo ruby alaska smoke wildfire pour...</td>\n",
              "      <td>1</td>\n",
              "    </tr>\n",
              "  </tbody>\n",
              "</table>\n",
              "</div>\n",
              "      <button class=\"colab-df-convert\" onclick=\"convertToInteractive('df-5dd36c5d-7db6-407d-9d95-6e39f5d42a12')\"\n",
              "              title=\"Convert this dataframe to an interactive table.\"\n",
              "              style=\"display:none;\">\n",
              "        \n",
              "  <svg xmlns=\"http://www.w3.org/2000/svg\" height=\"24px\"viewBox=\"0 0 24 24\"\n",
              "       width=\"24px\">\n",
              "    <path d=\"M0 0h24v24H0V0z\" fill=\"none\"/>\n",
              "    <path d=\"M18.56 5.44l.94 2.06.94-2.06 2.06-.94-2.06-.94-.94-2.06-.94 2.06-2.06.94zm-11 1L8.5 8.5l.94-2.06 2.06-.94-2.06-.94L8.5 2.5l-.94 2.06-2.06.94zm10 10l.94 2.06.94-2.06 2.06-.94-2.06-.94-.94-2.06-.94 2.06-2.06.94z\"/><path d=\"M17.41 7.96l-1.37-1.37c-.4-.4-.92-.59-1.43-.59-.52 0-1.04.2-1.43.59L10.3 9.45l-7.72 7.72c-.78.78-.78 2.05 0 2.83L4 21.41c.39.39.9.59 1.41.59.51 0 1.02-.2 1.41-.59l7.78-7.78 2.81-2.81c.8-.78.8-2.07 0-2.86zM5.41 20L4 18.59l7.72-7.72 1.47 1.35L5.41 20z\"/>\n",
              "  </svg>\n",
              "      </button>\n",
              "      \n",
              "  <style>\n",
              "    .colab-df-container {\n",
              "      display:flex;\n",
              "      flex-wrap:wrap;\n",
              "      gap: 12px;\n",
              "    }\n",
              "\n",
              "    .colab-df-convert {\n",
              "      background-color: #E8F0FE;\n",
              "      border: none;\n",
              "      border-radius: 50%;\n",
              "      cursor: pointer;\n",
              "      display: none;\n",
              "      fill: #1967D2;\n",
              "      height: 32px;\n",
              "      padding: 0 0 0 0;\n",
              "      width: 32px;\n",
              "    }\n",
              "\n",
              "    .colab-df-convert:hover {\n",
              "      background-color: #E2EBFA;\n",
              "      box-shadow: 0px 1px 2px rgba(60, 64, 67, 0.3), 0px 1px 3px 1px rgba(60, 64, 67, 0.15);\n",
              "      fill: #174EA6;\n",
              "    }\n",
              "\n",
              "    [theme=dark] .colab-df-convert {\n",
              "      background-color: #3B4455;\n",
              "      fill: #D2E3FC;\n",
              "    }\n",
              "\n",
              "    [theme=dark] .colab-df-convert:hover {\n",
              "      background-color: #434B5C;\n",
              "      box-shadow: 0px 1px 3px 1px rgba(0, 0, 0, 0.15);\n",
              "      filter: drop-shadow(0px 1px 2px rgba(0, 0, 0, 0.3));\n",
              "      fill: #FFFFFF;\n",
              "    }\n",
              "  </style>\n",
              "\n",
              "      <script>\n",
              "        const buttonEl =\n",
              "          document.querySelector('#df-5dd36c5d-7db6-407d-9d95-6e39f5d42a12 button.colab-df-convert');\n",
              "        buttonEl.style.display =\n",
              "          google.colab.kernel.accessAllowed ? 'block' : 'none';\n",
              "\n",
              "        async function convertToInteractive(key) {\n",
              "          const element = document.querySelector('#df-5dd36c5d-7db6-407d-9d95-6e39f5d42a12');\n",
              "          const dataTable =\n",
              "            await google.colab.kernel.invokeFunction('convertToInteractive',\n",
              "                                                     [key], {});\n",
              "          if (!dataTable) return;\n",
              "\n",
              "          const docLinkHtml = 'Like what you see? Visit the ' +\n",
              "            '<a target=\"_blank\" href=https://colab.research.google.com/notebooks/data_table.ipynb>data table notebook</a>'\n",
              "            + ' to learn more about interactive tables.';\n",
              "          element.innerHTML = '';\n",
              "          dataTable['output_type'] = 'display_data';\n",
              "          await google.colab.output.renderOutput(dataTable, element);\n",
              "          const docLink = document.createElement('div');\n",
              "          docLink.innerHTML = docLinkHtml;\n",
              "          element.appendChild(docLink);\n",
              "        }\n",
              "      </script>\n",
              "    </div>\n",
              "  </div>\n",
              "  "
            ]
          },
          "metadata": {},
          "execution_count": 222
        }
      ]
    },
    {
      "cell_type": "code",
      "source": [
        "data_test.head()"
      ],
      "metadata": {
        "colab": {
          "base_uri": "https://localhost:8080/",
          "height": 206
        },
        "id": "vmrM_Yw462C1",
        "outputId": "e3d67090-c06e-497d-a049-4137004431a3"
      },
      "id": "vmrM_Yw462C1",
      "execution_count": 223,
      "outputs": [
        {
          "output_type": "execute_result",
          "data": {
            "text/plain": [
              "                                                text\n",
              "0                 Just happened a terrible car crash\n",
              "1  Heard about #earthquake is different cities, s...\n",
              "2  there is a forest fire at spot pond, geese are...\n",
              "3           Apocalypse lighting. #Spokane #wildfires\n",
              "4      Typhoon Soudelor kills 28 in China and Taiwan"
            ],
            "text/html": [
              "\n",
              "  <div id=\"df-e4deb6d6-8380-4430-a54b-99dc8a4584b8\">\n",
              "    <div class=\"colab-df-container\">\n",
              "      <div>\n",
              "<style scoped>\n",
              "    .dataframe tbody tr th:only-of-type {\n",
              "        vertical-align: middle;\n",
              "    }\n",
              "\n",
              "    .dataframe tbody tr th {\n",
              "        vertical-align: top;\n",
              "    }\n",
              "\n",
              "    .dataframe thead th {\n",
              "        text-align: right;\n",
              "    }\n",
              "</style>\n",
              "<table border=\"1\" class=\"dataframe\">\n",
              "  <thead>\n",
              "    <tr style=\"text-align: right;\">\n",
              "      <th></th>\n",
              "      <th>text</th>\n",
              "    </tr>\n",
              "  </thead>\n",
              "  <tbody>\n",
              "    <tr>\n",
              "      <th>0</th>\n",
              "      <td>Just happened a terrible car crash</td>\n",
              "    </tr>\n",
              "    <tr>\n",
              "      <th>1</th>\n",
              "      <td>Heard about #earthquake is different cities, s...</td>\n",
              "    </tr>\n",
              "    <tr>\n",
              "      <th>2</th>\n",
              "      <td>there is a forest fire at spot pond, geese are...</td>\n",
              "    </tr>\n",
              "    <tr>\n",
              "      <th>3</th>\n",
              "      <td>Apocalypse lighting. #Spokane #wildfires</td>\n",
              "    </tr>\n",
              "    <tr>\n",
              "      <th>4</th>\n",
              "      <td>Typhoon Soudelor kills 28 in China and Taiwan</td>\n",
              "    </tr>\n",
              "  </tbody>\n",
              "</table>\n",
              "</div>\n",
              "      <button class=\"colab-df-convert\" onclick=\"convertToInteractive('df-e4deb6d6-8380-4430-a54b-99dc8a4584b8')\"\n",
              "              title=\"Convert this dataframe to an interactive table.\"\n",
              "              style=\"display:none;\">\n",
              "        \n",
              "  <svg xmlns=\"http://www.w3.org/2000/svg\" height=\"24px\"viewBox=\"0 0 24 24\"\n",
              "       width=\"24px\">\n",
              "    <path d=\"M0 0h24v24H0V0z\" fill=\"none\"/>\n",
              "    <path d=\"M18.56 5.44l.94 2.06.94-2.06 2.06-.94-2.06-.94-.94-2.06-.94 2.06-2.06.94zm-11 1L8.5 8.5l.94-2.06 2.06-.94-2.06-.94L8.5 2.5l-.94 2.06-2.06.94zm10 10l.94 2.06.94-2.06 2.06-.94-2.06-.94-.94-2.06-.94 2.06-2.06.94z\"/><path d=\"M17.41 7.96l-1.37-1.37c-.4-.4-.92-.59-1.43-.59-.52 0-1.04.2-1.43.59L10.3 9.45l-7.72 7.72c-.78.78-.78 2.05 0 2.83L4 21.41c.39.39.9.59 1.41.59.51 0 1.02-.2 1.41-.59l7.78-7.78 2.81-2.81c.8-.78.8-2.07 0-2.86zM5.41 20L4 18.59l7.72-7.72 1.47 1.35L5.41 20z\"/>\n",
              "  </svg>\n",
              "      </button>\n",
              "      \n",
              "  <style>\n",
              "    .colab-df-container {\n",
              "      display:flex;\n",
              "      flex-wrap:wrap;\n",
              "      gap: 12px;\n",
              "    }\n",
              "\n",
              "    .colab-df-convert {\n",
              "      background-color: #E8F0FE;\n",
              "      border: none;\n",
              "      border-radius: 50%;\n",
              "      cursor: pointer;\n",
              "      display: none;\n",
              "      fill: #1967D2;\n",
              "      height: 32px;\n",
              "      padding: 0 0 0 0;\n",
              "      width: 32px;\n",
              "    }\n",
              "\n",
              "    .colab-df-convert:hover {\n",
              "      background-color: #E2EBFA;\n",
              "      box-shadow: 0px 1px 2px rgba(60, 64, 67, 0.3), 0px 1px 3px 1px rgba(60, 64, 67, 0.15);\n",
              "      fill: #174EA6;\n",
              "    }\n",
              "\n",
              "    [theme=dark] .colab-df-convert {\n",
              "      background-color: #3B4455;\n",
              "      fill: #D2E3FC;\n",
              "    }\n",
              "\n",
              "    [theme=dark] .colab-df-convert:hover {\n",
              "      background-color: #434B5C;\n",
              "      box-shadow: 0px 1px 3px 1px rgba(0, 0, 0, 0.15);\n",
              "      filter: drop-shadow(0px 1px 2px rgba(0, 0, 0, 0.3));\n",
              "      fill: #FFFFFF;\n",
              "    }\n",
              "  </style>\n",
              "\n",
              "      <script>\n",
              "        const buttonEl =\n",
              "          document.querySelector('#df-e4deb6d6-8380-4430-a54b-99dc8a4584b8 button.colab-df-convert');\n",
              "        buttonEl.style.display =\n",
              "          google.colab.kernel.accessAllowed ? 'block' : 'none';\n",
              "\n",
              "        async function convertToInteractive(key) {\n",
              "          const element = document.querySelector('#df-e4deb6d6-8380-4430-a54b-99dc8a4584b8');\n",
              "          const dataTable =\n",
              "            await google.colab.kernel.invokeFunction('convertToInteractive',\n",
              "                                                     [key], {});\n",
              "          if (!dataTable) return;\n",
              "\n",
              "          const docLinkHtml = 'Like what you see? Visit the ' +\n",
              "            '<a target=\"_blank\" href=https://colab.research.google.com/notebooks/data_table.ipynb>data table notebook</a>'\n",
              "            + ' to learn more about interactive tables.';\n",
              "          element.innerHTML = '';\n",
              "          dataTable['output_type'] = 'display_data';\n",
              "          await google.colab.output.renderOutput(dataTable, element);\n",
              "          const docLink = document.createElement('div');\n",
              "          docLink.innerHTML = docLinkHtml;\n",
              "          element.appendChild(docLink);\n",
              "        }\n",
              "      </script>\n",
              "    </div>\n",
              "  </div>\n",
              "  "
            ]
          },
          "metadata": {},
          "execution_count": 223
        }
      ]
    },
    {
      "cell_type": "markdown",
      "id": "b1fa972d",
      "metadata": {
        "id": "b1fa972d"
      },
      "source": [
        "# DATA PREPROCESSING"
      ]
    },
    {
      "cell_type": "code",
      "execution_count": 141,
      "id": "66d5f218",
      "metadata": {
        "trusted": true,
        "colab": {
          "base_uri": "https://localhost:8080/"
        },
        "id": "66d5f218",
        "outputId": "e61c36fb-65c0-4017-a86b-c8050b517277"
      },
      "outputs": [
        {
          "output_type": "stream",
          "name": "stdout",
          "text": [
            "<class 'pandas.core.frame.DataFrame'>\n",
            "RangeIndex: 7613 entries, 0 to 7612\n",
            "Data columns (total 2 columns):\n",
            " #   Column  Non-Null Count  Dtype \n",
            "---  ------  --------------  ----- \n",
            " 0   text    7613 non-null   object\n",
            " 1   target  7613 non-null   int64 \n",
            "dtypes: int64(1), object(1)\n",
            "memory usage: 119.1+ KB\n",
            "None\n"
          ]
        }
      ],
      "source": [
        "print(data_train.info())"
      ]
    },
    {
      "cell_type": "code",
      "execution_count": 142,
      "id": "2fb09b5f",
      "metadata": {
        "trusted": true,
        "colab": {
          "base_uri": "https://localhost:8080/"
        },
        "id": "2fb09b5f",
        "outputId": "53403d6b-2b1f-43d1-d3d1-02d6462da11a"
      },
      "outputs": [
        {
          "output_type": "stream",
          "name": "stdout",
          "text": [
            "text      0\n",
            "target    0\n",
            "dtype: int64\n"
          ]
        }
      ],
      "source": [
        "print(data_train.isnull().sum())"
      ]
    },
    {
      "cell_type": "code",
      "execution_count": 143,
      "id": "ae0489cf",
      "metadata": {
        "trusted": true,
        "colab": {
          "base_uri": "https://localhost:8080/"
        },
        "id": "ae0489cf",
        "outputId": "346d7e04-7659-4b6c-b7d2-e1a751812c47"
      },
      "outputs": [
        {
          "output_type": "stream",
          "name": "stdout",
          "text": [
            "           target\n",
            "count  7613.00000\n",
            "mean      0.42966\n",
            "std       0.49506\n",
            "min       0.00000\n",
            "25%       0.00000\n",
            "50%       0.00000\n",
            "75%       1.00000\n",
            "max       1.00000\n"
          ]
        }
      ],
      "source": [
        "print(data_train.describe())"
      ]
    },
    {
      "cell_type": "code",
      "execution_count": 144,
      "id": "f10eb237",
      "metadata": {
        "trusted": true,
        "colab": {
          "base_uri": "https://localhost:8080/"
        },
        "id": "f10eb237",
        "outputId": "1cfaf9bf-0db3-46a6-d90f-86b02c03837a"
      },
      "outputs": [
        {
          "output_type": "stream",
          "name": "stdout",
          "text": [
            "text      object\n",
            "target     int64\n",
            "dtype: object\n"
          ]
        }
      ],
      "source": [
        "print(data_train.dtypes)"
      ]
    },
    {
      "cell_type": "code",
      "execution_count": 145,
      "id": "8d64310c",
      "metadata": {
        "trusted": true,
        "id": "8d64310c"
      },
      "outputs": [],
      "source": [
        "# Lowering all the Sentences in the Data\n",
        "data_train[\"text\"] = data_train[\"text\"].apply(lambda x: x.lower())"
      ]
    },
    {
      "cell_type": "code",
      "source": [
        "data_train.head()"
      ],
      "metadata": {
        "colab": {
          "base_uri": "https://localhost:8080/",
          "height": 206
        },
        "id": "CahhfI-T5RUr",
        "outputId": "56bb03ef-5443-4a0b-fe82-2100099ba484"
      },
      "id": "CahhfI-T5RUr",
      "execution_count": 146,
      "outputs": [
        {
          "output_type": "execute_result",
          "data": {
            "text/plain": [
              "                                                text  target\n",
              "0  our deeds are the reason of this #earthquake m...       1\n",
              "1             forest fire near la ronge sask. canada       1\n",
              "2  all residents asked to 'shelter in place' are ...       1\n",
              "3  13,000 people receive #wildfires evacuation or...       1\n",
              "4  just got sent this photo from ruby #alaska as ...       1"
            ],
            "text/html": [
              "\n",
              "  <div id=\"df-8aa734e6-e4bc-4a75-905b-dbdbed196d74\">\n",
              "    <div class=\"colab-df-container\">\n",
              "      <div>\n",
              "<style scoped>\n",
              "    .dataframe tbody tr th:only-of-type {\n",
              "        vertical-align: middle;\n",
              "    }\n",
              "\n",
              "    .dataframe tbody tr th {\n",
              "        vertical-align: top;\n",
              "    }\n",
              "\n",
              "    .dataframe thead th {\n",
              "        text-align: right;\n",
              "    }\n",
              "</style>\n",
              "<table border=\"1\" class=\"dataframe\">\n",
              "  <thead>\n",
              "    <tr style=\"text-align: right;\">\n",
              "      <th></th>\n",
              "      <th>text</th>\n",
              "      <th>target</th>\n",
              "    </tr>\n",
              "  </thead>\n",
              "  <tbody>\n",
              "    <tr>\n",
              "      <th>0</th>\n",
              "      <td>our deeds are the reason of this #earthquake m...</td>\n",
              "      <td>1</td>\n",
              "    </tr>\n",
              "    <tr>\n",
              "      <th>1</th>\n",
              "      <td>forest fire near la ronge sask. canada</td>\n",
              "      <td>1</td>\n",
              "    </tr>\n",
              "    <tr>\n",
              "      <th>2</th>\n",
              "      <td>all residents asked to 'shelter in place' are ...</td>\n",
              "      <td>1</td>\n",
              "    </tr>\n",
              "    <tr>\n",
              "      <th>3</th>\n",
              "      <td>13,000 people receive #wildfires evacuation or...</td>\n",
              "      <td>1</td>\n",
              "    </tr>\n",
              "    <tr>\n",
              "      <th>4</th>\n",
              "      <td>just got sent this photo from ruby #alaska as ...</td>\n",
              "      <td>1</td>\n",
              "    </tr>\n",
              "  </tbody>\n",
              "</table>\n",
              "</div>\n",
              "      <button class=\"colab-df-convert\" onclick=\"convertToInteractive('df-8aa734e6-e4bc-4a75-905b-dbdbed196d74')\"\n",
              "              title=\"Convert this dataframe to an interactive table.\"\n",
              "              style=\"display:none;\">\n",
              "        \n",
              "  <svg xmlns=\"http://www.w3.org/2000/svg\" height=\"24px\"viewBox=\"0 0 24 24\"\n",
              "       width=\"24px\">\n",
              "    <path d=\"M0 0h24v24H0V0z\" fill=\"none\"/>\n",
              "    <path d=\"M18.56 5.44l.94 2.06.94-2.06 2.06-.94-2.06-.94-.94-2.06-.94 2.06-2.06.94zm-11 1L8.5 8.5l.94-2.06 2.06-.94-2.06-.94L8.5 2.5l-.94 2.06-2.06.94zm10 10l.94 2.06.94-2.06 2.06-.94-2.06-.94-.94-2.06-.94 2.06-2.06.94z\"/><path d=\"M17.41 7.96l-1.37-1.37c-.4-.4-.92-.59-1.43-.59-.52 0-1.04.2-1.43.59L10.3 9.45l-7.72 7.72c-.78.78-.78 2.05 0 2.83L4 21.41c.39.39.9.59 1.41.59.51 0 1.02-.2 1.41-.59l7.78-7.78 2.81-2.81c.8-.78.8-2.07 0-2.86zM5.41 20L4 18.59l7.72-7.72 1.47 1.35L5.41 20z\"/>\n",
              "  </svg>\n",
              "      </button>\n",
              "      \n",
              "  <style>\n",
              "    .colab-df-container {\n",
              "      display:flex;\n",
              "      flex-wrap:wrap;\n",
              "      gap: 12px;\n",
              "    }\n",
              "\n",
              "    .colab-df-convert {\n",
              "      background-color: #E8F0FE;\n",
              "      border: none;\n",
              "      border-radius: 50%;\n",
              "      cursor: pointer;\n",
              "      display: none;\n",
              "      fill: #1967D2;\n",
              "      height: 32px;\n",
              "      padding: 0 0 0 0;\n",
              "      width: 32px;\n",
              "    }\n",
              "\n",
              "    .colab-df-convert:hover {\n",
              "      background-color: #E2EBFA;\n",
              "      box-shadow: 0px 1px 2px rgba(60, 64, 67, 0.3), 0px 1px 3px 1px rgba(60, 64, 67, 0.15);\n",
              "      fill: #174EA6;\n",
              "    }\n",
              "\n",
              "    [theme=dark] .colab-df-convert {\n",
              "      background-color: #3B4455;\n",
              "      fill: #D2E3FC;\n",
              "    }\n",
              "\n",
              "    [theme=dark] .colab-df-convert:hover {\n",
              "      background-color: #434B5C;\n",
              "      box-shadow: 0px 1px 3px 1px rgba(0, 0, 0, 0.15);\n",
              "      filter: drop-shadow(0px 1px 2px rgba(0, 0, 0, 0.3));\n",
              "      fill: #FFFFFF;\n",
              "    }\n",
              "  </style>\n",
              "\n",
              "      <script>\n",
              "        const buttonEl =\n",
              "          document.querySelector('#df-8aa734e6-e4bc-4a75-905b-dbdbed196d74 button.colab-df-convert');\n",
              "        buttonEl.style.display =\n",
              "          google.colab.kernel.accessAllowed ? 'block' : 'none';\n",
              "\n",
              "        async function convertToInteractive(key) {\n",
              "          const element = document.querySelector('#df-8aa734e6-e4bc-4a75-905b-dbdbed196d74');\n",
              "          const dataTable =\n",
              "            await google.colab.kernel.invokeFunction('convertToInteractive',\n",
              "                                                     [key], {});\n",
              "          if (!dataTable) return;\n",
              "\n",
              "          const docLinkHtml = 'Like what you see? Visit the ' +\n",
              "            '<a target=\"_blank\" href=https://colab.research.google.com/notebooks/data_table.ipynb>data table notebook</a>'\n",
              "            + ' to learn more about interactive tables.';\n",
              "          element.innerHTML = '';\n",
              "          dataTable['output_type'] = 'display_data';\n",
              "          await google.colab.output.renderOutput(dataTable, element);\n",
              "          const docLink = document.createElement('div');\n",
              "          docLink.innerHTML = docLinkHtml;\n",
              "          element.appendChild(docLink);\n",
              "        }\n",
              "      </script>\n",
              "    </div>\n",
              "  </div>\n",
              "  "
            ]
          },
          "metadata": {},
          "execution_count": 146
        }
      ]
    },
    {
      "cell_type": "code",
      "execution_count": 147,
      "id": "2a49087e",
      "metadata": {
        "trusted": true,
        "colab": {
          "base_uri": "https://localhost:8080/"
        },
        "id": "2a49087e",
        "outputId": "75c803d9-bcdf-452e-bff3-5bfdc25a0ac1"
      },
      "outputs": [
        {
          "output_type": "stream",
          "name": "stderr",
          "text": [
            "/usr/local/lib/python3.7/dist-packages/ipykernel_launcher.py:3: FutureWarning: The default value of regex will change from True to False in a future version.\n",
            "  This is separate from the ipykernel package so we can avoid doing imports until\n"
          ]
        }
      ],
      "source": [
        "# Removing the Puntuation marks from the text\n",
        "\n",
        "data_train[\"text\"] = data_train[\"text\"].str.replace(r'[^\\w\\s]+', ' ').str.strip()"
      ]
    },
    {
      "cell_type": "code",
      "source": [
        "data_train.head()"
      ],
      "metadata": {
        "colab": {
          "base_uri": "https://localhost:8080/",
          "height": 206
        },
        "id": "bVizajgz5JcB",
        "outputId": "45a99ca1-3ad7-474b-d828-bf419cdd3f5b"
      },
      "id": "bVizajgz5JcB",
      "execution_count": 148,
      "outputs": [
        {
          "output_type": "execute_result",
          "data": {
            "text/plain": [
              "                                                text  target\n",
              "0  our deeds are the reason of this  earthquake m...       1\n",
              "1             forest fire near la ronge sask  canada       1\n",
              "2  all residents asked to  shelter in place  are ...       1\n",
              "3  13 000 people receive  wildfires evacuation or...       1\n",
              "4  just got sent this photo from ruby  alaska as ...       1"
            ],
            "text/html": [
              "\n",
              "  <div id=\"df-1e573fc0-59ae-4e1d-813c-2b789aff59bf\">\n",
              "    <div class=\"colab-df-container\">\n",
              "      <div>\n",
              "<style scoped>\n",
              "    .dataframe tbody tr th:only-of-type {\n",
              "        vertical-align: middle;\n",
              "    }\n",
              "\n",
              "    .dataframe tbody tr th {\n",
              "        vertical-align: top;\n",
              "    }\n",
              "\n",
              "    .dataframe thead th {\n",
              "        text-align: right;\n",
              "    }\n",
              "</style>\n",
              "<table border=\"1\" class=\"dataframe\">\n",
              "  <thead>\n",
              "    <tr style=\"text-align: right;\">\n",
              "      <th></th>\n",
              "      <th>text</th>\n",
              "      <th>target</th>\n",
              "    </tr>\n",
              "  </thead>\n",
              "  <tbody>\n",
              "    <tr>\n",
              "      <th>0</th>\n",
              "      <td>our deeds are the reason of this  earthquake m...</td>\n",
              "      <td>1</td>\n",
              "    </tr>\n",
              "    <tr>\n",
              "      <th>1</th>\n",
              "      <td>forest fire near la ronge sask  canada</td>\n",
              "      <td>1</td>\n",
              "    </tr>\n",
              "    <tr>\n",
              "      <th>2</th>\n",
              "      <td>all residents asked to  shelter in place  are ...</td>\n",
              "      <td>1</td>\n",
              "    </tr>\n",
              "    <tr>\n",
              "      <th>3</th>\n",
              "      <td>13 000 people receive  wildfires evacuation or...</td>\n",
              "      <td>1</td>\n",
              "    </tr>\n",
              "    <tr>\n",
              "      <th>4</th>\n",
              "      <td>just got sent this photo from ruby  alaska as ...</td>\n",
              "      <td>1</td>\n",
              "    </tr>\n",
              "  </tbody>\n",
              "</table>\n",
              "</div>\n",
              "      <button class=\"colab-df-convert\" onclick=\"convertToInteractive('df-1e573fc0-59ae-4e1d-813c-2b789aff59bf')\"\n",
              "              title=\"Convert this dataframe to an interactive table.\"\n",
              "              style=\"display:none;\">\n",
              "        \n",
              "  <svg xmlns=\"http://www.w3.org/2000/svg\" height=\"24px\"viewBox=\"0 0 24 24\"\n",
              "       width=\"24px\">\n",
              "    <path d=\"M0 0h24v24H0V0z\" fill=\"none\"/>\n",
              "    <path d=\"M18.56 5.44l.94 2.06.94-2.06 2.06-.94-2.06-.94-.94-2.06-.94 2.06-2.06.94zm-11 1L8.5 8.5l.94-2.06 2.06-.94-2.06-.94L8.5 2.5l-.94 2.06-2.06.94zm10 10l.94 2.06.94-2.06 2.06-.94-2.06-.94-.94-2.06-.94 2.06-2.06.94z\"/><path d=\"M17.41 7.96l-1.37-1.37c-.4-.4-.92-.59-1.43-.59-.52 0-1.04.2-1.43.59L10.3 9.45l-7.72 7.72c-.78.78-.78 2.05 0 2.83L4 21.41c.39.39.9.59 1.41.59.51 0 1.02-.2 1.41-.59l7.78-7.78 2.81-2.81c.8-.78.8-2.07 0-2.86zM5.41 20L4 18.59l7.72-7.72 1.47 1.35L5.41 20z\"/>\n",
              "  </svg>\n",
              "      </button>\n",
              "      \n",
              "  <style>\n",
              "    .colab-df-container {\n",
              "      display:flex;\n",
              "      flex-wrap:wrap;\n",
              "      gap: 12px;\n",
              "    }\n",
              "\n",
              "    .colab-df-convert {\n",
              "      background-color: #E8F0FE;\n",
              "      border: none;\n",
              "      border-radius: 50%;\n",
              "      cursor: pointer;\n",
              "      display: none;\n",
              "      fill: #1967D2;\n",
              "      height: 32px;\n",
              "      padding: 0 0 0 0;\n",
              "      width: 32px;\n",
              "    }\n",
              "\n",
              "    .colab-df-convert:hover {\n",
              "      background-color: #E2EBFA;\n",
              "      box-shadow: 0px 1px 2px rgba(60, 64, 67, 0.3), 0px 1px 3px 1px rgba(60, 64, 67, 0.15);\n",
              "      fill: #174EA6;\n",
              "    }\n",
              "\n",
              "    [theme=dark] .colab-df-convert {\n",
              "      background-color: #3B4455;\n",
              "      fill: #D2E3FC;\n",
              "    }\n",
              "\n",
              "    [theme=dark] .colab-df-convert:hover {\n",
              "      background-color: #434B5C;\n",
              "      box-shadow: 0px 1px 3px 1px rgba(0, 0, 0, 0.15);\n",
              "      filter: drop-shadow(0px 1px 2px rgba(0, 0, 0, 0.3));\n",
              "      fill: #FFFFFF;\n",
              "    }\n",
              "  </style>\n",
              "\n",
              "      <script>\n",
              "        const buttonEl =\n",
              "          document.querySelector('#df-1e573fc0-59ae-4e1d-813c-2b789aff59bf button.colab-df-convert');\n",
              "        buttonEl.style.display =\n",
              "          google.colab.kernel.accessAllowed ? 'block' : 'none';\n",
              "\n",
              "        async function convertToInteractive(key) {\n",
              "          const element = document.querySelector('#df-1e573fc0-59ae-4e1d-813c-2b789aff59bf');\n",
              "          const dataTable =\n",
              "            await google.colab.kernel.invokeFunction('convertToInteractive',\n",
              "                                                     [key], {});\n",
              "          if (!dataTable) return;\n",
              "\n",
              "          const docLinkHtml = 'Like what you see? Visit the ' +\n",
              "            '<a target=\"_blank\" href=https://colab.research.google.com/notebooks/data_table.ipynb>data table notebook</a>'\n",
              "            + ' to learn more about interactive tables.';\n",
              "          element.innerHTML = '';\n",
              "          dataTable['output_type'] = 'display_data';\n",
              "          await google.colab.output.renderOutput(dataTable, element);\n",
              "          const docLink = document.createElement('div');\n",
              "          docLink.innerHTML = docLinkHtml;\n",
              "          element.appendChild(docLink);\n",
              "        }\n",
              "      </script>\n",
              "    </div>\n",
              "  </div>\n",
              "  "
            ]
          },
          "metadata": {},
          "execution_count": 148
        }
      ]
    },
    {
      "cell_type": "code",
      "execution_count": 149,
      "id": "4eadc545",
      "metadata": {
        "trusted": true,
        "colab": {
          "base_uri": "https://localhost:8080/"
        },
        "id": "4eadc545",
        "outputId": "b689e147-aaff-4138-8d0d-6c1b141472e9"
      },
      "outputs": [
        {
          "output_type": "stream",
          "name": "stderr",
          "text": [
            "/usr/local/lib/python3.7/dist-packages/ipykernel_launcher.py:3: FutureWarning: The default value of regex will change from True to False in a future version.\n",
            "  This is separate from the ipykernel package so we can avoid doing imports until\n"
          ]
        }
      ],
      "source": [
        "# Removing the URL's from the data\n",
        "\n",
        "data_train[\"text\"] = data_train[\"text\"].str.replace(r'/s*https?:///S+(/s+|$)', '').str.strip()"
      ]
    },
    {
      "cell_type": "code",
      "execution_count": 150,
      "id": "d8c8ded7",
      "metadata": {
        "trusted": true,
        "colab": {
          "base_uri": "https://localhost:8080/"
        },
        "id": "d8c8ded7",
        "outputId": "4b5ca490-4834-4b43-f333-3c62bbf8682b"
      },
      "outputs": [
        {
          "output_type": "stream",
          "name": "stderr",
          "text": [
            "[nltk_data] Downloading package stopwords to /root/nltk_data...\n",
            "[nltk_data]   Package stopwords is already up-to-date!\n"
          ]
        }
      ],
      "source": [
        "# Removing the Stop Words From the Text Column\n",
        "\n",
        "nltk.download('stopwords')\n",
        "\n",
        "stop = set(stopwords.words(\"english\"))\n",
        "\n",
        "\n",
        "def remove_stopwords(text):\n",
        "  filtered_words =  [word.lower() for word in text.split() if word.lower() not in stop]\n",
        "  return \" \".join(filtered_words)\n",
        "\n",
        "\n",
        "data_train[\"text\"] = data_train[\"text\"].map(remove_stopwords)"
      ]
    },
    {
      "cell_type": "code",
      "execution_count": 151,
      "id": "a590c639",
      "metadata": {
        "trusted": true,
        "id": "a590c639"
      },
      "outputs": [],
      "source": [
        "# Expanding the Contractions \n",
        "\n",
        "# In the next step, we expand all the contraction, contraction means replacing the appostrophe and \n",
        "# expanding the sentence like aren't is expanded and replaced with are not\n",
        "contraction_dict = {\"ain't\": \"is not\", \"aren't\": \"are not\",\"can't\": \"cannot\", \"'cause\": \"because\", \"could've\": \"could have\", \"couldn't\": \"could not\", \"didn't\": \"did not\",  \"doesn't\": \"does not\", \"don't\": \"do not\", \"hadn't\": \"had not\", \"hasn't\": \"has not\", \"haven't\": \"have not\", \"he'd\": \"he would\",\"he'll\": \"he will\", \"he's\": \"he is\", \"how'd\": \"how did\", \"how'd'y\": \"how do you\", \"how'll\": \"how will\", \"how's\": \"how is\",  \"I'd\": \"I would\", \"I'd've\": \"I would have\", \"I'll\": \"I will\", \"I'll've\": \"I will have\",\"I'm\": \"I am\", \"I've\": \"I have\", \"i'd\": \"i would\", \"i'd've\": \"i would have\", \"i'll\": \"i will\",  \"i'll've\": \"i will have\",\"i'm\": \"i am\", \"i've\": \"i have\", \"isn't\": \"is not\", \"it'd\": \"it would\", \"it'd've\": \"it would have\", \"it'll\": \"it will\", \"it'll've\": \"it will have\",\"it's\": \"it is\", \"let's\": \"let us\", \"ma'am\": \"madam\", \"mayn't\": \"may not\", \"might've\": \"might have\",\"mightn't\": \"might not\",\"mightn't've\": \"might not have\", \"must've\": \"must have\", \"mustn't\": \"must not\", \"mustn't've\": \"must not have\", \"needn't\": \"need not\", \"needn't've\": \"need not have\",\"o'clock\": \"of the clock\", \"oughtn't\": \"ought not\", \"oughtn't've\": \"ought not have\", \"shan't\": \"shall not\", \"sha'n't\": \"shall not\", \"shan't've\": \"shall not have\", \"she'd\": \"she would\", \"she'd've\": \"she would have\", \"she'll\": \"she will\", \"she'll've\": \"she will have\", \"she's\": \"she is\", \"should've\": \"should have\", \"shouldn't\": \"should not\", \"shouldn't've\": \"should not have\", \"so've\": \"so have\",\"so's\": \"so as\", \"this's\": \"this is\",\"that'd\": \"that would\", \"that'd've\": \"that would have\", \"that's\": \"that is\", \"there'd\": \"there would\", \"there'd've\": \"there would have\", \"there's\": \"there is\", \"here's\": \"here is\",\"they'd\": \"they would\", \"they'd've\": \"they would have\", \"they'll\": \"they will\", \"they'll've\": \"they will have\", \"they're\": \"they are\", \"they've\": \"they have\", \"to've\": \"to have\", \"wasn't\": \"was not\", \"we'd\": \"we would\", \"we'd've\": \"we would have\", \"we'll\": \"we will\", \"we'll've\": \"we will have\", \"we're\": \"we are\", \"we've\": \"we have\", \"weren't\": \"were not\", \"what'll\": \"what will\", \"what'll've\": \"what will have\", \"what're\": \"what are\",  \"what's\": \"what is\", \"what've\": \"what have\", \"when's\": \"when is\", \"when've\": \"when have\", \"where'd\": \"where did\", \"where's\": \"where is\", \"where've\": \"where have\", \"who'll\": \"who will\", \"who'll've\": \"who will have\", \"who's\": \"who is\", \"who've\": \"who have\", \"why's\": \"why is\", \"why've\": \"why have\", \"will've\": \"will have\", \"won't\": \"will not\", \"won't've\": \"will not have\", \"would've\": \"would have\", \"wouldn't\": \"would not\", \"wouldn't've\": \"would not have\", \"y'all\": \"you all\", \"y'all'd\": \"you all would\",\"y'all'd've\": \"you all would have\",\"y'all're\": \"you all are\",\"y'all've\": \"you all have\",\"you'd\": \"you would\", \"you'd've\": \"you would have\", \"you'll\": \"you will\", \"you'll've\": \"you will have\", \"you're\": \"you are\", \"you've\": \"you have\"}\n",
        "def _get_contractions(contraction_dict):\n",
        "    contraction_re = re.compile('(%s)' % '|'.join(contraction_dict.keys()))\n",
        "    return contraction_dict, contraction_re\n",
        "contractions, contractions_re = _get_contractions(contraction_dict)\n",
        "def replace_contractions(text):\n",
        "    def replace(match):\n",
        "        return contractions[match.group(0)]\n",
        "    return contractions_re.sub(replace, text)\n",
        "# Usage\n",
        "replace_contractions(\"this's a text with contraction\")\n",
        "\n",
        "data_train[\"text\"] = data_train[\"text\"].apply(lambda x: replace_contractions(x))\n"
      ]
    },
    {
      "cell_type": "code",
      "execution_count": 152,
      "id": "46088c3b",
      "metadata": {
        "trusted": true,
        "colab": {
          "base_uri": "https://localhost:8080/"
        },
        "id": "46088c3b",
        "outputId": "224fa5a0-b003-4d9d-9528-030152c12706"
      },
      "outputs": [
        {
          "output_type": "stream",
          "name": "stderr",
          "text": [
            "/usr/local/lib/python3.7/dist-packages/ipykernel_launcher.py:3: FutureWarning: The default value of regex will change from True to False in a future version.\n",
            "  This is separate from the ipykernel package so we can avoid doing imports until\n"
          ]
        }
      ],
      "source": [
        "# Remove any Numeric Values from the Text Column in pandas data frame\n",
        "\n",
        "data_train[\"text\"] = data_train[\"text\"].str.replace('/d+', '')"
      ]
    },
    {
      "cell_type": "code",
      "source": [
        "data_train.head()"
      ],
      "metadata": {
        "colab": {
          "base_uri": "https://localhost:8080/",
          "height": 206
        },
        "id": "qZptlmPB47Ff",
        "outputId": "838cc235-3fa1-4b25-e927-7d508425c9dc"
      },
      "id": "qZptlmPB47Ff",
      "execution_count": 153,
      "outputs": [
        {
          "output_type": "execute_result",
          "data": {
            "text/plain": [
              "                                                text  target\n",
              "0       deeds reason earthquake may allah forgive us       1\n",
              "1              forest fire near la ronge sask canada       1\n",
              "2  residents asked shelter place notified officer...       1\n",
              "3  13 000 people receive wildfires evacuation ord...       1\n",
              "4  got sent photo ruby alaska smoke wildfires pou...       1"
            ],
            "text/html": [
              "\n",
              "  <div id=\"df-ec84e5e0-fcec-463d-9abc-9df57fe59611\">\n",
              "    <div class=\"colab-df-container\">\n",
              "      <div>\n",
              "<style scoped>\n",
              "    .dataframe tbody tr th:only-of-type {\n",
              "        vertical-align: middle;\n",
              "    }\n",
              "\n",
              "    .dataframe tbody tr th {\n",
              "        vertical-align: top;\n",
              "    }\n",
              "\n",
              "    .dataframe thead th {\n",
              "        text-align: right;\n",
              "    }\n",
              "</style>\n",
              "<table border=\"1\" class=\"dataframe\">\n",
              "  <thead>\n",
              "    <tr style=\"text-align: right;\">\n",
              "      <th></th>\n",
              "      <th>text</th>\n",
              "      <th>target</th>\n",
              "    </tr>\n",
              "  </thead>\n",
              "  <tbody>\n",
              "    <tr>\n",
              "      <th>0</th>\n",
              "      <td>deeds reason earthquake may allah forgive us</td>\n",
              "      <td>1</td>\n",
              "    </tr>\n",
              "    <tr>\n",
              "      <th>1</th>\n",
              "      <td>forest fire near la ronge sask canada</td>\n",
              "      <td>1</td>\n",
              "    </tr>\n",
              "    <tr>\n",
              "      <th>2</th>\n",
              "      <td>residents asked shelter place notified officer...</td>\n",
              "      <td>1</td>\n",
              "    </tr>\n",
              "    <tr>\n",
              "      <th>3</th>\n",
              "      <td>13 000 people receive wildfires evacuation ord...</td>\n",
              "      <td>1</td>\n",
              "    </tr>\n",
              "    <tr>\n",
              "      <th>4</th>\n",
              "      <td>got sent photo ruby alaska smoke wildfires pou...</td>\n",
              "      <td>1</td>\n",
              "    </tr>\n",
              "  </tbody>\n",
              "</table>\n",
              "</div>\n",
              "      <button class=\"colab-df-convert\" onclick=\"convertToInteractive('df-ec84e5e0-fcec-463d-9abc-9df57fe59611')\"\n",
              "              title=\"Convert this dataframe to an interactive table.\"\n",
              "              style=\"display:none;\">\n",
              "        \n",
              "  <svg xmlns=\"http://www.w3.org/2000/svg\" height=\"24px\"viewBox=\"0 0 24 24\"\n",
              "       width=\"24px\">\n",
              "    <path d=\"M0 0h24v24H0V0z\" fill=\"none\"/>\n",
              "    <path d=\"M18.56 5.44l.94 2.06.94-2.06 2.06-.94-2.06-.94-.94-2.06-.94 2.06-2.06.94zm-11 1L8.5 8.5l.94-2.06 2.06-.94-2.06-.94L8.5 2.5l-.94 2.06-2.06.94zm10 10l.94 2.06.94-2.06 2.06-.94-2.06-.94-.94-2.06-.94 2.06-2.06.94z\"/><path d=\"M17.41 7.96l-1.37-1.37c-.4-.4-.92-.59-1.43-.59-.52 0-1.04.2-1.43.59L10.3 9.45l-7.72 7.72c-.78.78-.78 2.05 0 2.83L4 21.41c.39.39.9.59 1.41.59.51 0 1.02-.2 1.41-.59l7.78-7.78 2.81-2.81c.8-.78.8-2.07 0-2.86zM5.41 20L4 18.59l7.72-7.72 1.47 1.35L5.41 20z\"/>\n",
              "  </svg>\n",
              "      </button>\n",
              "      \n",
              "  <style>\n",
              "    .colab-df-container {\n",
              "      display:flex;\n",
              "      flex-wrap:wrap;\n",
              "      gap: 12px;\n",
              "    }\n",
              "\n",
              "    .colab-df-convert {\n",
              "      background-color: #E8F0FE;\n",
              "      border: none;\n",
              "      border-radius: 50%;\n",
              "      cursor: pointer;\n",
              "      display: none;\n",
              "      fill: #1967D2;\n",
              "      height: 32px;\n",
              "      padding: 0 0 0 0;\n",
              "      width: 32px;\n",
              "    }\n",
              "\n",
              "    .colab-df-convert:hover {\n",
              "      background-color: #E2EBFA;\n",
              "      box-shadow: 0px 1px 2px rgba(60, 64, 67, 0.3), 0px 1px 3px 1px rgba(60, 64, 67, 0.15);\n",
              "      fill: #174EA6;\n",
              "    }\n",
              "\n",
              "    [theme=dark] .colab-df-convert {\n",
              "      background-color: #3B4455;\n",
              "      fill: #D2E3FC;\n",
              "    }\n",
              "\n",
              "    [theme=dark] .colab-df-convert:hover {\n",
              "      background-color: #434B5C;\n",
              "      box-shadow: 0px 1px 3px 1px rgba(0, 0, 0, 0.15);\n",
              "      filter: drop-shadow(0px 1px 2px rgba(0, 0, 0, 0.3));\n",
              "      fill: #FFFFFF;\n",
              "    }\n",
              "  </style>\n",
              "\n",
              "      <script>\n",
              "        const buttonEl =\n",
              "          document.querySelector('#df-ec84e5e0-fcec-463d-9abc-9df57fe59611 button.colab-df-convert');\n",
              "        buttonEl.style.display =\n",
              "          google.colab.kernel.accessAllowed ? 'block' : 'none';\n",
              "\n",
              "        async function convertToInteractive(key) {\n",
              "          const element = document.querySelector('#df-ec84e5e0-fcec-463d-9abc-9df57fe59611');\n",
              "          const dataTable =\n",
              "            await google.colab.kernel.invokeFunction('convertToInteractive',\n",
              "                                                     [key], {});\n",
              "          if (!dataTable) return;\n",
              "\n",
              "          const docLinkHtml = 'Like what you see? Visit the ' +\n",
              "            '<a target=\"_blank\" href=https://colab.research.google.com/notebooks/data_table.ipynb>data table notebook</a>'\n",
              "            + ' to learn more about interactive tables.';\n",
              "          element.innerHTML = '';\n",
              "          dataTable['output_type'] = 'display_data';\n",
              "          await google.colab.output.renderOutput(dataTable, element);\n",
              "          const docLink = document.createElement('div');\n",
              "          docLink.innerHTML = docLinkHtml;\n",
              "          element.appendChild(docLink);\n",
              "        }\n",
              "      </script>\n",
              "    </div>\n",
              "  </div>\n",
              "  "
            ]
          },
          "metadata": {},
          "execution_count": 153
        }
      ]
    },
    {
      "cell_type": "code",
      "execution_count": 154,
      "id": "2db4e513",
      "metadata": {
        "trusted": true,
        "colab": {
          "base_uri": "https://localhost:8080/",
          "height": 206
        },
        "id": "2db4e513",
        "outputId": "2271993b-47a8-48b4-eabb-d10f6aa31d4a"
      },
      "outputs": [
        {
          "output_type": "execute_result",
          "data": {
            "text/plain": [
              "                                                text  target\n",
              "0         deed reason earthquake may allah forgive u       1\n",
              "1              forest fire near la ronge sask canada       1\n",
              "2  resident asked shelter place notified officer ...       1\n",
              "3  13 000 people receive wildfire evacuation orde...       1\n",
              "4  got sent photo ruby alaska smoke wildfire pour...       1"
            ],
            "text/html": [
              "\n",
              "  <div id=\"df-0d711391-cbbc-49aa-a363-0d412048b2ec\">\n",
              "    <div class=\"colab-df-container\">\n",
              "      <div>\n",
              "<style scoped>\n",
              "    .dataframe tbody tr th:only-of-type {\n",
              "        vertical-align: middle;\n",
              "    }\n",
              "\n",
              "    .dataframe tbody tr th {\n",
              "        vertical-align: top;\n",
              "    }\n",
              "\n",
              "    .dataframe thead th {\n",
              "        text-align: right;\n",
              "    }\n",
              "</style>\n",
              "<table border=\"1\" class=\"dataframe\">\n",
              "  <thead>\n",
              "    <tr style=\"text-align: right;\">\n",
              "      <th></th>\n",
              "      <th>text</th>\n",
              "      <th>target</th>\n",
              "    </tr>\n",
              "  </thead>\n",
              "  <tbody>\n",
              "    <tr>\n",
              "      <th>0</th>\n",
              "      <td>deed reason earthquake may allah forgive u</td>\n",
              "      <td>1</td>\n",
              "    </tr>\n",
              "    <tr>\n",
              "      <th>1</th>\n",
              "      <td>forest fire near la ronge sask canada</td>\n",
              "      <td>1</td>\n",
              "    </tr>\n",
              "    <tr>\n",
              "      <th>2</th>\n",
              "      <td>resident asked shelter place notified officer ...</td>\n",
              "      <td>1</td>\n",
              "    </tr>\n",
              "    <tr>\n",
              "      <th>3</th>\n",
              "      <td>13 000 people receive wildfire evacuation orde...</td>\n",
              "      <td>1</td>\n",
              "    </tr>\n",
              "    <tr>\n",
              "      <th>4</th>\n",
              "      <td>got sent photo ruby alaska smoke wildfire pour...</td>\n",
              "      <td>1</td>\n",
              "    </tr>\n",
              "  </tbody>\n",
              "</table>\n",
              "</div>\n",
              "      <button class=\"colab-df-convert\" onclick=\"convertToInteractive('df-0d711391-cbbc-49aa-a363-0d412048b2ec')\"\n",
              "              title=\"Convert this dataframe to an interactive table.\"\n",
              "              style=\"display:none;\">\n",
              "        \n",
              "  <svg xmlns=\"http://www.w3.org/2000/svg\" height=\"24px\"viewBox=\"0 0 24 24\"\n",
              "       width=\"24px\">\n",
              "    <path d=\"M0 0h24v24H0V0z\" fill=\"none\"/>\n",
              "    <path d=\"M18.56 5.44l.94 2.06.94-2.06 2.06-.94-2.06-.94-.94-2.06-.94 2.06-2.06.94zm-11 1L8.5 8.5l.94-2.06 2.06-.94-2.06-.94L8.5 2.5l-.94 2.06-2.06.94zm10 10l.94 2.06.94-2.06 2.06-.94-2.06-.94-.94-2.06-.94 2.06-2.06.94z\"/><path d=\"M17.41 7.96l-1.37-1.37c-.4-.4-.92-.59-1.43-.59-.52 0-1.04.2-1.43.59L10.3 9.45l-7.72 7.72c-.78.78-.78 2.05 0 2.83L4 21.41c.39.39.9.59 1.41.59.51 0 1.02-.2 1.41-.59l7.78-7.78 2.81-2.81c.8-.78.8-2.07 0-2.86zM5.41 20L4 18.59l7.72-7.72 1.47 1.35L5.41 20z\"/>\n",
              "  </svg>\n",
              "      </button>\n",
              "      \n",
              "  <style>\n",
              "    .colab-df-container {\n",
              "      display:flex;\n",
              "      flex-wrap:wrap;\n",
              "      gap: 12px;\n",
              "    }\n",
              "\n",
              "    .colab-df-convert {\n",
              "      background-color: #E8F0FE;\n",
              "      border: none;\n",
              "      border-radius: 50%;\n",
              "      cursor: pointer;\n",
              "      display: none;\n",
              "      fill: #1967D2;\n",
              "      height: 32px;\n",
              "      padding: 0 0 0 0;\n",
              "      width: 32px;\n",
              "    }\n",
              "\n",
              "    .colab-df-convert:hover {\n",
              "      background-color: #E2EBFA;\n",
              "      box-shadow: 0px 1px 2px rgba(60, 64, 67, 0.3), 0px 1px 3px 1px rgba(60, 64, 67, 0.15);\n",
              "      fill: #174EA6;\n",
              "    }\n",
              "\n",
              "    [theme=dark] .colab-df-convert {\n",
              "      background-color: #3B4455;\n",
              "      fill: #D2E3FC;\n",
              "    }\n",
              "\n",
              "    [theme=dark] .colab-df-convert:hover {\n",
              "      background-color: #434B5C;\n",
              "      box-shadow: 0px 1px 3px 1px rgba(0, 0, 0, 0.15);\n",
              "      filter: drop-shadow(0px 1px 2px rgba(0, 0, 0, 0.3));\n",
              "      fill: #FFFFFF;\n",
              "    }\n",
              "  </style>\n",
              "\n",
              "      <script>\n",
              "        const buttonEl =\n",
              "          document.querySelector('#df-0d711391-cbbc-49aa-a363-0d412048b2ec button.colab-df-convert');\n",
              "        buttonEl.style.display =\n",
              "          google.colab.kernel.accessAllowed ? 'block' : 'none';\n",
              "\n",
              "        async function convertToInteractive(key) {\n",
              "          const element = document.querySelector('#df-0d711391-cbbc-49aa-a363-0d412048b2ec');\n",
              "          const dataTable =\n",
              "            await google.colab.kernel.invokeFunction('convertToInteractive',\n",
              "                                                     [key], {});\n",
              "          if (!dataTable) return;\n",
              "\n",
              "          const docLinkHtml = 'Like what you see? Visit the ' +\n",
              "            '<a target=\"_blank\" href=https://colab.research.google.com/notebooks/data_table.ipynb>data table notebook</a>'\n",
              "            + ' to learn more about interactive tables.';\n",
              "          element.innerHTML = '';\n",
              "          dataTable['output_type'] = 'display_data';\n",
              "          await google.colab.output.renderOutput(dataTable, element);\n",
              "          const docLink = document.createElement('div');\n",
              "          docLink.innerHTML = docLinkHtml;\n",
              "          element.appendChild(docLink);\n",
              "        }\n",
              "      </script>\n",
              "    </div>\n",
              "  </div>\n",
              "  "
            ]
          },
          "metadata": {},
          "execution_count": 154
        }
      ],
      "source": [
        "\n",
        "# Apply Lemamtization\n",
        "lemmatizer = WordNetLemmatizer()\n",
        "def lemmatize_words(text):\n",
        "    return \" \".join([lemmatizer.lemmatize(word) for word in text.split()])\n",
        "\n",
        "data_train[\"text\"] = data_train[\"text\"].apply(lambda text: lemmatize_words(text))\n",
        "data_train.head()"
      ]
    },
    {
      "cell_type": "code",
      "execution_count": 155,
      "id": "4dc4ffce",
      "metadata": {
        "trusted": true,
        "colab": {
          "base_uri": "https://localhost:8080/"
        },
        "id": "4dc4ffce",
        "outputId": "ffc4a641-e0e0-49ed-dab5-f683ef8e9fea"
      },
      "outputs": [
        {
          "output_type": "stream",
          "name": "stdout",
          "text": [
            "                                                text  target\n",
            "0         deed reason earthquake may allah forgive u       1\n",
            "1              forest fire near la ronge sask canada       1\n",
            "2  resident asked shelter place notified officer ...       1\n",
            "3  13 000 people receive wildfire evacuation orde...       1\n",
            "4  got sent photo ruby alaska smoke wildfire pour...       1\n"
          ]
        }
      ],
      "source": [
        "print(data_train.head())"
      ]
    },
    {
      "cell_type": "markdown",
      "id": "cdbfd079",
      "metadata": {
        "id": "cdbfd079"
      },
      "source": [
        "# Data Preprocessing of the Test Dataset"
      ]
    },
    {
      "cell_type": "code",
      "source": [
        "data_test.head()"
      ],
      "metadata": {
        "colab": {
          "base_uri": "https://localhost:8080/",
          "height": 206
        },
        "id": "lRKcBXHq6q_k",
        "outputId": "c23f20b2-b89f-413a-f4c7-4e58031b57ab"
      },
      "id": "lRKcBXHq6q_k",
      "execution_count": 224,
      "outputs": [
        {
          "output_type": "execute_result",
          "data": {
            "text/plain": [
              "                                                text\n",
              "0                 Just happened a terrible car crash\n",
              "1  Heard about #earthquake is different cities, s...\n",
              "2  there is a forest fire at spot pond, geese are...\n",
              "3           Apocalypse lighting. #Spokane #wildfires\n",
              "4      Typhoon Soudelor kills 28 in China and Taiwan"
            ],
            "text/html": [
              "\n",
              "  <div id=\"df-6f3c9580-20e8-45be-9ef4-173ec23b62d0\">\n",
              "    <div class=\"colab-df-container\">\n",
              "      <div>\n",
              "<style scoped>\n",
              "    .dataframe tbody tr th:only-of-type {\n",
              "        vertical-align: middle;\n",
              "    }\n",
              "\n",
              "    .dataframe tbody tr th {\n",
              "        vertical-align: top;\n",
              "    }\n",
              "\n",
              "    .dataframe thead th {\n",
              "        text-align: right;\n",
              "    }\n",
              "</style>\n",
              "<table border=\"1\" class=\"dataframe\">\n",
              "  <thead>\n",
              "    <tr style=\"text-align: right;\">\n",
              "      <th></th>\n",
              "      <th>text</th>\n",
              "    </tr>\n",
              "  </thead>\n",
              "  <tbody>\n",
              "    <tr>\n",
              "      <th>0</th>\n",
              "      <td>Just happened a terrible car crash</td>\n",
              "    </tr>\n",
              "    <tr>\n",
              "      <th>1</th>\n",
              "      <td>Heard about #earthquake is different cities, s...</td>\n",
              "    </tr>\n",
              "    <tr>\n",
              "      <th>2</th>\n",
              "      <td>there is a forest fire at spot pond, geese are...</td>\n",
              "    </tr>\n",
              "    <tr>\n",
              "      <th>3</th>\n",
              "      <td>Apocalypse lighting. #Spokane #wildfires</td>\n",
              "    </tr>\n",
              "    <tr>\n",
              "      <th>4</th>\n",
              "      <td>Typhoon Soudelor kills 28 in China and Taiwan</td>\n",
              "    </tr>\n",
              "  </tbody>\n",
              "</table>\n",
              "</div>\n",
              "      <button class=\"colab-df-convert\" onclick=\"convertToInteractive('df-6f3c9580-20e8-45be-9ef4-173ec23b62d0')\"\n",
              "              title=\"Convert this dataframe to an interactive table.\"\n",
              "              style=\"display:none;\">\n",
              "        \n",
              "  <svg xmlns=\"http://www.w3.org/2000/svg\" height=\"24px\"viewBox=\"0 0 24 24\"\n",
              "       width=\"24px\">\n",
              "    <path d=\"M0 0h24v24H0V0z\" fill=\"none\"/>\n",
              "    <path d=\"M18.56 5.44l.94 2.06.94-2.06 2.06-.94-2.06-.94-.94-2.06-.94 2.06-2.06.94zm-11 1L8.5 8.5l.94-2.06 2.06-.94-2.06-.94L8.5 2.5l-.94 2.06-2.06.94zm10 10l.94 2.06.94-2.06 2.06-.94-2.06-.94-.94-2.06-.94 2.06-2.06.94z\"/><path d=\"M17.41 7.96l-1.37-1.37c-.4-.4-.92-.59-1.43-.59-.52 0-1.04.2-1.43.59L10.3 9.45l-7.72 7.72c-.78.78-.78 2.05 0 2.83L4 21.41c.39.39.9.59 1.41.59.51 0 1.02-.2 1.41-.59l7.78-7.78 2.81-2.81c.8-.78.8-2.07 0-2.86zM5.41 20L4 18.59l7.72-7.72 1.47 1.35L5.41 20z\"/>\n",
              "  </svg>\n",
              "      </button>\n",
              "      \n",
              "  <style>\n",
              "    .colab-df-container {\n",
              "      display:flex;\n",
              "      flex-wrap:wrap;\n",
              "      gap: 12px;\n",
              "    }\n",
              "\n",
              "    .colab-df-convert {\n",
              "      background-color: #E8F0FE;\n",
              "      border: none;\n",
              "      border-radius: 50%;\n",
              "      cursor: pointer;\n",
              "      display: none;\n",
              "      fill: #1967D2;\n",
              "      height: 32px;\n",
              "      padding: 0 0 0 0;\n",
              "      width: 32px;\n",
              "    }\n",
              "\n",
              "    .colab-df-convert:hover {\n",
              "      background-color: #E2EBFA;\n",
              "      box-shadow: 0px 1px 2px rgba(60, 64, 67, 0.3), 0px 1px 3px 1px rgba(60, 64, 67, 0.15);\n",
              "      fill: #174EA6;\n",
              "    }\n",
              "\n",
              "    [theme=dark] .colab-df-convert {\n",
              "      background-color: #3B4455;\n",
              "      fill: #D2E3FC;\n",
              "    }\n",
              "\n",
              "    [theme=dark] .colab-df-convert:hover {\n",
              "      background-color: #434B5C;\n",
              "      box-shadow: 0px 1px 3px 1px rgba(0, 0, 0, 0.15);\n",
              "      filter: drop-shadow(0px 1px 2px rgba(0, 0, 0, 0.3));\n",
              "      fill: #FFFFFF;\n",
              "    }\n",
              "  </style>\n",
              "\n",
              "      <script>\n",
              "        const buttonEl =\n",
              "          document.querySelector('#df-6f3c9580-20e8-45be-9ef4-173ec23b62d0 button.colab-df-convert');\n",
              "        buttonEl.style.display =\n",
              "          google.colab.kernel.accessAllowed ? 'block' : 'none';\n",
              "\n",
              "        async function convertToInteractive(key) {\n",
              "          const element = document.querySelector('#df-6f3c9580-20e8-45be-9ef4-173ec23b62d0');\n",
              "          const dataTable =\n",
              "            await google.colab.kernel.invokeFunction('convertToInteractive',\n",
              "                                                     [key], {});\n",
              "          if (!dataTable) return;\n",
              "\n",
              "          const docLinkHtml = 'Like what you see? Visit the ' +\n",
              "            '<a target=\"_blank\" href=https://colab.research.google.com/notebooks/data_table.ipynb>data table notebook</a>'\n",
              "            + ' to learn more about interactive tables.';\n",
              "          element.innerHTML = '';\n",
              "          dataTable['output_type'] = 'display_data';\n",
              "          await google.colab.output.renderOutput(dataTable, element);\n",
              "          const docLink = document.createElement('div');\n",
              "          docLink.innerHTML = docLinkHtml;\n",
              "          element.appendChild(docLink);\n",
              "        }\n",
              "      </script>\n",
              "    </div>\n",
              "  </div>\n",
              "  "
            ]
          },
          "metadata": {},
          "execution_count": 224
        }
      ]
    },
    {
      "cell_type": "code",
      "execution_count": 225,
      "id": "891f46af",
      "metadata": {
        "trusted": true,
        "id": "891f46af"
      },
      "outputs": [],
      "source": [
        "# Lowering all the Sentences in the Data\n",
        "data_test[\"text\"] = data_test[\"text\"].apply(lambda x: x.lower())"
      ]
    },
    {
      "cell_type": "code",
      "execution_count": 226,
      "id": "97e77a82",
      "metadata": {
        "trusted": true,
        "colab": {
          "base_uri": "https://localhost:8080/"
        },
        "id": "97e77a82",
        "outputId": "4e7c4961-dc18-4166-df71-889ed1dbb92b"
      },
      "outputs": [
        {
          "output_type": "stream",
          "name": "stderr",
          "text": [
            "/usr/local/lib/python3.7/dist-packages/ipykernel_launcher.py:3: FutureWarning: The default value of regex will change from True to False in a future version.\n",
            "  This is separate from the ipykernel package so we can avoid doing imports until\n"
          ]
        }
      ],
      "source": [
        "# Removing the Puntuation marks from the text\n",
        "\n",
        "data_test[\"text\"] = data_test[\"text\"].str.replace(r'[^\\w\\s]+', ' ').str.strip()"
      ]
    },
    {
      "cell_type": "code",
      "execution_count": 227,
      "id": "4ed86c1f",
      "metadata": {
        "trusted": true,
        "colab": {
          "base_uri": "https://localhost:8080/"
        },
        "id": "4ed86c1f",
        "outputId": "ff4c4938-36d2-42b3-99c5-5e8b57a9c673"
      },
      "outputs": [
        {
          "output_type": "stream",
          "name": "stderr",
          "text": [
            "/usr/local/lib/python3.7/dist-packages/ipykernel_launcher.py:3: FutureWarning: The default value of regex will change from True to False in a future version.\n",
            "  This is separate from the ipykernel package so we can avoid doing imports until\n"
          ]
        }
      ],
      "source": [
        "# Removing the URL's from the data\n",
        "\n",
        "data_test[\"text\"] = data_test[\"text\"].str.replace(r'/s*https?:///S+(/s+|$)', '').str.strip()"
      ]
    },
    {
      "cell_type": "code",
      "execution_count": 228,
      "id": "500c492a",
      "metadata": {
        "trusted": true,
        "colab": {
          "base_uri": "https://localhost:8080/"
        },
        "id": "500c492a",
        "outputId": "25f337e6-e625-4048-ae5c-a3e6a72b6ef0"
      },
      "outputs": [
        {
          "output_type": "stream",
          "name": "stderr",
          "text": [
            "[nltk_data] Downloading package stopwords to /root/nltk_data...\n",
            "[nltk_data]   Package stopwords is already up-to-date!\n"
          ]
        }
      ],
      "source": [
        "# Removing the Stop Words From the Text Column\n",
        "\n",
        "nltk.download('stopwords')\n",
        "\n",
        "stop = set(stopwords.words(\"english\"))\n",
        "\n",
        "\n",
        "def remove_stopwords(text):\n",
        "  filtered_words =  [word.lower() for word in text.split() if word.lower() not in stop]\n",
        "  return \" \".join(filtered_words)\n",
        "\n",
        "\n",
        "data_test[\"text\"] = data_test[\"text\"].map(remove_stopwords)"
      ]
    },
    {
      "cell_type": "code",
      "execution_count": 229,
      "id": "29f96e38",
      "metadata": {
        "trusted": true,
        "id": "29f96e38"
      },
      "outputs": [],
      "source": [
        "# Expanding the Contractions \n",
        "\n",
        "# In the next step, we expand all the contraction, contraction means replacing the appostrophe and \n",
        "# expanding the sentence like aren't is expanded and replaced with are not\n",
        "contraction_dict = {\"ain't\": \"is not\", \"aren't\": \"are not\",\"can't\": \"cannot\", \"'cause\": \"because\", \"could've\": \"could have\", \"couldn't\": \"could not\", \"didn't\": \"did not\",  \"doesn't\": \"does not\", \"don't\": \"do not\", \"hadn't\": \"had not\", \"hasn't\": \"has not\", \"haven't\": \"have not\", \"he'd\": \"he would\",\"he'll\": \"he will\", \"he's\": \"he is\", \"how'd\": \"how did\", \"how'd'y\": \"how do you\", \"how'll\": \"how will\", \"how's\": \"how is\",  \"I'd\": \"I would\", \"I'd've\": \"I would have\", \"I'll\": \"I will\", \"I'll've\": \"I will have\",\"I'm\": \"I am\", \"I've\": \"I have\", \"i'd\": \"i would\", \"i'd've\": \"i would have\", \"i'll\": \"i will\",  \"i'll've\": \"i will have\",\"i'm\": \"i am\", \"i've\": \"i have\", \"isn't\": \"is not\", \"it'd\": \"it would\", \"it'd've\": \"it would have\", \"it'll\": \"it will\", \"it'll've\": \"it will have\",\"it's\": \"it is\", \"let's\": \"let us\", \"ma'am\": \"madam\", \"mayn't\": \"may not\", \"might've\": \"might have\",\"mightn't\": \"might not\",\"mightn't've\": \"might not have\", \"must've\": \"must have\", \"mustn't\": \"must not\", \"mustn't've\": \"must not have\", \"needn't\": \"need not\", \"needn't've\": \"need not have\",\"o'clock\": \"of the clock\", \"oughtn't\": \"ought not\", \"oughtn't've\": \"ought not have\", \"shan't\": \"shall not\", \"sha'n't\": \"shall not\", \"shan't've\": \"shall not have\", \"she'd\": \"she would\", \"she'd've\": \"she would have\", \"she'll\": \"she will\", \"she'll've\": \"she will have\", \"she's\": \"she is\", \"should've\": \"should have\", \"shouldn't\": \"should not\", \"shouldn't've\": \"should not have\", \"so've\": \"so have\",\"so's\": \"so as\", \"this's\": \"this is\",\"that'd\": \"that would\", \"that'd've\": \"that would have\", \"that's\": \"that is\", \"there'd\": \"there would\", \"there'd've\": \"there would have\", \"there's\": \"there is\", \"here's\": \"here is\",\"they'd\": \"they would\", \"they'd've\": \"they would have\", \"they'll\": \"they will\", \"they'll've\": \"they will have\", \"they're\": \"they are\", \"they've\": \"they have\", \"to've\": \"to have\", \"wasn't\": \"was not\", \"we'd\": \"we would\", \"we'd've\": \"we would have\", \"we'll\": \"we will\", \"we'll've\": \"we will have\", \"we're\": \"we are\", \"we've\": \"we have\", \"weren't\": \"were not\", \"what'll\": \"what will\", \"what'll've\": \"what will have\", \"what're\": \"what are\",  \"what's\": \"what is\", \"what've\": \"what have\", \"when's\": \"when is\", \"when've\": \"when have\", \"where'd\": \"where did\", \"where's\": \"where is\", \"where've\": \"where have\", \"who'll\": \"who will\", \"who'll've\": \"who will have\", \"who's\": \"who is\", \"who've\": \"who have\", \"why's\": \"why is\", \"why've\": \"why have\", \"will've\": \"will have\", \"won't\": \"will not\", \"won't've\": \"will not have\", \"would've\": \"would have\", \"wouldn't\": \"would not\", \"wouldn't've\": \"would not have\", \"y'all\": \"you all\", \"y'all'd\": \"you all would\",\"y'all'd've\": \"you all would have\",\"y'all're\": \"you all are\",\"y'all've\": \"you all have\",\"you'd\": \"you would\", \"you'd've\": \"you would have\", \"you'll\": \"you will\", \"you'll've\": \"you will have\", \"you're\": \"you are\", \"you've\": \"you have\"}\n",
        "def _get_contractions(contraction_dict):\n",
        "    contraction_re = re.compile('(%s)' % '|'.join(contraction_dict.keys()))\n",
        "    return contraction_dict, contraction_re\n",
        "contractions, contractions_re = _get_contractions(contraction_dict)\n",
        "def replace_contractions(text):\n",
        "    def replace(match):\n",
        "        return contractions[match.group(0)]\n",
        "    return contractions_re.sub(replace, text)\n",
        "# Usage\n",
        "replace_contractions(\"this's a text with contraction\")\n",
        "\n",
        "data_test[\"text\"] = data_test[\"text\"].apply(lambda x: replace_contractions(x))\n"
      ]
    },
    {
      "cell_type": "code",
      "execution_count": 230,
      "id": "def0a1d8",
      "metadata": {
        "trusted": true,
        "colab": {
          "base_uri": "https://localhost:8080/"
        },
        "id": "def0a1d8",
        "outputId": "114d46f0-9035-4302-df74-0a558e1cfbae"
      },
      "outputs": [
        {
          "output_type": "stream",
          "name": "stderr",
          "text": [
            "/usr/local/lib/python3.7/dist-packages/ipykernel_launcher.py:3: FutureWarning: The default value of regex will change from True to False in a future version.\n",
            "  This is separate from the ipykernel package so we can avoid doing imports until\n"
          ]
        }
      ],
      "source": [
        "# Remove any Numeric Values from the Text Column in pandas data frame\n",
        "\n",
        "data_test[\"text\"] = data_test[\"text\"].str.replace('/d+', '')"
      ]
    },
    {
      "cell_type": "code",
      "execution_count": 231,
      "id": "246f250e",
      "metadata": {
        "trusted": true,
        "id": "246f250e"
      },
      "outputs": [],
      "source": [
        "# Apply Lemamtization\n",
        "lemmatizer = WordNetLemmatizer()\n",
        "def lemmatize_words(text):\n",
        "    return \" \".join([lemmatizer.lemmatize(word) for word in text.split()])\n",
        "\n",
        "data_test[\"text\"] = data_test[\"text\"].apply(lambda text: lemmatize_words(text))\n"
      ]
    },
    {
      "cell_type": "code",
      "execution_count": 232,
      "id": "ac2ec144",
      "metadata": {
        "trusted": true,
        "colab": {
          "base_uri": "https://localhost:8080/"
        },
        "id": "ac2ec144",
        "outputId": "a02e30ac-9eca-4b47-b497-f980fc99c420"
      },
      "outputs": [
        {
          "output_type": "stream",
          "name": "stdout",
          "text": [
            "                                                text\n",
            "0                        happened terrible car crash\n",
            "1  heard earthquake different city stay safe ever...\n",
            "2  forest fire spot pond goose fleeing across str...\n",
            "3               apocalypse lighting spokane wildfire\n",
            "4              typhoon soudelor kill 28 china taiwan\n"
          ]
        }
      ],
      "source": [
        "print(data_test.head())"
      ]
    },
    {
      "cell_type": "markdown",
      "id": "d4f34e28",
      "metadata": {
        "id": "d4f34e28"
      },
      "source": [
        "# EXPLORATORY DATA ANALYSIS"
      ]
    },
    {
      "cell_type": "code",
      "execution_count": 164,
      "id": "b7c437c5",
      "metadata": {
        "trusted": true,
        "colab": {
          "base_uri": "https://localhost:8080/",
          "height": 351
        },
        "id": "b7c437c5",
        "outputId": "bb719481-49c1-42c5-ef45-1e04043a663f"
      },
      "outputs": [
        {
          "output_type": "stream",
          "name": "stderr",
          "text": [
            "/usr/local/lib/python3.7/dist-packages/seaborn/_decorators.py:43: FutureWarning: Pass the following variable as a keyword arg: x. From version 0.12, the only valid positional argument will be `data`, and passing other arguments without an explicit keyword will result in an error or misinterpretation.\n",
            "  FutureWarning\n"
          ]
        },
        {
          "output_type": "execute_result",
          "data": {
            "text/plain": [
              "<matplotlib.axes._subplots.AxesSubplot at 0x7fae07129d90>"
            ]
          },
          "metadata": {},
          "execution_count": 164
        },
        {
          "output_type": "display_data",
          "data": {
            "text/plain": [
              "<Figure size 432x288 with 1 Axes>"
            ],
            "image/png": "[encoded data removed]"
          },
          "metadata": {
            "needs_background": "light"
          }
        }
      ],
      "source": [
        "sns.countplot(data_train[\"target\"])"
      ]
    },
    {
      "cell_type": "code",
      "execution_count": 165,
      "id": "388f606b",
      "metadata": {
        "trusted": true,
        "colab": {
          "base_uri": "https://localhost:8080/",
          "height": 296
        },
        "id": "388f606b",
        "outputId": "e9edc880-ba9b-47a8-d1e1-1c7b21699592"
      },
      "outputs": [
        {
          "output_type": "execute_result",
          "data": {
            "text/plain": [
              "<matplotlib.axes._subplots.AxesSubplot at 0x7fae0712cd90>"
            ]
          },
          "metadata": {},
          "execution_count": 165
        },
        {
          "output_type": "display_data",
          "data": {
            "text/plain": [
              "<Figure size 432x288 with 1 Axes>"
            ],
            "image/png": "[encoded data removed]"
          },
          "metadata": {
            "needs_background": "light"
          }
        }
      ],
      "source": [
        "sns.kdeplot(x = \"target\", data = data_train)"
      ]
    },
    {
      "cell_type": "markdown",
      "id": "5ec06a78",
      "metadata": {
        "id": "5ec06a78"
      },
      "source": [
        "# TRAIN AND TEST SPLIT"
      ]
    },
    {
      "cell_type": "code",
      "execution_count": 166,
      "id": "62ecf024",
      "metadata": {
        "trusted": true,
        "id": "62ecf024"
      },
      "outputs": [],
      "source": [
        "X = data_train[\"text\"]\n",
        "y = data_train[\"target\"]"
      ]
    },
    {
      "cell_type": "code",
      "execution_count": 167,
      "id": "0fa3b158",
      "metadata": {
        "trusted": true,
        "id": "0fa3b158"
      },
      "outputs": [],
      "source": [
        "X_train, X_test, y_train, y_test = train_test_split(X, y, test_size = 0.2)"
      ]
    },
    {
      "cell_type": "code",
      "source": [
        "X_train"
      ],
      "metadata": {
        "colab": {
          "base_uri": "https://localhost:8080/"
        },
        "id": "ktVOcew-4uIu",
        "outputId": "6c553542-4f7d-4dc6-81e5-86ff253d5ad3"
      },
      "id": "ktVOcew-4uIu",
      "execution_count": 168,
      "outputs": [
        {
          "output_type": "execute_result",
          "data": {
            "text/plain": [
              "5001    13 reason love woman military lulgzimbestpicts...\n",
              "1102    70 year ago hour usa bombed hiroshima therein ...\n",
              "4544    believe blevins got injured falling curb somet...\n",
              "5680                                skyrim awaits rescued\n",
              "3839    new snap tool black baseball hat cap silver gr...\n",
              "                              ...                        \n",
              "6781    ûªt research collective memory 1st rule writin...\n",
              "4362    governor allows parole school bus hijacker htt...\n",
              "3374    elem pomo helping displaced rocky fire please ...\n",
              "6573    hiroshima survivor fight nuclear industry braz...\n",
              "5608    latest home razed northern california wildfire...\n",
              "Name: text, Length: 6090, dtype: object"
            ]
          },
          "metadata": {},
          "execution_count": 168
        }
      ]
    },
    {
      "cell_type": "markdown",
      "id": "0fe5a4d1",
      "metadata": {
        "id": "0fe5a4d1"
      },
      "source": [
        "# IMPLEMENTING THE COUNT VECTORIZER"
      ]
    },
    {
      "cell_type": "code",
      "execution_count": 169,
      "id": "77e5d8f8",
      "metadata": {
        "trusted": true,
        "id": "77e5d8f8"
      },
      "outputs": [],
      "source": [
        "count_vectorizer = CountVectorizer(stop_words = 'english')\n",
        "\n",
        "X_train_BOW = count_vectorizer.fit_transform(X_train).toarray()"
      ]
    },
    {
      "cell_type": "code",
      "execution_count": 170,
      "id": "ef038e1f",
      "metadata": {
        "trusted": true,
        "id": "ef038e1f"
      },
      "outputs": [],
      "source": [
        "X_test_BOW  = count_vectorizer.transform(X_test).toarray()"
      ]
    },
    {
      "cell_type": "code",
      "execution_count": 171,
      "id": "f8fc82ea",
      "metadata": {
        "trusted": true,
        "colab": {
          "base_uri": "https://localhost:8080/"
        },
        "id": "f8fc82ea",
        "outputId": "6de46858-1900-4d95-aa9e-d3c5fdee5bf2"
      },
      "outputs": [
        {
          "output_type": "stream",
          "name": "stdout",
          "text": [
            "(7613, 2)\n"
          ]
        }
      ],
      "source": [
        "print(data_train.shape)"
      ]
    },
    {
      "cell_type": "code",
      "execution_count": 172,
      "id": "7c30fe2c",
      "metadata": {
        "trusted": true,
        "colab": {
          "base_uri": "https://localhost:8080/"
        },
        "id": "7c30fe2c",
        "outputId": "38a40a47-cca2-458a-917c-2c570a8f57af"
      },
      "outputs": [
        {
          "output_type": "stream",
          "name": "stdout",
          "text": [
            "[[0 0 0 ... 0 0 0]\n",
            " [0 0 0 ... 0 0 0]\n",
            " [0 0 0 ... 0 0 0]\n",
            " ...\n",
            " [0 0 0 ... 0 0 0]\n",
            " [0 0 0 ... 0 0 0]\n",
            " [0 0 0 ... 0 0 0]]\n"
          ]
        }
      ],
      "source": [
        "print(X_train_BOW)"
      ]
    },
    {
      "cell_type": "code",
      "execution_count": 173,
      "id": "89eb0f52",
      "metadata": {
        "trusted": true,
        "colab": {
          "base_uri": "https://localhost:8080/"
        },
        "id": "89eb0f52",
        "outputId": "b339b69f-c87a-4b43-b57d-4d2b323c2563"
      },
      "outputs": [
        {
          "output_type": "stream",
          "name": "stdout",
          "text": [
            "(6090, 17171)\n"
          ]
        }
      ],
      "source": [
        "print(X_train_BOW.shape)"
      ]
    },
    {
      "cell_type": "code",
      "execution_count": 174,
      "id": "b68cb5e0",
      "metadata": {
        "trusted": true,
        "colab": {
          "base_uri": "https://localhost:8080/"
        },
        "id": "b68cb5e0",
        "outputId": "264d471c-31ed-451e-dcf4-d312f0dabb92"
      },
      "outputs": [
        {
          "output_type": "stream",
          "name": "stdout",
          "text": [
            "(1523, 17171)\n"
          ]
        }
      ],
      "source": [
        "print(X_test_BOW.shape)"
      ]
    },
    {
      "cell_type": "markdown",
      "id": "9959cd96",
      "metadata": {
        "id": "9959cd96"
      },
      "source": [
        "# Implementing the Naive Bayes Classfier"
      ]
    },
    {
      "cell_type": "code",
      "execution_count": 175,
      "id": "6e8f3da4",
      "metadata": {
        "trusted": true,
        "colab": {
          "base_uri": "https://localhost:8080/",
          "height": 348
        },
        "id": "6e8f3da4",
        "outputId": "4c27290c-bd05-409a-c41f-2251e2de3761"
      },
      "outputs": [
        {
          "output_type": "stream",
          "name": "stdout",
          "text": [
            "Accuracy 78.92\n",
            "              precision    recall  f1-score   support\n",
            "\n",
            "           0   0.797357  0.840883  0.818542       861\n",
            "           1   0.777236  0.722054  0.748630       662\n",
            "\n",
            "    accuracy                       0.789232      1523\n",
            "   macro avg   0.787296  0.781469  0.783586      1523\n",
            "weighted avg   0.788611  0.789232  0.788153      1523\n",
            "\n"
          ]
        },
        {
          "output_type": "execute_result",
          "data": {
            "text/plain": [
              "Predicted    0    1   All\n",
              "Actual                   \n",
              "0          724  137   861\n",
              "1          184  478   662\n",
              "All        908  615  1523"
            ],
            "text/html": [
              "\n",
              "  <div id=\"df-da95c76c-6505-428c-97b6-8f745d325796\">\n",
              "    <div class=\"colab-df-container\">\n",
              "      <div>\n",
              "<style scoped>\n",
              "    .dataframe tbody tr th:only-of-type {\n",
              "        vertical-align: middle;\n",
              "    }\n",
              "\n",
              "    .dataframe tbody tr th {\n",
              "        vertical-align: top;\n",
              "    }\n",
              "\n",
              "    .dataframe thead th {\n",
              "        text-align: right;\n",
              "    }\n",
              "</style>\n",
              "<table border=\"1\" class=\"dataframe\">\n",
              "  <thead>\n",
              "    <tr style=\"text-align: right;\">\n",
              "      <th>Predicted</th>\n",
              "      <th>0</th>\n",
              "      <th>1</th>\n",
              "      <th>All</th>\n",
              "    </tr>\n",
              "    <tr>\n",
              "      <th>Actual</th>\n",
              "      <th></th>\n",
              "      <th></th>\n",
              "      <th></th>\n",
              "    </tr>\n",
              "  </thead>\n",
              "  <tbody>\n",
              "    <tr>\n",
              "      <th>0</th>\n",
              "      <td>724</td>\n",
              "      <td>137</td>\n",
              "      <td>861</td>\n",
              "    </tr>\n",
              "    <tr>\n",
              "      <th>1</th>\n",
              "      <td>184</td>\n",
              "      <td>478</td>\n",
              "      <td>662</td>\n",
              "    </tr>\n",
              "    <tr>\n",
              "      <th>All</th>\n",
              "      <td>908</td>\n",
              "      <td>615</td>\n",
              "      <td>1523</td>\n",
              "    </tr>\n",
              "  </tbody>\n",
              "</table>\n",
              "</div>\n",
              "      <button class=\"colab-df-convert\" onclick=\"convertToInteractive('df-da95c76c-6505-428c-97b6-8f745d325796')\"\n",
              "              title=\"Convert this dataframe to an interactive table.\"\n",
              "              style=\"display:none;\">\n",
              "        \n",
              "  <svg xmlns=\"http://www.w3.org/2000/svg\" height=\"24px\"viewBox=\"0 0 24 24\"\n",
              "       width=\"24px\">\n",
              "    <path d=\"M0 0h24v24H0V0z\" fill=\"none\"/>\n",
              "    <path d=\"M18.56 5.44l.94 2.06.94-2.06 2.06-.94-2.06-.94-.94-2.06-.94 2.06-2.06.94zm-11 1L8.5 8.5l.94-2.06 2.06-.94-2.06-.94L8.5 2.5l-.94 2.06-2.06.94zm10 10l.94 2.06.94-2.06 2.06-.94-2.06-.94-.94-2.06-.94 2.06-2.06.94z\"/><path d=\"M17.41 7.96l-1.37-1.37c-.4-.4-.92-.59-1.43-.59-.52 0-1.04.2-1.43.59L10.3 9.45l-7.72 7.72c-.78.78-.78 2.05 0 2.83L4 21.41c.39.39.9.59 1.41.59.51 0 1.02-.2 1.41-.59l7.78-7.78 2.81-2.81c.8-.78.8-2.07 0-2.86zM5.41 20L4 18.59l7.72-7.72 1.47 1.35L5.41 20z\"/>\n",
              "  </svg>\n",
              "      </button>\n",
              "      \n",
              "  <style>\n",
              "    .colab-df-container {\n",
              "      display:flex;\n",
              "      flex-wrap:wrap;\n",
              "      gap: 12px;\n",
              "    }\n",
              "\n",
              "    .colab-df-convert {\n",
              "      background-color: #E8F0FE;\n",
              "      border: none;\n",
              "      border-radius: 50%;\n",
              "      cursor: pointer;\n",
              "      display: none;\n",
              "      fill: #1967D2;\n",
              "      height: 32px;\n",
              "      padding: 0 0 0 0;\n",
              "      width: 32px;\n",
              "    }\n",
              "\n",
              "    .colab-df-convert:hover {\n",
              "      background-color: #E2EBFA;\n",
              "      box-shadow: 0px 1px 2px rgba(60, 64, 67, 0.3), 0px 1px 3px 1px rgba(60, 64, 67, 0.15);\n",
              "      fill: #174EA6;\n",
              "    }\n",
              "\n",
              "    [theme=dark] .colab-df-convert {\n",
              "      background-color: #3B4455;\n",
              "      fill: #D2E3FC;\n",
              "    }\n",
              "\n",
              "    [theme=dark] .colab-df-convert:hover {\n",
              "      background-color: #434B5C;\n",
              "      box-shadow: 0px 1px 3px 1px rgba(0, 0, 0, 0.15);\n",
              "      filter: drop-shadow(0px 1px 2px rgba(0, 0, 0, 0.3));\n",
              "      fill: #FFFFFF;\n",
              "    }\n",
              "  </style>\n",
              "\n",
              "      <script>\n",
              "        const buttonEl =\n",
              "          document.querySelector('#df-da95c76c-6505-428c-97b6-8f745d325796 button.colab-df-convert');\n",
              "        buttonEl.style.display =\n",
              "          google.colab.kernel.accessAllowed ? 'block' : 'none';\n",
              "\n",
              "        async function convertToInteractive(key) {\n",
              "          const element = document.querySelector('#df-da95c76c-6505-428c-97b6-8f745d325796');\n",
              "          const dataTable =\n",
              "            await google.colab.kernel.invokeFunction('convertToInteractive',\n",
              "                                                     [key], {});\n",
              "          if (!dataTable) return;\n",
              "\n",
              "          const docLinkHtml = 'Like what you see? Visit the ' +\n",
              "            '<a target=\"_blank\" href=https://colab.research.google.com/notebooks/data_table.ipynb>data table notebook</a>'\n",
              "            + ' to learn more about interactive tables.';\n",
              "          element.innerHTML = '';\n",
              "          dataTable['output_type'] = 'display_data';\n",
              "          await google.colab.output.renderOutput(dataTable, element);\n",
              "          const docLink = document.createElement('div');\n",
              "          docLink.innerHTML = docLinkHtml;\n",
              "          element.appendChild(docLink);\n",
              "        }\n",
              "      </script>\n",
              "    </div>\n",
              "  </div>\n",
              "  "
            ]
          },
          "metadata": {},
          "execution_count": 175
        }
      ],
      "source": [
        "# Create and fit the random forest\n",
        "rf = MultinomialNB()\n",
        "rf.fit(X_train_BOW, y_train)\n",
        "\n",
        "# Evaluate predictions\n",
        "Y_pred = rf.predict(X_test_BOW)\n",
        "acc_nb = round(rf.score(X_test_BOW, y_test) * 100, 2)\n",
        "# Printing the Classification Report\n",
        "sk_report = classification_report(\n",
        "    digits=6,\n",
        "    y_true=y_test, \n",
        "    y_pred=Y_pred)\n",
        "print(\"Accuracy\", acc_nb)\n",
        "print(sk_report)\n",
        "pd.crosstab(y_test, Y_pred, rownames=['Actual'], colnames=['Predicted'], margins=True)"
      ]
    },
    {
      "cell_type": "code",
      "execution_count": 176,
      "id": "dea5152e",
      "metadata": {
        "trusted": true,
        "id": "dea5152e"
      },
      "outputs": [],
      "source": [
        "# create an iterator object with write permission - model.pkl\n",
        "with open('model_pkl', 'wb') as files:\n",
        "    pickle.dump(rf, files)"
      ]
    },
    {
      "cell_type": "code",
      "execution_count": 177,
      "id": "6148801c",
      "metadata": {
        "trusted": true,
        "colab": {
          "base_uri": "https://localhost:8080/",
          "height": 282
        },
        "id": "6148801c",
        "outputId": "d1813791-8087-4575-8585-232cc9ef62f6"
      },
      "outputs": [
        {
          "output_type": "execute_result",
          "data": {
            "text/plain": [
              "<matplotlib.axes._subplots.AxesSubplot at 0x7fae07078210>"
            ]
          },
          "metadata": {},
          "execution_count": 177
        },
        {
          "output_type": "display_data",
          "data": {
            "text/plain": [
              "<Figure size 432x288 with 2 Axes>"
            ],
            "image/png": "[encoded data removed]"
          },
          "metadata": {
            "needs_background": "light"
          }
        }
      ],
      "source": [
        "# confusion_matrix\n",
        "cm = confusion_matrix(y_test, Y_pred)\n",
        "sns.heatmap(cm, annot=True, fmt=\"d\")"
      ]
    },
    {
      "cell_type": "code",
      "execution_count": 178,
      "id": "ac99211a",
      "metadata": {
        "trusted": true,
        "colab": {
          "base_uri": "https://localhost:8080/",
          "height": 312
        },
        "id": "ac99211a",
        "outputId": "a36cd00f-1ec9-4a7e-8921-679548beb721"
      },
      "outputs": [
        {
          "output_type": "stream",
          "name": "stdout",
          "text": [
            "Naive Bayes Classifier: AUROC = 0.843\n"
          ]
        },
        {
          "output_type": "display_data",
          "data": {
            "text/plain": [
              "<Figure size 432x288 with 1 Axes>"
            ],
            "image/png": "[encoded data removed]"
          },
          "metadata": {
            "needs_background": "light"
          }
        }
      ],
      "source": [
        "r_probs = [0 for _ in range(len(y_test))]\n",
        "rf_probs = rf.predict_proba(X_test_BOW)\n",
        "rf_probs = rf_probs[:, 1]\n",
        "rf_auc = roc_auc_score(y_test, rf_probs)\n",
        "r_auc = roc_auc_score(y_test, r_probs)\n",
        "print('Naive Bayes Classifier: AUROC = %.3f' % (rf_auc))\n",
        "r_fpr, r_tpr, _ = roc_curve(y_test, r_probs)\n",
        "rf_fpr, rf_tpr, _ = roc_curve(y_test, rf_probs)\n",
        "\n",
        "plt.plot(r_fpr, r_tpr, linestyle='--', label='Random prediction (AUROC = %0.3f)' % r_auc)\n",
        "plt.plot(rf_fpr, rf_tpr, linestyle='--', label='Naive Bayes Classifier prediction (AUROC = %0.3f)' % rf_auc)\n",
        "# Title\n",
        "plt.title('ROC Plot')\n",
        "# Axis labels\n",
        "plt.xlabel('False Positive Rate')\n",
        "plt.ylabel('True Positive Rate')\n",
        "# Show legend\n",
        "plt.legend() # \n",
        "# Show plot\n",
        "plt.show()"
      ]
    },
    {
      "cell_type": "markdown",
      "source": [
        "## *PREDICTION ON TEST DATASET*"
      ],
      "metadata": {
        "id": "TPTLkt8J3wtK"
      },
      "id": "TPTLkt8J3wtK"
    },
    {
      "cell_type": "code",
      "source": [
        "data_test = pd.read_csv(\"nlp-getting-started/test.csv\")"
      ],
      "metadata": {
        "id": "gD7vq9WB6Ggm"
      },
      "id": "gD7vq9WB6Ggm",
      "execution_count": 234,
      "outputs": []
    },
    {
      "cell_type": "code",
      "source": [
        "data_test_ = data_test['text']"
      ],
      "metadata": {
        "id": "8q0_I5VI7Jon"
      },
      "id": "8q0_I5VI7Jon",
      "execution_count": 235,
      "outputs": []
    },
    {
      "cell_type": "code",
      "source": [
        "X_data_test_BOW  = count_vectorizer.transform(data_test_).toarray()"
      ],
      "metadata": {
        "id": "kWM6iAGC56vs"
      },
      "id": "kWM6iAGC56vs",
      "execution_count": 236,
      "outputs": []
    },
    {
      "cell_type": "code",
      "source": [
        "X_data_test_BOW"
      ],
      "metadata": {
        "colab": {
          "base_uri": "https://localhost:8080/"
        },
        "id": "Nmdqapiz6cIw",
        "outputId": "10e3e8bb-24a8-422f-c7b2-d9c654f2649e"
      },
      "id": "Nmdqapiz6cIw",
      "execution_count": 237,
      "outputs": [
        {
          "output_type": "execute_result",
          "data": {
            "text/plain": [
              "array([[0, 0, 0, ..., 0, 0, 0],\n",
              "       [0, 0, 0, ..., 0, 0, 0],\n",
              "       [0, 0, 0, ..., 0, 0, 0],\n",
              "       ...,\n",
              "       [0, 0, 0, ..., 0, 0, 0],\n",
              "       [0, 0, 0, ..., 0, 0, 0],\n",
              "       [0, 0, 0, ..., 0, 0, 0]])"
            ]
          },
          "metadata": {},
          "execution_count": 237
        }
      ]
    },
    {
      "cell_type": "code",
      "source": [
        "prediction_test = rf.predict(X_data_test_BOW)"
      ],
      "metadata": {
        "id": "l5E4qTBc3v95"
      },
      "id": "l5E4qTBc3v95",
      "execution_count": 238,
      "outputs": []
    },
    {
      "cell_type": "code",
      "source": [
        "prediction_test"
      ],
      "metadata": {
        "colab": {
          "base_uri": "https://localhost:8080/"
        },
        "id": "spEoOnt74HCk",
        "outputId": "024582e3-5e0c-45e4-d853-95db73a0e09a"
      },
      "id": "spEoOnt74HCk",
      "execution_count": 239,
      "outputs": [
        {
          "output_type": "execute_result",
          "data": {
            "text/plain": [
              "array([1, 1, 1, ..., 1, 1, 1])"
            ]
          },
          "metadata": {},
          "execution_count": 239
        }
      ]
    },
    {
      "cell_type": "code",
      "source": [
        "prediction_test_ = pd.DataFrame(prediction_test)"
      ],
      "metadata": {
        "id": "TOzJsfzD8bi1"
      },
      "id": "TOzJsfzD8bi1",
      "execution_count": 263,
      "outputs": []
    },
    {
      "cell_type": "code",
      "source": [
        "prediction_test_"
      ],
      "metadata": {
        "colab": {
          "base_uri": "https://localhost:8080/",
          "height": 424
        },
        "id": "7DjdOAUw8jOM",
        "outputId": "4e4e7812-e587-4b70-e55e-38cfd0401d4c"
      },
      "id": "7DjdOAUw8jOM",
      "execution_count": 264,
      "outputs": [
        {
          "output_type": "execute_result",
          "data": {
            "text/plain": [
              "      0\n",
              "0     1\n",
              "1     1\n",
              "2     1\n",
              "3     0\n",
              "4     1\n",
              "...  ..\n",
              "3258  1\n",
              "3259  1\n",
              "3260  1\n",
              "3261  1\n",
              "3262  1\n",
              "\n",
              "[3263 rows x 1 columns]"
            ],
            "text/html": [
              "\n",
              "  <div id=\"df-12c0968f-17b2-4cc8-adac-209c16778a48\">\n",
              "    <div class=\"colab-df-container\">\n",
              "      <div>\n",
              "<style scoped>\n",
              "    .dataframe tbody tr th:only-of-type {\n",
              "        vertical-align: middle;\n",
              "    }\n",
              "\n",
              "    .dataframe tbody tr th {\n",
              "        vertical-align: top;\n",
              "    }\n",
              "\n",
              "    .dataframe thead th {\n",
              "        text-align: right;\n",
              "    }\n",
              "</style>\n",
              "<table border=\"1\" class=\"dataframe\">\n",
              "  <thead>\n",
              "    <tr style=\"text-align: right;\">\n",
              "      <th></th>\n",
              "      <th>0</th>\n",
              "    </tr>\n",
              "  </thead>\n",
              "  <tbody>\n",
              "    <tr>\n",
              "      <th>0</th>\n",
              "      <td>1</td>\n",
              "    </tr>\n",
              "    <tr>\n",
              "      <th>1</th>\n",
              "      <td>1</td>\n",
              "    </tr>\n",
              "    <tr>\n",
              "      <th>2</th>\n",
              "      <td>1</td>\n",
              "    </tr>\n",
              "    <tr>\n",
              "      <th>3</th>\n",
              "      <td>0</td>\n",
              "    </tr>\n",
              "    <tr>\n",
              "      <th>4</th>\n",
              "      <td>1</td>\n",
              "    </tr>\n",
              "    <tr>\n",
              "      <th>...</th>\n",
              "      <td>...</td>\n",
              "    </tr>\n",
              "    <tr>\n",
              "      <th>3258</th>\n",
              "      <td>1</td>\n",
              "    </tr>\n",
              "    <tr>\n",
              "      <th>3259</th>\n",
              "      <td>1</td>\n",
              "    </tr>\n",
              "    <tr>\n",
              "      <th>3260</th>\n",
              "      <td>1</td>\n",
              "    </tr>\n",
              "    <tr>\n",
              "      <th>3261</th>\n",
              "      <td>1</td>\n",
              "    </tr>\n",
              "    <tr>\n",
              "      <th>3262</th>\n",
              "      <td>1</td>\n",
              "    </tr>\n",
              "  </tbody>\n",
              "</table>\n",
              "<p>3263 rows × 1 columns</p>\n",
              "</div>\n",
              "      <button class=\"colab-df-convert\" onclick=\"convertToInteractive('df-12c0968f-17b2-4cc8-adac-209c16778a48')\"\n",
              "              title=\"Convert this dataframe to an interactive table.\"\n",
              "              style=\"display:none;\">\n",
              "        \n",
              "  <svg xmlns=\"http://www.w3.org/2000/svg\" height=\"24px\"viewBox=\"0 0 24 24\"\n",
              "       width=\"24px\">\n",
              "    <path d=\"M0 0h24v24H0V0z\" fill=\"none\"/>\n",
              "    <path d=\"M18.56 5.44l.94 2.06.94-2.06 2.06-.94-2.06-.94-.94-2.06-.94 2.06-2.06.94zm-11 1L8.5 8.5l.94-2.06 2.06-.94-2.06-.94L8.5 2.5l-.94 2.06-2.06.94zm10 10l.94 2.06.94-2.06 2.06-.94-2.06-.94-.94-2.06-.94 2.06-2.06.94z\"/><path d=\"M17.41 7.96l-1.37-1.37c-.4-.4-.92-.59-1.43-.59-.52 0-1.04.2-1.43.59L10.3 9.45l-7.72 7.72c-.78.78-.78 2.05 0 2.83L4 21.41c.39.39.9.59 1.41.59.51 0 1.02-.2 1.41-.59l7.78-7.78 2.81-2.81c.8-.78.8-2.07 0-2.86zM5.41 20L4 18.59l7.72-7.72 1.47 1.35L5.41 20z\"/>\n",
              "  </svg>\n",
              "      </button>\n",
              "      \n",
              "  <style>\n",
              "    .colab-df-container {\n",
              "      display:flex;\n",
              "      flex-wrap:wrap;\n",
              "      gap: 12px;\n",
              "    }\n",
              "\n",
              "    .colab-df-convert {\n",
              "      background-color: #E8F0FE;\n",
              "      border: none;\n",
              "      border-radius: 50%;\n",
              "      cursor: pointer;\n",
              "      display: none;\n",
              "      fill: #1967D2;\n",
              "      height: 32px;\n",
              "      padding: 0 0 0 0;\n",
              "      width: 32px;\n",
              "    }\n",
              "\n",
              "    .colab-df-convert:hover {\n",
              "      background-color: #E2EBFA;\n",
              "      box-shadow: 0px 1px 2px rgba(60, 64, 67, 0.3), 0px 1px 3px 1px rgba(60, 64, 67, 0.15);\n",
              "      fill: #174EA6;\n",
              "    }\n",
              "\n",
              "    [theme=dark] .colab-df-convert {\n",
              "      background-color: #3B4455;\n",
              "      fill: #D2E3FC;\n",
              "    }\n",
              "\n",
              "    [theme=dark] .colab-df-convert:hover {\n",
              "      background-color: #434B5C;\n",
              "      box-shadow: 0px 1px 3px 1px rgba(0, 0, 0, 0.15);\n",
              "      filter: drop-shadow(0px 1px 2px rgba(0, 0, 0, 0.3));\n",
              "      fill: #FFFFFF;\n",
              "    }\n",
              "  </style>\n",
              "\n",
              "      <script>\n",
              "        const buttonEl =\n",
              "          document.querySelector('#df-12c0968f-17b2-4cc8-adac-209c16778a48 button.colab-df-convert');\n",
              "        buttonEl.style.display =\n",
              "          google.colab.kernel.accessAllowed ? 'block' : 'none';\n",
              "\n",
              "        async function convertToInteractive(key) {\n",
              "          const element = document.querySelector('#df-12c0968f-17b2-4cc8-adac-209c16778a48');\n",
              "          const dataTable =\n",
              "            await google.colab.kernel.invokeFunction('convertToInteractive',\n",
              "                                                     [key], {});\n",
              "          if (!dataTable) return;\n",
              "\n",
              "          const docLinkHtml = 'Like what you see? Visit the ' +\n",
              "            '<a target=\"_blank\" href=https://colab.research.google.com/notebooks/data_table.ipynb>data table notebook</a>'\n",
              "            + ' to learn more about interactive tables.';\n",
              "          element.innerHTML = '';\n",
              "          dataTable['output_type'] = 'display_data';\n",
              "          await google.colab.output.renderOutput(dataTable, element);\n",
              "          const docLink = document.createElement('div');\n",
              "          docLink.innerHTML = docLinkHtml;\n",
              "          element.appendChild(docLink);\n",
              "        }\n",
              "      </script>\n",
              "    </div>\n",
              "  </div>\n",
              "  "
            ]
          },
          "metadata": {},
          "execution_count": 264
        }
      ]
    },
    {
      "cell_type": "code",
      "source": [
        "prediction_test_.to_csv(\"predictions.csv\")"
      ],
      "metadata": {
        "id": "iZ_sFvAF8mJL"
      },
      "id": "iZ_sFvAF8mJL",
      "execution_count": 265,
      "outputs": []
    },
    {
      "cell_type": "code",
      "source": [
        "data_submission = pd.read_csv(\"nlp-getting-started/sample_submission.csv\")"
      ],
      "metadata": {
        "id": "5SpS-3dv7fh1"
      },
      "id": "5SpS-3dv7fh1",
      "execution_count": 261,
      "outputs": []
    },
    {
      "cell_type": "code",
      "source": [
        "data_submission.head()"
      ],
      "metadata": {
        "colab": {
          "base_uri": "https://localhost:8080/",
          "height": 206
        },
        "id": "cXIwO6Jg8LbR",
        "outputId": "c9223bbf-cd2b-4019-e8ad-7bd2726b22d3"
      },
      "id": "cXIwO6Jg8LbR",
      "execution_count": 262,
      "outputs": [
        {
          "output_type": "execute_result",
          "data": {
            "text/plain": [
              "   id  target\n",
              "0   0       0\n",
              "1   2       0\n",
              "2   3       0\n",
              "3   9       0\n",
              "4  11       0"
            ],
            "text/html": [
              "\n",
              "  <div id=\"df-1463c14e-0d71-4401-ab28-031633211bdb\">\n",
              "    <div class=\"colab-df-container\">\n",
              "      <div>\n",
              "<style scoped>\n",
              "    .dataframe tbody tr th:only-of-type {\n",
              "        vertical-align: middle;\n",
              "    }\n",
              "\n",
              "    .dataframe tbody tr th {\n",
              "        vertical-align: top;\n",
              "    }\n",
              "\n",
              "    .dataframe thead th {\n",
              "        text-align: right;\n",
              "    }\n",
              "</style>\n",
              "<table border=\"1\" class=\"dataframe\">\n",
              "  <thead>\n",
              "    <tr style=\"text-align: right;\">\n",
              "      <th></th>\n",
              "      <th>id</th>\n",
              "      <th>target</th>\n",
              "    </tr>\n",
              "  </thead>\n",
              "  <tbody>\n",
              "    <tr>\n",
              "      <th>0</th>\n",
              "      <td>0</td>\n",
              "      <td>0</td>\n",
              "    </tr>\n",
              "    <tr>\n",
              "      <th>1</th>\n",
              "      <td>2</td>\n",
              "      <td>0</td>\n",
              "    </tr>\n",
              "    <tr>\n",
              "      <th>2</th>\n",
              "      <td>3</td>\n",
              "      <td>0</td>\n",
              "    </tr>\n",
              "    <tr>\n",
              "      <th>3</th>\n",
              "      <td>9</td>\n",
              "      <td>0</td>\n",
              "    </tr>\n",
              "    <tr>\n",
              "      <th>4</th>\n",
              "      <td>11</td>\n",
              "      <td>0</td>\n",
              "    </tr>\n",
              "  </tbody>\n",
              "</table>\n",
              "</div>\n",
              "      <button class=\"colab-df-convert\" onclick=\"convertToInteractive('df-1463c14e-0d71-4401-ab28-031633211bdb')\"\n",
              "              title=\"Convert this dataframe to an interactive table.\"\n",
              "              style=\"display:none;\">\n",
              "        \n",
              "  <svg xmlns=\"http://www.w3.org/2000/svg\" height=\"24px\"viewBox=\"0 0 24 24\"\n",
              "       width=\"24px\">\n",
              "    <path d=\"M0 0h24v24H0V0z\" fill=\"none\"/>\n",
              "    <path d=\"M18.56 5.44l.94 2.06.94-2.06 2.06-.94-2.06-.94-.94-2.06-.94 2.06-2.06.94zm-11 1L8.5 8.5l.94-2.06 2.06-.94-2.06-.94L8.5 2.5l-.94 2.06-2.06.94zm10 10l.94 2.06.94-2.06 2.06-.94-2.06-.94-.94-2.06-.94 2.06-2.06.94z\"/><path d=\"M17.41 7.96l-1.37-1.37c-.4-.4-.92-.59-1.43-.59-.52 0-1.04.2-1.43.59L10.3 9.45l-7.72 7.72c-.78.78-.78 2.05 0 2.83L4 21.41c.39.39.9.59 1.41.59.51 0 1.02-.2 1.41-.59l7.78-7.78 2.81-2.81c.8-.78.8-2.07 0-2.86zM5.41 20L4 18.59l7.72-7.72 1.47 1.35L5.41 20z\"/>\n",
              "  </svg>\n",
              "      </button>\n",
              "      \n",
              "  <style>\n",
              "    .colab-df-container {\n",
              "      display:flex;\n",
              "      flex-wrap:wrap;\n",
              "      gap: 12px;\n",
              "    }\n",
              "\n",
              "    .colab-df-convert {\n",
              "      background-color: #E8F0FE;\n",
              "      border: none;\n",
              "      border-radius: 50%;\n",
              "      cursor: pointer;\n",
              "      display: none;\n",
              "      fill: #1967D2;\n",
              "      height: 32px;\n",
              "      padding: 0 0 0 0;\n",
              "      width: 32px;\n",
              "    }\n",
              "\n",
              "    .colab-df-convert:hover {\n",
              "      background-color: #E2EBFA;\n",
              "      box-shadow: 0px 1px 2px rgba(60, 64, 67, 0.3), 0px 1px 3px 1px rgba(60, 64, 67, 0.15);\n",
              "      fill: #174EA6;\n",
              "    }\n",
              "\n",
              "    [theme=dark] .colab-df-convert {\n",
              "      background-color: #3B4455;\n",
              "      fill: #D2E3FC;\n",
              "    }\n",
              "\n",
              "    [theme=dark] .colab-df-convert:hover {\n",
              "      background-color: #434B5C;\n",
              "      box-shadow: 0px 1px 3px 1px rgba(0, 0, 0, 0.15);\n",
              "      filter: drop-shadow(0px 1px 2px rgba(0, 0, 0, 0.3));\n",
              "      fill: #FFFFFF;\n",
              "    }\n",
              "  </style>\n",
              "\n",
              "      <script>\n",
              "        const buttonEl =\n",
              "          document.querySelector('#df-1463c14e-0d71-4401-ab28-031633211bdb button.colab-df-convert');\n",
              "        buttonEl.style.display =\n",
              "          google.colab.kernel.accessAllowed ? 'block' : 'none';\n",
              "\n",
              "        async function convertToInteractive(key) {\n",
              "          const element = document.querySelector('#df-1463c14e-0d71-4401-ab28-031633211bdb');\n",
              "          const dataTable =\n",
              "            await google.colab.kernel.invokeFunction('convertToInteractive',\n",
              "                                                     [key], {});\n",
              "          if (!dataTable) return;\n",
              "\n",
              "          const docLinkHtml = 'Like what you see? Visit the ' +\n",
              "            '<a target=\"_blank\" href=https://colab.research.google.com/notebooks/data_table.ipynb>data table notebook</a>'\n",
              "            + ' to learn more about interactive tables.';\n",
              "          element.innerHTML = '';\n",
              "          dataTable['output_type'] = 'display_data';\n",
              "          await google.colab.output.renderOutput(dataTable, element);\n",
              "          const docLink = document.createElement('div');\n",
              "          docLink.innerHTML = docLinkHtml;\n",
              "          element.appendChild(docLink);\n",
              "        }\n",
              "      </script>\n",
              "    </div>\n",
              "  </div>\n",
              "  "
            ]
          },
          "metadata": {},
          "execution_count": 262
        }
      ]
    },
    {
      "cell_type": "markdown",
      "id": "1c52f75d",
      "metadata": {
        "id": "1c52f75d"
      },
      "source": [
        "# IMPLEMENTING THE TF-IDF"
      ]
    },
    {
      "cell_type": "code",
      "execution_count": 240,
      "id": "42eb1113",
      "metadata": {
        "trusted": true,
        "id": "42eb1113"
      },
      "outputs": [],
      "source": [
        "tf_idf_vectorizer = TfidfVectorizer(use_idf = True)"
      ]
    },
    {
      "cell_type": "code",
      "execution_count": 241,
      "id": "da4fcad1",
      "metadata": {
        "trusted": true,
        "id": "da4fcad1"
      },
      "outputs": [],
      "source": [
        "X_train_vectors_tfidf = tf_idf_vectorizer.fit_transform(X_train)"
      ]
    },
    {
      "cell_type": "code",
      "execution_count": 242,
      "id": "74fa1c22",
      "metadata": {
        "trusted": true,
        "id": "74fa1c22"
      },
      "outputs": [],
      "source": [
        "X_test_vectors_tfidf = tf_idf_vectorizer.transform(X_test)"
      ]
    },
    {
      "cell_type": "code",
      "execution_count": 243,
      "id": "5e551135",
      "metadata": {
        "trusted": true,
        "colab": {
          "base_uri": "https://localhost:8080/"
        },
        "id": "5e551135",
        "outputId": "bf3407f7-ce60-443e-c948-2db36cf0d0cb"
      },
      "outputs": [
        {
          "output_type": "stream",
          "name": "stdout",
          "text": [
            "(6090, 17333)\n"
          ]
        }
      ],
      "source": [
        "print(X_train_vectors_tfidf.shape)"
      ]
    },
    {
      "cell_type": "code",
      "execution_count": 244,
      "id": "1f2ef6e1",
      "metadata": {
        "trusted": true,
        "colab": {
          "base_uri": "https://localhost:8080/"
        },
        "id": "1f2ef6e1",
        "outputId": "37e23430-451e-4e59-a23d-961921bcdb1b"
      },
      "outputs": [
        {
          "output_type": "stream",
          "name": "stdout",
          "text": [
            "(1523, 17333)\n"
          ]
        }
      ],
      "source": [
        "print(X_test_vectors_tfidf.shape)"
      ]
    },
    {
      "cell_type": "markdown",
      "id": "eb88474f",
      "metadata": {
        "id": "eb88474f"
      },
      "source": [
        "# Implementing the Decision Tree Classifier"
      ]
    },
    {
      "cell_type": "code",
      "execution_count": 245,
      "id": "67b8d6b2",
      "metadata": {
        "trusted": true,
        "colab": {
          "base_uri": "https://localhost:8080/",
          "height": 348
        },
        "id": "67b8d6b2",
        "outputId": "34b397bd-b185-4f44-d668-bc1cfd80022b"
      },
      "outputs": [
        {
          "output_type": "stream",
          "name": "stdout",
          "text": [
            "Accuracy 71.5\n",
            "              precision    recall  f1-score   support\n",
            "\n",
            "           0   0.732824  0.780488  0.755906       861\n",
            "           1   0.688119  0.629909  0.657729       662\n",
            "\n",
            "    accuracy                       0.715036      1523\n",
            "   macro avg   0.710472  0.705199  0.706817      1523\n",
            "weighted avg   0.713392  0.715036  0.713231      1523\n",
            "\n"
          ]
        },
        {
          "output_type": "execute_result",
          "data": {
            "text/plain": [
              "Predicted    0    1   All\n",
              "Actual                   \n",
              "0          672  189   861\n",
              "1          245  417   662\n",
              "All        917  606  1523"
            ],
            "text/html": [
              "\n",
              "  <div id=\"df-e96f4fb2-3f74-431d-bff5-82077225276b\">\n",
              "    <div class=\"colab-df-container\">\n",
              "      <div>\n",
              "<style scoped>\n",
              "    .dataframe tbody tr th:only-of-type {\n",
              "        vertical-align: middle;\n",
              "    }\n",
              "\n",
              "    .dataframe tbody tr th {\n",
              "        vertical-align: top;\n",
              "    }\n",
              "\n",
              "    .dataframe thead th {\n",
              "        text-align: right;\n",
              "    }\n",
              "</style>\n",
              "<table border=\"1\" class=\"dataframe\">\n",
              "  <thead>\n",
              "    <tr style=\"text-align: right;\">\n",
              "      <th>Predicted</th>\n",
              "      <th>0</th>\n",
              "      <th>1</th>\n",
              "      <th>All</th>\n",
              "    </tr>\n",
              "    <tr>\n",
              "      <th>Actual</th>\n",
              "      <th></th>\n",
              "      <th></th>\n",
              "      <th></th>\n",
              "    </tr>\n",
              "  </thead>\n",
              "  <tbody>\n",
              "    <tr>\n",
              "      <th>0</th>\n",
              "      <td>672</td>\n",
              "      <td>189</td>\n",
              "      <td>861</td>\n",
              "    </tr>\n",
              "    <tr>\n",
              "      <th>1</th>\n",
              "      <td>245</td>\n",
              "      <td>417</td>\n",
              "      <td>662</td>\n",
              "    </tr>\n",
              "    <tr>\n",
              "      <th>All</th>\n",
              "      <td>917</td>\n",
              "      <td>606</td>\n",
              "      <td>1523</td>\n",
              "    </tr>\n",
              "  </tbody>\n",
              "</table>\n",
              "</div>\n",
              "      <button class=\"colab-df-convert\" onclick=\"convertToInteractive('df-e96f4fb2-3f74-431d-bff5-82077225276b')\"\n",
              "              title=\"Convert this dataframe to an interactive table.\"\n",
              "              style=\"display:none;\">\n",
              "        \n",
              "  <svg xmlns=\"http://www.w3.org/2000/svg\" height=\"24px\"viewBox=\"0 0 24 24\"\n",
              "       width=\"24px\">\n",
              "    <path d=\"M0 0h24v24H0V0z\" fill=\"none\"/>\n",
              "    <path d=\"M18.56 5.44l.94 2.06.94-2.06 2.06-.94-2.06-.94-.94-2.06-.94 2.06-2.06.94zm-11 1L8.5 8.5l.94-2.06 2.06-.94-2.06-.94L8.5 2.5l-.94 2.06-2.06.94zm10 10l.94 2.06.94-2.06 2.06-.94-2.06-.94-.94-2.06-.94 2.06-2.06.94z\"/><path d=\"M17.41 7.96l-1.37-1.37c-.4-.4-.92-.59-1.43-.59-.52 0-1.04.2-1.43.59L10.3 9.45l-7.72 7.72c-.78.78-.78 2.05 0 2.83L4 21.41c.39.39.9.59 1.41.59.51 0 1.02-.2 1.41-.59l7.78-7.78 2.81-2.81c.8-.78.8-2.07 0-2.86zM5.41 20L4 18.59l7.72-7.72 1.47 1.35L5.41 20z\"/>\n",
              "  </svg>\n",
              "      </button>\n",
              "      \n",
              "  <style>\n",
              "    .colab-df-container {\n",
              "      display:flex;\n",
              "      flex-wrap:wrap;\n",
              "      gap: 12px;\n",
              "    }\n",
              "\n",
              "    .colab-df-convert {\n",
              "      background-color: #E8F0FE;\n",
              "      border: none;\n",
              "      border-radius: 50%;\n",
              "      cursor: pointer;\n",
              "      display: none;\n",
              "      fill: #1967D2;\n",
              "      height: 32px;\n",
              "      padding: 0 0 0 0;\n",
              "      width: 32px;\n",
              "    }\n",
              "\n",
              "    .colab-df-convert:hover {\n",
              "      background-color: #E2EBFA;\n",
              "      box-shadow: 0px 1px 2px rgba(60, 64, 67, 0.3), 0px 1px 3px 1px rgba(60, 64, 67, 0.15);\n",
              "      fill: #174EA6;\n",
              "    }\n",
              "\n",
              "    [theme=dark] .colab-df-convert {\n",
              "      background-color: #3B4455;\n",
              "      fill: #D2E3FC;\n",
              "    }\n",
              "\n",
              "    [theme=dark] .colab-df-convert:hover {\n",
              "      background-color: #434B5C;\n",
              "      box-shadow: 0px 1px 3px 1px rgba(0, 0, 0, 0.15);\n",
              "      filter: drop-shadow(0px 1px 2px rgba(0, 0, 0, 0.3));\n",
              "      fill: #FFFFFF;\n",
              "    }\n",
              "  </style>\n",
              "\n",
              "      <script>\n",
              "        const buttonEl =\n",
              "          document.querySelector('#df-e96f4fb2-3f74-431d-bff5-82077225276b button.colab-df-convert');\n",
              "        buttonEl.style.display =\n",
              "          google.colab.kernel.accessAllowed ? 'block' : 'none';\n",
              "\n",
              "        async function convertToInteractive(key) {\n",
              "          const element = document.querySelector('#df-e96f4fb2-3f74-431d-bff5-82077225276b');\n",
              "          const dataTable =\n",
              "            await google.colab.kernel.invokeFunction('convertToInteractive',\n",
              "                                                     [key], {});\n",
              "          if (!dataTable) return;\n",
              "\n",
              "          const docLinkHtml = 'Like what you see? Visit the ' +\n",
              "            '<a target=\"_blank\" href=https://colab.research.google.com/notebooks/data_table.ipynb>data table notebook</a>'\n",
              "            + ' to learn more about interactive tables.';\n",
              "          element.innerHTML = '';\n",
              "          dataTable['output_type'] = 'display_data';\n",
              "          await google.colab.output.renderOutput(dataTable, element);\n",
              "          const docLink = document.createElement('div');\n",
              "          docLink.innerHTML = docLinkHtml;\n",
              "          element.appendChild(docLink);\n",
              "        }\n",
              "      </script>\n",
              "    </div>\n",
              "  </div>\n",
              "  "
            ]
          },
          "metadata": {},
          "execution_count": 245
        }
      ],
      "source": [
        "# Create and fit the random forest\n",
        "rf = DecisionTreeClassifier()\n",
        "rf.fit(X_train_vectors_tfidf, y_train)\n",
        "\n",
        "# Evaluate predictions\n",
        "Y_pred = rf.predict(X_test_vectors_tfidf)\n",
        "acc_decision = round(rf.score(X_test_vectors_tfidf, y_test) * 100, 2)\n",
        "# Printing the Classification Report\n",
        "sk_report = classification_report(\n",
        "    digits=6,\n",
        "    y_true=y_test, \n",
        "    y_pred=Y_pred)\n",
        "print(\"Accuracy\", acc_decision)\n",
        "print(sk_report)\n",
        "pd.crosstab(y_test, Y_pred, rownames=['Actual'], colnames=['Predicted'], margins=True)"
      ]
    },
    {
      "cell_type": "code",
      "execution_count": 246,
      "id": "38de49bb",
      "metadata": {
        "trusted": true,
        "colab": {
          "base_uri": "https://localhost:8080/",
          "height": 282
        },
        "id": "38de49bb",
        "outputId": "2417cb40-914b-46ce-a522-aabff30c8101"
      },
      "outputs": [
        {
          "output_type": "execute_result",
          "data": {
            "text/plain": [
              "<matplotlib.axes._subplots.AxesSubplot at 0x7fae06b84690>"
            ]
          },
          "metadata": {},
          "execution_count": 246
        },
        {
          "output_type": "display_data",
          "data": {
            "text/plain": [
              "<Figure size 432x288 with 2 Axes>"
            ],
            "image/png": "[encoded data removed]"
          },
          "metadata": {
            "needs_background": "light"
          }
        }
      ],
      "source": [
        "# confusion_matrix\n",
        "cm = confusion_matrix(y_test, Y_pred)\n",
        "sns.heatmap(cm, annot=True, fmt=\"d\")"
      ]
    },
    {
      "cell_type": "code",
      "execution_count": 247,
      "id": "a1835583",
      "metadata": {
        "trusted": true,
        "colab": {
          "base_uri": "https://localhost:8080/",
          "height": 312
        },
        "id": "a1835583",
        "outputId": "22775339-4987-448f-ed03-947f65e88c81"
      },
      "outputs": [
        {
          "output_type": "stream",
          "name": "stdout",
          "text": [
            "Decision Tree Classifier: AUROC = 0.710\n"
          ]
        },
        {
          "output_type": "display_data",
          "data": {
            "text/plain": [
              "<Figure size 432x288 with 1 Axes>"
            ],
            "image/png": "[encoded data removed]"
          },
          "metadata": {
            "needs_background": "light"
          }
        }
      ],
      "source": [
        "r_probs = [0 for _ in range(len(y_test))]\n",
        "rf_probs = rf.predict_proba(X_test_vectors_tfidf)\n",
        "rf_probs = rf_probs[:, 1]\n",
        "rf_auc = roc_auc_score(y_test, rf_probs)\n",
        "r_auc = roc_auc_score(y_test, r_probs)\n",
        "print('Decision Tree Classifier: AUROC = %.3f' % (rf_auc))\n",
        "r_fpr, r_tpr, _ = roc_curve(y_test, r_probs)\n",
        "rf_fpr, rf_tpr, _ = roc_curve(y_test, rf_probs)\n",
        "\n",
        "plt.plot(r_fpr, r_tpr, linestyle='--', label='Random prediction (AUROC = %0.3f)' % r_auc)\n",
        "plt.plot(rf_fpr, rf_tpr, linestyle='--', label='Decision Tree Classifier prediction (AUROC = %0.3f)' % rf_auc)\n",
        "# Title\n",
        "plt.title('ROC Plot')\n",
        "# Axis labels\n",
        "plt.xlabel('False Positive Rate')\n",
        "plt.ylabel('True Positive Rate')\n",
        "# Show legend\n",
        "plt.legend() # \n",
        "# Show plot\n",
        "plt.show()"
      ]
    },
    {
      "cell_type": "markdown",
      "id": "594512fe",
      "metadata": {
        "id": "594512fe"
      },
      "source": [
        "# IMPLEMENTING TOKENIZER"
      ]
    },
    {
      "cell_type": "code",
      "execution_count": 248,
      "id": "9534ba2f",
      "metadata": {
        "trusted": true,
        "id": "9534ba2f"
      },
      "outputs": [],
      "source": [
        "## Tokenize the sentences\n",
        "tokenizer = Tokenizer()\n",
        "tokenizer.fit_on_texts(list(X_train)+ list(X_test))"
      ]
    },
    {
      "cell_type": "code",
      "execution_count": 249,
      "id": "7532cd87",
      "metadata": {
        "trusted": true,
        "id": "7532cd87"
      },
      "outputs": [],
      "source": [
        "vocab_size = len(tokenizer.word_index) + 1"
      ]
    },
    {
      "cell_type": "code",
      "execution_count": 250,
      "id": "cc787f12",
      "metadata": {
        "trusted": true,
        "colab": {
          "base_uri": "https://localhost:8080/"
        },
        "id": "cc787f12",
        "outputId": "42bc102b-4621-408d-bbc3-404222e53cd8"
      },
      "outputs": [
        {
          "output_type": "stream",
          "name": "stdout",
          "text": [
            "20328\n"
          ]
        }
      ],
      "source": [
        "print(len(tokenizer.word_index))"
      ]
    },
    {
      "cell_type": "code",
      "execution_count": 251,
      "id": "2bd7995f",
      "metadata": {
        "trusted": true,
        "colab": {
          "base_uri": "https://localhost:8080/"
        },
        "id": "2bd7995f",
        "outputId": "93995804-9a9a-450e-b6e4-ff2f58c3dd1f"
      },
      "outputs": [
        {
          "output_type": "stream",
          "name": "stdout",
          "text": [
            "{'co': 1, 'http': 2, 'û': 3, 'fire': 4, 'like': 5, 'amp': 6, 'u': 7, 'get': 8, 'new': 9, 'via': 10, '2': 11, 'one': 12, 'people': 13, 'news': 14, 'year': 15, 'video': 16, 'time': 17, 'disaster': 18, 'emergency': 19, 'body': 20, 'day': 21, 'police': 22, 'home': 23, 'building': 24, 'would': 25, '3': 26, 'family': 27, 'say': 28, 'life': 29, 'still': 30, 'go': 31, 'storm': 32, 'crash': 33, 'back': 34, 'burning': 35, 'california': 36, 'bomb': 37, 'know': 38, 'look': 39, 'suicide': 40, '1': 41, 'world': 42, 'death': 43, 'man': 44, 'train': 45, 'flood': 46, 'car': 47, 'got': 48, 'rt': 49, 'see': 50, 'attack': 51, 'first': 52, 'love': 53, 'two': 54, 'nuclear': 55, 'going': 56, 'make': 57, 'let': 58, 'today': 59, 'war': 60, 'dead': 61, 'killed': 62, '5': 63, 'accident': 64, 'youtube': 65, '4': 66, 'want': 67, 'full': 68, 'gt': 69, 'woman': 70, 'hiroshima': 71, 'need': 72, 'old': 73, 'take': 74, 'weapon': 75, 'think': 76, 'good': 77, 'may': 78, 'way': 79, 'injury': 80, 'watch': 81, '2015': 82, 'ûªs': 83, 'bag': 84, 'many': 85, 'last': 86, 'service': 87, 'could': 88, 'wildfire': 89, 'collapse': 90, 'w': 91, 'bombing': 92, 'work': 93, 'help': 94, 'fatality': 95, 'plan': 96, 'best': 97, 'mass': 98, 'thing': 99, 'right': 100, 'even': 101, 'hostage': 102, 'please': 103, 'come': 104, 'another': 105, 'army': 106, 'mh370': 107, 'lol': 108, 'really': 109, 'school': 110, 'black': 111, 'city': 112, 'water': 113, 'fear': 114, 'photo': 115, 'kill': 116, 'forest': 117, 'hot': 118, 'fatal': 119, 'casualty': 120, 'feel': 121, 'read': 122, 'pm': 123, 'obama': 124, '8': 125, '11': 126, 'god': 127, 'northern': 128, 'much': 129, 'house': 130, 'reddit': 131, 'state': 132, 'never': 133, 'live': 134, 'great': 135, '9': 136, 'legionnaire': 137, 'bomber': 138, 'hit': 139, 'cause': 140, 'damage': 141, 'siren': 142, 'wreck': 143, 'latest': 144, 'japan': 145, 'wave': 146, 'typhoon': 147, '6': 148, 'area': 149, 'every': 150, 'run': 151, 'flame': 152, 'report': 153, 'atomic': 154, 'stop': 155, 'top': 156, 'thunderstorm': 157, 'everyone': 158, 'said': 159, 'injured': 160, 'wind': 161, 'shit': 162, 'im': 163, 'change': 164, 'ever': 165, 'cross': 166, 'getting': 167, 'girl': 168, 'near': 169, 'hope': 170, 'show': 171, 'oil': 172, 'rain': 173, 'truck': 174, 'movie': 175, 'content': 176, 'warning': 177, 'earthquake': 178, 'night': 179, 'since': 180, 'fall': 181, 'boy': 182, 'evacuation': 183, 'military': 184, '10': 185, 'weather': 186, 'coming': 187, '15': 188, 'game': 189, 'set': 190, 'found': 191, 'as': 192, 'without': 193, 'next': 194, 'story': 195, 'official': 196, 'flooding': 197, 'wild': 198, 'well': 199, 'update': 200, 'debris': 201, 'malaysia': 202, 'p': 203, '7': 204, 'call': 205, 'little': 206, 'smoke': 207, 'guy': 208, 'head': 209, 'end': 210, 'keep': 211, 'terrorist': 212, 'post': 213, 'food': 214, 'wounded': 215, 'child': 216, 'face': 217, '08': 218, 'refugee': 219, 'heat': 220, 'lightning': 221, 'migrant': 222, 'ûª': 223, 'bus': 224, 'check': 225, 'severe': 226, 'explosion': 227, 'high': 228, 'hurricane': 229, 'sound': 230, 'road': 231, 'confirmed': 232, 'week': 233, 'bad': 234, 'sinking': 235, 'made': 236, 'fucking': 237, 'always': 238, 'job': 239, '70': 240, 'hail': 241, 'devastated': 242, 'red': 243, 'blood': 244, 'natural': 245, 'thunder': 246, 'fan': 247, 'bloody': 248, 'hour': 249, 'someone': 250, 'spill': 251, 'also': 252, 'liked': 253, 'murder': 254, 'loud': 255, 'free': 256, 'shot': 257, 'sign': 258, 'failure': 259, 'light': 260, 'gonna': 261, 'summer': 262, 'riot': 263, 'screaming': 264, 'lot': 265, 'missing': 266, 'evacuate': 267, 'minute': 268, 'tonight': 269, 'harm': 270, 'panic': 271, 'kid': 272, 'survivor': 273, 'hazard': 274, 'baby': 275, 'china': 276, 'tornado': 277, 'collided': 278, 'trapped': 279, 'save': 280, 'eye': 281, 'collision': 282, 'ûò': 283, 'bridge': 284, 'air': 285, 'outbreak': 286, 'ambulance': 287, 'n': 288, 'rescue': 289, 'sinkhole': 290, 'survive': 291, 'phone': 292, 'attacked': 293, 'destroy': 294, 'terrorism': 295, 'battle': 296, 'big': 297, '30': 298, 'business': 299, 'released': 300, 'whole': 301, 'wreckage': 302, 'derailment': 303, 'explode': 304, 'rescued': 305, 'issue': 306, 'drought': 307, 'real': 308, '05': 309, 'long': 310, 'around': 311, 'fuck': 312, 'destruction': 313, 'destroyed': 314, 'landslide': 315, 'heart': 316, 'ruin': 317, '40': 318, 'ok': 319, 'part': 320, 'saudi': 321, 'island': 322, 'breaking': 323, 'bombed': 324, 'crush': 325, 'windstorm': 326, 'b': 327, 'trauma': 328, 'land': 329, 'rescuer': 330, 'hundred': 331, 'twister': 332, 'wrecked': 333, 'survived': 334, 'burned': 335, 'market': 336, 'charged': 337, 'start': 338, 'officer': 339, 'wound': 340, 'dust': 341, 'deluge': 342, 'self': 343, 'white': 344, 'put': 345, 'group': 346, 'displaced': 347, 'county': 348, 'boat': 349, 'r': 350, 'word': 351, 'catastrophe': 352, 'friend': 353, 'away': 354, 'order': 355, 'collapsed': 356, 'suspect': 357, 'thought': 358, 'curfew': 359, 'crashed': 360, 'august': 361, 'violent': 362, 'sunk': 363, 'massacre': 364, 'danger': 365, 'half': 366, 'pic': 367, 'quarantine': 368, 'cliff': 369, 'whirlwind': 370, 'stock': 371, '0': 372, 'twitter': 373, 'hazardous': 374, 'mudslide': 375, 'sandstorm': 376, 'structural': 377, 'chemical': 378, 'armageddon': 379, 'investigator': 380, 'devastation': 381, 'bang': 382, 'scream': 383, 'wanna': 384, 'apocalypse': 385, 'better': 386, 'least': 387, 'screamed': 388, 'tragedy': 389, 'saw': 390, 'engulfed': 391, 'famine': 392, 'national': 393, 'rioting': 394, 'quarantined': 395, 'power': 396, 'airplane': 397, 'derailed': 398, 'came': 399, 'plane': 400, 'iran': 401, 'traumatised': 402, 'drowning': 403, 'second': 404, 'inundated': 405, 'oh': 406, 'blown': 407, 'derail': 408, 'tomorrow': 409, 'horrible': 410, 'bleeding': 411, 'effect': 412, 'tsunami': 413, 'desolation': 414, 'anniversary': 415, 'heard': 416, 'zone': 417, 'mosque': 418, 'exploded': 419, 'past': 420, 'song': 421, 'e': 422, 'flattened': 423, 'pandemonium': 424, 'went': 425, 'fight': 426, 'lava': 427, 'must': 428, 'blast': 429, 'drown': 430, 'electrocuted': 431, 'c': 432, 'book': 433, 'use': 434, 'meltdown': 435, 'river': 436, 'murderer': 437, 'hijacker': 438, 'fedex': 439, 'detonate': 440, 'v': 441, 'catastrophic': 442, 'trouble': 443, 'blew': 444, 'left': 445, 'something': 446, '00': 447, 'government': 448, 'demolish': 449, 'caused': 450, 'person': 451, 'thank': 452, 'st': 453, 'calgary': 454, 'soon': 455, 'hellfire': 456, 'collide': 457, 'cool': 458, 'demolition': 459, 'bagging': 460, 'isi': 461, 'men': 462, 'stay': 463, 'evacuated': 464, 'affected': 465, 'bioterror': 466, 'lady': 467, 'shoulder': 468, 'panicking': 469, 'volcano': 470, 'responder': 471, 'razed': 472, 'reunion': 473, 'ebay': 474, 'street': 475, 'rainstorm': 476, 'sure': 477, 'possible': 478, 'ship': 479, 'blazing': 480, 'deal': 481, 'south': 482, 'ur': 483, 'hijacking': 484, 'send': 485, 'reason': 486, 'crushed': 487, 'longer': 488, 'due': 489, 'traffic': 490, 'cyclone': 491, 'america': 492, 'place': 493, 'american': 494, 'three': 495, 'india': 496, 'obliterated': 497, 'beautiful': 498, 'drowned': 499, 'pkk': 500, 'detonated': 501, 'airport': 502, 'medium': 503, 'arson': 504, 'case': 505, 'annihilated': 506, 'care': 507, 'dog': 508, 'stand': 509, 'eyewitness': 510, 'security': 511, 'detonation': 512, 'rise': 513, 'electrocute': 514, 'nothing': 515, 'find': 516, 'yet': 517, 'thanks': 518, 'memory': 519, 'demolished': 520, 'used': 521, 'site': 522, 'obliterate': 523, 'tell': 524, 'play': 525, 'shooting': 526, 'lab': 527, 'prebreak': 528, 'bush': 529, 'music': 530, 'country': 531, 'obliteration': 532, 'support': 533, 'believe': 534, 'remember': 535, 'policy': 536, 'already': 537, 'nigga': 538, 'horror': 539, 'lt': 540, 'upheaval': 541, '50': 542, 'line': 543, 'done': 544, 'mean': 545, 'avalanche': 546, 'inside': 547, '16': 548, 'fun': 549, 'making': 550, 'team': 551, 'peace': 552, 'actually': 553, 'hijack': 554, 'ûó': 555, 'bioterrorism': 556, 'wait': 557, 'israeli': 558, 'far': 559, 'blight': 560, 'ûªt': 561, 'mp': 562, 'action': 563, 'crew': 564, 'gun': 565, 'died': 566, 'sue': 567, 'wake': 568, 'reactor': 569, '16yr': 570, 'turkey': 571, 'leave': 572, 'snowstorm': 573, 'move': 574, 'seismic': 575, 'ablaze': 576, 'ago': 577, 'deluged': 578, 'declares': 579, '25': 580, 'north': 581, 'image': 582, 'health': 583, '06': 584, 'stretcher': 585, 'victim': 586, 'trying': 587, 'star': 588, 'yes': 589, 'computer': 590, 'bar': 591, 'feeling': 592, 'die': 593, 'brown': 594, 'abc': 595, 'nearby': 596, 'vehicle': 597, 'helicopter': 598, 'rubble': 599, 'soudelor': 600, 'tree': 601, 'tv': 602, 'month': 603, 'la': 604, 'low': 605, 'level': 606, 'history': 607, 'x': 608, 'islam': 609, 'win': 610, 'offensive': 611, 'west': 612, 'side': 613, 'anything': 614, '01': 615, 'swallowed': 616, 'nowplaying': 617, 'yeah': 618, 'center': 619, 'hat': 620, 'saipan': 621, 'bigger': 622, '20': 623, 'flag': 624, 'outside': 625, 'almost': 626, 'hell': 627, 'hey': 628, 'handbag': 629, 'desolate': 630, 'data': 631, 'lost': 632, 'bc': 633, 'maybe': 634, 'aircraft': 635, 'watching': 636, 'rule': 637, 'pakistan': 638, 'point': 639, 'conclusively': 640, 'blizzard': 641, 'reuters': 642, 'projected': 643, 'moment': 644, 'christian': 645, 'muslim': 646, 'money': 647, 'control': 648, 'anyone': 649, 'hand': 650, 'million': 651, 'pick': 652, 'rock': 653, 'searching': 654, 'transport': 655, 'literally': 656, 'name': 657, 'mom': 658, 'spot': 659, 'happy': 660, 'hear': 661, 'tweet': 662, 'blaze': 663, 'link': 664, 'bestnaijamade': 665, 'share': 666, 'secret': 667, 'morning': 668, 'pay': 669, 'aug': 670, 'online': 671, 'listen': 672, 'thousand': 673, 'coach': 674, 'mark': 675, 'space': 676, 'aftershock': 677, 'lie': 678, 'cake': 679, 'human': 680, 'rd': 681, 'though': 682, 'firefighter': 683, 'pretty': 684, 'village': 685, 'town': 686, 'everything': 687, 'probably': 688, 'arsonist': 689, '12': 690, 'trench': 691, 'hailstorm': 692, 'manslaughter': 693, 'damn': 694, 'ball': 695, 'talk': 696, 'finally': 697, 'property': 698, 'open': 699, 'ca': 700, 'amid': 701, 'might': 702, 'hollywood': 703, 'couple': 704, 'saved': 705, '13': 706, '60': 707, 'wrong': 708, 'class': 709, 'refugio': 710, 'costlier': 711, 'drive': 712, 'sorry': 713, 'course': 714, 'try': 715, 'problem': 716, 'caught': 717, 'annihilation': 718, 'leather': 719, 'fast': 720, 'chance': 721, 'youth': 722, 'expert': 723, 'blue': 724, 'hate': 725, 'okay': 726, 'alarm': 727, 'giant': 728, 'nearly': 729, 'feared': 730, 'australia': 731, 'crisis': 732, '17': 733, 'major': 734, 'sensor': 735, 'knock': 736, 'seen': 737, 'miner': 738, 'usa': 739, 'daily': 740, 'idea': 741, 'mayhem': 742, 'omg': 743, 'uk': 744, 'passenger': 745, 'huge': 746, 'strike': 747, 'force': 748, 'called': 749, 'wow': 750, 'worst': 751, 'claim': 752, 'fukushima': 753, 'seek': 754, 'flash': 755, 'banned': 756, 'east': 757, 'picking': 758, 'crazy': 759, 'russian': 760, 'turn': 761, 'angry': 762, 'lord': 763, 'texas': 764, 'favorite': 765, 'closed': 766, 'running': 767, 'entire': 768, 'burn': 769, 'art': 770, 'across': 771, 'view': 772, 'mount': 773, 'toddler': 774, 'hard': 775, 'meek': 776, 'drake': 777, 'truth': 778, 'bbc': 779, 'cnn': 780, 'nw': 781, 'sky': 782, 'gbbo': 783, 'anthrax': 784, 'mishap': 785, 'united': 786, 'pilot': 787, 'haha': 788, 'looking': 789, '100': 790, 'become': 791, 'others': 792, 'militant': 793, 'follow': 794, 'dont': 795, 'radio': 796, 'company': 797, 'heavy': 798, 'ignition': 799, 'gem': 800, 'poor': 801, 'cop': 802, 'camp': 803, 'declaration': 804, 'mad': 805, 'public': 806, 'playing': 807, 'issued': 808, 'thursday': 809, 'temple': 810, '18': 811, 'miss': 812, 'hero': 813, 'else': 814, '24': 815, 'foot': 816, 'give': 817, 'number': 818, 'soul': 819, 'centre': 820, 'happened': 821, 'break': 822, 'date': 823, 'horse': 824, 'climate': 825, 'disea': 826, 'appears': 827, 'sea': 828, 'wanted': 829, 'large': 830, 'mountain': 831, 'flight': 832, 'pain': 833, 'driver': 834, 'king': 835, 'act': 836, 'totally': 837, 'member': 838, 'lead': 839, 'myanmar': 840, 'alone': 841, 'beach': 842, 'film': 843, 'taken': 844, 'chicago': 845, 'emmerdale': 846, 'learn': 847, 'civilian': 848, 'mph': 849, 'till': 850, 'release': 851, 'scene': 852, 'france': 853, 'quiz': 854, 'cry': 855, 'nagasaki': 856, 'british': 857, 'begin': 858, 'ice': 859, 'global': 860, 'track': 861, 'wonder': 862, 'insurance': 863, 'student': 864, 'israel': 865, 'spring': 866, 'park': 867, 'party': 868, 'green': 869, 'disease': 870, 'downtown': 871, 'piece': 872, 'dude': 873, 'virgin': 874, 'cover': 875, 'risk': 876, 'front': 877, 'trust': 878, 'info': 879, 'room': 880, 'em': 881, 'chile': 882, 'driving': 883, 'ûï': 884, 'ready': 885, 'comment': 886, 'early': 887, 'instead': 888, 'germ': 889, 'brother': 890, 'patience': 891, 'madhya': 892, 'pradesh': 893, 'reported': 894, 'scared': 895, 'added': 896, 'download': 897, 'ppl': 898, 'sex': 899, 'led': 900, 'lamp': 901, 'gop': 902, 'sad': 903, 'cost': 904, 'threat': 905, 'escape': 906, 'subreddits': 907, 'true': 908, 'middle': 909, 'york': 910, 'turned': 911, 'behind': 912, 'tote': 913, 'nigerian': 914, 'four': 915, 'theater': 916, 'funtenna': 917, 'wednesday': 918, 'landing': 919, 'wall': 920, 'galactic': 921, 'answer': 922, 'season': 923, 'russia': 924, 'animal': 925, 'sport': 926, 'hiring': 927, 'former': 928, 'libya': 929, 'outrage': 930, 'gave': 931, 'bring': 932, 'dy': 933, 'ancient': 934, 'beat': 935, 'following': 936, 'taking': 937, 'falling': 938, 'silver': 939, 'likely': 940, 'fashion': 941, 'bayelsa': 942, 'gas': 943, 'told': 944, 'biggest': 945, 'fact': 946, 'event': 947, 'pamela': 948, 'bed': 949, 'desire': 950, 'rly': 951, 'dance': 952, 'bitch': 953, 'enough': 954, 'upon': 955, 'dr': 956, 'shift': 957, 'london': 958, 'palestinian': 959, 'close': 960, 'awesome': 961, '70th': 962, 'ave': 963, 'disney': 964, 'series': 965, 'career': 966, 'parole': 967, 'question': 968, 'earth': 969, 'mode': 970, 'f': 971, 'colorado': 972, 'thinking': 973, 'owner': 974, 'teen': 975, 'holding': 976, 'unconfirmed': 977, 'neighbour': 978, 'dad': 979, 'buy': 980, 'seeing': 981, 'young': 982, 'lmao': 983, 'department': 984, 'lake': 985, 'local': 986, 'potus': 987, 'ebola': 988, 'sick': 989, 'pray': 990, 'pakistani': 991, 'cut': 992, 'cat': 993, 'gunman': 994, 'working': 995, 'expected': 996, 'court': 997, 'walk': 998, 'review': 999, 'parent': 1000, 'loving': 1001, 'waving': 1002, 'geller': 1003, 'album': 1004, 'cree': 1005, 'interesting': 1006, 'worry': 1007, 'investigating': 1008, 'deep': 1009, 'ahead': 1010, 'drink': 1011, 'japanese': 1012, 'cdt': 1013, 'direction': 1014, 'bit': 1015, 'research': 1016, '12000': 1017, 'apollo': 1018, 'arrested': 1019, 'washington': 1020, 'started': 1021, 'terror': 1022, 'govt': 1023, 'article': 1024, 'record': 1025, 'capture': 1026, 'ash': 1027, 'union': 1028, 'guess': 1029, 'worse': 1030, 'mention': 1031, 'coast': 1032, 'super': 1033, 'å': 1034, 'map': 1035, 'unit': 1036, 'mile': 1037, 'test': 1038, 'user': 1039, 'indian': 1040, 'safety': 1041, 'crematorium': 1042, 'door': 1043, 'petition': 1044, 'playlist': 1045, 'account': 1046, 'match': 1047, 'office': 1048, 'standard': 1049, 'de': 1050, 'result': 1051, 'ground': 1052, 'queen': 1053, 'tried': 1054, 'killing': 1055, 'crime': 1056, 'jonathan': 1057, 'marians': 1058, 'glad': 1059, 'hair': 1060, 'weekend': 1061, 'single': 1062, 'taiwan': 1063, 'oklahoma': 1064, 'matter': 1065, 'recount': 1066, 'cold': 1067, 'occurred': 1068, 'insurer': 1069, 'med': 1070, '600': 1071, 'giving': 1072, 'small': 1073, 'general': 1074, 'incident': 1075, 'mind': 1076, 'planned': 1077, 'central': 1078, 'expect': 1079, 'governor': 1080, 'different': 1081, 'law': 1082, 'western': 1083, '29': 1084, 'philippine': 1085, 'cant': 1086, 'travel': 1087, 'sitting': 1088, 'internally': 1089, 'prepare': 1090, 'crane': 1091, 'alabama': 1092, 'guide': 1093, 'provoke': 1094, 'strong': 1095, 'time2015': 1096, 'utc2015': 1097, 'sunday': 1098, '04': 1099, 'internet': 1100, 'character': 1101, 'sun': 1102, 'cable': 1103, 'wedding': 1104, 'information': 1105, 'islamic': 1106, 'aba': 1107, 'delivers': 1108, 'twelve': 1109, 'took': 1110, 'community': 1111, 'happen': 1112, 'shape': 1113, 'text': 1114, '2014': 1115, 'based': 1116, 'helping': 1117, 'vote': 1118, 'sent': 1119, 'happening': 1120, 'five': 1121, 'absolutely': 1122, 'tear': 1123, 'etc': 1124, 'offroad': 1125, 'serious': 1126, 'non': 1127, 'dream': 1128, 'yr': 1129, 'involving': 1130, 'canada': 1131, 'fat': 1132, 'episode': 1133, 'friday': 1134, 'join': 1135, 'soldier': 1136, 'salt': 1137, 'technology': 1138, 'gone': 1139, 'wife': 1140, 'faux': 1141, 'version': 1142, 'hospital': 1143, 'cameroon': 1144, 'response': 1145, 'broke': 1146, 'enugu': 1147, 'sense': 1148, 'felt': 1149, 'gold': 1150, 'louis': 1151, 'amazon': 1152, 'target': 1153, 'played': 1154, 'suspected': 1155, 'killer': 1156, 'living': 1157, 'short': 1158, 'udhampur': 1159, 'rate': 1160, 'struggle': 1161, 'wrought': 1162, 'board': 1163, 'turkish': 1164, 'brooklyn': 1165, 'gay': 1166, '07': 1167, 'lane': 1168, '2013': 1169, 'loss': 1170, 'window': 1171, 'block': 1172, 'mod': 1173, 'agree': 1174, 'double': 1175, 'president': 1176, 'paul': 1177, 'ap': 1178, 'san': 1179, 'stage': 1180, 'financial': 1181, 'nice': 1182, 'return': 1183, 'press': 1184, 'metal': 1185, 'international': 1186, 'using': 1187, 'denver': 1188, 'ban': 1189, 'h': 1190, 'hi': 1191, 'airline': 1192, 'son': 1193, 'evening': 1194, 'mine': 1195, 'saying': 1196, 'sometimes': 1197, 'glass': 1198, 'funny': 1199, 'walking': 1200, 'loved': 1201, 'player': 1202, 'pile': 1203, 'chief': 1204, 'price': 1205, 'population': 1206, 'hurt': 1207, 'apc': 1208, 'tho': 1209, 'later': 1210, 'cancer': 1211, '1st': 1212, 'ûïwhen': 1213, 'plunging': 1214, 'gotta': 1215, 'trump': 1216, 'phoenix': 1217, 'message': 1218, 'saving': 1219, 'search': 1220, 'hold': 1221, 'smaug': 1222, 'causing': 1223, 'michael': 1224, 'leader': 1225, 'pathogen': 1226, 'purse': 1227, 'nyc': 1228, 'feat': 1229, 'allows': 1230, 'box': 1231, 'worldnews': 1232, 'richmond': 1233, 'metro': 1234, 'rather': 1235, 'special': 1236, 'angel': 1237, 'freak': 1238, 'forever': 1239, 'industry': 1240, 'future': 1241, 'kinda': 1242, 'david': 1243, 'republican': 1244, 'along': 1245, 'mix': 1246, 'fighting': 1247, 'l': 1248, 'total': 1249, 'wish': 1250, 'hill': 1251, 'africa': 1252, 'linked': 1253, 'together': 1254, 'build': 1255, 'related': 1256, '90': 1257, 'roosevelt': 1258, 'sister': 1259, 'tablet': 1260, 'fully': 1261, 'training': 1262, 'le': 1263, 'wtf': 1264, 'program': 1265, 'senso': 1266, 'pas': 1267, 'picture': 1268, 'meet': 1269, 'usatoday': 1270, 'specially': 1271, 'stadium': 1272, '1980': 1273, 'ûªve': 1274, 'operation': 1275, 'anymore': 1276, 'el': 1277, '22': 1278, 'notice': 1279, 'exchanging': 1280, 'tension': 1281, 'effort': 1282, 'g': 1283, 'express': 1284, 'beyond': 1285, 'complete': 1286, 'arianagrande': 1287, 'worth': 1288, 'feminist': 1289, 'radiation': 1290, 'reading': 1291, '21': 1292, 'alive': 1293, 'common': 1294, 'football': 1295, 'edm': 1296, 'setting': 1297, 'carrying': 1298, 'lucky': 1299, 'happens': 1300, 'welcome': 1301, '14': 1302, 'repatriated': 1303, 'mr': 1304, '2nd': 1305, 'brought': 1306, 'ticket': 1307, 'leaving': 1308, 'emotional': 1309, 'ross': 1310, 'prevent': 1311, 'bay': 1312, 'among': 1313, 'voice': 1314, 'trent': 1315, 'ft': 1316, 'straight': 1317, 'earlier': 1318, 'structure': 1319, 'route': 1320, 'birthday': 1321, 'stuff': 1322, 'syrian': 1323, 'navy': 1324, 'moving': 1325, 'system': 1326, 'ocean': 1327, 'ar': 1328, 'rocky': 1329, 'dan': 1330, 'bear': 1331, 'social': 1332, 'usgs': 1333, 'false': 1334, 'tent': 1335, 'drone': 1336, 'drunk': 1337, 'blocked': 1338, 'cannot': 1339, 'gov': 1340, 'dangerous': 1341, '130': 1342, 'modified': 1343, 'hello': 1344, 'blow': 1345, 'kit': 1346, 'destroys': 1347, 'colour': 1348, 'nc': 1349, 'main': 1350, 'joe': 1351, 'pdp': 1352, 'sub': 1353, 'damaged': 1354, 'remove': 1355, 'un': 1356, 'ten': 1357, 'brain': 1358, 'meat': 1359, 'grill': 1360, 'none': 1361, 'quite': 1362, 'weird': 1363, 'late': 1364, 'waiting': 1365, 'yo': 1366, 'bell': 1367, 'quote': 1368, 'repair': 1369, 'fleet': 1370, 'extreme': 1371, 'apply': 1372, 'dying': 1373, 'sw': 1374, 'fine': 1375, 'list': 1376, 'cruz': 1377, 'mediterranean': 1378, 'municipal': 1379, 'avoid': 1380, 'combo': 1381, 'exit': 1382, 'ferguson': 1383, 'potential': 1384, 'hobo': 1385, 'rail': 1386, '26': 1387, 'interview': 1388, 'grows': 1389, 'yesterday': 1390, 'dark': 1391, 'stream': 1392, 'according': 1393, 'imagine': 1394, 'utc': 1395, 'practice': 1396, 'degree': 1397, 'yyc': 1398, 'antioch': 1399, 'sh': 1400, 'either': 1401, 'shower': 1402, 'spaceship': 1403, 'sleeping': 1404, 'fuel': 1405, 'ii': 1406, 'coffee': 1407, 'politics': 1408, 'sit': 1409, 'abandoned': 1410, 'church': 1411, 'tired': 1412, 'ask': 1413, 'loose': 1414, 'talking': 1415, 'arm': 1416, 'minister': 1417, 'fund': 1418, 'pull': 1419, 'bin': 1420, 'examining': 1421, 'french': 1422, 'round': 1423, 'hwy': 1424, 'da': 1425, 'extremely': 1426, 'sismo': 1427, 'seattle': 1428, '5km': 1429, 'hawaii': 1430, 'signed': 1431, 'understand': 1432, 'woke': 1433, 'kick': 1434, 'j': 1435, 'currently': 1436, 'step': 1437, 'jeb': 1438, 'afghanistan': 1439, 'veteran': 1440, 'shall': 1441, 'perfect': 1442, 'rip': 1443, 'worker': 1444, 'able': 1445, 'broken': 1446, 'wwii': 1447, 'region': 1448, 'pool': 1449, 'snow': 1450, 'condition': 1451, 'usually': 1452, 'choice': 1453, 'promise': 1454, 'follower': 1455, 'gm': 1456, 'squad': 1457, 'equipment': 1458, 'ben': 1459, 'lose': 1460, 'seems': 1461, 'genocide': 1462, 'foxnews': 1463, 'upset': 1464, 'forget': 1465, 'epic': 1466, 'shop': 1467, 'quickly': 1468, 'forecast': 1469, 'decision': 1470, 'asked': 1471, 'pop': 1472, 'create': 1473, 'qew4c5m1xd': 1474, 'careful': 1475, 'canyon': 1476, 'totaling': 1477, 'dozen': 1478, 'iraq': 1479, 'floor': 1480, 'epicentre': 1481, 'rn': 1482, 'ceo': 1483, 'hobbit': 1484, 'enjoy': 1485, 'anti': 1486, 'ray': 1487, 'browser': 1488, 'meeting': 1489, '31': 1490, 'georgia': 1491, 'percent': 1492, 'tribal': 1493, 'trfc': 1494, 'relief': 1495, 'knee': 1496, 'cook': 1497, 'john': 1498, 'shut': 1499, 'calm': 1500, 'criminal': 1501, 'preparedness': 1502, 'design': 1503, 'robot': 1504, 'k': 1505, 'shoe': 1506, 'mini': 1507, 'outlook': 1508, 'science': 1509, 'budget': 1510, 'leading': 1511, 'lion': 1512, '300': 1513, 'bet': 1514, 'seat': 1515, 'nation': 1516, 'allah': 1517, 'economic': 1518, 'situation': 1519, 'apartment': 1520, 'supposed': 1521, 'tip': 1522, 'debate': 1523, 'smh': 1524, 'abstorm': 1525, 'stopped': 1526, 'opening': 1527, 'began': 1528, 'lil': 1529, 'project': 1530, 'inundation': 1531, 'beyonce': 1532, 'nah': 1533, 'wont': 1534, 'pressure': 1535, 'daughter': 1536, 'hunt': 1537, 'completely': 1538, 'economy': 1539, 'drug': 1540, 'goal': 1541, 'offer': 1542, 'bicyclist': 1543, 'humanity': 1544, 'estimate': 1545, 'seriously': 1546, 'strategy': 1547, 'legacy': 1548, 'satellite': 1549, 'confirms': 1550, 'tank': 1551, 'sale': 1552, 'directioners': 1553, 'app': 1554, 'stupid': 1555, 'visit': 1556, 'feed': 1557, 'florida': 1558, '2011': 1559, 'hearing': 1560, 'manchester': 1561, 'style': 1562, 'option': 1563, 'experience': 1564, 'motorcyclist': 1565, 'cinema': 1566, 'everywhere': 1567, 'screen': 1568, 'limited': 1569, 'indeed': 1570, '4000': 1571, 'england': 1572, 'ah': 1573, 'continue': 1574, 'irandeal': 1575, 'laden': 1576, 'sir': 1577, 'deadly': 1578, 'spos': 1579, 'tram': 1580, 'fantasy': 1581, '23': 1582, 'highway': 1583, 'original': 1584, 'mary': 1585, 'kindle': 1586, 'honestly': 1587, 'battlefield': 1588, 'invoice': 1589, 'edt': 1590, 'crap': 1591, 'drill': 1592, 'concern': 1593, 'concerned': 1594, 'lovely': 1595, 'po': 1596, 'guardian': 1597, 'bout': 1598, 'knew': 1599, 'tropical': 1600, 'stone': 1601, 'age': 1602, '35': 1603, 'patient': 1604, 'arrived': 1605, 'learning': 1606, 'impact': 1607, 'pussy': 1608, 'massive': 1609, 'greatest': 1610, 'rea': 1611, 'mortal': 1612, 'kombat': 1613, 'rare': 1614, 'cyclist': 1615, 'o784': 1616, 'dubstep': 1617, 'dnb': 1618, 'apparently': 1619, 'sadly': 1620, 'proof': 1621, 'type': 1622, 'portland': 1623, 'parley': 1624, 'steve': 1625, 'charity': 1626, 'drinking': 1627, 'six': 1628, 'bank': 1629, 'onto': 1630, 'tonto': 1631, 'bringing': 1632, 'blog': 1633, 'amazing': 1634, 'inner': 1635, 'md': 1636, 'justice': 1637, 'parenthood': 1638, 'facebook': 1639, 'mets': 1640, 'mumbai': 1641, 'reach': 1642, 'calling': 1643, 'rubber': 1644, 'continues': 1645, 'acre': 1646, 'di': 1647, 'charge': 1648, 'twin': 1649, 'ny': 1650, 'dropped': 1651, 'unless': 1652, 'nature': 1653, 'bro': 1654, 'putin': 1655, 'en': 1656, 'taste': 1657, 'org': 1658, 'reduce': 1659, 'jet': 1660, 'saturday': 1661, '09': 1662, 'headed': 1663, 'tech': 1664, 'grow': 1665, 'wa': 1666, 'faan': 1667, 'dc': 1668, 'wmata': 1669, 'wing': 1670, 'trial': 1671, 'root': 1672, 'shadow': 1673, 'jam': 1674, 'nursing': 1675, 'capsizes': 1676, 'store': 1677, 'drop': 1678, 'australian': 1679, 'wired': 1680, 'bought': 1681, 'beyhive': 1682, 'alaska': 1683, 'ya': 1684, 'safe': 1685, 'cloud': 1686, 'lifted': 1687, 'hwo': 1688, 'load': 1689, 'bruh': 1690, 'concert': 1691, 'mayan': 1692, 'avoiding': 1693, 'mediterran': 1694, '4x4': 1695, 'fog': 1696, 'except': 1697, 'final': 1698, 'document': 1699, 'illegal': 1700, 'conference': 1701, 'triple': 1702, '33': 1703, 'spent': 1704, 'exploration': 1705, 'resident': 1706, 'malaysian': 1707, 'adult': 1708, 'disco': 1709, 'held': 1710, 'bathroom': 1711, 'finger': 1712, 'plus': 1713, 'forced': 1714, 'pre': 1715, 'afternoon': 1716, 'vine': 1717, 'hilarious': 1718, 'ian': 1719, 'recall': 1720, 'protest': 1721, 'warship': 1722, 'aussie': 1723, 'justinbieber': 1724, 'tax': 1725, 'township': 1726, 'watched': 1727, 'joy': 1728, 'pack': 1729, 'fruit': 1730, 'source': 1731, 'replace': 1732, '500': 1733, 'toilet': 1734, 'enemy': 1735, 'heavenly': 1736, 'aid': 1737, 'moved': 1738, 'catch': 1739, 'trip': 1740, 'father': 1741, 'al': 1742, 'shame': 1743, 'writing': 1744, '3g': 1745, 'simple': 1746, 'delay': 1747, 'nine': 1748, 'idp': 1749, 'prime': 1750, 'dollar': 1751, 'card': 1752, 'tongue': 1753, 'twice': 1754, 'easy': 1755, 'access': 1756, 'somebody': 1757, 'thx': 1758, 'including': 1759, 'af': 1760, 'advisory': 1761, 'approach': 1762, 'stealing': 1763, 'ridge': 1764, 'us': 1765, 'spirit': 1766, 'pro': 1767, 'tool': 1768, 'baseball': 1769, 'add': 1770, 'model': 1771, 'respect': 1772, 'christmas': 1773, '02': 1774, 'max': 1775, '75': 1776, 'zombie': 1777, 'blvd': 1778, 'picked': 1779, 'updated': 1780, 'starting': 1781, 'roof': 1782, 'known': 1783, 'thomas': 1784, 'term': 1785, 'beginning': 1786, 'club': 1787, 'aka': 1788, 'worked': 1789, 'plot': 1790, 'created': 1791, 'struck': 1792, 'threatening': 1793, '320': 1794, 'ir': 1795, 'icemoon': 1796, 'djicemoon': 1797, 'trapmusic': 1798, 'gaza': 1799, 'quran': 1800, 'brazil': 1801, 'soundcloud': 1802, 'manager': 1803, 'size': 1804, 'mhtw4fnet': 1805, 'survival': 1806, 'prophet': 1807, 'jay': 1808, 'theatre': 1809, 'kidnapped': 1810, 'syria': 1811, 'okwx': 1812, 'mtvhottest': 1813, 'linkury': 1814, 'vietnam': 1815, '97': 1816, 'id': 1817, 'tcot': 1818, 'powerful': 1819, 'cramer': 1820, 'iger': 1821, 'there': 1822, 'passing': 1823, 'exactly': 1824, 'gust': 1825, 'salem': 1826, 'bee': 1827, 'inj': 1828, 'relative': 1829, 'min': 1830, 'treatment': 1831, 'mid': 1832, '32': 1833, 'remains': 1834, 'blk': 1835, 'july': 1836, 'incredible': 1837, 'rì': 1838, 'blame': 1839, 'leg': 1840, 'seven': 1841, 'league': 1842, 'protect': 1843, 'missed': 1844, 'steel': 1845, 'maintenance': 1846, 'troop': 1847, 'waste': 1848, 'eat': 1849, 'several': 1850, 'animalrescue': 1851, 'awful': 1852, 'holy': 1853, 'political': 1854, 'consider': 1855, '150': 1856, 'compliant': 1857, 'fell': 1858, 'mac': 1859, 'mexico': 1860, 'minecraft': 1861, 'alert': 1862, 'needed': 1863, 'sweet': 1864, 'freakiest': 1865, 'swallow': 1866, 'path': 1867, 'given': 1868, 'mt': 1869, 'flat': 1870, '80': 1871, 'dis': 1872, 'fort': 1873, 'prison': 1874, 'vet': 1875, 'annual': 1876, 'clutch': 1877, 'moon': 1878, 'calorie': 1879, 'cheese': 1880, 'sunset': 1881, 'jackson': 1882, 'senior': 1883, '19': 1884, 'ear': 1885, 'recovery': 1886, 'meme': 1887, 'plant': 1888, 'covered': 1889, 'canaanite': 1890, '53inch': 1891, '300w': 1892, 'curved': 1893, 'sideline': 1894, 'field': 1895, 'terrible': 1896, 'ep': 1897, 'eruption': 1898, 'digit': 1899, 'mill': 1900, 'bullet': 1901, 'fish': 1902, 'southern': 1903, 'slightly': 1904, 'universe': 1905, 'individual': 1906, 'attention': 1907, 'listening': 1908, 'fox': 1909, 'sleep': 1910, 'broad': 1911, 'photography': 1912, 'duty': 1913, 'va': 1914, 'society': 1915, 'rose': 1916, 'exchange': 1917, 'democracy': 1918, 'aim': 1919, 'fit': 1920, 'wx': 1921, 'hunter': 1922, 'i5': 1923, 'burst': 1924, 'broadway': 1925, 'automatic': 1926, 'audio': 1927, 'rider': 1928, 'german': 1929, 'blessing': 1930, 'focus': 1931, 'somalia': 1932, 'surprise': 1933, 'tour': 1934, 'arabia': 1935, 'band': 1936, 'magic': 1937, 'discovered': 1938, 'library': 1939, 'page': 1940, 'robert': 1941, 'respond': 1942, 'roll': 1943, 'senator': 1944, 'quick': 1945, 'realise': 1946, 'italian': 1947, 'threatens': 1948, 'row': 1949, 'microlight': 1950, 'runway': 1951, 'festival': 1952, 'click': 1953, 'shelter': 1954, 'ended': 1955, 'floyd': 1956, 'wash': 1957, 'jack': 1958, 'evil': 1959, 'within': 1960, 'ha': 1961, 'congress': 1962, 'powerlines': 1963, 'activity': 1964, 'hungry': 1965, 'iranian': 1966, 'schedule': 1967, 'tube': 1968, 'asking': 1969, 'mf': 1970, 'vuitton': 1971, 'energy': 1972, 'crackdown': 1973, 'machine': 1974, 'scary': 1975, 'snap': 1976, 'cap': 1977, 'commercial': 1978, 'poll': 1979, 'plug': 1980, 'fail': 1981, 'nytimes': 1982, 'mo': 1983, 'staff': 1984, 'ex': 1985, 'especially': 1986, 'somehow': 1987, 'value': 1988, 'swim': 1989, 'tom': 1990, 'conflict': 1991, 'charging': 1992, 'dry': 1993, 'valley': 1994, 'september': 1995, 'surrounded': 1996, 'stephen': 1997, 'mining': 1998, '4wd': 1999, 'challenge': 2000, 'toll': 2001, 'clinton': 2002, 'debt': 2003, 'tough': 2004, 'plain': 2005, 'quest': 2006, 'exp': 2007, 'sinjar': 2008, 'lack': 2009, 'civil': 2010, 'bug': 2011, 'server': 2012, 'distance': 2013, 'founder': 2014, 'unveiled': 2015, 'hotel': 2016, 'bluejays': 2017, 'tubestrike': 2018, 'mood': 2019, 'leaf': 2020, 'election': 2021, 'holiday': 2022, '1945': 2023, 'allow': 2024, 'statement': 2025, 'kept': 2026, 'hip': 2027, 'rear': 2028, 'murdered': 2029, 'client': 2030, 'emotion': 2031, 'cleared': 2032, 'loop': 2033, 'madinah': 2034, 'prophetmuhammad': 2035, 'bottom': 2036, 'bill': 2037, 'external': 2038, 'morgan': 2039, 'pls': 2040, 'copycat': 2041, 'lorry': 2042, 'åê': 2043, 'zionist': 2044, 't': 2045, 'didnt': 2046, 'female': 2047, 'amsterdam': 2048, 'slide': 2049, 'cuz': 2050, 'truly': 2051, 'reminds': 2052, 'pipe': 2053, 'warns': 2054, 'mikeparractor': 2055, 'piling': 2056, 'wealth': 2057, 'description': 2058, 'fake': 2059, 'cute': 2060, 'mother': 2061, 'pc': 2062, 'diving': 2063, 'cream': 2064, 'fired': 2065, 'confirm': 2066, 'subject': 2067, 'carry': 2068, 'nashville': 2069, 'accidentally': 2070, '77': 2071, 'loan': 2072, 'associated': 2073, 'larger': 2074, 'th': 2075, 'sat': 2076, 'detail': 2077, 'study': 2078, 'executive': 2079, 'prosecuted': 2080, 'lowndes': 2081, 'pocket': 2082, 'butter': 2083, 'write': 2084, 'named': 2085, 'disrupts': 2086, 'cup': 2087, 'anchorage': 2088, 'santa': 2089, 'collection': 2090, '94': 2091, 'ksawlyux02': 2092, 'averted': 2093, 'huh': 2094, 'sparked': 2095, 'defense': 2096, 'letter': 2097, 'touch': 2098, 'insane': 2099, 'rage': 2100, 'rising': 2101, 'electronic': 2102, 'looked': 2103, 'slip': 2104, 'connector': 2105, 'residential': 2106, 'clear': 2107, 'palm': 2108, 'officially': 2109, 'ran': 2110, 'abuse': 2111, 'hole': 2112, 'murderous': 2113, 'blessed': 2114, 'cousin': 2115, 'gotten': 2116, 'honor': 2117, 'nurse': 2118, 'shipping': 2119, 'gang': 2120, 'newest': 2121, 'til': 2122, 'dramatic': 2123, 'shepherd': 2124, 'garden': 2125, 'solar': 2126, 'van': 2127, 'orange': 2128, 'motor': 2129, 'ugly': 2130, 'reality': 2131, 'm': 2132, '30pm': 2133, 'wood': 2134, 'luck': 2135, 'skin': 2136, '99': 2137, 'grenade': 2138, 'o': 2139, '1000': 2140, 'com': 2141, 'stuart': 2142, '36': 2143, 'winter': 2144, 'mission': 2145, 'built': 2146, 'motorcycle': 2147, 'nuke': 2148, 'pam': 2149, 'gunfire': 2150, 'management': 2151, 'itunes': 2152, 'maximum': 2153, 'intensity': 2154, 'doctor': 2155, '95': 2156, '54': 2157, 'rally': 2158, 'cancel': 2159, 'toronto': 2160, 'arrive': 2161, 'everyday': 2162, 'idk': 2163, 'plague': 2164, '101': 2165, 'bike': 2166, 'dvd': 2167, 'boston': 2168, 'xbox': 2169, 'alleged': 2170, 'address': 2171, 'button': 2172, 'elephant': 2173, 'pak': 2174, 'destiny': 2175, 'deputy': 2176, 'authority': 2177, 'ultimate': 2178, 'medical': 2179, 'nose': 2180, 'fyi': 2181, 'dragon': 2182, 'triggered': 2183, 'homeless': 2184, 'satchel': 2185, 'afghan': 2186, 'mma': 2187, 'channel': 2188, 'trailer': 2189, 'jan': 2190, 'fighter': 2191, 'planet': 2192, 'chill': 2193, 'rest': 2194, 'evidence': 2195, 'calif': 2196, 'violence': 2197, 'arsenal': 2198, 'z': 2199, 'foxtrot': 2200, '52': 2201, 'vinyl': 2202, 'dear': 2203, 'se': 2204, 'bound': 2205, 'english': 2206, 'conversation': 2207, 'auction': 2208, 'towel': 2209, 'xd': 2210, 'sing': 2211, 'generation': 2212, 'sicily': 2213, 'complex': 2214, 'iphone': 2215, 'girlfriend': 2216, 'grief': 2217, 'sm': 2218, 'fix': 2219, 'advance': 2220, 'mystery': 2221, 'jesus': 2222, 'mail': 2223, 'crack': 2224, 'dorret': 2225, 'gta': 2226, 'teacher': 2227, 'crossed': 2228, 'guillermo': 2229, 'remembering': 2230, 'bat': 2231, 'ted': 2232, 'certain': 2233, 'stress': 2234, 'failed': 2235, 'george': 2236, 'q2eblokeve': 2237, 'encmhz6y34': 2238, 'entertainment': 2239, 'finnish': 2240, 'admits': 2241, 'scheme': 2242, 'smile': 2243, 'prepared': 2244, 'buffalo': 2245, 'rohingya': 2246, 'fr': 2247, 'clip': 2248, 'chinese': 2249, 'material': 2250, 'italy': 2251, 'unlocked': 2252, 'battery': 2253, 'author': 2254, '5th': 2255, 'tryna': 2256, 'progress': 2257, 'blamed': 2258, 'monogram': 2259, 'edition': 2260, 'gained': 2261, 'parker': 2262, 'wed': 2263, 'married': 2264, 'pacific': 2265, 'pres': 2266, 'kisii': 2267, 'ûªm': 2268, 'gray': 2269, 'considering': 2270, 'drove': 2271, 'purple': 2272, 'campus': 2273, 'maryland': 2274, 'mansion': 2275, 'magnum': 2276, 'royal': 2277, 'pump': 2278, 'poverty': 2279, 'bite': 2280, '133': 2281, 'fwy': 2282, 'grey': 2283, 'fifth': 2284, 'restore': 2285, 'tide': 2286, 'suck': 2287, 'surge': 2288, 'porn': 2289, 'toward': 2290, 'fucked': 2291, 'bedroom': 2292, 'afterlife': 2293, 'print': 2294, 'written': 2295, 'beam': 2296, 'file': 2297, 'diet': 2298, 'losing': 2299, 'weight': 2300, 'treat': 2301, 'fireman': 2302, 'pedestrian': 2303, 'afraid': 2304, 'combined': 2305, 'philly': 2306, 'google': 2307, 'pipeline': 2308, 'reduced': 2309, 'blind': 2310, 'present': 2311, 'warned': 2312, 'newyork': 2313, 'casper': 2314, 'runner': 2315, 'throwing': 2316, 'equal': 2317, 'reward': 2318, 'actual': 2319, 'pepper': 2320, 'b4': 2321, 'huffman': 2322, 'rolling': 2323, 'weed': 2324, 'dutch': 2325, 'np': 2326, 'mlb': 2327, 'palestine': 2328, 'mental': 2329, 'walmart': 2330, 'hop': 2331, 'activated': 2332, 'error': 2333, 'include': 2334, 'youngheroesid': 2335, 'pantherattack': 2336, '495': 2337, 'served': 2338, 'revealed': 2339, 'bid': 2340, 'definitely': 2341, 'sac': 2342, 'becomes': 2343, 'internal': 2344, 'preview': 2345, 'electrical': 2346, 'maria': 2347, 'singing': 2348, 'darude': 2349, 'campaign': 2350, 'traditional': 2351, 'sean': 2352, 'swimming': 2353, 'whale': 2354, 'hd': 2355, 'usagov': 2356, 'auth': 2357, 'pov': 2358, 'hopefully': 2359, 'grace': 2360, 'prompt': 2361, 'ending': 2362, 'freedom': 2363, 'smoking': 2364, 'bos': 2365, 'object': 2366, '27': 2367, 'affect': 2368, 'clearly': 2369, 'suv': 2370, 'cricket': 2371, 'temporary': 2372, 'penalty': 2373, 'nema': 2374, 'laugh': 2375, 'wondering': 2376, 'engine': 2377, 'leo': 2378, 'usual': 2379, 'lung': 2380, 'twia': 2381, 'cave': 2382, 'jacksonville': 2383, 'marine': 2384, 'ton': 2385, 'normal': 2386, 'radar': 2387, 'spark': 2388, 'aware': 2389, 'demand': 2390, 'simulate': 2391, 'nu': 2392, 'blocking': 2393, 'investigation': 2394, 'ankle': 2395, 'responsible': 2396, 'asap': 2397, 'mike': 2398, 'lunch': 2399, 'railway': 2400, 'calamity': 2401, 'stranded': 2402, 'sydney': 2403, 'uniform': 2404, 'example': 2405, 'suffering': 2406, 'michigan': 2407, 'bob': 2408, '45': 2409, 'guard': 2410, 'alberta': 2411, 'deck': 2412, 'looting': 2413, 'experiment': 2414, '731': 2415, 'vvplfqv58p': 2416, 'he': 2417, 'thus': 2418, 'peanut': 2419, 'bjp': 2420, 'judge': 2421, 'yall': 2422, 'trolley': 2423, 'sa': 2424, 'chart': 2425, 'recipe': 2426, 'station': 2427, 'chair': 2428, 'charlie': 2429, 'abcnews': 2430, 'raid': 2431, 'therapy': 2432, 'estate': 2433, 'flying': 2434, 'extra': 2435, 'messenger': 2436, 'counselor': 2437, 'bowl': 2438, 'germany': 2439, 'bargain': 2440, 'wonderful': 2441, 'increased': 2442, 'writer': 2443, 'clothes': 2444, '43': 2445, 'pin': 2446, 'golf': 2447, 'became': 2448, 'hieroglyphic': 2449, 'lowly': 2450, 'dk': 2451, 'cleanup': 2452, '10th': 2453, 'starring': 2454, 'nasahurricane': 2455, 'romance': 2456, 'highest': 2457, 'physical': 2458, 'quality': 2459, 'jamaica': 2460, 'chelsea': 2461, 'multiple': 2462, 'mess': 2463, 'jewish': 2464, 'elevated': 2465, 'lower': 2466, 'quarter': 2467, 'smell': 2468, 'rapidly': 2469, 'lethal': 2470, 'kerricktrial': 2471, 'whether': 2472, 'memorial': 2473, 'biological': 2474, 'instagram': 2475, 'heaven': 2476, 'plate': 2477, 'patrick': 2478, 'upper': 2479, 'restaurant': 2480, 'opened': 2481, 'housing': 2482, 'gps': 2483, 'throw': 2484, 'active': 2485, 'paper': 2486, 'section': 2487, 'tutorial': 2488, 'fav': 2489, 'lesson': 2490, 'agreed': 2491, 'doubt': 2492, 'sentinel': 2493, 'resistant': 2494, 'worried': 2495, 'crowd': 2496, 'corner': 2497, 'fill': 2498, 'yay': 2499, 'grab': 2500, 'correction': 2501, 'anyway': 2502, 'depth': 2503, 'fresh': 2504, 'towards': 2505, 'bake': 2506, 'mido': 2507, 'ww1': 2508, 'tennessee': 2509, 'm1': 2510, 'sanction': 2511, 'innocent': 2512, 'battling': 2513, 'status': 2514, 'wearing': 2515, 'solution': 2516, 'strange': 2517, 'wet': 2518, 'socialnews': 2519, '03': 2520, 'vulnerable': 2521, 'drawn': 2522, 'shell': 2523, 'grateful': 2524, 'nd': 2525, 'allowed': 2526, 'spanish': 2527, 'viralspell': 2528, 'tempered': 2529, 'protector': 2530, 'blackberry': 2531, 'z10': 2532, 'bb17': 2533, 'reporting': 2534, 'remain': 2535, 'trap': 2536, 'register': 2537, 'serial': 2538, 'thriller': 2539, 'coastal': 2540, 'asshole': 2541, 'tea': 2542, 'gabon': 2543, 'clean': 2544, 'decided': 2545, 'legal': 2546, 'rep': 2547, 'nh': 2548, 'bird': 2549, 'brake': 2550, 'nail': 2551, 'often': 2552, 'bath': 2553, 'cbc': 2554, 'stuck': 2555, 'sharp': 2556, 'trafford': 2557, 'odeon': 2558, 'williams': 2559, 'captain': 2560, 'falcon': 2561, 'border': 2562, 'providence': 2563, 'port': 2564, 'rating': 2565, 'skill': 2566, 'slow': 2567, 'tracking': 2568, 'todd': 2569, 'boot': 2570, 'minor': 2571, 'ugh': 2572, 'alp': 2573, 'rome': 2574, 'av': 2575, 'fair': 2576, 'invalid': 2577, 'factory': 2578, 'strategicpatience': 2579, 'faced': 2580, 'chest': 2581, 'dare': 2582, 'musician': 2583, '34': 2584, 'classic': 2585, 'predicted': 2586, 'fantastic': 2587, 'recognize': 2588, 'estimated': 2589, 'kaduna': 2590, 'sarah': 2591, 'yea': 2592, 'thats': 2593, 'startup': 2594, 'cdc': 2595, 'wolf': 2596, '48': 2597, 'hatchet': 2598, 'summerfate': 2599, 'tag': 2600, 'consequence': 2601, 'reportedly': 2602, 'easily': 2603, 'cia': 2604, 'mourning': 2605, 'stabbing': 2606, 'stir': 2607, 'smithsonian': 2608, 'bicycle': 2609, 'oops': 2610, 'bounty': 2611, 'website': 2612, 'diamond': 2613, 'amongst': 2614, 'grade': 2615, 'profile': 2616, 'scott': 2617, 'surprised': 2618, 'bride': 2619, 'ig': 2620, 'mansehra': 2621, 'msf': 2622, 'kicked': 2623, 'fallen': 2624, 'realized': 2625, 'spider': 2626, 'cybksxhf7d': 2627, 'vega': 2628, 'lip': 2629, 'unsafe': 2630, 'olympic': 2631, 'victory': 2632, 'recommend': 2633, 'personal': 2634, 'scientist': 2635, 'email': 2636, 'flew': 2637, 'putting': 2638, 'streak': 2639, 'method': 2640, 'nigeria': 2641, 'stick': 2642, 'telling': 2643, 'museum': 2644, 'profit': 2645, 'laughing': 2646, 'shirt': 2647, 'sexual': 2648, 'lgbt': 2649, 'nobody': 2650, 'esh': 2651, 'sittwe': 2652, 'reno': 2653, 'responds': 2654, 'rape': 2655, 'tbt': 2656, 'emotionally': 2657, 'chase': 2658, 'title': 2659, 'paint': 2660, '28': 2661, 'host': 2662, 'lmfao': 2663, 'sophie': 2664, 'education': 2665, 'driven': 2666, 'nfl': 2667, 'earner': 2668, 'multiplayer': 2669, 'pulled': 2670, 'gift': 2671, '2pm': 2672, 'yobe': 2673, 'chocolate': 2674, 'naved': 2675, 'surf': 2676, 'language': 2677, 'ill': 2678, 'pillow': 2679, 'greece': 2680, 'lulgzimbestpicts': 2681, 'logo': 2682, 'friendship': 2683, 'raynbowaffair': 2684, 'editor': 2685, 'diamondkesawn': 2686, 'ramag': 2687, 'passed': 2688, 'spend': 2689, 'screenshots': 2690, 'combat': 2691, 'opus': 2692, 'ukraine': 2693, 'playoff': 2694, 'lgl': 2695, 'responsibility': 2696, 'niece': 2697, 'cigarette': 2698, 'ink': 2699, 'letting': 2700, 'despite': 2701, 'increase': 2702, 'lightening': 2703, 'battleship': 2704, 'bulletin': 2705, 'period': 2706, 'backyard': 2707, 'prefer': 2708, 'current': 2709, 'cupcake': 2710, 'wear': 2711, 'fettilootch': 2712, 'slanglucci': 2713, 'oppression': 2714, 'moll5vd8yd': 2715, 'dat': 2716, 'produced': 2717, 'racist': 2718, 'previously': 2719, 'vacant': 2720, 'remembered': 2721, 'dick': 2722, 'excited': 2723, 'dress': 2724, '2pcs': 2725, '18w': 2726, 'muscle': 2727, 'feeding': 2728, 'epilepsy': 2729, 'announcement': 2730, 'taco': 2731, 'thru': 2732, 'cow': 2733, 'realdonaldtrump': 2734, 'benefit': 2735, 'warming': 2736, 'leveled': 2737, 'dtn': 2738, 'yazidis': 2739, 'miami': 2740, 'atlanta': 2741, 'ring': 2742, '3rd': 2743, 'charles': 2744, 'opposite': 2745, 'childhood': 2746, 'odds': 2747, 'euro': 2748, 'specif': 2749, 'caution': 2750, 'base': 2751, 'analysis': 2752, 'carryi': 2753, 'farrakhan': 2754, 'warn': 2755, 'lauren': 2756, 'assistance': 2757, 'gain': 2758, 'plaguing': 2759, 'gadget': 2760, 'flooded': 2761, 'prince': 2762, 'rockyfire': 2763, 'marked': 2764, 'relax': 2765, 'harry': 2766, 'reid': 2767, 'audience': 2768, 'parking': 2769, 'sized': 2770, 'willing': 2771, 'specimen': 2772, 'mall': 2773, 'zujwuiomb3': 2774, 'derails': 2775, 'stab': 2776, 'gon': 2777, 'constantly': 2778, 'random': 2779, '375': 2780, 'rockin': 2781, 'crashing': 2782, 'revolution': 2783, 'hashtag': 2784, 'babe': 2785, 'environment': 2786, 'abbswinston': 2787, 'overnight': 2788, 'spain': 2789, 'appreciate': 2790, 'checked': 2791, 'wht': 2792, 'continued': 2793, 'warfighting': 2794, 'footage': 2795, '911': 2796, 'cr': 2797, 'ridiculous': 2798, 'third': 2799, 'spending': 2800, 'lvlh3w3awo': 2801, 'viwxy1xdyk': 2802, 'occasion': 2803, 'pbban': 2804, 'xp': 2805, 'humidity': 2806, 'regular': 2807, 'refuse': 2808, 'derby': 2809, 'ability': 2810, 'smash': 2811, 'melt': 2812, 'rob': 2813, 'beer': 2814, 'kind': 2815, 'gameplay': 2816, 'kurdish': 2817, 'tf': 2818, 'perhaps': 2819, 'historic': 2820, 'recently': 2821, 'probe': 2822, 'role': 2823, 'wit': 2824, 'movement': 2825, 'thin': 2826, 'irish': 2827, 'locke': 2828, 'clash': 2829, 'targeting': 2830, 'www': 2831, 'prabhu': 2832, 'eventually': 2833, 'network': 2834, '5pm': 2835, 'sending': 2836, 'wither': 2837, 'photoshop': 2838, 'sixth': 2839, 'selfie': 2840, 'certainly': 2841, 'er': 2842, 'europe': 2843, 'speaker': 2844, 'pond': 2845, 'leak': 2846, 'buckle': 2847, 'cell': 2848, 'multi': 2849, 'shanghai': 2850, 'largest': 2851, 'otherwise': 2852, 'eb': 2853, 'houston': 2854, 'tune': 2855, 'pit': 2856, 'thoyhrhkfj': 2857, 'wvj39a3bgm': 2858, 'toe': 2859, 'jordan': 2860, 'location': 2861, 'nasty': 2862, 'limit': 2863, 'uribe': 2864, 'capacity': 2865, 'outdoor': 2866, '2009': 2867, 'haram': 2868, 'floated': 2869, 'ptsd': 2870, 'crystal': 2871, 'beforeitsnews': 2872, 'dependency': 2873, 'intern': 2874, 'nude': 2875, 'eating': 2876, 'jr': 2877, 'interest': 2878, 'abe': 2879, 'ally': 2880, 'zouma': 2881, 'silence': 2882, 'asia': 2883, 'sp': 2884, 'opinion': 2885, 'monsoon': 2886, 'harbor': 2887, 'impressed': 2888, 'accused': 2889, 'karachi': 2890, 'wy': 2891, 'alternative': 2892, 'director': 2893, 'alcohol': 2894, 'color': 2895, 'resource': 2896, 'microsoft': 2897, 'holland': 2898, 'monster': 2899, 'born': 2900, 'hr': 2901, 'charger': 2902, 'apple': 2903, 'åè': 2904, 'defend': 2905, 'hoe': 2906, 'worldnetdaily': 2907, 'demon': 2908, 'enjoying': 2909, 'forward': 2910, 'southampton': 2911, 'neither': 2912, 'alien': 2913, 'acid': 2914, 'cnbc': 2915, '39': 2916, 'omfg': 2917, 'paramedic': 2918, 'swansea': 2919, 'inning': 2920, 'excellent': 2921, 'bless': 2922, 'bu': 2923, 'precipitation': 2924, 'measurement': 2925, 'agent': 2926, 'counter': 2927, 'facility': 2928, 'edinburgh': 2929, 'resulted': 2930, 'monkey': 2931, 'abused': 2932, 'cunt': 2933, 'washed': 2934, 'speaking': 2935, 'bp': 2936, 'eight': 2937, 'tryout': 2938, 'cabin': 2939, 'realize': 2940, '370': 2941, 'abortion': 2942, 'wicked': 2943, 'ride': 2944, 'moth': 2945, 'citizen': 2946, 'enjoyed': 2947, 'closure': 2948, 'matako': 2949, 'biker': 2950, 'reject': 2951, 'pace': 2952, 'boxer': 2953, 'elem': 2954, 'swell': 2955, 'pitch': 2956, 'impossible': 2957, 'sin': 2958, 'hitting': 2959, 'positive': 2960, 'fam': 2961, 'gusty': 2962, 'majority': 2963, 'cum': 2964, 'theory': 2965, 'newlywed': 2966, 'hosting': 2967, 'dinner': 2968, 'discovery': 2969, 'mega': 2970, 'involved': 2971, 'faith': 2972, 'hughes': 2973, 'recover': 2974, 'soup': 2975, 'transit': 2976, 'detectado': 2977, 'japì': 2978, 'jst': 2979, 'average': 2980, 'voter': 2981, 'rocket': 2982, 'returned': 2983, 'jean': 2984, 'vintage': 2985, 'choking': 2986, 'brings': 2987, 'reaching': 2988, 'nnmqlz91o9': 2989, 'o91f3cyy0r': 2990, 'famous': 2991, 'changed': 2992, 'range': 2993, 'jeff': 2994, 'starter': 2995, 'farm': 2996, 'stereo': 2997, 'sacramento': 2998, 'alright': 2999, 'chain': 3000, 'blowing': 3001, 'bored': 3002, 'dublin': 3003, 'cam': 3004, 'nsfw': 3005, 'asian': 3006, 'communication': 3007, 'lonely': 3008, 'hated': 3009, 'los': 3010, 'angeles': 3011, 'sprinter': 3012, 'frontline': 3013, 'lez': 3014, 'blake': 3015, 'assembly': 3016, 'noise': 3017, 'haunting': 3018, 'priority': 3019, 'val': 3020, 'origin': 3021, 'shake': 3022, 'flower': 3023, 'mitigation': 3024, 'karymsky': 3025, 'crater': 3026, 'mistake': 3027, 'decide': 3028, 'reveals': 3029, 'oc': 3030, 'shared': 3031, 'breakingnews': 3032, 'bff': 3033, 'pet': 3034, 'eq': 3035, 'marijuana': 3036, 'mercy': 3037, 'expecting': 3038, 'daniel': 3039, 'heading': 3040, 'ty': 3041, 'brutally': 3042, 'mum': 3043, 'rid': 3044, 'clev': 3045, 'batter': 3046, 'nasa': 3047, 'chaos': 3048, 'utter': 3049, 'selfies': 3050, 'captured': 3051, 'unlocking': 3052, 'meal': 3053, 'primary': 3054, 'generally': 3055, 'omar': 3056, 'foster': 3057, 'idc': 3058, 'fbi': 3059, 'tb': 3060, '360wisenews': 3061, 'activates': 3062, 'worstsummerjob': 3063, 'whao': 3064, 'device': 3065, 'ak': 3066, 'supervisor': 3067, 'whats': 3068, 'listed': 3069, 'table': 3070, 'accuses': 3071, 'predict': 3072, 'contact': 3073, 'egypt': 3074, 'launch': 3075, 'earring': 3076, 'underway': 3077, 'enter': 3078, 'attacking': 3079, 'rexyy': 3080, 'wanting': 3081, 'hang': 3082, 'sandiego': 3083, 'caitlin': 3084, 'kiernan': 3085, 'centipede': 3086, 'numbered': 3087, 'rqwuoy1fm4': 3088, 'exist': 3089, 'ûïthe': 3090, 'yorker': 3091, 'tampa': 3092, 'prior': 3093, 'mi': 3094, 'eden': 3095, 'previous': 3096, 'james': 3097, 'minority': 3098, 'skinny': 3099, 'egg': 3100, 'brave': 3101, 'specialist': 3102, 'although': 3103, 'marvel': 3104, 'iii': 3105, 'factor': 3106, '5000': 3107, 'harper': 3108, 'lonewolffur': 3109, 'betrayed': 3110, 'lock': 3111, 'len': 3112, 'success': 3113, 'anybody': 3114, 'wire': 3115, 'torch': 3116, 'lesbian': 3117, 'university': 3118, 'settlement': 3119, 'note': 3120, 'trend': 3121, 'michael5sos': 3122, 'unsuckdcmetro': 3123, 'asleep': 3124, 'rich': 3125, 'surface': 3126, 'jazz': 3127, 'private': 3128, 'ad': 3129, 'cord': 3130, 'credit': 3131, 'tr': 3132, 'faster': 3133, 'apocalyptic': 3134, 'tuesday': 3135, 'raining': 3136, 'kiss': 3137, 'speed': 3138, 'wholesale': 3139, 'race': 3140, 'fly': 3141, 'senate': 3142, 'idiot': 3143, 'planning': 3144, 'psychiatric': 3145, 'dam': 3146, 'nicki': 3147, 'sort': 3148, 'striker': 3149, 'longest': 3150, 'dallas': 3151, 'suffer': 3152, 'custom': 3153, 'score': 3154, 'kurtschlichter': 3155, 'gate': 3156, 'arabian': 3157, 'supreme': 3158, 'yellow': 3159, 'lying': 3160, 'excuse': 3161, 'bare': 3162, 'fishing': 3163, 'boundary': 3164, 'odd': 3165, 'dirt': 3166, 'pizza': 3167, 'ûïwe': 3168, 'mitt': 3169, 'buddy': 3170, 'arrest': 3171, 'otrametlife': 3172, 'cleveland': 3173, 'height': 3174, 'electric': 3175, 'drum': 3176, 'planted': 3177, 'hoax': 3178, 'legit': 3179, 'encounter': 3180, 'si': 3181, 'understanding': 3182, 'cotton': 3183, '000': 3184, 'forgot': 3185, 'headphone': 3186, 'interested': 3187, '6aug': 3188, 'kca': 3189, 'votejkt48id': 3190, 'kenya': 3191, 'cock': 3192, 'landfall': 3193, 'waimate': 3194, 'grazed': 3195, 'braking': 3196, 'integrity': 3197, 'turbine': 3198, 'ego': 3199, 'jax': 3200, 'recent': 3201, 'nugget': 3202, 'bluetooth': 3203, 'wireless': 3204, 'restricted': 3205, 'belief': 3206, 'puppy': 3207, 'forbes': 3208, 'ireland': 3209, 'anger': 3210, 'painting': 3211, 'pregnant': 3212, 'walker': 3213, 'uganda': 3214, 'independent': 3215, 'pun': 3216, 'd': 3217, 'negative': 3218, 'fate': 3219, 'meant': 3220, 'item': 3221, 'southeast': 3222, 'flip': 3223, 'salvador': 3224, 'horrific': 3225, 'feature': 3226, 'reap': 3227, 'richard': 3228, 'reminder': 3229, 'temper': 3230, '166': 3231, 'cast': 3232, 'empty': 3233, 'posted': 3234, 'duck': 3235, 'idfire': 3236, 'tuned': 3237, 'entered': 3238, '57': 3239, 'mama': 3240, 'eu': 3241, 'kingdom': 3242, 'hmm': 3243, 'milk': 3244, 'ûïa': 3245, 'scare': 3246, 'peaceful': 3247, 'rapper': 3248, 'safer': 3249, 'ferry': 3250, 'replacing': 3251, 'follows': 3252, 'winston': 3253, 'pattern': 3254, 'tribune': 3255, 'meter': 3256, 'explains': 3257, 'kyle': 3258, 'forgotten': 3259, 'code': 3260, 'okanagan': 3261, 'weak': 3262, 'utterly': 3263, 'eastern': 3264, 'repeat': 3265, 'curb': 3266, 'embroidered': 3267, 'referring': 3268, 'jones': 3269, 'vegetable': 3270, 'cutting': 3271, 'posting': 3272, 'dq': 3273, 'rifle': 3274, 'ee': 3275, 'afp': 3276, 'shitty': 3277, 'sigalert': 3278, 'southbound': 3279, 'btwn': 3280, 'stressed': 3281, 'jail': 3282, '0wratka2jl': 3283, 'regret': 3284, '8th': 3285, 'journey': 3286, 'hurry': 3287, 'hardy': 3288, 'inspection': 3289, 'memphis': 3290, 'folk': 3291, 'thigh': 3292, 'moscow': 3293, 'hall': 3294, 'proceeds': 3295, 'lately': 3296, 'nm': 3297, 'explosive': 3298, 'ohio': 3299, 'nightmare': 3300, 'bunch': 3301, 'shipwreck': 3302, 'reopening': 3303, 'feast': 3304, 'superhero': 3305, 'ûªd': 3306, 'unhappiness': 3307, 'lay': 3308, 'domestic': 3309, 'warm': 3310, 'tflbusalerts': 3311, 'democrat': 3312, 'simply': 3313, 'acting': 3314, 'lighting': 3315, 'bbcnews': 3316, 'controller': 3317, 'designed': 3318, 'vancouver': 3319, 'roanoke': 3320, '300000': 3321, 'verdict': 3322, 'lifetime': 3323, 'hype': 3324, 'swiss': 3325, 'injures': 3326, 'blacklivesmatter': 3327, 'virus': 3328, 'kuwait': 3329, 'chunk': 3330, 'refused': 3331, 'shoot': 3332, 'commit': 3333, 'christ': 3334, 'per': 3335, 'physician': 3336, 'tremor': 3337, 'joke': 3338, '13000': 3339, 'cuban': 3340, 'extends': 3341, 'sympathy': 3342, 'urgent': 3343, 'franklin': 3344, 'jim': 3345, 'xxx': 3346, 'julie': 3347, '1141': 3348, 'enrt': 3349, 'acute': 3350, 'cta': 3351, 'sneak': 3352, 'needle': 3353, 'occurs': 3354, 'growth': 3355, '1976': 3356, 'cue': 3357, 'chewing': 3358, 'tyre': 3359, 'wheel': 3360, 'belt': 3361, 'request': 3362, 'environmental': 3363, 'outflow': 3364, 'pisgah': 3365, 'claytonbryant': 3366, 'artistsunited': 3367, '2008': 3368, 'circuit': 3369, 'anxious': 3370, 'neighborhood': 3371, 'psychological': 3372, 'steal': 3373, 'blowout': 3374, 'jimmyfallon': 3375, 'sand': 3376, 'gmt': 3377, 'julian': 3378, 'moral': 3379, 'faroeislands': 3380, 'dolphin': 3381, 'yep': 3382, 'witness': 3383, 'republic': 3384, 'abandon': 3385, '90blks': 3386, '8whts': 3387, 'colluded': 3388, 'idis': 3389, 'terrifying': 3390, 'joining': 3391, 'mud': 3392, 'celebration': 3393, 'mirage': 3394, 'context': 3395, 'shark': 3396, 'cameron': 3397, '55': 3398, 'brick': 3399, 'tony': 3400, 'showed': 3401, 'capsized': 3402, 'unawares': 3403, 'describes': 3404, 'surah': 3405, 'humaza': 3406, 'reflect': 3407, 'significant': 3408, 'gel': 3409, 'taylor': 3410, 'african': 3411, 'hating': 3412, 'hike': 3413, 'mkx': 3414, 'welfare': 3415, 'key': 3416, 'pulling': 3417, 'scale': 3418, 'columbia': 3419, 'contained': 3420, 'knowing': 3421, 'silent': 3422, 'illinois': 3423, 'skirt': 3424, 'figure': 3425, 'grabber': 3426, 'ûïhatchet': 3427, 'greg': 3428, 'sharethis': 3429, 'visited': 3430, 'backup': 3431, 'fixing': 3432, 'wrap': 3433, 'gordon': 3434, 'mcilroy': 3435, 'hybrid': 3436, 'op': 3437, 'hah': 3438, 'idol': 3439, 'installation': 3440, 'cladding': 3441, 'noah': 3442, 'butt': 3443, 'dame': 3444, 'modiministry': 3445, 'jupiter': 3446, 'speak': 3447, 'ûïrichmond': 3448, 'sassy': 3449, 'hunk': 3450, 'smoky': 3451, 'aoms': 3452, 'ibooklove': 3453, 'bookboost': 3454, 'stacey': 3455, 'elite': 3456, 'cycling': 3457, 'required': 3458, 'saddlebrooke': 3459, 'armory': 3460, 'sf': 3461, 'buying': 3462, 'construction': 3463, 'gamergate': 3464, 'wayne': 3465, 'showcase': 3466, 'vi': 3467, 'roller': 3468, 'fee': 3469, 'background': 3470, 'cedcugeuws': 3471, 'dw': 3472, 'eaten': 3473, 'mnpdnashville': 3474, 'bottle': 3475, 'choose': 3476, 'casual': 3477, 'stylish': 3478, 'aw': 3479, 'warne': 3480, 'shocked': 3481, 'johannesburg': 3482, 'legendary': 3483, 'master': 3484, 'imported': 3485, 'spear': 3486, 'however': 3487, 'trunk': 3488, 'nri': 3489, 'trs': 3490, 'tdp': 3491, 'usnwsgov': 3492, 'nba': 3493, 'constant': 3494, 'annoying': 3495, 'circle': 3496, 'whatever': 3497, 'latimes': 3498, 'instant': 3499, 'matthew': 3500, 'deliver': 3501, 'william': 3502, 'besides': 3503, 'portion': 3504, 'describing': 3505, 'lou': 3506, 'scoopit': 3507, 'rush': 3508, 'onlinecommunities': 3509, 'apollobrown': 3510, '15km': 3511, 'variety': 3512, 'reshapes': 3513, 'baltimore': 3514, 'capital': 3515, 'swarm': 3516, 'barely': 3517, 'threw': 3518, 'gunsense': 3519, 'higher': 3520, 'gear': 3521, 'chat': 3522, 'relationship': 3523, 'adventure': 3524, 'suddenly': 3525, 'accionempresa': 3526, 'gerenciatodos': 3527, 'provide': 3528, 'hampshire': 3529, 'waterway': 3530, 'permanent': 3531, 'sewing': 3532, 'ashley': 3533, 'modi': 3534, 'zero': 3535, 'panel': 3536, 'wheeler': 3537, 'sexy': 3538, 'customer': 3539, 'safely': 3540, 'recycling': 3541, 'existence': 3542, 'britain': 3543, 'honey': 3544, 'landscape': 3545, 'brian': 3546, 'ed': 3547, 'fart': 3548, 'premature': 3549, 'lone': 3550, 'burnt': 3551, 'chernobyl': 3552, 'glorious': 3553, 'minion': 3554, 'occupant': 3555, 'walked': 3556, 'transformation': 3557, 'cafe': 3558, 'now': 3559, 'gilbert23': 3560, 'e8dl1lncvu': 3561, 'hinton': 3562, 'attendance': 3563, 'badge': 3564, 'prone': 3565, 'transfer': 3566, 'virgil': 3567, 'dijk': 3568, 'briefing': 3569, 'nyt': 3570, 'vid': 3571, 'trubgme': 3572, 'dem': 3573, 'creativity': 3574, 'balance': 3575, 'specific': 3576, 'lasting': 3577, 'bronx': 3578, 'initial': 3579, 'voodoo': 3580, 'washingtonpost': 3581, 'ops': 3582, 'oregon': 3583, 'fool': 3584, 'jake': 3585, 'form': 3586, 'grew': 3587, 'older': 3588, 'hillary': 3589, 'snapchat': 3590, 'standing': 3591, 'disgusting': 3592, 'heartless': 3593, 'whipped': 3594, 'ornament': 3595, 'demi': 3596, 'birth': 3597, 'frozen': 3598, 'suppose': 3599, 'satan': 3600, 'kalle': 3601, 'mattson': 3602, 'ne': 3603, 'mentioned': 3604, 'ima': 3605, 'legion': 3606, '1998': 3607, '1620': 3608, 'believing': 3609, 'perspective': 3610, 'sweden': 3611, 'bot': 3612, 'prayer': 3613, 'patriot': 3614, 'brady': 3615, 'gf': 3616, 'nike': 3617, 'outta': 3618, 'newsintweets': 3619, 'patched': 3620, 'exploit': 3621, 'bypass': 3622, 'password': 3623, 'zionism': 3624, 'cargo': 3625, 'yemen': 3626, 'northwest': 3627, 'solve': 3628, '78': 3629, 'kitten': 3630, 'billing': 3631, 'oak': 3632, 'ghost': 3633, 'cryptic': 3634, 'guided': 3635, 'northeast': 3636, 'boko': 3637, 'salmon': 3638, 'application': 3639, 'intersection': 3640, 'alex': 3641, 'frog': 3642, 'camera': 3643, 'dual': 3644, 'unknown': 3645, 'sink': 3646, 'sends': 3647, 'condolence': 3648, 'behalf': 3649, 'partner': 3650, 'matt': 3651, 'locker': 3652, 'dj': 3653, 'peep': 3654, 'wrapup': 3655, 'disappoints': 3656, 'cont': 3657, 'scar': 3658, 'maj': 3659, 'opposition': 3660, 'vision': 3661, 'hunger': 3662, 'camping': 3663, 'recorded': 3664, 'swear': 3665, 'wwi': 3666, 'kurd': 3667, 'tunnel': 3668, 'bore': 3669, 'prediction': 3670, 'ford': 3671, 'spinning': 3672, 'expensive': 3673, 'metrofmtalk': 3674, 'wo': 3675, 'abbott': 3676, 'auspol': 3677, 'goodbye': 3678, 'listenlive': 3679, 'sb': 3680, 'condo': 3681, '2005': 3682, 'swing': 3683, 'harrybecareful': 3684, 'fuckin': 3685, 'thick': 3686, 'contemplating': 3687, 'langley': 3688, 'encouragement': 3689, 'particularly': 3690, 'tape': 3691, 'arriving': 3692, 'bone': 3693, 'weathernetwork': 3694, 'tattoo': 3695, 'donate': 3696, 'zak': 3697, 'bagans': 3698, 'earnings': 3699, 'bowling': 3700, 'meaning': 3701, 'nepal': 3702, 'buried': 3703, 'filled': 3704, 'foxy': 3705, 'fixed': 3706, 'snack': 3707, 'suffered': 3708, 'doc': 3709, 'vest': 3710, 'becoming': 3711, 'minded': 3712, 'soviet': 3713, 'inevitable': 3714, 'declined': 3715, 'slate': 3716, 'architect': 3717, 'grand': 3718, 'headline': 3719, '9nwajli9cr': 3720, 'barackobama': 3721, 'yazidi': 3722, 'critical': 3723, 'possibly': 3724, 'eric': 3725, 'happiness': 3726, 'wee': 3727, 'coral': 3728, 'tale': 3729, '2010': 3730, 'streaming': 3731, 'conquest': 3732, 'hamilton': 3733, 'titan': 3734, 'poster': 3735, 'cad': 3736, 'artist': 3737, 'ag': 3738, 'jacket': 3739, 'goat': 3740, 'voting': 3741, 'attitude': 3742, 'offensiveåêcontent': 3743, 'jon': 3744, 'stewart': 3745, 'nope': 3746, 'metric': 3747, 'mullah': 3748, 'edward': 3749, 'gg': 3750, 'necessary': 3751, 'shock': 3752, 'commute': 3753, 'patch': 3754, 'olive': 3755, '53': 3756, 'finishing': 3757, 'luke': 3758, 'droid': 3759, 'recap': 3760, '109': 3761, 'destroying': 3762, 'leadership': 3763, 'deserves': 3764, 'belonged': 3765, 'attempt': 3766, 'healthcare': 3767, 'radioactive': 3768, 'denier': 3769, 'luis': 3770, 'vampiro': 3771, 'ultimalucha': 3772, 'wnd': 3773, 'inst': 3774, 'apch': 3775, 'rwy': 3776, 'oper': 3777, '2030': 3778, 'taxiway': 3779, 'navbl': 3780, 'tmp': 3781, 'rainfall': 3782, 'ripped': 3783, 'apart': 3784, 'esp': 3785, 'croat': 3786, 'arwx': 3787, 'autumn': 3788, 'vacation': 3789, 'toxic': 3790, 'certificate': 3791, 'aa': 3792, 'volga': 3793, 'sweat': 3794, 'pitcher': 3795, 'uncle': 3796, 'slowly': 3797, 'boyfriend': 3798, 'fraction': 3799, 'healing': 3800, 'surely': 3801, 'infinity': 3802, 'retail': 3803, 'milkshake': 3804, 'armed': 3805, 'belongs': 3806, 'premium': 3807, 'ga': 3808, 'chevy': 3809, 'dept': 3810, '87': 3811, 'scifi': 3812, 'fitness': 3813, 'tidal': 3814, 'cd': 3815, 'gym': 3816, 'crude': 3817, 'regarding': 3818, 'disappearance': 3819, '6th': 3820, 'championship': 3821, 'palin': 3822, 'bb4sp': 3823, 'eh': 3824, 'stressful': 3825, 'formed': 3826, 'workout': 3827, 'basic': 3828, 'grown': 3829, 'auto': 3830, 'favourite': 3831, 'organization': 3832, 'slower': 3833, 'btw': 3834, 'brush': 3835, 'monday': 3836, 'denmark': 3837, 'belly': 3838, 'ut': 3839, 'gopdebate': 3840, 'v3azwoamzk': 3841, 'draco': 3842, 'oral': 3843, 'notification': 3844, 'calum5sos': 3845, 'yahoonews': 3846, 'blanket': 3847, 'knife': 3848, 'procedure': 3849, 'split': 3850, 'davidvonderhaar': 3851, 'slayer': 3852, 'vegetarian': 3853, 'popular': 3854, 'shook': 3855, 'teaching': 3856, 'schiphol': 3857, 'koin6news': 3858, 'log': 3859, 'chris': 3860, 'breathe': 3861, 'invasion': 3862, 'groom': 3863, 'immediately': 3864, 'grove': 3865, 'dock': 3866, 'tie': 3867, 'bangladesh': 3868, 'komen': 3869, 'tied': 3870, 'freezing': 3871, 'robinson': 3872, 'lifting': 3873, 'guest': 3874, 'decade': 3875, 'responded': 3876, 'ûªre': 3877, 'pair': 3878, 'solitude': 3879, 'lived': 3880, 'lrt': 3881, 'yycstorm': 3882, 'violation': 3883, '43rd': 3884, 'boom': 3885, 'boeing': 3886, 'grant': 3887, 'pill': 3888, 'spencer': 3889, 'ev': 3890, 'coat': 3891, 'experienced': 3892, 'concept': 3893, 'hamas': 3894, 'egged': 3895, '361': 3896, 'cecilthelion': 3897, 'amirite': 3898, 'vocal': 3899, 'ik': 3900, 'gunshot': 3901, 'torso': 3902, 'complaint': 3903, 'castle': 3904, 'square': 3905, 'trail': 3906, 'contrast': 3907, 'candy': 3908, 'a': 3909, 'marketing': 3910, '200': 3911, 'poland': 3912, 'anxiety': 3913, 'nbcnews': 3914, 'bash': 3915, 'comparison': 3916, 'nb': 3917, 'bend': 3918, 'fd': 3919, 'prompted': 3920, 'discus': 3921, 'stomach': 3922, 'ooh': 3923, 'carried': 3924, 'cm': 3925, 'marker': 3926, 'declared': 3927, 'removal': 3928, '360': 3929, 'mercury': 3930, 'cobra': 3931, 'nickcannon': 3932, 'realmandyrain': 3933, 'itunesmusic': 3934, 'dehmym5lpk': 3935, 'blowmandyup': 3936, 'entering': 3937, 'turning': 3938, 'lego': 3939, 'christie': 3940, 'foodscare': 3941, 'offers2go': 3942, 'nestleindia': 3943, 'magginoodle': 3944, 'humanconsumption': 3945, 'wide': 3946, 'ryan': 3947, 'nap': 3948, 'dannyonpc': 3949, 'hardline': 3950, 'throwingknifes': 3951, 'beard': 3952, 'sight': 3953, '1200': 3954, 'godslove': 3955, 'thanku': 3956, 'purchase': 3957, 'december': 3958, 'michele': 3959, 'highly': 3960, 'hoping': 3961, 'flaming': 3962, 'croatian': 3963, 'uber': 3964, '15pm': 3965, 'shaking': 3966, 'frontpage': 3967, 'rickperry': 3968, 'ûªll': 3969, 'controlled': 3970, 'justin': 3971, 'lizard': 3972, 'hack': 3973, 'ihhen': 3974, 'forgiven': 3975, 'seemed': 3976, 'laid': 3977, 'ruined': 3978, 'bio': 3979, 'ahh': 3980, 'catching': 3981, 'nazi': 3982, 'agency': 3983, 'latestnews': 3984, 'loses': 3985, 'korea': 3986, 'indonesia': 3987, 'donald': 3988, 'zayn': 3989, 'logic': 3990, 'te': 3991, 'stepped': 3992, 'witter': 3993, 'heal': 3994, 'crown': 3995, 'chicken': 3996, 'bluedio': 3997, 'headset': 3998, 'himalaya': 3999, 'samaritan': 4000, 'shelby': 4001, 'photographer': 4002, 'mentally': 4003, 'johnson': 4004, 'frank': 4005, 'dental': 4006, '5sos': 4007, 'cage': 4008, 'closing': 4009, 'federal': 4010, 'bully': 4011, 'ontario': 4012, 'vip': 4013, 'csx': 4014, 'knoxville': 4015, 'supernatural': 4016, 'connecto': 4017, 'detained': 4018, 'widespread': 4019, 'symphony': 4020, 'billboard': 4021, 'villager': 4022, 'bigamist': 4023, 'detroit': 4024, 'seem': 4025, 'basement': 4026, 'joint': 4027, 'tahoe': 4028, 'sr': 4029, 'cain': 4030, 'guilty': 4031, 'sheriff': 4032, 'vermont': 4033, 'neil': 4034, 'instruction': 4035, 'haiyan': 4036, 'openly': 4037, 'wom': 4038, 'solid': 4039, 'joel': 4040, 'habit': 4041, 'spinningbot': 4042, 'stolen': 4043, 'vladimir': 4044, 'timeline': 4045, 'adding': 4046, 'stats': 4047, 'bother': 4048, 'genuine': 4049, 'favor': 4050, 'devalue': 4051, 'quake': 4052, 'salvation': 4053, 'beware': 4054, 'displace': 4055, 'yugvani': 4056, 'dating': 4057, 'demonstratio': 4058, 'affecting': 4059, 'noaa': 4060, 'looping': 4061, 'undercover': 4062, 'fashionable': 4063, 'mountaineering': 4064, 'leisure': 4065, 'tab': 4066, 'hahaha': 4067, 'longs': 4068, 'garbage': 4069, 'drag': 4070, 'taliban': 4071, 'sorrow': 4072, 'talent': 4073, 'climb': 4074, 'racing': 4075, 'birmingham': 4076, 'fennovoima': 4077, 'chosen': 4078, 'neighbor': 4079, 'cash': 4080, 'desert': 4081, 'shedding': 4082, 'madison': 4083, 'damaging': 4084, 'hug': 4085, 'soccer': 4086, 'abomination': 4087, 'fed': 4088, 'workplace': 4089, 'tinyjecht': 4090, 'dundee': 4091, 'bts': 4092, 'barn': 4093, 'avenue': 4094, 'intact': 4095, 'comedy': 4096, 'fb': 4097, 'tested': 4098, 'survey': 4099, 'beginner': 4100, 'steam': 4101, 'arizona': 4102, 'journalist': 4103, 'experiencing': 4104, 'paris': 4105, 'medieval': 4106, 'stamp': 4107, 'count': 4108, 'gateau': 4109, 'halifax': 4110, 'knight': 4111, 'q': 4112, 'foul': 4113, 'wi': 4114, '41': 4115, 'warcraft': 4116, 'finish': 4117, 'brand': 4118, 'retweet': 4119, 'tooth': 4120, 'i': 4121, 'noticed': 4122, 'mate': 4123, 'ordered': 4124, 'college': 4125, 'fkn': 4126, 'cuff': 4127, 'savebees': 4128, 'impacted': 4129, 'apparent': 4130, 'lover': 4131, 'minaj': 4132, 'blah': 4133, 'registered': 4134, 'yahoo': 4135, 'col': 4136, 'novel': 4137, 'scotland': 4138, 'voluntary': 4139, 'revenue': 4140, 'olap': 4141, 'anna': 4142, 'unavoidable': 4143, 'socialism': 4144, 'bbdpnj8xsx': 4145, '69': 4146, 'foreign': 4147, 'cooler': 4148, 'dealing': 4149, 'charlotte': 4150, 'illustration': 4151, 'icymi': 4152, 'venezuela': 4153, 'transporting': 4154, 'telegraph': 4155, 'darkness': 4156, 'sampling': 4157, 'soak': 4158, 'awaits': 4159, 'pledge': 4160, 'allegiance': 4161, 'trusty': 4162, 'spontaneously': 4163, 'moore': 4164, 'midnight': 4165, 'midget': 4166, 'butterfinger': 4167, 'tuning': 4168, 'tgirl': 4169, 'expose': 4170, 'hypocrisy': 4171, 'fm': 4172, 'newbie': 4173, 'kidnap': 4174, 'rover': 4175, 'acquisition': 4176, 'watertown': 4177, 'announced': 4178, 'irvine': 4179, 'chp': 4180, 'detouring': 4181, 'naked': 4182, 'wce': 4183, 'hysteria': 4184, 'indifference': 4185, 'shutdown': 4186, 'haley': 4187, 'hearthstone': 4188, 'sen': 4189, 'feinstein': 4190, 'doe': 4191, 'hanna': 4192, 'lmfaoooo': 4193, 'oliver': 4194, 'avoided': 4195, 'bobcat': 4196, 'jamesmelville': 4197, 'testimony': 4198, 'promote': 4199, 'journal': 4200, 'surgery': 4201, 'monitoring': 4202, 'spin': 4203, 'globe': 4204, 'rec': 4205, 'destructive': 4206, 'pinpoint': 4207, 'gn': 4208, 'dakota': 4209, 'pounded': 4210, 'peak': 4211, 'dystopian': 4212, 'jealous': 4213, 'pleasure': 4214, 'the': 4215, 'lexi': 4216, 'manutd': 4217, 'jump': 4218, 'available': 4219, 'andy': 4220, 'difference': 4221, 'wattpad': 4222, 'fading': 4223, 'define': 4224, 'draw': 4225, 'selection': 4226, 'vods': 4227, 'peel': 4228, 'male': 4229, 'mississauga': 4230, 'kosciusko': 4231, 'float': 4232, 'puncture': 4233, 'thyzomvwu0': 4234, '83joo0xk29': 4235, 'genius': 4236, 'douchebag': 4237, 'hiker': 4238, 'cab': 4239, 'sterling': 4240, 'greenway': 4241, 'appreciated': 4242, 'vault': 4243, 'gaining': 4244, 'cbs': 4245, 'forbid': 4246, 'lemon': 4247, 'fence': 4248, 'homeowner': 4249, 'idmhswewqw': 4250, 'fans': 4251, 'minimehh': 4252, 'cjoyner': 4253, 'overlooking': 4254, 'alot': 4255, 'inc': 4256, 'actress': 4257, 'locked': 4258, 'andrew': 4259, 'stockton': 4260, 'rossum': 4261, 'fourth': 4262, 'gr': 4263, 'homs': 4264, 'honest': 4265, 'hiroshima70': 4266, 'surrender': 4267, 'sooo': 4268, 'rutherford': 4269, 'spectacular': 4270, 'proxy': 4271, 'fortune': 4272, 'primarily': 4273, 'indoors': 4274, 'stroke': 4275, '65': 4276, 'whoop': 4277, 'spray': 4278, 'politifiact': 4279, 'pant': 4280, 'forex': 4281, 'trading': 4282, 'thegame': 4283, 'barrier': 4284, 'cancelled': 4285, 'penny': 4286, '9000': 4287, 'fiasco': 4288, 'tyler': 4289, 'elkhorn': 4290, 'walerga': 4291, 'reckless': 4292, 'simultaneous': 4293, 'acc': 4294, 'imagined': 4295, 'nato': 4296, 'rap': 4297, 'awareness': 4298, 'ironically': 4299, 'punishment': 4300, 'fnaf': 4301, 'oun': 4302, 'gander': 4303, 'spit': 4304, 'motivation': 4305, 'diarrhea': 4306, 'coursing': 4307, 'weyrey': 4308, 'gidi': 4309, 'ttes': 4310, 'helpline': 4311, 'oso': 4312, 'niall': 4313, 'troy': 4314, 'albany': 4315, 'keratin': 4316, 'brazilian': 4317, 'xoxo': 4318, 'packed': 4319, 'temp': 4320, 'midwest': 4321, 'admit': 4322, 'institute': 4323, 'chairman': 4324, 'j5mkcbkcov': 4325, 'ohh': 4326, 'humble': 4327, 'thu': 4328, 'exacerbated': 4329, 'sketch': 4330, 'laundry': 4331, 'atl': 4332, 'volunteer': 4333, 'unstable': 4334, 'saturated': 4335, 'overload': 4336, 'element': 4337, '7hanpcr5rk': 4338, 'investing': 4339, 'tomlinson': 4340, 'extender': 4341, 'strict': 4342, 'liability': 4343, 'component': 4344, 'aviation': 4345, 'abu': 4346, 'baraa1': 4347, 'bi': 4348, 'fouseytube': 4349, 'hahahah': 4350, 'voted': 4351, 'dems': 4352, 'cart': 4353, 'dm': 4354, 'moderate': 4355, 'dickhead': 4356, 'measles': 4357, 'complication': 4358, 'loos': 4359, 'fortunately': 4360, 'relentless': 4361, 'clock': 4362, 'cockpit': 4363, 'outage': 4364, 'theyre': 4365, 'frontlines': 4366, 'autoinsurance': 4367, 'clueless': 4368, 'ydetwgribk': 4369, 'unrest': 4370, 'defect': 4371, 'phew': 4372, 'snuff': 4373, 'asics': 4374, 'ronnie': 4375, 'fieg': 4376, 'kith': 4377, '3m': 4378, 'throat': 4379, 'bubble': 4380, 'gum': 4381, 'screamqueens': 4382, 'katherine': 4383, 'attraction': 4384, 'excitement': 4385, 'underwater': 4386, 'tor': 4387, 'enhanced': 4388, '58': 4389, 'exposed': 4390, 'btdjgwekqx': 4391, '83': 4392, 'nostalgia': 4393, 'slipped': 4394, 'brunette': 4395, 'tease': 4396, 'homosexuality': 4397, 'firefighting': 4398, 'cite': 4399, 'increasing': 4400, 'anchor': 4401, 'obviously': 4402, 'fleeing': 4403, 'advice': 4404, 'solicitor': 4405, 'nwo': 4406, 'hazmat': 4407, 'skipping': 4408, 'priceless': 4409, '115': 4410, 'exam': 4411, 'kidding': 4412, 'irony': 4413, 'billy': 4414, 'wrapped': 4415, 'rory': 4416, 'payday': 4417, 'vivian': 4418, 'pt': 4419, 'sore': 4420, 'starbucks': 4421, 'snowball': 4422, 'crusty': 4423, 'met': 4424, 'cbplawyers': 4425, '107': 4426, 'nasasolarsystem': 4427, 'bankstown': 4428, 'wattle': 4429, 'novoa': 4430, 'pumpkin': 4431, 'chem': 4432, 'cope': 4433, 'cityofcalgary': 4434, 'c4news': 4435, 'wilshere': 4436, 'popularmmos': 4437, 'coaster': 4438, 'thirst': 4439, 'seal': 4440, 'revelation': 4441, 'claimed': 4442, 'travelling': 4443, 'victoria': 4444, 'missionhills': 4445, 'spaniel': 4446, 'devil': 4447, 'dignity': 4448, 'topstories': 4449, 'addiction': 4450, 'ûïstretcher': 4451, 'yonews': 4452, 'proud': 4453, 'tiger': 4454, 'thankful': 4455, 'sided': 4456, 'linerless': 4457, 'thief': 4458, 'stole': 4459, 'fled': 4460, 'scwx': 4461, 'ani': 4462, 'lwwojxttiv': 4463, 'prez': 4464, 'maker': 4465, 'sponsor': 4466, 'changing': 4467, 'zarry': 4468, 'hermancranston': 4469, 'hiphop': 4470, 'indie': 4471, 'fest': 4472, 'selling': 4473, 'philadelphia': 4474, 'premonition': 4475, 'iikssjgbdn': 4476, 'trophy': 4477, 'diego': 4478, 'allegation': 4479, 'holmgren': 4480, '96': 4481, 'hottest': 4482, 'ovofest': 4483, 'ovo': 4484, 'amageddon': 4485, 'freespeech': 4486, 'nrc': 4487, 'motion': 4488, '9pm': 4489, 'scandal': 4490, 'expense': 4491, 'cried': 4492, 'pot': 4493, 'atlantic': 4494, 'gtfo': 4495, 'reshape': 4496, 'mineral': 4497, 'cindy': 4498, 'noonan': 4499, 'cindynoonan': 4500, 'heartbreak': 4501, 'yahistorical': 4502, 'undergroundrailraod': 4503, 'ant': 4504, 'solo': 4505, 'anyname': 4506, 'impulse': 4507, 'inevitably': 4508, 'awwww': 4509, 'earned': 4510, 'xb1': 4511, 'unique': 4512, 'quarrel': 4513, 'krefeld': 4514, 'breathing': 4515, 'missile': 4516, 'collective': 4517, 'exercised': 4518, 'cfc': 4519, 'rihanna': 4520, 'bull': 4521, 'sputnik': 4522, 'jasmine': 4523, 'explodes': 4524, 'equate': 4525, 'blackpool': 4526, 'kowing': 4527, 'beclearoncancer': 4528, 'mania': 4529, 'achimota': 4530, '233liveonline': 4531, 'io7kuug1uq': 4532, 'atk': 4533, 'letsfootball': 4534, 'skanndtyagi': 4535, 'guatemala': 4536, 'mc': 4537, 'arsonistmusic': 4538, 'c1h7jecfrv': 4539, 'royalcarribean': 4540, 'narendramodi': 4541, 'showing': 4542, 'pileup': 4543, 'drool': 4544, 'fragile': 4545, 'approves': 4546, 'association': 4547, 'slam': 4548, 'cc': 4549, 'automation': 4550, 'infectious': 4551, 'bitcoin': 4552, 'unnecessary': 4553, 'acquire': 4554, 'addition': 4555, 'perquisite': 4556, '1916': 4557, 'continually': 4558, 'maintain': 4559, 'friendly': 4560, '039': 4561, 'software': 4562, 'logistics': 4563, 'tlc': 4564, 'bummer': 4565, '1a': 4566, '5c': 4567, 'åç': 4568, 'edyfo6e2pu': 4569, 'm5kxlpkfa1': 4570, 'atmosphere': 4571, 'boring': 4572, 'shaw': 4573, 'autobiography': 4574, 'lawton': 4575, 'collins': 4576, 'sheeran': 4577, 'gallipoli': 4578, 'ml': 4579, 'jumped': 4580, 'sharing': 4581, 'instantly': 4582, '1600': 4583, 'luka': 4584, 'alois': 4585, 'trancy': 4586, 'arnhem': 4587, 'april': 4588, 'pyehwodwun': 4589, 'exterminate': 4590, 'losdelsonido': 4591, 'ivanberroa': 4592, '3x': 4593, '2012': 4594, 'steak': 4595, 'freaking': 4596, 'dreaming': 4597, 'ori': 4598, 'defendant': 4599, 'chose': 4600, 'phase': 4601, 'dancer': 4602, 'gmmbc': 4603, 'inspiring': 4604, 'compete': 4605, 'treasure': 4606, 'drain': 4607, 'pvmr38lnva': 4608, 'unto': 4609, '163': 4610, 'trash': 4611, 'completed': 4612, 'doublecups': 4613, 'lfkmtzaekk': 4614, 'prod': 4615, 'thisizbwright': 4616, 'porridge': 4617, '27w': 4618, 'utv': 4619, 'hahah': 4620, 'invited': 4621, 'feelin': 4622, 'evacuating': 4623, 'confirmation': 4624, 'approaching': 4625, 'truelove': 4626, 'lith': 4627, 'seduction': 4628, 'astrology': 4629, 'rtrrt': 4630, 'lotz': 4631, 'wipp': 4632, 'wwe': 4633, '2k15': 4634, 'quoted': 4635, 'gridlock': 4636, 'adam': 4637, 'cmon': 4638, 'greek': 4639, 'climatechange': 4640, 'comp': 4641, 'vessel': 4642, 'invest': 4643, 'committed': 4644, 'rspca': 4645, 'smart': 4646, 'californian': 4647, 'greedy': 4648, '15th': 4649, 'ferrell': 4650, 'acoustic': 4651, 'earbuds': 4652, 'nbc': 4653, 'brigade': 4654, 'exercise': 4655, 'insult': 4656, 'fold': 4657, 'disappeared': 4658, 'grandeur': 4659, '7a': 4660, 'sudden': 4661, 'thy': 4662, 're': 4663, '60mph': 4664, 'begging': 4665, 'versethe': 4666, 'scout': 4667, 'clown': 4668, 'hood': 4669, 'mg5eajelul': 4670, 'featured': 4671, 'delo': 4672, 'scuf': 4673, 'professional': 4674, 'touched': 4675, 'nut': 4676, 'cherokee': 4677, 'lawsuit': 4678, 'hacker': 4679, 'chilling': 4680, 'britishbakeoff': 4681, 'shaped': 4682, 'somewhere': 4683, 'thrown': 4684, 'anonymous': 4685, 'marin': 4686, 'josh': 4687, 'discussion': 4688, 'encore': 4689, 'cheat': 4690, 'ell': 4691, 'km': 4692, '46': 4693, 'sportwatch': 4694, 'nikeplus': 4695, 'kiev': 4696, 'technica': 4697, 'reopen': 4698, 'settle': 4699, 'torture': 4700, 'pomo': 4701, 'dydfvz7amj': 4702, 'gofundme': 4703, '60000': 4704, 'parade': 4705, 'intelligence': 4706, 'regard': 4707, 'restive': 4708, 'kelly': 4709, 'lapse': 4710, 'boise': 4711, 'freshman': 4712, 'reef': 4713, 'decent': 4714, 'favs': 4715, 'setlist': 4716, 'rapidcity': 4717, 'cheyenne': 4718, 'uptown': 4719, 'martinmj22': 4720, 'yougov': 4721, 'zimbabwe': 4722, 'fi': 4723, 'sequel': 4724, 'southdowns': 4725, 'treeporn': 4726, 'londonfire': 4727, 'thankfully': 4728, 'mufc': 4729, 'downpour': 4730, 'magisters': 4731, 'dwarf': 4732, 'banquet': 4733, 'elizabeth': 4734, 'gpm': 4735, 'bullseye': 4736, 'deadliest': 4737, '38': 4738, 'strain': 4739, 'pp': 4740, 'outlet': 4741, 'aogashima': 4742, 'emsc': 4743, 'eastbound': 4744, 'freeway': 4745, 'raì¼l': 4746, 'alexis': 4747, 'requiring': 4748, 'retract': 4749, 'wordpressdotcom': 4750, 'murfreesboro': 4751, 'growing': 4752, 'wocowae': 4753, 'ushed': 4754, 'shout': 4755, 'traverse': 4756, 'smooth': 4757, 'closest': 4758, 'okinawa': 4759, '10km': 4760, 'circus': 4761, 'serve': 4762, 'condemnation': 4763, 'temptation': 4764, 'pointing': 4765, 'dryer': 4766, 'horn': 4767, 'turkmen': 4768, 'ignored': 4769, 'mchenry': 4770, 'kraft': 4771, 'theological': 4772, 'downfall': 4773, 'attic': 4774, '98': 4775, 'austin': 4776, 'lyric': 4777, 'loading': 4778, '49': 4779, '56': 4780, 'tee': 4781, 'dlh': 4782, 'november': 4783, 'zdtoyd8ebj': 4784, 'kanye': 4785, 'repay': 4786, 'dutton': 4787, 'lnp': 4788, 'pirate': 4789, 'sony': 4790, 'tower': 4791, 'vanuatu': 4792, 'afmkcfn1tl': 4793, 'poorly': 4794, 'escaping': 4795, 'halt': 4796, 'vibez': 4797, 'pdx911': 4798, 'waking': 4799, 'salty': 4800, 'metlife': 4801, 'enroute': 4802, 'exhausted': 4803, 'katrina': 4804, 'wowo': 4805, 'followback': 4806, 'iron': 4807, 'fist': 4808, 'coping': 4809, 'wealthy': 4810, 'loretta': 4811, 'realtime': 4812, 'debatequestionswewanttohear': 4813, 'billneelynbc': 4814, 'routecomplex': 4815, 'corp': 4816, 'package': 4817, 'mariah': 4818, 'efak': 4819, 'despair': 4820, 'goulburn': 4821, 'henry': 4822, 'kindly': 4823, 'ghostwriter': 4824, 'illness': 4825, '0l': 4826, 'distinct': 4827, 'mercados': 4828, 'attractive': 4829, 'receive': 4830, 'gettin': 4831, 'mouth': 4832, 'upwards': 4833, 'latin': 4834, 'dummy': 4835, 'sail': 4836, 'chip': 4837, 'helsinki': 4838, 'epidemic': 4839, 'ri': 4840, 'portugal': 4841, 'shelli': 4842, 'impending': 4843, 'lebanon': 4844, 'pan': 4845, 'knob': 4846, 'outbid': 4847, 'ab': 4848, 'headquarters': 4849, 'raider': 4850, 'fantasticfour': 4851, 'recording': 4852, 'm203ul6o7p': 4853, 'shia': 4854, 'cleric': 4855, 'sdgoutwntb': 4856, 'diaporama': 4857, 'sixpenceee': 4858, 'located': 4859, 'volcanoåêinåêrussia': 4860, 'corleonedaboss': 4861, 'costly': 4862, 'diplomacy': 4863, 'greatbritishbakeoff': 4864, 'empire': 4865, 'tanzania': 4866, 'census': 4867, 'gravel': 4868, 'wine': 4869, 'various': 4870, 'fluid': 4871, 'optic': 4872, 'sheer': 4873, 'disappear': 4874, 'atmospheric': 4875, 'newz': 4876, 'cheap': 4877, 'yelling': 4878, 'nuff': 4879, '7p': 4880, 'medal': 4881, 'ptsdchat': 4882, 'norman': 4883, 'najib': 4884, 'bethlehem': 4885, 'treating': 4886, 'syndrome': 4887, 'trek': 4888, 'wen': 4889, 'net': 4890, 'tory': 4891, 'superstition': 4892, 'vietnamese': 4893, 'messed': 4894, 'scottwalker': 4895, 'typical': 4896, 'protecting': 4897, 'tak': 4898, 'mandatory': 4899, 'cape': 4900, 'mock': 4901, 'kinder': 4902, 'cee': 4903, 'transformed': 4904, 'minhazmerchant': 4905, 'nda': 4906, 'ã': 4907, 'sandy': 4908, 'auckland': 4909, 'northland': 4910, 'battered': 4911, 'ipod': 4912, 'unprecedented': 4913, 'disorder': 4914, 'wannabe': 4915, 'pickup': 4916, 'diamorfiend': 4917, 'mole': 4918, 'delta': 4919, 'leaked': 4920, 'announces': 4921, 'marquei': 4922, 'como': 4923, 'visto': 4924, 'bancodeseries': 4925, 'samel': 4926, 'wpri': 4927, 'escaped': 4928, 'examiner': 4929, 'oneself': 4930, 'inch': 4931, 'roger': 4932, 'struggling': 4933, 'jonvoyage': 4934, 'jones94kyle': 4935, 'sake': 4936, 'deed': 4937, 'pcp': 4938, 'suh': 4939, 'starving': 4940, 'predator': 4941, 'ky': 4942, 'adoption': 4943, 'cared': 4944, 'noted': 4945, 'district': 4946, 'niagara': 4947, 'blonde': 4948, 'westeros': 4949, 'throne': 4950, 'thurs': 4951, 'saku': 4952, 'boi': 4953, 'applaud': 4954, 'jedi': 4955, 'hasbro': 4956, 'medicine': 4957, 'dopey': 4958, 'ssw': 4959, 'anza': 4960, 'tomato': 4961, 'raw': 4962, 'timkaine': 4963, 'mobile': 4964, 'baruch': 4965, 'goldstein': 4966, 'kodiak': 4967, 'prepares': 4968, 'display': 4969, '582': 4970, 'chick': 4971, 'meg': 4972, 'administration': 4973, 'rmg': 4974, 'cracking': 4975, 'capitalism': 4976, 'abusing': 4977, 'obispo': 4978, 'abc7': 4979, 'renison': 4980, 'tasmania': 4981, 'tin': 4982, 'rcmp': 4983, 'tch': 4984, 'whitbourne': 4985, 'shocking': 4986, 'wod': 4987, 'hardcore': 4988, 'rb': 4989, 'lance': 4990, 'dunbar': 4991, '106': 4992, '1061thetwister': 4993, 'luchaunderground': 4994, 'facing': 4995, '030': 4996, 'cld': 4997, '4km': 4998, 'interlaken': 4999, 'michelebachman': 5000, 'firey': 5001, 'inferno': 5002, 'accept': 5003, 'globalwarming': 5004, 'bundle': 5005, 'vicinity': 5006, 'cannon': 5007, 'japton': 5008, '405': 5009, 'removed': 5010, 'jewelry': 5011, '45pm': 5012, 'tix': 5013, 'fury': 5014, '103': 5015, 'mgm': 5016, 'reacted': 5017, 'tepco': 5018, 'hamburg': 5019, 'deny': 5020, 'mechanical': 5021, 'retro': 5022, 'bright': 5023, 'cloudy': 5024, 'creates': 5025, 'ethereal': 5026, 'willian': 5027, 'basically': 5028, 'anyways': 5029, 'tim': 5030, 'yankee': 5031, 'aunt': 5032, 'greenharvard': 5033, 'bruise': 5034, 'rotten': 5035, 'difficulty': 5036, 'exited': 5037, 'ouvindo': 5038, 'equally': 5039, 'emerges': 5040, 'evolve': 5041, 'nankana': 5042, 'sahib': 5043, 'correspondent': 5044, 'ct': 5045, 'ûïyou': 5046, 'chevrolet': 5047, 'wd': 5048, 'itsjustinstuart': 5049, 'tokyo': 5050, 'garfield': 5051, 'marketforce': 5052, 'winner': 5053, 'recreates': 5054, 'clever': 5055, 'plastic': 5056, 'pattonoswalt': 5057, 'freestyle': 5058, 'arena': 5059, 'sep': 5060, 'canoe': 5061, 'pickle': 5062, 'bago': 5063, 'summit': 5064, 'spilled': 5065, '140': 5066, 'brighton': 5067, 'questioning': 5068, 'celtic': 5069, 'improvement': 5070, 'plenty': 5071, 'giveaway': 5072, 'dirk': 5073, 'dope': 5074, 'fierce': 5075, 'aspect': 5076, 'matching': 5077, 'produce': 5078, 'piner': 5079, 'horndale': 5080, 'mcdonalds': 5081, 'suit': 5082, 'denali': 5083, '2007': 5084, 'reinstate': 5085, 'buffer': 5086, 'protectdenaliwolves': 5087, 'gambit': 5088, 'suruì': 5089, 'photoset': 5090, 'premiere': 5091, 'basis': 5092, 'delusion': 5093, 'justifying': 5094, 'justified': 5095, 'tragic': 5096, 'riding': 5097, 'beck': 5098, 'arnley': 5099, '158': 5100, 'insight': 5101, 'cyber': 5102, 'samanthaturne19': 5103, '9newsgoldcoast': 5104, '1986': 5105, '2016': 5106, 'cafire': 5107, 'countless': 5108, 'uh': 5109, 'elbow': 5110, 'boxing': 5111, 'plummeted': 5112, '72w': 5113, 'alloy': 5114, 'notley': 5115, 'slave': 5116, 'bump': 5117, 'approval': 5118, 'function': 5119, '124': 5120, 'placed': 5121, 'talkin': 5122, 'aust': 5123, 'catfish': 5124, 'retweeted': 5125, 'extensive': 5126, 'vaccine': 5127, 'handle': 5128, 'punjab': 5129, '1943': 5130, 'shira': 5131, 'paved': 5132, 'depressing': 5133, 'barack': 5134, '23km': 5135, 'twentynine': 5136, 'whistle': 5137, 'rockbottomradfm': 5138, 'brock': 5139, 'dolce': 5140, 'brooke': 5141, 'leeds': 5142, 'overtime': 5143, 'ps4': 5144, 'pendleton': 5145, 'backpack': 5146, 'rudd': 5147, 'reflects': 5148, 'hanneman': 5149, 'torching': 5150, 'guaranteed': 5151, 'aq': 5152, 'diff': 5153, 'iraqi': 5154, 'mì¼sica': 5155, 'correct': 5156, 'thirsty': 5157, 'cnnbrk': 5158, 'beauty': 5159, 'magazine': 5160, 'possibility': 5161, 'delete': 5162, 'salvi': 5163, 'bistro': 5164, 'sell': 5165, 'iconic': 5166, 'skyline': 5167, 'appointment': 5168, 'flashback': 5169, 'homie': 5170, 'doll': 5171, 'seed': 5172, 'june': 5173, 'sweater': 5174, 'nv': 5175, 'unfortunately': 5176, 'advanced': 5177, 'walter': 5178, 'zippednews': 5179, 'ay': 5180, 'whoa': 5181, 'squeeze': 5182, 'dante': 5183, 'hoped': 5184, 'edge': 5185, 'tutor': 5186, 'medic': 5187, 'pharaoh': 5188, '4playthursdays': 5189, 'everybody': 5190, '1716': 5191, 'darkest': 5192, 'stu': 5193, 'resulting': 5194, 'wb': 5195, 'loseit': 5196, 'rick': 5197, 'assisting': 5198, 'underwriter': 5199, 'product': 5200, 'nj': 5201, 'bradleybrad47': 5202, 'extension': 5203, 'mil': 5204, 'ki': 5205, 'eysvvza7qm': 5206, 'colder': 5207, 'wrist': 5208, 'juror': 5209, 'ma': 5210, 'bastard': 5211, 'tesla': 5212, 'firework': 5213, 'forth': 5214, 'gorgeous': 5215, 'socialmedia': 5216, 'realised': 5217, 'roh3': 5218, 'meteoearth': 5219, 'mfckpvzfv8': 5220, '30a': 5221, 'rioter': 5222, 'admin': 5223, 'snd': 5224, 'woodlawn': 5225, 'triumph': 5226, 'kindness': 5227, 'doug': 5228, 'any1': 5229, 'coil': 5230, 'junk': 5231, '5sosfam': 5232, 'acdelco': 5233, '213': 5234, 'rice': 5235, 'hardly': 5236, 'tumblr': 5237, 'aquarium': 5238, 'sailing': 5239, 'destroyer': 5240, 'decor': 5241, 'netanyahu': 5242, 'legio': 5243, 'thee': 5244, 'waist': 5245, 'caesar': 5246, 'actor': 5247, '1999': 5248, '2000': 5249, 'suruc': 5250, 'commonwealth': 5251, 'investigate': 5252, 'tunein': 5253, 'xssgedsbh4': 5254, 'enabled': 5255, 'fri': 5256, 'hush': 5257, 'gi': 5258, 'assistant': 5259, 'lindsay': 5260, 'troll': 5261, 'pol': 5262, 'bolster': 5263, 'journalism': 5264, 'pony': 5265, 'punch': 5266, 'upgraded': 5267, 'bicep': 5268, 'jonathanferrell': 5269, 'unrelenting': 5270, 'slammed': 5271, 'architecture': 5272, 'sewer': 5273, 'aria': 5274, 'ahrary': 5275, 'thetawniest': 5276, 'troubling': 5277, 'tc': 5278, 'infosec': 5279, 'listing': 5280, 'fir': 5281, 'fran': 5282, '38pm': 5283, 'micom': 5284, 'def': 5285, 'con': 5286, 'asf': 5287, 'ironic': 5288, 'liberal': 5289, 'vantage': 5290, 'shouting': 5291, 'sept': 5292, 'ccot': 5293, 'saint': 5294, 'magner': 5295, 'negro': 5296, 'hannaph': 5297, 'downstairs': 5298, 'telly': 5299, 'advised': 5300, 'whitehouse': 5301, 'invaded': 5302, 'removing': 5303, 'spell': 5304, 'typo': 5305, 'tita': 5306, 'vida': 5307, 'generational': 5308, 'mmmmmm': 5309, 'oooooohhhh': 5310, 'oooh': 5311, 'bengal': 5312, 'mamata': 5313, 'banerjee': 5314, 'dvc': 5315, 'furious': 5316, 'rainier': 5317, 'mooresville': 5318, 'iredell': 5319, 'grass': 5320, 'applies': 5321, 'weakening': 5322, 'lubbock': 5323, 'schwarber': 5324, 'screw': 5325, 'opp': 5326, 'megynkelly': 5327, 'wcw': 5328, 'tha': 5329, '1970': 5330, 'moulding': 5331, '429cj': 5332, 'cowboy': 5333, 'windy': 5334, '10pm': 5335, 'purchased': 5336, 'affiliation': 5337, 'johnny': 5338, 'preservation': 5339, 'dressed': 5340, 'candle': 5341, 'shaker': 5342, 'is2idc3ubj': 5343, 'athlete': 5344, 'principle': 5345, 'themagickidraps': 5346, 'executing': 5347, 'potentially': 5348, 'hmu': 5349, 'faceless': 5350, 'trinity': 5351, 'everytime': 5352, 'pressed': 5353, 'exciting': 5354, 'uoozxaus26': 5355, 'msnbc': 5356, 'aggressive': 5357, 'elsa': 5358, 'buck': 5359, 'dove': 5360, 'prom': 5361, 'pancake': 5362, 'drifting': 5363, 'forsure': 5364, 'carpet': 5365, 'liable': 5366, 'ron': 5367, 'agrees': 5368, 'shooter': 5369, 'progressive': 5370, 'ud': 5371, 'ypres': 5372, 'sj': 5373, 'native': 5374, 'threaten': 5375, 'core': 5376, 'apt': 5377, 'pivot': 5378, 'march': 5379, 'pulwama': 5380, 'foxnew': 5381, 'coverage': 5382, 'que': 5383, 'bieber': 5384, 'cement': 5385, 'european': 5386, 'coyote': 5387, 'pb': 5388, 'penn': 5389, 'rotation': 5390, 'personnel': 5391, 'etisalat': 5392, 'neck': 5393, 'firetruck': 5394, 'handed': 5395, 'hella': 5396, 'tj': 5397, 'newberg': 5398, 'jacque': 5399, 'betz': 5400, 'busy': 5401, 'slicker': 5402, 'golem': 5403, 'graveyard': 5404, 'household': 5405, 'rohnertparkdps': 5406, 'paid': 5407, 'income': 5408, '06jst': 5409, '12news': 5410, 'housed': 5411, '90th': 5412, 'osborn': 5413, 'extinguished': 5414, 'durban': 5415, 'phixznv1yn': 5416, 'elderly': 5417, 'weakness': 5418, 'arrestpastornganga': 5419, 'worrying': 5420, 'disruptive': 5421, 'i405': 5422, 'fella': 5423, 'geyser': 5424, 'striking': 5425, 'strongly': 5426, 'stack': 5427, 'hiding': 5428, 'eurotunnel': 5429, 'sto': 5430, 'ekiti': 5431, 'distributed': 5432, 'askcharley': 5433, 'malik': 5434, 'ameenshaikh3': 5435, 'elliott': 5436, 'abia': 5437, 'inec': 5438, 'react': 5439, 'lollapalooza': 5440, 'alexbelloli': 5441, 'denial': 5442, 'sniping': 5443, 'newswatch': 5444, 'lansdowne': 5445, 'sts': 5446, 'ptbo': 5447, 'emerg': 5448, 'brief': 5449, 'pllolz': 5450, 'helene': 5451, 'ntsb': 5452, 'rightways': 5453, 'testing': 5454, 'vz1irh0nmm': 5455, 'rightwaystan': 5456, 'glimpse': 5457, 'hyderabad': 5458, 'fdny': 5459, 'coincide': 5460, 'raung': 5461, 'saturn': 5462, 'peacefully': 5463, 'important': 5464, 'insubcontinent': 5465, 'electricity': 5466, 'remix': 5467, 'briton': 5468, 'pmharper': 5469, 'isil': 5470, 'rio': 5471, 'sustainability': 5472, 'task': 5473, 'preparing': 5474, 'bean': 5475, 'command': 5476, 'blizzheroes': 5477, 'diablo': 5478, 'themed': 5479, 'llf': 5480, 'spreading': 5481, 'fallacy': 5482, 'dropping': 5483, 'anellatulip': 5484, 'dedicated': 5485, 'tourist': 5486, 'finding': 5487, 'throughout': 5488, 'muzzamil': 5489, 'offr': 5490, 'nosurrender': 5491, 'shes': 5492, 'epicenter': 5493, 'asks': 5494, 'programme': 5495, 'shania': 5496, 'consent': 5497, 'nmfsgkf1za': 5498, 'lee': 5499, 'emperor': 5500, 'psa': 5501, 'generalnews': 5502, 'motorcraft': 5503, 'wpt': 5504, 'atm': 5505, 'megadeth': 5506, 'placing': 5507, 's2g': 5508, 'regional': 5509, 'regime': 5510, 'endorses': 5511, 'oth': 5512, 'smiling': 5513, 'elijah': 5514, 'lit': 5515, 'engineer': 5516, 'phil': 5517, 'titanic': 5518, 'indi': 5519, 'indiannews': 5520, 'buff': 5521, 'fifty': 5522, 'kendall': 5523, 'jenner': 5524, 'gd': 5525, '1979': 5526, 'flawless': 5527, 'responding': 5528, 'younger': 5529, 'era': 5530, 'batting': 5531, 'njturnpike': 5532, 'wftv': 5533, 'tn': 5534, 'whomever': 5535, 'visibility': 5536, 'lawrence': 5537, 'mutant': 5538, 'sweep': 5539, 'incredibly': 5540, 'cruise': 5541, 'del': 5542, 'tumbling': 5543, 'heel': 5544, 'console': 5545, 'loaded': 5546, 'anthony': 5547, 'peterjukes': 5548, 'scariest': 5549, 'stuns': 5550, 'milwaukee': 5551, 'skqpwsnoin': 5552, 'offramp': 5553, 'ct9ejxolpu': 5554, 'cocaine': 5555, 'heroine': 5556, 'shizune': 5557, 'corey': 5558, 'innovation': 5559, 'strip': 5560, 'explain': 5561, 'sounding': 5562, 'license': 5563, 'scorpion': 5564, '1974': 5565, 'sanctioned': 5566, 'roi2nsmejj': 5567, '3tj8zjin21': 5568, 'yduixefipe': 5569, 'lxtjc87kls': 5570, 'ethiopian': 5571, 'salvadoran': 5572, 'opera': 5573, 'bail': 5574, 'venice': 5575, 'pkwy': 5576, 'kashmir': 5577, 'saf9mosksn': 5578, 'carlos': 5579, '4th': 5580, 'cub': 5581, 'roster': 5582, 'managed': 5583, 'wud': 5584, 'talkradio': 5585, 'dorman': 5586, '917': 5587, 'eastward': 5588, 'jersey': 5589, 'soft': 5590, 'careless': 5591, 'campfire': 5592, 'bloomberg': 5593, 'contain': 5594, 'stout': 5595, 'njd28pg9xv': 5596, 'supply': 5597, 'refund': 5598, 'strengthening': 5599, 'partnership': 5600, 'livelihood': 5601, 'avenger': 5602, 'technique': 5603, 'teeth': 5604, 'publicizing': 5605, 'poem': 5606, 'rained': 5607, 'rapping': 5608, 'exhibition': 5609, 'presence': 5610, 'stronger': 5611, 'summertime': 5612, '540': 5613, 'traveling': 5614, 'absolute': 5615, 'reagan': 5616, 'grrrr': 5617, 'evanston': 5618, 'sturgis': 5619, 'kotaweather': 5620, 'blueprint': 5621, 'impressive': 5622, 'stormchase': 5623, 'ef': 5624, '3sicroaanz': 5625, 'i27oa0hisp': 5626, 'newyorker': 5627, 'pissed': 5628, 'patna': 5629, 'conservative': 5630, 'cherry': 5631, 'mistreated': 5632, 'lionel': 5633, 'locomotive': 5634, 'mosquito': 5635, 'grain': 5636, 'a1': 5637, 'attempting': 5638, 'endangered': 5639, 'specie': 5640, 'dye': 5641, 'caribbean': 5642, 'friggin': 5643, 'temperature': 5644, 'expand': 5645, 'jamaicaobserver': 5646, 'cnewslive': 5647, 'mischief': 5648, 'trace': 5649, 'electro': 5650, 'comingsoon': 5651, 'ks94': 5652, 'digital': 5653, 'rat': 5654, 'sunshine': 5655, 'ripple': 5656, 'compound': 5657, '1880': 5658, 'dmpl': 5659, 'cameo': 5660, 'rev': 5661, 'taught': 5662, 'homeland': 5663, 'bn': 5664, 'exc': 5665, 'editorial': 5666, 'bearer': 5667, 'whose': 5668, 'insomnia': 5669, 'uploading': 5670, 'vgbootcamp': 5671, 'sn': 5672, 'vabengal': 5673, 'mina': 5674, 'ke': 5675, 'ari': 5676, 'hint': 5677, 'mutual': 5678, 'bal': 5679, 'develop': 5680, 'coworker': 5681, '37': 5682, 'logan': 5683, 'cyprus': 5684, 'rank': 5685, 'push': 5686, 'chattanooga': 5687, 'thuggin': 5688, 'inmate': 5689, 'jason': 5690, 'hahahaha': 5691, 'lolol': 5692, '125': 5693, 'phantom': 5694, 'protesting': 5695, 'ruebs': 5696, 'endures': 5697, '4500': 5698, 'videoveranomtv': 5699, 'warrior': 5700, 'donation': 5701, 'thyroid': 5702, 'incase': 5703, 'pmarca': 5704, 'pertains': 5705, 'fur': 5706, 'lifestyle': 5707, 'bg': 5708, 'entrepreneur': 5709, 'antonio': 5710, 'worldwide': 5711, 'contributing': 5712, 'njenga': 5713, 'razing': 5714, 'pjnet': 5715, 'cbsbigbrother': 5716, 'envw98': 5717, 'nickcocofree': 5718, 'juliedicaro': 5719, 'jdabe80': 5720, 'whatsapp': 5721, 'xv': 5722, 'meekmill': 5723, 'crippling': 5724, 'cgf61fpmr0': 5725, 'naval': 5726, 'meinlcymbals': 5727, 'xpfmr368uf': 5728, 'permanently': 5729, 'chronicle': 5730, '64': 5731, 'siding': 5732, 'artificial': 5733, 'relive': 5734, 'civilization': 5735, 'inciweb': 5736, 'rogue': 5737, 'siskiyou': 5738, 'nick': 5739, 'i580': 5740, 'northwestern': 5741, 'dothraki': 5742, 'dhs': 5743, 'dumb': 5744, 'exclusive': 5745, 'wildhorses': 5746, 'brut': 5747, 'katunews': 5748, 'liveonk2': 5749, 'duke': 5750, 'squirrel': 5751, 'vince': 5752, 'mcmahon': 5753, 'billionaire': 5754, 'sponge': 5755, 'mishacollins': 5756, '9am': 5757, 'camper': 5758, 'eudrylantiqua': 5759, 'po19h8ycnd': 5760, 'm4': 5761, 'nnw': 5762, 'sheet': 5763, '208': 5764, '267': 5765, '6773': 5766, 'pa': 5767, 'thisiswhywecanthavenicethings': 5768, 'fte': 5769, 'legislation': 5770, 'labour': 5771, 'danisnotonfire': 5772, 'fairfax': 5773, '1023': 5774, 'enormous': 5775, 'prevention': 5776, 'wielding': 5777, 'spur': 5778, 'bread': 5779, 'mohammed': 5780, 'bestseller': 5781, 'maketh': 5782, 'ac': 5783, 'uranium': 5784, 'laois': 5785, 'advertised': 5786, 'gawx': 5787, 'khan': 5788, 'flow': 5789, 'britney': 5790, 'rey': 5791, '1965': 5792, 'gary': 5793, 'pundit': 5794, '3942': 5795, 'fez': 5796, 'poplar': 5797, 'chan': 5798, 'beneath': 5799, 'nhl': 5800, 'asylum': 5801, 'seeker': 5802, 'contruction': 5803, 'upgrading': 5804, 'vashon': 5805, 'mukilteo': 5806, 'upgrade': 5807, 'montetjwitter11': 5808, 'that': 5809, 'organic': 5810, 'commerce': 5811, 'heroin': 5812, 'addict': 5813, 'throwback': 5814, 'vice': 5815, 'knocking': 5816, 'swept': 5817, 'cosponsor': 5818, '928': 5819, 'renew911health': 5820, 'fema': 5821, 'daesh': 5822, 'miyagi': 5823, 'exposure': 5824, 'targeted': 5825, 'holed': 5826, 'glenn': 5827, 'nostril': 5828, 'wfp': 5829, 'ipad': 5830, 'jp': 5831, 'fevwarrior': 5832, 'kissed': 5833, 'curiosity': 5834, 'snake': 5835, '800': 5836, 'soo': 5837, 'pakpattan': 5838, 'simulation': 5839, 'marquis': 5840, 'accustomed': 5841, 'safari': 5842, 'hockey': 5843, 'bakeofffriends': 5844, 'concluded': 5845, 'cairo': 5846, 'vital': 5847, 'goku': 5848, 'cartoon': 5849, 'witch': 5850, 'brewing': 5851, 'improve': 5852, 'demonstration': 5853, 'standwithpp': 5854, 'raised': 5855, 'faulty': 5856, 'concrete': 5857, '61st': 5858, 'calumet': 5859, 'psalm': 5860, 'redeemeth': 5861, 'servant': 5862, 'connection': 5863, 'microphone': 5864, 'winning': 5865, 'studio': 5866, 'proper': 5867, 'delayed': 5868, 'lift': 5869, 'glided': 5870, 'handling': 5871, 'surrounding': 5872, 'esteemed': 5873, 'ive': 5874, 'sold': 5875, 'digging': 5876, 'sunni': 5877, 'defeat': 5878, 'cawx': 5879, 'surfer': 5880, 'looter': 5881, 'sarcasm': 5882, '180': 5883, 'unr': 5884, 'weston': 5885, 'custer': 5886, 'pennington': 5887, 'intensifies': 5888, 'tomcatarts': 5889, 'realization': 5890, 'ranking': 5891, 'sibling': 5892, 'nowhere': 5893, 'fueled': 5894, 'stans': 5895, 'recommended': 5896, 'fewmoretweets': 5897, 'afc': 5898, 'tweetlikeitsseptember11th2001': 5899, 'prepper': 5900, 'hutch': 5901, 'vxvfaeey0q': 5902, 'punk': 5903, 'remorse': 5904, 'unfolded': 5905, 'soooo': 5906, 'performing': 5907, 'simon': 5908, 'suryaray': 5909, 'shantae': 5910, 'carr': 5911, 'be': 5912, 'bundled': 5913, 'engvaus': 5914, 'macia': 5915, 'trillion': 5916, 'identitytheft': 5917, 'kerry': 5918, 'jumper': 5919, 'creating': 5920, 'finished': 5921, 'blutz10': 5922, 'harwich': 5923, 'barry': 5924, 'rated': 5925, 'imdb': 5926, 'forgive': 5927, 'vanessa': 5928, 'outfit': 5929, 'acted': 5930, 'treated': 5931, 'omega': 5932, 'explores': 5933, 'religion': 5934, 'rayner': 5935, 'newsarama': 5936, 'monitor': 5937, 'division': 5938, 'precious': 5939, 'privacy': 5940, 'decrease': 5941, 'nfpa': 5942, 'et': 5943, 'originalfunko': 5944, 'palermo': 5945, 'sweet2young': 5946, 'countynews': 5947, 'liberty': 5948, 'comic': 5949, 'sample': 5950, 'punished': 5951, 'authentic': 5952, 'gif': 5953, 'sham': 5954, 'sustainable': 5955, 'xavier': 5956, 'cod': 5957, 'wmv': 5958, 'affleck': 5959, 'rene': 5960, 'edit': 5961, 'spread': 5962, 'difficult': 5963, 'wale': 5964, 'protection': 5965, 'karma': 5966, 'cooking': 5967, 'summary': 5968, 'overturn': 5969, 'interstate': 5970, 'sqsyueh4yi': 5971, '199t7nd0pm': 5972, 'lamha': 5973, 'pity': 5974, 'flush': 5975, 'label': 5976, 'committee': 5977, 'contract': 5978, 'trick': 5979, 'fabric': 5980, 'evansville': 5981, 'dailykos': 5982, 'livingsafely': 5983, 'formation': 5984, 'au': 5985, 'teamstream': 5986, 'drama': 5987, 'geneva': 5988, 'mon': 5989, 'a5': 5990, 'premier': 5991, 'perfectly': 5992, 'dixon': 5993, 'grandpa': 5994, 'snowden': 5995, 'spoke': 5996, 'alllivesmatter': 5997, 'montgomery': 5998, 'geometric': 5999, 'camilacabello97': 6000, 'pasta': 6001, 'mic': 6002, 'platform': 6003, 'combust': 6004, 'ruining': 6005, 'hatred': 6006, 'jennifer': 6007, 'aniston': 6008, 'permit': 6009, 'wudlkq7ncx': 6010, 'personally': 6011, 'pickerel': 6012, 'riyadh': 6013, 'chonce': 6014, 'conspiracy': 6015, 'familia': 6016, 'multidimensi': 6017, 'zabadani': 6018, 'dealbreaker': 6019, 'ignore': 6020, 'latino': 6021, 'fairy': 6022, 'bernardino': 6023, 'stunned': 6024, 'donå': 6025, 'illusion': 6026, 'domain': 6027, 'pluto': 6028, 'tournament': 6029, 'volleyball': 6030, 'blunt': 6031, 'quartz': 6032, 'nylon': 6033, 'suspense': 6034, 'greeting': 6035, 'taxi': 6036, 'misery': 6037, 'jamaicaplain': 6038, 'inspired': 6039, 'ram': 6040, 'zaynmalik': 6041, 'priest': 6042, 'gig': 6043, 'ymcglaun': 6044, 'jhpdssvhve': 6045, 'performance': 6046, 'ergo': 6047, 'rotator': 6048, 'marshall': 6049, 'dambisa': 6050, 'moyo': 6051, 'prosyn': 6052, 'oped': 6053, 'ronaldo': 6054, 'messi': 6055, 'worn': 6056, 'batfanuk': 6057, 'drew': 6058, 'obsessed': 6059, 'engage': 6060, 'brisk': 6061, 'myfitnesspal': 6062, 'hide': 6063, 'tan': 6064, 'happily': 6065, 'breakfast': 6066, 'pushing': 6067, 'imperfect': 6068, 'behavior': 6069, 'musik': 6070, 'teenager': 6071, 'cu': 6072, 'dom': 6073, 'playstation': 6074, 'diverse': 6075, 'regardless': 6076, 'session': 6077, '114': 6078, 'wmur9': 6079, 'lloyd': 6080, 'bass': 6081, 'attained': 6082, 'techesback': 6083, 'whoever': 6084, 'coal': 6085, 'gloucester': 6086, 'fueling': 6087, 'mourns': 6088, 'jhaustin': 6089, 'ames': 6090, 'grande': 6091, 'theadvocatemag': 6092, 'marlon': 6093, 'jerry': 6094, 'socket': 6095, 'weallheartonedirection': 6096, 'deserve': 6097, 'iclown': 6098, 'bwp': 6099, 'wedn': 6100, 'ante': 6101, 'trusting': 6102, 'weighs': 6103, 'horizon': 6104, 'softenza': 6105, 'rant': 6106, 'argument': 6107, 'juice': 6108, 'ushanka': 6109, 'dey': 6110, 'ww2': 6111, 'jailed': 6112, 'overwork': 6113, 'diageo': 6114, 'revolt': 6115, 'awkward': 6116, 'prisoner': 6117, 'challenged': 6118, 'subway': 6119, '087809233445': 6120, 'helen': 6121, 'cole': 6122, 'ashayo': 6123, 'fifa16': 6124, 'hooligan': 6125, 'canvas': 6126, 'zipper': 6127, 'whenever': 6128, 'tlvfaces': 6129, 'proposed': 6130, 'fossil': 6131, 'hipster': 6132, 'nan': 6133, 'unity': 6134, 'desk': 6135, 'rejected': 6136, 'ctd': 6137, 'appropriation': 6138, 'buddha': 6139, 'healthy': 6140, 'coahuila': 6141, 'jkl': 6142, 'knox': 6143, 'certified': 6144, '1m': 6145, 'quot': 6146, 'cdcgov': 6147, 'pickens': 6148, 'manufactured': 6149, 'layout': 6150, 'signing': 6151, 'derivative': 6152, 'nixon': 6153, 'respected': 6154, 'billion': 6155, 'fatally': 6156, 'rammed': 6157, 'learned': 6158, 'pretend': 6159, 'bmw': 6160, 'financing': 6161, 'secured': 6162, 'sunny': 6163, 'hidden': 6164, 'jose': 6165, 'affiliate': 6166, 'marketer': 6167, 'brit': 6168, 'condemn': 6169, 'growingupblack': 6170, 'pete': 6171, 'fresno': 6172, '7000': 6173, 'sanchez': 6174, 'durant': 6175, 'soaking': 6176, 'mat': 6177, 'ch4': 6178, 'notexplained': 6179, 'infamous': 6180, 'cooper': 6181, 'jlzk2hdetg': 6182, 'insas': 6183, 'divided': 6184, 'lavenderpoetrycafe': 6185, 'vam5podgyw': 6186, 'zevakjapcz': 6187, 'joined': 6188, 'diver': 6189, 'cheryl': 6190, 'bumper': 6191, 'shore': 6192, 'mafia': 6193, 'raynor': 6194, 'iceland': 6195, 'hew': 6196, 'alarmed': 6197, 'travis': 6198, 'teamhendrick': 6199, 'autistic': 6200, 'uz1yiz7n6m': 6201, 'ijwar15h16': 6202, 'therein': 6203, '200000': 6204, 'blevins': 6205, 'skyrim': 6206, 'mo7dbbdfvr': 6207, '0scnwe8xbv': 6208, 'susinesses': 6209, 'stlnd': 6210, 'rnk': 6211, 'rockingham': 6212, 'stokes': 6213, '5u5gakx2ch': 6214, 'jasonpope2': 6215, 'johnfugelsang': 6216, 'assassinkpg': 6217, 'frankly': 6218, 'georgefoster72': 6219, 'edmund': 6220, 'fitzgerald': 6221, 'qfrawln4ba': 6222, 'xdescry': 6223, 'nora': 6224, 'ebbf1n7maj': 6225, 'gei58vhbw6': 6226, 'kayla': 6227, 'xxfk4khbiw': 6228, 'b2yvlmpepr': 6229, 'concur': 6230, 'mmk': 6231, 'dxwfx56pwh': 6232, 'gaabyx': 6233, 'activist': 6234, 'stacedemon': 6235, '1i19cuov7l': 6236, 'earl': 6237, 'celebrety': 6238, 'warden': 6239, 'aprensss3x': 6240, 'pulse': 6241, 'uwobuuw2mk': 6242, 'y8orqapwrk': 6243, 'ejrme49rkd': 6244, 'snazzychipz': 6245, 'ucudwiu3an': 6246, '0yl3yt4ylh': 6247, 'hzhoa6vzas': 6248, '45cmaqf8ns': 6249, 'vitaly': 6250, 'churkin': 6251, 'briliantly': 6252, 'klimkin': 6253, 'mh17': 6254, 'tt4kvmvujq': 6255, 'gloria': 6256, 'gaynor': 6257, 'oktaviana': 6258, 'devi': 6259, 'hukjz1wt36': 6260, 'kaylak369': 6261, 'pgb2bmcfx8': 6262, 'brianroemmele': 6263, 'ux': 6264, 'emv': 6265, 'insert': 6266, 'stripe': 6267, 'reader': 6268, 'onu': 6269, '74': 6270, 'rockefeller': 6271, 'chi': 6272, 'rockefelleruniv': 6273, 'heiress': 6274, 'evade': 6275, 'prosecute': 6276, 'blks': 6277, 'harvardu': 6278, 'annonymous': 6279, 'jenniferarri': 6280, 'comeeeee': 6281, '1ct0pugz69': 6282, '02pm': 6283, 'cf9e6tu3g7': 6284, 'internetradio': 6285, 'collegeradi': 6286, 'stephaniemarija': 6287, 'dressing': 6288, 'incessant': 6289, 'fade': 6290, 'iapvtqxlht': 6291, 'wamkre6ckd': 6292, 'buffoonmike': 6293, 'influenced': 6294, '3zasz6wxjj': 6295, 'kristindavis': 6296, 'ypvjgzqqqb': 6297, 'kamayani': 6298, 'janata': 6299, 'gratia': 6300, '6sdtzsgelq': 6301, 'megan': 6302, 'swanger': 6303, 'ruthann': 6304, 'mccormick': 6305, 'daisy': 6306, 'henley': 6307, 'dl60ja06tw': 6308, 'adorableappple': 6309, 'mmda': 6310, 'radneck': 6311, 'jvjalyg2n1': 6312, 'qxmweljbc0': 6313, 'nykaed': 6314, 'mkjo8x2dko': 6315, 'misty': 6316, 'lu': 6317, 'richardson': 6318, 'oobscfoktq': 6319, 'lickin': 6320, 'donut': 6321, 'leedsrouge': 6322, 'vcirn1md8v': 6323, 'suilzs2s95': 6324, 'healthandsafety': 6325, 'senfeinstein': 6326, 'uncontrolled': 6327, 'kkeh8qcgc3': 6328, 'capsize': 6329, 'fqv47ob8ge': 6330, 'intragenerational': 6331, 'sandra': 6332, 'bland': 6333, 'zweygphpf7': 6334, 'supposedly': 6335, 'representing': 6336, 'cgi': 6337, 'waterboarding': 6338, 'dipping': 6339, 'martynwaites': 6340, 'valentine': 6341, 'oompah': 6342, 'tmzxopvs94': 6343, 'w192wkog1m': 6344, 'rhett': 6345, 'homer': 6346, 'tulowitzki': 6347, 'tactic': 6348, 'corruption': 6349, 'infiltration': 6350, 'cyu8zxw1oh': 6351, 'outcome': 6352, 'metastatic': 6353, 'colorectal': 6354, '5yl4dc1tqt': 6355, 'fem': 6356, 'kmndkfa7me': 6357, 'x5xumtoeke': 6358, 'imperialism': 6359, 'militarism': 6360, 'n3vbtc6nca': 6361, 'decorating': 6362, 'iwk': 6363, 'earonlwifh': 6364, 'volcanic': 6365, 'thirty': 6366, 'kkjp9ksbst': 6367, 'idasyjybro': 6368, 'gdoaolpq91': 6369, 'slightest': 6370, 'stirring': 6371, 'stressing': 6372, 'hwrf': 6373, 'lash': 6374, 'taipei': 6375, 'cnkvile7be': 6376, 'yejt18sbm0': 6377, 'rcqacn91be': 6378, 'skye': 6379, 'horny': 6380, 'juicy': 6381, 'retainer': 6382, 'e4wk8uri8a': 6383, 'graduated': 6384, 'grizzly': 6385, 'epcotexplorer': 6386, 'ransacked': 6387, 'awesomeeeeeeee': 6388, 'huzzah': 6389, 'molly': 6390, 'tanz': 6391, 'vermilion': 6392, '83bmprwh7w': 6393, 'na2ey64vsg': 6394, 'therealrittz': 6395, 'tween': 6396, 'avigdorliberman': 6397, 'susiya': 6398, 'beheading': 6399, 'li8otxt8hh': 6400, 'mariahcarey': 6401, 'xxzd1nmb1i': 6402, 'itnkbxgwlh': 6403, 'belle': 6404, 'cle': 6405, 'cuyahoga': 6406, 'greening': 6407, 'if62sdxvp7': 6408, 'emilymcfcheslop': 6409, 'pilloried': 6410, 'ala': 6411, 'ucy5fea9yu': 6412, 'dnwwo1ybrk': 6413, 'typewriter': 6414, 'gunk': 6415, 'xtljz7bjgl': 6416, 'reddevil4life': 6417, 'be4': 6418, 'mageavexis': 6419, 'masterchef': 6420, 'hendy': 6421, 'purdies': 6422, 'tx51oybrn6': 6423, 'thenewshype': 6424, 'professionally': 6425, 'unsensibly': 6426, 'outrun': 6427, '1qt51r5h98': 6428, 'oqh1jbuenl': 6429, 'ykvsttvdwo': 6430, 'ifqqpur99x': 6431, 'gross': 6432, 'mxz7yx8ld1': 6433, 'artumhmbhh': 6434, 'thexfiles201days': 6435, 'lue3waegpi': 6436, 'sharper': 6437, 'viper': 6438, 'hardside': 6439, 'fxk3zsj2pe': 6440, 'devia': 6441, 'ler': 6442, 'wattys2015': 6443, 'teenfiction': 6444, 'g891m9gh4r': 6445, 'xq92x4bvg3': 6446, 'dravet': 6447, 'drowns': 6448, 'vbo1tjndps': 6449, 'respondent': 6450, 'consciousness': 6451, 'ytnnnd631z': 6452, 'sergiopiaggio': 6453, 'orjb3j803f': 6454, 'mwdhxyfrag': 6455, 'consistently': 6456, '637rc3qc8d': 6457, 'tegajmr8il': 6458, 'futurea': 6459, 'totalitarian': 6460, 'employ': 6461, 'literature': 6462, 'drfkarlz1d': 6463, 'snapharmony': 6464, 'ypvvqz8jzt': 6465, 'cubze5mizm': 6466, 'ifs': 6467, 'ands': 6468, 'buts': 6469, 'hfgjgfgfel': 6470, 'kapokekito': 6471, 'northgate': 6472, 'southdown': 6473, 'windsor': 6474, 'jilfbr0ufp': 6475, 'lewis': 6476, 'lizzie363': 6477, 'cstsmith': 6478, '14000': 6479, 'thnk': 6480, 'clog': 6481, 'jrdwyy0ax4': 6482, '3934': 6483, 'lindasocvat': 6484, 'rushlimbaugh': 6485, 'meddling': 6486, 'whereas': 6487, 'jez': 6488, 'printing': 6489, 'reffbkvg9r': 6490, 'foliage': 6491, 'ignited': 6492, 'idgaf': 6493, 'devinjoslyn': 6494, 'p3o71dz992': 6495, '4zqrsaqrrt': 6496, '6ar3ukvsxw': 6497, 'oi': 6498, 'pdosrg8cf7': 6499, 'sjkgjxff2r': 6500, 'insurers163': 6501, 'x2': 6502, 'waited': 6503, 'dilawri': 6504, 'vg7jnah0iw': 6505, 'kshsgwghfj': 6506, 'jhoahpbpq4': 6507, 'morganite': 6508, 'gemstone': 6509, 'opal': 6510, '925': 6511, 'r1354': 6512, 'hhpvsatqxn': 6513, 'd12r8xpshy': 6514, 'wgasoencwc': 6515, 'roanoketimes': 6516, 'chowtaxis': 6517, 'newport': 6518, 'jackie': 6519, 'bristol': 6520, '7nu7prxeul': 6521, 'kc5kh': 6522, 'funkylilshack': 6523, 'mariaf30': 6524, 'slapping': 6525, 'showdown': 6526, 'zevan9kjzl': 6527, 'uuzfs1l5kt': 6528, 'm4tczaawpt': 6529, 'cmsgexm4fc': 6530, 'sanonofre': 6531, 'erinmariefishy': 6532, 'thetimepast': 6533, 'saalon': 6534, 'resolved': 6535, 'fricken': 6536, 'crobscarla': 6537, '8015': 6538, 'kgkz50q8tk': 6539, 'mustard': 6540, 'vlaiuvtomm': 6541, 'ajpnebg803': 6542, 'cascade': 6543, 'childress': 6544, 'dilyvrowyj': 6545, 'ixfne5jlep': 6546, 'overrun': 6547, 'buscemi': 6548, 'firefightr': 6549, 'fame': 6550, 'workd': 6551, '12hr': 6552, 'diggin': 6553, 'wtc': 6554, 'lookg': 6555, 'l9fjpnszuo': 6556, 'pmcp8czpnd': 6557, 'nopower': 6558, 'lucio': 6559, 'overwatch': 6560, 'kosher': 6561, 'txiestox5n': 6562, 'jewishpress': 6563, 'kidney': 6564, 'metallica': 6565, 'rocking': 6566, 'joeybats19': 6567, 'rogers': 6568, 'offs': 6569, 'moseby': 6570, 'barfield': 6571, 'ryah8fni5q': 6572, 'aashiqui': 6573, 'anu': 6574, 'aggarwal': 6575, '6otfp31lqw': 6576, 'kemal': 6577, 'atlay': 6578, 'ransomware': 6579, 'wilson': 6580, 'aqbljcomln': 6581, 'pisco': 6582, 'coya': 6583, 'ppekbqdcnc': 6584, 'j3x0doy7r3': 6585, 'emmy': 6586, 'itsqueenbaby': 6587, 'bbsnews': 6588, 'hebron': 6589, 'gne1fw0xhe': 6590, 'wolforth': 6591, 'altamonte': 6592, 'diverts': 6593, 'declaring': 6594, '5aiexcbkfq': 6595, 'tbr': 6596, 'browsing': 6597, 'homepage': 6598, 'eeewo207mx': 6599, 'languishing': 6600, 'exsqijf4ny': 6601, 'noirandeal': 6602, 'tedcruz2016': 6603, 'y7sipkb1kd': 6604, 'p5jpjgiipw': 6605, 'david5fernandez': 6606, 'theblaze': 6607, 'wordk': 6608, 'zmne': 6609, 'zaman': 6610, 'alwsl': 6611, 'v8juc5ek1a': 6612, 'courageous': 6613, 'vhmtytptgr': 6614, 'dispatch': 6615, 'flgovscott': 6616, '10000': 6617, 'gv84wnhb7s': 6618, '33pm': 6619, '1eof1wxnpj': 6620, 'skywarn': 6621, 'requiem': 6622, 'cplyrewfz3': 6623, 'mccainenl': 6624, 'stonewall': 6625, 'microsofts': 6626, 'x2wn7o2a3w': 6627, 'beef': 6628, 'render': 6629, 'ssu': 6630, 'ks7ln8hq8s': 6631, 'creel': 6632, 'moron': 6633, 'brainless': 6634, '9bliddngtf': 6635, 'hopeinchrist': 6636, 'lifelettercafe': 6637, 'jtxji7ygrl': 6638, '311': 6639, 'ch6e7vtatr': 6640, 'bestival': 6641, 'molloy': 6642, '21st': 6643, 'bikr8zzbha': 6644, 'truediagnosis': 6645, '250k': 6646, 'dutyzqr2p7åê': 6647, 'oznsxxvx': 6648, 'victorious': 6649, 'rv': 6650, '43sxg9z6xh': 6651, 'dlc': 6652, 'jewhaditm': 6653, 'phillip': 6654, 'amritsar': 6655, 'ûïthat': 6656, 'exaggerated': 6657, 'tb52o146tx': 6658, 'tsbtigdsdt': 6659, 'za4axfjsvb': 6660, 'l4wjhz4aj6': 6661, 'kmgdv7vsaz': 6662, 'bytsfms7md': 6663, 'chaosmagician97': 6664, 'qcyxwr2rdv': 6665, '5cm0lfzhxn': 6666, 'jakartapost': 6667, '1mgvd4x5oe': 6668, 'e4ydbm4dx6': 6669, 'avi': 6670, 'header': 6671, 'baqocmcjqc': 6672, '9h0ym9ofsv': 6673, 'widda16': 6674, 'goner': 6675, 'gettinglost': 6676, 'jennellensbb': 6677, 'muncle': 6678, 'superficial': 6679, 'amymwwcpym': 6680, 'pugwash': 6681, 'teafrystlik': 6682, 'darken': 6683, 'ungodly': 6684, 'bolt': 6685, 'perkpearl': 6686, 'fx': 6687, '7ennullkzm': 6688, 'finale': 6689, 'tbqsqtmqv4': 6690, 'deadlydemi': 6691, 'staying': 6692, 'tìüp': 6693, 'padre': 6694, 'cm8uni1mrg': 6695, 'meganbee92': 6696, 'kadiegrr': 6697, 'blackburn': 6698, 'pll': 6699, 'everton': 6700, 'wonderkid': 6701, 'nb1e7mnce5': 6702, 'ha5boppejy': 6703, 'iap4lwvqsw': 6704, 'romeo': 6705, 'juliet': 6706, 'warmbodies': 6707, 'cervix': 6708, 'odell': 6709, 'qkz2sp06xn': 6710, 'thedayct': 6711, 'w4ofcc99wq': 6712, 'masochisticmage': 6713, 'b0zwi0qptu': 6714, 'zimmerman': 6715, 'rzimmermanjr': 6716, 'renewsit': 6717, 'sock': 6718, 'ybshleie3p': 6719, 'disrupted': 6720, '6ezkoof2xt': 6721, 'facm78eg7k': 6722, 'inject': 6723, 'vein': 6724, 'janta': 6725, 'firstpostin': 6726, 'cznxhutasx': 6727, 'mold': 6728, 'proudgreenhome': 6729, 'kavaovjz2v': 6730, 'reaad': 6731, 'plsss': 6732, 'du19': 6733, 'h9fsiaxv3q': 6734, 'bigrigradio': 6735, 'hdahlgrprl': 6736, 'z1s3t77p3l': 6737, 'hellotybeeren': 6738, 'lolly': 6739, 'knickers': 6740, 'vaginaorcake': 6741, 'climbed': 6742, 'io': 6743, 'hawk': 6744, 'srk': 6745, 'explanation': 6746, 'provided': 6747, 'fanfiction': 6748, 'trixie': 6749, 'pageshi': 6750, '366nhtg3tz': 6751, 'promo': 6752, '4rtpjrhsqe': 6753, 'oim6po8xcu': 6754, 'netflix': 6755, 'documentary': 6756, 'narrated': 6757, 'parter': 6758, 'blacken': 6759, 'parched': 6760, 'harris': 6761, 'tinder': 6762, 'i2lwty5yup': 6763, 'ewnunp8hdo': 6764, 'wn': 6765, '9ikhdyhvnc': 6766, 'convection': 6767, 'nlwx': 6768, 'dao9azeucr': 6769, 'w9p3hauhei': 6770, 'dyannbridges': 6771, 'yeshayad': 6772, 'ipgmf4ttdx': 6773, 'm9d2elimzi': 6774, 'commoditiesåêare': 6775, 'njd1n5txxe': 6776, 'fried': 6777, 'ravioliåêwith': 6778, 'porcini': 6779, 'ricotta': 6780, 'n6mcpgvwq2': 6781, 's8oinfgxyx': 6782, '5hkgxzjlmx': 6783, 'entertain': 6784, 'westminister': 6785, 'sr22': 6786, 'knott': 6787, 'eumlca1edw': 6788, 'mumbai24x7': 6789, 'ind': 6790, 'tuaryijpqu': 6791, 'makinmemories': 6792, 'gm8p0bd8mt': 6793, 'unexercised': 6794, 'honda': 6795, 'psqd': 6796, '3huhzxliig': 6797, 'bloor': 6798, 'ossington': 6799, 'mattress': 6800, 'northumberland': 6801, 'cbcto': 6802, 'wpdvt31sne': 6803, 'q5mdsnbcmh': 6804, 'fujiwara': 6805, 'shunichiro': 6806, 'sbfglqjzfs': 6807, 'woken': 6808, 'y8h5v1j2y7': 6809, 'nqiobczkrt': 6810, 'captainn': 6811, 'ew5wzc07fo': 6812, 'imtygds5qo': 6813, '1d': 6814, 'wwa': 6815, 'itsdanie': 6816, 'noooo': 6817, 'displaces': 6818, '6hkw5qlppt': 6819, 'colombia': 6820, 'zhjlflbhzl': 6821, 'villicanaalicia': 6822, 'hearitfrompa': 6823, 'whvholst': 6824, 'leashless': 6825, 'competence': 6826, 'soc': 6827, 'democratic': 6828, 'vickybrush': 6829, 'topic': 6830, 'uahicwpih4': 6831, 'ffkcj8pfj2': 6832, 'music212': 6833, 'mmklapx2ok': 6834, 'aomq1rykmj': 6835, 'tornadogiveaway': 6836, 'thebookclub': 6837, 'ljomctuzfy': 6838, '2zgvslox5p': 6839, 'owbujez3q4': 6840, 'megaquake': 6841, '9f3rdn9n3d': 6842, 'dacherryontop13': 6843, 'rdovqauax5': 6844, 'autism': 6845, 'specialneeds': 6846, 'crowtherjohn': 6847, 'effiedeans': 6848, 'lbr': 6849, 'couldnt': 6850, 'situ': 6851, 'spoiled': 6852, '0000': 6853, 'millcityio': 6854, '20150613': 6855, 'theramin': 6856, 'lage': 6857, 'grantgordy': 6858, 'rossmartin7': 6859, 'morehouse64': 6860, 'ethical': 6861, 'relevance': 6862, 'silverhusky': 6863, 'shtap': 6864, 'salted': 6865, 'foxdebatequestions': 6866, 'sharia': 6867, 'masse': 6868, 'backlash': 6869, 'fajbxz5kar': 6870, 'legionnairesdisease': 6871, 'pneumonia': 6872, 'americanlegion': 6873, 'convention': 6874, 'fhi4qbpwfh': 6875, 'fredolsencruise': 6876, 'itinerary': 6877, 'imsushickoflove': 6878, 'alekalicante': 6879, 'gauze': 6880, 'proc': 6881, 'pd14gsrfsc': 6882, 'changepilipinas': 6883, 'startrek': 6884, 'tos': 6885, 'a2e6dcsk88': 6886, 'wrote': 6887, 'greatly': 6888, 'rfvjh58ef2': 6889, '6supthaece': 6890, '5fr41tpzte': 6891, 'thorin': 6892, 'sandbox': 6893, 'h84r1tih8j': 6894, 'optich3cz': 6895, 'askh3cz': 6896, 'elgato': 6897, 'bday': 6898, 'cagov': 6899, 'vp': 6900, 'events': 6901, 'iuh718kcy0': 6902, '9pqyx4xool': 6903, 'tgcr5vofj3': 6904, 'ci': 6905, 'offended': 6906, 'transgendered': 6907, '9dvu1ridz3': 6908, 'sayn': 6909, 'ae': 6910, 'nqxqyi70w4': 6911, 'sjoeing76t': 6912, 'excite': 6913, 'ij0wq490cs': 6914, 'hobby': 6915, 'lobby': 6916, 'ama': 6917, '8qc8bcxoko': 6918, 'hilly': 6919, 'aez3ak1lrn': 6920, 'hxtupra5bc': 6921, 'dqxkjibbky': 6922, 'wyrmwood': 6923, 'lnzi7o166y': 6924, 'tmpfwjpi6i': 6925, 'dancing': 6926, 'adjust': 6927, 'shaper': 6928, 'width': 6929, 'adjustable': 6930, '8cpcz2xohb': 6931, 'ed1vpitswy': 6932, '6xsbddlziy': 6933, '6cz3bohrd4': 6934, 'crazyweather': 6935, 'xqbwnlbbiu': 6936, 'tadhgtgmtel': 6937, 'uqva3dfbca': 6938, 'erj7yanjxm': 6939, 'vbrpeujanl': 6940, 'osjurfddkt': 6941, '1hlvrkwgip': 6942, 'zsberqnn9n': 6943, 'awadgolf': 6944, 'capitalist': 6945, 'elect': 6946, 'wate': 6947, 'mello': 6948, 'projeavg8t': 6949, 'stings': 6950, 'mj2jq2psv6': 6951, 'e1kbludwh5': 6952, 'adumbbb': 6953, 'droughtmonitor': 6954, 'contig': 6955, '80m': 6956, 'ybe9jqoznr': 6957, '328szfletz': 6958, 'saintrobinho86': 6959, 'demonstrated': 6960, 'cdcwhistleblower': 6961, 'laevantine': 6962, 'reworked': 6963, 'plumbing': 6964, 'glitter': 6965, 'russaky89': 6966, '91å': 6967, 'dominicana': 6968, 'gansey': 6969, 'busting': 6970, 'j2pykyo0en': 6971, 'wc69xajis4': 6972, 'emmychappy': 6973, 'jimmozel': 6974, 'puck': 6975, 'ticklemeshawn': 6976, 'evebrigid': 6977, 'fizzy': 6978, 'vixmeldrew': 6979, 'warped': 6980, 'attila': 6981, '1w58ehv9s1': 6982, 'p8ih0hni3l': 6983, 'sbnation': 6984, 'xyi5fdacxo': 6985, 'sjtvzggcxu': 6986, 'xlzwtzgqtc': 6987, '5uoophsqu3': 6988, 'wxii': 6989, 'davidson': 6990, 'broseidonrex': 6991, 'dapurplesharpie': 6992, 'skimmed': 6993, 'cowgirllawyer': 6994, 'intoxicated': 6995, 'czallstarwes': 6996, 'idm': 6997, 'gotham': 6998, 'bcs': 6999, 'afk': 7000, 'johanfranzen': 7001, 'orchs': 7002, 'tyrant': 7003, 'gap': 7004, '41l8tqcaey': 7005, 'driverless': 7006, 'healthinsurance': 7007, 'illogical': 7008, 'usw': 7009, 'abandoning': 7010, 'uncertainty': 7011, 'leandotorg': 7012, 'lean': 7013, 'quicker': 7014, 'suzbkyw5tt': 7015, 'whiskey': 7016, 'excessive': 7017, 'emerging': 7018, 'carl': 7019, 'everest': 7020, 'cobes': 7021, 'whitt': 7022, 'frost': 7023, 'godly': 7024, 'someday': 7025, 'crimsonfuckingv': 7026, 'bitchl0vecannon': 7027, 'seras': 7028, 'sasha': 7029, 'peice': 7030, 'sidewalk': 7031, 'chambered': 7032, 'speakingfromexperience': 7033, 'ns1aggfnxz': 7034, 'od250zshfy': 7035, 'o6aa0nwlha': 7036, '1vi2rnbk2i': 7037, 'cara': 7038, 'chucker': 7039, 'tf2bkq0olx': 7040, 'vmas': 7041, '3fqq7pfjvx': 7042, 'domination': 7043, 'hond': 7044, 'mxaaaa': 7045, 'cyberdemon531': 7046, 'dew': 7047, 'erodes': 7048, 'ai6kworbbt': 7049, 'txlege': 7050, 'kevinedwardsjr': 7051, 'ncjlkqasuk': 7052, 'oifn28hpcs': 7053, '8c3fploxcr': 7054, 'cbgz9xun2k': 7055, 'howardu': 7056, 'owpd7vcfs6': 7057, '7cibxls55f': 7058, 'incredulous': 7059, 'outcry': 7060, 'taxpayer': 7061, 'similar': 7062, 'objection': 7063, '100bn': 7064, 'joedawg42': 7065, 'wording': 7066, 'imo': 7067, 'jade': 7068, 'fl': 7069, 'ybdsljw7c1': 7070, 'applied': 7071, 'childsexabuse': 7072, 'gzgpwsqymw': 7073, 'firenews': 7074, 'ay49mtyyl8': 7075, 'backty': 7076, 'ztyzhbvzqp': 7077, 'nbcpolitics': 7078, '911bombing': 7079, 'barrack': 7080, 'zbzc8905gl': 7081, 'ultimatum': 7082, 'zzpojgngaj': 7083, 'dailytimesngr': 7084, '160': 7085, 'auburn': 7086, 'ahvymsqhqc': 7087, '1eb2dauyfn': 7088, 'ximpnczxth': 7089, 'onihimedesu': 7090, 'manga': 7091, 'triangle': 7092, 'punishable': 7093, 'media420': 7094, 'papicongress': 7095, 'journo': 7096, 'pragnik': 7097, 'benson': 7098, 'clegg': 7099, 'lauradeholanda': 7100, 'forrest': 7101, 'locksmith': 7102, 'domesticate': 7103, 'mechanic': 7104, 'circa': 7105, 'gba': 7106, '1q6ccffzv6': 7107, 'kamunt': 7108, 'youuu': 7109, 'p4kofytkdx': 7110, 'reply': 7111, 'princeoffencing': 7112, 'frickin': 7113, 'lvkoemsq8m': 7114, 'cjirhhh4vj': 7115, 'e7ojhpdfg2': 7116, 'giselle': 7117, 'dreamoforgonon': 7118, 'teeess': 7119, 'bona': 7120, 'fide': 7121, 'cislady': 7122, 'incidental': 7123, 'consumes': 7124, 'lswsitnkuk': 7125, '21hsrrqzou': 7126, 'i7kztevb2v': 7127, 'thranduil': 7128, 'mirkwood': 7129, 'nyel2buaro': 7130, '2zgiupn06t': 7131, '120000': 7132, 'fcixk23xqh': 7133, 'flaw': 7134, 'ztfead8gid': 7135, 'antpips67': 7136, 'johnejefferson': 7137, 'otp': 7138, 'grandma': 7139, 'ssshhheeesshh': 7140, 'gkye6gjtk5': 7141, 'personalinjury': 7142, 'otleyhour': 7143, 'infowars': 7144, 'n3yjb8tcpm': 7145, 'gaelite': 7146, 'orchard': 7147, 'hurn': 7148, 'tokteacher': 7149, 'skynet': 7150, '73umw2igrz': 7151, 'rd10ex6hvt': 7152, 'nprfreshair': 7153, '2006': 7154, 'gid6jqn8ug': 7155, 'lighter': 7156, 'heared': 7157, 'langtree': 7158, 'alternate': 7159, 'auntiedote': 7160, 'rioslade': 7161, 'wiggins': 7162, 'akarb74': 7163, 'accidently': 7164, 'out': 7165, 'bravery': 7166, 'qld': 7167, 'queensland': 7168, 'msgnndxoek': 7169, 'lsqe7nu6kl': 7170, 'chinadotcom': 7171, 'udtgwfsc3p': 7172, 'v5wsx0lqn2': 7173, 'finance': 7174, 'liqd': 7175, 'suggs': 7176, 'psychrewatch': 7177, 'scholar': 7178, 'imprisoning': 7179, 'f4lhfmehzh': 7180, 'canal': 7181, 'tookitlikeaman': 7182, 'lovemydentist': 7183, 'momneedscoffee': 7184, 'iwontmakeit': 7185, 'fs4y1c9mnf': 7186, 'szuter': 7187, '9e2f7bivle': 7188, 'stevie': 7189, 'epex4axg4b': 7190, 'zsxqbduzbn': 7191, '6ncfjxploy': 7192, 'zzzz': 7193, 'rv9dv6joew': 7194, '4i0kz2akly': 7195, 'questergirl': 7196, 'ditto': 7197, 'drank': 7198, 'vodka': 7199, 'scraped': 7200, 'summer2k15': 7201, 'tl41olpakz': 7202, 'stoponesounds': 7203, 'airwave': 7204, 'g7s34sw2am': 7205, 'stickynyc': 7206, '95roots': 7207, '2lbtshxi3c': 7208, '0jmkdtcymj': 7209, 'insanity': 7210, 'grimrail': 7211, 'depot': 7212, 'rb2s0jmlej': 7213, 'disregard': 7214, 'fleetwood': 7215, 'q99': 7216, 'daviesmutia': 7217, 'y5yhbb0hkf': 7218, 'attjcdemos': 7219, 'folieacat': 7220, 'timebomb': 7221, 'destined': 7222, 'd3ctni8qit': 7223, 'der': 7224, 'abbruchsimulator': 7225, 'tyleroakley': 7226, 'nkkctttsd9': 7227, 'sydtraffic': 7228, 'trafficnetwork': 7229, 'aerospace': 7230, 'exec': 7231, 's2wm8lh7oo': 7232, 'thatwitchem': 7233, 'emmachosenone': 7234, 'jessienovoarp': 7235, 'jessie': 7236, 'liana': 7237, 'longbreastyat': 7238, 'chojo': 7239, 'athletics': 7240, 'doping': 7241, 'monetary': 7242, 'kbstrxnhup': 7243, 'furtrix': 7244, 'cougar': 7245, 'wbogs8ejsj': 7246, 'eles': 7247, 'kaylee': 7248, 'jannellix0': 7249, 'unsure': 7250, 'paging': 7251, 'uxqkieqdyf': 7252, 'killsåêone': 7253, 'i2c00fcowb': 7254, 'jaagcfartw': 7255, '4103': 7256, 'uhf7nyabsw': 7257, 'vilelunar': 7258, 'trickshot': 7259, 'infinite': 7260, 'cochrane': 7261, 'enacted': 7262, 'hadnt': 7263, 'butgod': 7264, 'scratching': 7265, 'pedal': 7266, 'nout': 7267, 'rubbin': 7268, 'm8ufjdtlsm': 7269, 'jab541hhk0': 7270, 'je6zjwh5ub': 7271, 'fdxgmiwaeh': 7272, '3pcntczoxv': 7273, 'n0akjm1e4b': 7274, 'time4me': 7275, 'sews': 7276, 'bong': 7277, 'nbc10': 7278, 'nql21ajmiv': 7279, '18xq3fmuge': 7280, '7mzycu2iho': 7281, 'rolo': 7282, 'paulista': 7283, 'helpme': 7284, 'ticketed': 7285, 'cycle': 7286, 'fittscott': 7287, 'mul1j9aeux': 7288, 'disclaimer': 7289, 'trombonetristan': 7290, 'ooooohshit': 7291, 'ooohshit': 7292, 'dunmvj7itl': 7293, 'rgdrjv63hf': 7294, 'thecomedyquote': 7295, '50shadezofgrey': 7296, 'p45perez': 7297, 'roman': 7298, 'gw0cxoojyv': 7299, 'offshoot': 7300, 'etitgpsrun': 7301, 'diplomat': 7302, 'v0yrfh9dkc': 7303, 'stepkans': 7304, 'ingu6ztyg4': 7305, 'zsnsar1tw1': 7306, 'uabstephenlong': 7307, 'courtlizcamp': 7308, 'hashd': 7309, 'shaabi': 7310, 'theft': 7311, '2ag9auabr3': 7312, 'qna4tubnwh': 7313, 'nissannews': 7314, 'hospitalized': 7315, 'a1a': 7316, 'bing': 7317, '9dwyjqvfy4': 7318, 'zagbmlsf4h': 7319, 'hvyxehxbmq': 7320, 'cocker': 7321, 'rjrmw7nzy5': 7322, '0lpu0gr2j0': 7323, 'wompppp': 7324, 'naruto': 7325, 'madara': 7326, 'knomg9pfiz': 7327, 'rotary': 7328, 'uvopwz': 7329, 'modest': 7330, 'sniff': 7331, 'sniiiiiiff': 7332, 'donny': 7333, 'hckxj8eukt': 7334, 'danagould': 7335, 'waynesteratl': 7336, 'equalizer': 7337, 'suffield': 7338, 'bptmlf4p10': 7339, 'winik': 7340, 'ef4swp9sxz': 7341, 'nb7maaaofs': 7342, 'usama': 7343, 'ladin': 7344, 'naturally': 7345, 'gvj7slbelp': 7346, '1yb8sizarg': 7347, '69iizvyqyc': 7348, 'qvlxpyyycd': 7349, 'moderately': 7350, 'vox99fwkcx': 7351, 'b24fowler': 7352, 'scourge': 7353, 'whedonesque': 7354, 'fanged': 7355, 'q0jhdcu6ly': 7356, 'lsmx2vwr3j': 7357, 'exhaustion': 7358, 'groupon': 7359, 'highqualitybird': 7360, 'reverse': 7361, 'specifically': 7362, 'utilized': 7363, 'alcoholism': 7364, '31tgtlz3ya': 7365, 'forgiving': 7366, 'c7rco2emwf': 7367, 'kestuuyc4t': 7368, 'pzfbb1p1mj': 7369, 'fblnifda1c': 7370, 'wkpzp1jcau': 7371, 'leyjwnnah8': 7372, 'benchmark': 7373, 'resque': 7374, 'earths': 7375, 'appalling': 7376, 'businessmen': 7377, 'jlwhaowfqa': 7378, 'saveti': 7379, 'alllll': 7380, 'nittys': 7381, 'stockwell': 7382, 'dreamer15': 7383, 'wrnpywyalj': 7384, 'qv7iydovx9': 7385, 'uisnqiu3if': 7386, 'pyee94nure': 7387, '2for1lapdances': 7388, 'yompxjpptv': 7389, 'hicksville': 7390, '6odnbttpsq': 7391, 'ppji1tcnml': 7392, 'postapocalypticflimflam': 7393, 'prodding': 7394, 'bgy4i47j70': 7395, 'anderson': 7396, 'brookesddl': 7397, 'hopped': 7398, 'adopt': 7399, 'overlooked': 7400, 'whyor': 7401, 'cspan': 7402, 'si02qrguka': 7403, '0c1y8g7e9p': 7404, 'lisowski': 7405, 'whitewash': 7406, 'quals': 7407, 'mligpuhvoh': 7408, 'snooker': 7409, 'tcs2cd5y6y': 7410, 'illegally': 7411, 'r6jdj9kigm': 7412, 'junsuisengen': 7413, 'emdjnnltp0': 7414, 'extraordinaire': 7415, 'pikin': 7416, 'tammy': 7417, 'w1997': 7418, 'elijahmallari': 7419, 'fabvlvn5ms': 7420, 'o8xvtlp4mf': 7421, 'kinggerudo': 7422, 'moblin': 7423, 'wrinkled': 7424, 'decayed': 7425, 'indo': 7426, 'pact': 7427, 'xkurdr3yev': 7428, 'dramaa': 7429, 'llama': 7430, 'lilourry': 7431, 'stan': 7432, 'narry': 7433, 'annajhm': 7434, 'jcomanse': 7435, 'staubs': 7436, 'rslm72254': 7437, 'blanktgt': 7438, 'fartanxiety': 7439, 'femalegilgamesh': 7440, 'assault': 7441, 'useless': 7442, 'penetrate': 7443, '13pm': 7444, 'mapleridge': 7445, 'lougheed': 7446, '203rd': 7447, 'dewdney': 7448, 'eto': 7449, 'urufusanragu': 7450, 'wvn6griypq': 7451, 'rei3puwp84': 7452, '64oz': 7453, 'jar': 7454, 'k9fbtccu58': 7455, 'xyj0rpsai2': 7456, '40pm': 7457, 'tq1ruqd4lg': 7458, 'oz1ds3xu0d': 7459, 'tripoli': 7460, 'freegeezy17': 7461, 'zachlowe': 7462, 'a8jz5a26wi': 7463, 'papi': 7464, 'dinallyhot': 7465, 'ûïdetonate': 7466, 'href': 7467, 'wnowfvcbms': 7468, 'jxwojxqndc': 7469, 'goggles': 7470, 'habbo': 7471, 'tic': 7472, 'tac': 7473, 'matchwood': 7474, 'wnuqqatttp': 7475, 'megalpolis': 7476, 'petting': 7477, 'shiver': 7478, 'overflow': 7479, 'commencement': 7480, 'drift': 7481, 'storming': 7482, 'bebacksoon': 7483, 'eagle': 7484, 'rrq1ildkil': 7485, 'hotnewscake': 7486, 'railguns': 7487, 't1000s': 7488, 'winnipeg': 7489, 'arlington': 7490, 'n2bcf4m64v': 7491, 'cacheadvance': 7492, 'dratomic420': 7493, 'twit': 7494, 'depression': 7495, 'asphalt': 7496, 'anriombhqn': 7497, 'greer': 7498, 'n2qzbmzuly': 7499, 'bhp': 7500, 'billiton': 7501, 'hqod6v6dnc': 7502, '13w8cyukkz': 7503, 'youngins': 7504, 'ziphimup': 7505, 'raffi': 7506, 'rc': 7507, 'sustainourearth': 7508, 'yru4nphdrf': 7509, 'thi': 7510, 'prove': 7511, 'begun': 7512, 'tren': 7513, 'vhcxtvcinr': 7514, 'ollymursaus': 7515, 'allahsfinest12': 7516, 'listeria': 7517, 'theneeds': 7518, 'f56v61ampt': 7519, 'pkuamxw6pm': 7520, 'pawvnj4sap': 7521, 'zdtz3rbs6w': 7522, 'calhoun': 7523, 'pztbqimpuw': 7524, '85v': 7525, '265v': 7526, '10w': 7527, 'pir': 7528, 'auc': 7529, 'njvpxzmj5v': 7530, 'ijd7wzv5t9': 7531, 'z0ver1hvm9': 7532, 'unij1rvrrq': 7533, 'lim': 7534, 'leh': 7535, 'yoenis': 7536, 'production': 7537, 'parliamentary': 7538, 'subsequent': 7539, 'sacking': 7540, 'microchip': 7541, 'tbh': 7542, 'pnnunrnqja': 7543, 'ana': 7544, 'holistic': 7545, 'dispensary': 7546, 'yvv1rlghft': 7547, 'smartnews': 7548, 'cityofmemphis': 7549, 'wider': 7550, 'g0q0bzbjli': 7551, 'exyr6c5qpu': 7552, 'militarydotcom': 7553, 'dorrian': 7554, 'jmbvpanxr3': 7555, 'yiayplan': 7556, 'amiibos': 7557, 'springer': 7558, 'g03dkpoonp': 7559, 'go0hpi0b4c': 7560, 'receipt': 7561, 'desperate': 7562, '2wvmij5sa4': 7563, 'challenging': 7564, 'jf5ft5cq9j': 7565, 'jmzcaqydfa': 7566, 'winged': 7567, 'insect': 7568, 'mnkoyz76cp': 7569, 'libyan': 7570, 'mjoeebdlxn': 7571, 'fven1ex0ps': 7572, 'purduee': 7573, '3941': 7574, 'bejftygjil': 7575, 'jlczidz7vu': 7576, 'designer': 7577, 'qualit': 7578, 'zgjgghdurf': 7579, 'bnrdkgxavr': 7580, 'blunts': 7581, 'friend59': 7582, 't94lnfwf34': 7583, 'rocyyei2dm': 7584, '4e2gjmvrvi': 7585, 'gfz': 7586, 'minuscule': 7587, 'qeopmcjbcz': 7588, 'utopian': 7589, 'gulag': 7590, 'byproduct': 7591, 'czwjw4uv7i': 7592, 'alexalltimelow': 7593, 'cuties': 7594, 'auf4j4owj1': 7595, 'soapscoop': 7596, 'yh': 7597, 'klondike': 7598, '6sdgz5dxnt': 7599, 'stylishly': 7600, 'au3dbci7nf': 7601, 'bovjrf62t7': 7602, 'intention': 7603, 'martyr': 7604, 'nux5xfpv2d': 7605, 'spså': 7606, 'dlvzaay7qr': 7607, 'itzsteven': 7608, 'xdojjjj': 7609, 'whopper': 7610, '760': 7611, 'ijetalerts': 7612, 'bilsko': 7613, 'humofthecity': 7614, 's0eyq1wehe': 7615, 'jsdf': 7616, 'tolled': 7617, 'nbzikcjphp': 7618, 'ghostwriting': 7619, 'sundercr': 7620, 'remixes': 7621, 'merged': 7622, 'colonel': 7623, 'ot0tffpbyb': 7624, 'zarbwep9ld': 7625, 'a2ss7pr4gw': 7626, 'bolstering': 7627, 'cooperation': 7628, '9q9rk3fof7': 7629, 'sputnikint': 7630, 'littlewomenla': 7631, 'bottling': 7632, 'sabcnewsroom': 7633, 'sabotage': 7634, 'minsuwoongs': 7635, '5lnidvobff': 7636, 'alice': 7637, 'uluru': 7638, '4ilt6fxu45': 7639, 'avenged': 7640, 'sevenfold': 7641, 'vai': 7642, 'vir': 7643, 'pra': 7644, 'agdq': 7645, 'kororinpa': 7646, 'marble': 7647, 'tloz': 7648, 'oracle': 7649, 'metroid': 7650, 'printable': 7651, 'template': 7652, 'naex0q1ax0': 7653, 'dmtab6g7j7': 7654, 'classycolkett': 7655, 'thorgan': 7656, 'gladbach': 7657, 'seamstress': 7658, 'elvia': 7659, 'jdx9ox2kik': 7660, 'landsli': 7661, '9tg7a5oqfp': 7662, 'ashj': 7663, 'v4br5gjmiy': 7664, 'scefpfvaeu': 7665, '1elreh1jlj': 7666, 'ianokavo96': 7667, 'junko': 7668, 'lspnycvolo': 7669, 'nh5pkfbfqm': 7670, 'ddnewslive': 7671, 'nitishkumar': 7672, 'arvindkejriwal': 7673, 'timestack': 7674, 'mesmerizing': 7675, 'cas8xc2dfe': 7676, 'ûª93': 7677, 'yeda': 7678, 'yakub': 7679, 'mfkqyxd8xg': 7680, 'gujnpljvvt': 7681, 'jslxtq3nqs': 7682, 'transportation': 7683, 'ûïmake': 7684, 'amssummer': 7685, 'wgwiqmicl1': 7686, 'mrtophypup': 7687, 'shattered': 7688, 'visage': 7689, '0kccg1bt06': 7690, 'zwvyisyp2b': 7691, 'twpl0nl8cx': 7692, '20k': 7693, 'sky9eokggb': 7694, '5iyzsda6xb': 7695, 'dawgs': 7696, 'dak': 7697, 'jak': 7698, 'igyu2peiu3': 7699, 'vroman': 7700, '5oqhq8quqv': 7701, 'standardized': 7702, 'id667rlets': 7703, 'parentsacrossam': 7704, 'billgates': 7705, 'naturaldisasters': 7706, 'tqwrw3jqwo': 7707, 'firepower': 7708, 'kvpbybglsr': 7709, 'danielsahyounie': 7710, '5hvzlaradio': 7711, 'lvl': 7712, '6615434': 7713, 'satoshis': 7714, 'dmlj1agotw': 7715, 'robotcoingame': 7716, 'freebitcoin': 7717, 'waiver': 7718, 'postexistence': 7719, 'elevation': 7720, 'brzjc': 7721, 'nikistitz': 7722, 'strives': 7723, 'eco': 7724, 'aptap6yx1r': 7725, '1940': 7726, 'angela': 7727, 'sander': 7728, 'roundhouse': 7729, 'infected': 7730, 'piercings': 7731, 'employee': 7732, 'paperwork': 7733, 'hronlinetweets': 7734, 'simplify': 7735, 'staffing': 7736, 'isle': 7737, 'omb3os54tn': 7738, 'welles': 7739, 'sliding': 7740, 'nester': 7741, 'sonoranrattler': 7742, 'writingtips': 7743, 'slttorrlhs': 7744, 'demoness': 7745, 'beckoning': 7746, 'void': 7747, 'nps3xpbkaq': 7748, 'fundwhen': 7749, 'klarajoelsson': 7750, 'randerson62': 7751, 'bytbz8s5ux': 7752, '034': 7753, 'ip': 7754, 'o3wvsclicx': 7755, 'wctv': 7756, 'syringetoanger': 7757, 'disagreement': 7758, 'occurrence': 7759, 'mtr': 7760, 'tglk2uus2z': 7761, 'silent0siris': 7762, 'norse': 7763, 'snotgreen': 7764, 'wasteland': 7765, 'hickson': 7766, 'kenneth': 7767, 'faried': 7768, 'lamarcus': 7769, 'aldridge': 7770, '20twgpmm7d': 7771, 'r4kheh7iaf': 7772, 'qszgjfuutu': 7773, 'oxrwrjzmnu': 7774, 'blakeshelton': 7775, 'jeez': 7776, 'claimin': 7777, 'aannnnd': 7778, 'p1jlurgwbu': 7779, '2leezy': 7780, 'grabbing': 7781, 'sweaty': 7782, 'grwdr4kuf3': 7783, 'judgement': 7784, 'mpc': 7785, 'fvlgu1nayr': 7786, 'sutherland': 7787, 'pine': 7788, 'd50orfxofb': 7789, 'theleadernews': 7790, 'abc3340': 7791, 'magnitudeåêåêml': 7792, '4regionåêåênear': 7793, '0wdazlcm90': 7794, 'sheeting': 7795, 'aaaaaand': 7796, 'kshllcenterpri1': 7797, 'progress4ohio': 7798, 'yg32yb2jdy': 7799, 'wikipedia': 7800, 'encyclopedia': 7801, 'ghucazjsxb': 7802, 'protestors': 7803, 'skyscraper': 7804, 'to9viqoofv': 7805, 'tydxauuenq': 7806, 'aisumage': 7807, 'akumareisu': 7808, 'ophelia': 7809, '1krpz3j1eu': 7810, 'dwu8qqys0v': 7811, 'fwd': 7812, 'pkkcdwjyg0': 7813, 'blank': 7814, 'expression': 7815, 'cheek': 7816, 'clapping': 7817, 'marvins': 7818, 'subtlety': 7819, 'rc6eejme17': 7820, 'eyugk6byxr': 7821, 'auezxza5ak': 7822, 'daniglasgow45': 7823, 'cfouwpbrcg': 7824, 'unnx71v8qc': 7825, 'actionmoviestaughtus': 7826, 'lsjowgyvqh': 7827, 'f1r5isbvks': 7828, '100000': 7829, 'annihilate': 7830, 'u4bdy1w7d4': 7831, 'lifelong': 7832, 'rfb3jxbiej': 7833, 'sb5r7shccj': 7834, 'glpfu0uriz': 7835, 'downright': 7836, 's5nuegswyj': 7837, 'hannah': 7838, 'intervene': 7839, 'vitesse': 7840, 'supporter': 7841, 'buildup': 7842, 'skvnmtzgeg': 7843, 'davis': 7844, 'judith': 7845, 'hopfer': 7846, 'deglin': 7847, 'vallerand': 7848, 'iufs7uv1hk': 7849, 'afrhnlly8d': 7850, 'jcdd6sd6qn': 7851, '9guckjghms': 7852, 'bre': 7853, 'morrow': 7854, 'busines': 7855, 'shzsymausi': 7856, 'damascus': 7857, 'grind': 7858, 'alloosh': 7859, 'manure': 7860, '7rakhp3bwm': 7861, 'pb2n77nskz': 7862, 'guvtizyche': 7863, 'defensenews': 7864, 'comus': 7865, 'subsd': 7866, 'sy2whxt0k5': 7867, 'microbe': 7868, 'zahnewjri8': 7869, 'qmif0blwoa': 7870, 'l6pif3lpen': 7871, 'sf5jdnvdw9': 7872, 'whippenz': 7873, 'startide': 7874, 'hotter': 7875, 'ohhmyjoshh': 7876, 'stevenrulles': 7877, 'blasting': 7878, 'benediction': 7879, 'sanelesstheory': 7880, 'sigeeq42cz': 7881, 'kai': 7882, 'forbath': 7883, 'mtmkimwiyy': 7884, 'looooool': 7885, 'bhavana': 7886, 'rj9gkjkjjn': 7887, 'lcc': 7888, '96355': 7889, 'danielkemp6': 7890, 'likened': 7891, 'producer': 7892, 'fel4qhwyfd': 7893, 'dmerida': 7894, 'nataly': 7895, 'cheer': 7896, '8s0mtwrumq': 7897, 'technews': 7898, 'puledo': 7899, 'tiny': 7900, 'bcjylerryx': 7901, 'bind': 7902, 'bgm4csrbvd': 7903, 'tuzacdwfqd': 7904, 'usagi': 7905, 'airhead': 7906, 'misstep': 7907, 'zomatoaus': 7908, 'lovefood': 7909, '9l5kqykrbg': 7910, 'theatershooting': 7911, 'testify': 7912, 'therefore': 7913, 'jury': 7914, 'tanslash': 7915, 'tmmorvxswz': 7916, 'z2vdgiyowf': 7917, 'ik4len': 7918, 'e65v80fcus': 7919, 'calum36chambers': 7920, 'skynews': 7921, 'scum': 7922, 'kah1kmtrj7': 7923, 'afloat': 7924, 'pension': 7925, '4ceeuzwhvf': 7926, 'lma39zrwoy': 7927, 'seemeth': 7928, 'thereof': 7929, 'contr': 7930, 'htxai05y7b': 7931, 'exploring': 7932, 'miì': 7933, 'ville': 7934, 'otrwz1t9sp': 7935, 'xvlkfcvfx5': 7936, 'greinke': 7937, 'reopened': 7938, 'knx1070': 7939, '0keh2treny': 7940, 'murlo': 7941, 'android': 7942, 'tribez': 7943, 'pbclfsxrld': 7944, 'androidgames': 7945, 'gameinsight': 7946, 'flatliners': 7947, 'longevity': 7948, 'lucifer': 7949, 'wcfpznsn9u': 7950, 'unsigned': 7951, 'qymalttvzp': 7952, 'dangerousbeans': 7953, 'phenomenal': 7954, 'securing': 7955, 'jzwrisxepf': 7956, 'daqszzubub': 7957, '452': 7958, 'ed32pbvio7': 7959, '10x': 7960, '12v': 7961, '24v': 7962, 'tractor': 7963, 'ifm6v6480p': 7964, 'rbmucurs2f': 7965, 'jtzefipdbo': 7966, 'lorr': 7967, 'instagramers': 7968, 'm3njvvtygn': 7969, 'xyiwr9jetl': 7970, 'btpqdehl3p': 7971, 'editaxohaze': 7972, 'cuffed': 7973, 'hkbpqdncba': 7974, '0f8xa4ih1u': 7975, '9hkxxbb82o': 7976, 'totoooooo': 7977, 'totoooooooooo': 7978, 'historicalmages': 7979, 'stratford': 7980, '18th': 7981, '1935': 7982, '4awc16uuwb': 7983, 'mvsrjd4x3d': 7984, 'ophiuchus2613': 7985, '1008pla': 7986, 'channelstv': 7987, 'intel': 7988, 'xtf5dvgrvh': 7989, 'wwp': 7990, 'serving': 7991, '75k': 7992, '52k': 7993, 'oif': 7994, 'oef': 7995, 'invisible': 7996, 'shhlv4dplz': 7997, 'licensed': 7998, 'produc': 7999, 'vmjrtuvmh4': 8000, 'mystical': 8001, 'gcdxydbsc4': 8002, 'mnsy1qr7bq': 8003, 'delaying': 8004, 'fundamental': 8005, 'valuation': 8006, 'fwikyurc18': 8007, 'filter': 8008, 'offsite': 8009, 'justicemalala': 8010, 'nkeajresq': 8011, 'nkea': 8012, 'gambia': 8013, 'mercenary': 8014, 'ieee': 8015, 'spectrum': 8016, 'tzr58b86qz': 8017, 'dua': 8018, 'mycareer': 8019, 'ep18': 8020, 'tyrone': 8021, 'mr5bi4kd82': 8022, 'ba4pusvjln': 8023, 'circular': 8024, 'od2ratxrqs': 8025, 'missambear': 8026, 'e90j3vjolc': 8027, 'petchary': 8028, 'displeased': 8029, 'congrats': 8030, 'reggaeboyz': 8031, 'pm2tnnfdww': 8032, 'jasoncundy05': 8033, 'utd': 8034, 'pedro': 8035, 'tsipras': 8036, 'wallybaiter': 8037, 'gbrnulp3fh': 8038, 'd62zfzy0mi': 8039, 'vsoxiooy78': 8040, 'kml': 8041, '2d': 8042, '3d': 8043, 'offshore': 8044, 'virg': 8045, 'cy1lfenyv8': 8046, 'appleofficlal': 8047, 'migrating': 8048, 'iphoto': 8049, 'wasted': 8050, 'hrsto': 8051, 'notorious': 8052, 'laboratory': 8053, 'dealer': 8054, 'peta': 8055, 'qgqlpmrfjd': 8056, 'd1ff3r3nt1sg00d': 8057, 'riceechrispies': 8058, 'madonnamking': 8059, 'density': 8060, 'x3g2ox6k8r': 8061, 'wealilknowa': 8062, 'mistaken': 8063, 'cataclysmic': 8064, 'reator': 8065, 'wwexdreamer': 8066, 'lqjjy1ptwt': 8067, 'kuala': 8068, 'lumpur': 8069, 'allen': 8070, 'enbot': 8071, 'ieksnfsby7': 8072, 'vwcf3slkrw': 8073, 'disinfo': 8074, 'yuinmerq2s': 8075, 'criticalmedia': 8076, 'wendell': 8077, 'berry': 8078, 'gulf': 8079, 'tn1ax1xmbb': 8080, 'affair': 8081, 'iqj1z3jxx8': 8082, 'sticking': 8083, 'ttq9ilhp8w': 8084, 'gmail': 8085, 'jiomnrcygt': 8086, 'carlachamorros': 8087, '6ime8kjacv': 8088, 'bentossell': 8089, 'producthunt': 8090, 'rjdx29wosp': 8091, 'freshness': 8092, 'cilo9pmleb': 8093, 'splottdave': 8094, 'teampalestina': 8095, '28700': 8096, '1967': 8097, 'woodland': 8098, '6pm': 8099, 'kotolily': 8100, 'museawayfic': 8101, 'beenghosting': 8102, 'xylodemon': 8103, 'johngreen': 8104, 'robthier': 8105, 'morel': 8106, 'ambleside': 8107, 'farmr': 8108, 'mart': 8109, 'mushroom': 8110, 'foragesecret': 8111, 'cactus': 8112, 'borderland': 8113, 'borderlands2': 8114, 'oocvg': 8115, 'ftw': 8116, 'cigs': 8117, 'breath': 8118, 'tray': 8119, 'funkflex': 8120, 'flex': 8121, '2azxdlcxga': 8122, 'ym3cww28dj': 8123, 'owen': 8124, 'twcnewsclt': 8125, 'nnbexhklhr': 8126, 'yvvpznzmxg': 8127, 'gospel': 8128, 'vcq2icptki': 8129, 'aqua': 8130, 'scghl0piq6': 8131, 'ûòåêcnbc': 8132, 'pnlucerp0x': 8133, 'politely': 8134, 'jared': 8135, 'gexhzu1vk8': 8136, 'perished': 8137, 'holodomor': 8138, 'erected': 8139, 'dj1lwznieh': 8140, 'i9mxxkzhbl': 8141, 'bellalinn': 8142, 'alrighty': 8143, 'qvx0vqtpz0': 8144, 'vuwbsrsnry': 8145, 'y9wvqkgbbi': 8146, 's5f9fcomp8': 8147, 'benjamin': 8148, 'francis': 8149, 'leftwich': 8150, '5kjy8g0i4y': 8151, 'bulgarian': 8152, 'tittie': 8153, 'noemotion': 8154, 'edk': 8155, 'pathfinder': 8156, '9odqryjncf': 8157, 'ibeyiofficial': 8158, 'olnk1ti1nm': 8159, 'dattomm': 8160, 'funniest': 8161, '4head': 8162, 'ul5xdblmbk': 8163, 'vjhpvlnbaw': 8164, 'itsmegss': 8165, 'barking': 8166, 'mcc76xowli': 8167, 'devote': 8168, 'pride': 8169, 'reprocussions': 8170, 'retroactive': 8171, 'homemade': 8172, 'yogurt': 8173, 'yzazf4ceoa': 8174, 'x5rc5nuamh': 8175, '17months': 8176, 'nrhurysypd': 8177, 'cyhi': 8178, 'teemo': 8179, 'tytpbc4gwi': 8180, 'featuring': 8181, 'm1xykecrzr': 8182, '4i0rkcbk1d': 8183, 'savior': 8184, '30p': 8185, 'siena': 8186, 'henderson': 8187, 'fdiu44jldj': 8188, 'organ': 8189, 'harvesting': 8190, '49izkbohri': 8191, 'cometh': 8192, 'bp597yds2b': 8193, 'zergele': 8194, 'qendil': 8195, 'welovela': 8196, 'nhlducks': 8197, '9v1rvcomh2': 8198, 'sportsroadhouse': 8199, 'tnxquor1wb': 8200, 'felr5a1hbp': 8201, 'kot9zvd2h7': 8202, 'irishtimesworld': 8203, 'doppler': 8204, 'edmond': 8205, 'lrx0sdsnhm': 8206, 'komo': 8207, 'qcpmktgllr': 8208, 'sucking': 8209, 'rodkiai': 8210, 'lhh': 8211, 'mastered': 8212, 'biexwdldwc': 8213, 'navista7': 8214, 'tinderbox': 8215, 'news24680': 8216, 'zoipkpbd6o': 8217, 'dalailama': 8218, 'huzrhgmksy': 8219, 'eventspalmbeach': 8220, '612bsbvw8k': 8221, 'walkthrough': 8222, 'cya': 8223, 'bubblycuteone': 8224, 'okayyyyyy': 8225, 'reiterate': 8226, 'mindset': 8227, '2lgtzkwmqw': 8228, 'alton': 8229, 'livestream': 8230, 'gvd7fcx8iz': 8231, 'roy': 8232, 'spx': 8233, '171': 8234, 'finite': 8235, 'mint': 8236, 'uhfm1r3tq5': 8237, 'qulgakebhb': 8238, 'jeep': 8239, 'fiat': 8240, 'chrysler': 8241, 'harman': 8242, 'consumerist': 8243, '2hocep41kh': 8244, 'mcgsecure': 8245, 'windowsill': 8246, 'mommy': 8247, 'baked': 8248, 'alaskan': 8249, 'neverforget': 8250, 'adhd': 8251, 'i4fz75utnh': 8252, 'slum': 8253, 'manifestation': 8254, 'illegality': 8255, 'discourse': 8256, 'confounds': 8257, 'stopevictions': 8258, 'dualcom': 8259, 'easter': 8260, 'j2aqs5loxu': 8261, 'josebasedgod': 8262, 'realm': 8263, 'baffle': 8264, 'patrickjbutler': 8265, 'damiengayle': 8266, 'phh1vmlfoo': 8267, 'tonyhsieh': 8268, 'gemini': 8269, 'uwfvwmjepu': 8270, 'pxonlrqusm': 8271, 'slipping': 8272, 'bartender': 8273, 'floatin': 8274, 'ja0wgp8spe': 8275, 'uojy4e2sv4': 8276, 'stony': 8277, 'felon': 8278, '0wbecdmhqo': 8279, 'tiffanyfrizzell': 8280, 'raf732vrtt': 8281, 'salyers': 8282, 'blair': 8283, 'jenna': 8284, 'bdn2fdpdaz': 8285, 'kirkmin': 8286, 'barthubbuch': 8287, 'weei': 8288, 'bait': 8289, 'hater': 8290, 'twilight': 8291, 'jacquie': 8292, 'biggar': 8293, 'znptdicqxe': 8294, 'kindlecountdown': 8295, 'mfrwauthor': 8296, 'mgtab': 8297, 'vent': 8298, 'txt': 8299, 'jorrynja': 8300, 'bf': 8301, 'ter': 8302, 'cqlm9jojop': 8303, '7d7vweq3es': 8304, 'dungeon': 8305, 'hassanrouhani': 8306, 'doomed': 8307, 'argues': 8308, 'pelosi': 8309, 'jnn0krnxvy': 8310, '5loiwuyv5r': 8311, 'whatevs': 8312, 'iadlslqdpd': 8313, 'o8y1sul4ow': 8314, 'f7ogzrnpfv': 8315, '35jyap0ul9': 8316, '6xysdn2xz0': 8317, 'dicehateme': 8318, 'puppyshogun': 8319, 'r21': 8320, 'voortrekker': 8321, 'tambo': 8322, 'intl': 8323, '8kscqkfkkf': 8324, 'paraguay': 8325, 'aw23wxtyjb': 8326, 'abgct9vfua': 8327, 'wqy3jokumh': 8328, 'heartdisease': 8329, 'kzfigkeeva': 8330, 'nf4iculoje': 8331, '42gw2i2q41': 8332, 'vanderbilt': 8333, 'ccdx7cglqw': 8334, 'syd': 8335, 'tzyhdbw9f5': 8336, 'oneheartonemindonecss': 8337, 'tacoma': 8338, 'qwhinbni8e': 8339, 'go0pkrfzmf': 8340, 'jlmicj6je5': 8341, 'infantryman': 8342, 'experimental': 8343, 'assertative': 8344, 'coreyashe': 8345, 'f496d': 8346, 'exporting': 8347, 'solving': 8348, 'uttanbigrx': 8349, 'irishspy': 8350, 'sucked': 8351, 'fc3bxrthpg': 8352, 'biu4kowglz': 8353, 'o097vsotxk': 8354, 'i23xy7iejj': 8355, 'kzbsohtwb4': 8356, 'preaching': 8357, 'o9qknbfofx': 8358, 'lennonparham': 8359, 'jessica': 8360, 'stclair': 8361, 'gilmoreguysshow': 8362, 'podcast': 8363, 'ihave44episodesofgg': 8364, 'nojoke': 8365, 'uyugfg3k1h': 8366, 'exploding': 8367, 'gameofkittens': 8368, 'explodingkittens': 8369, 'tfgrayudc5': 8370, 'utumvaabz6': 8371, 'stormcoming': 8372, 'positively': 8373, 'mochichiiiii': 8374, 'hikagezero': 8375, 'ww': 8376, 'wew': 8377, 'ciaramckendry': 8378, 'renewed': 8379, 'puth': 8380, 'michelleellle': 8381, 'xtezgjfs8a': 8382, 'giannis': 8383, 'submerged': 8384, 'gn3whnsfib': 8385, 'fwpof5twoc': 8386, 'billers': 8387, 'promoted': 8388, 'harbhajan': 8389, 'singh': 8390, 'stuartbroad8': 8391, 'yuvi': 8392, 'cp7c1ch0zu': 8393, 'k2bzuatuks': 8394, 'arin': 8395, 'gummy': 8396, 'grumpout': 8397, 'independence': 8398, 'rowyso': 8399, 'mtgfx3efiv': 8400, 'ember': 8401, 'lzml1xb2nh': 8402, 'hyider': 8403, 'ghost2': 8404, 'stallion150': 8405, 'kbeastx': 8406, 'genisys': 8407, 'laughtraders': 8408, 'capitulation': 8409, 'watsmxytva': 8410, 'nuu': 8411, 'fwt': 8412, 'rbrw8pwipj': 8413, 'illusoria': 8414, 'icarus': 8415, 'e2wgreicmz': 8416, 'frequent': 8417, 'midtown': 8418, 'kqjevyqzlv': 8419, 'cn': 8420, 'hmwhob7prs': 8421, 'fprt7nwrot': 8422, 'df9fjonvep': 8423, 'im2ad': 8424, 'ruled': 8425, 'dictator': 8426, 'rite': 8427, 'tlk': 8428, 'widout': 8429, 'nuh': 8430, 'itz': 8431, 'rubbery': 8432, 'knw': 8433, 'ralph': 8434, 'hk9yf72ova': 8435, '0h7oua1pns': 8436, 'campanha': 8437, 'greateranglia': 8438, 'fault': 8439, 'nss5l64cvr': 8440, 'oyogii97yh': 8441, 'attended': 8442, 'romford': 8443, 'iyjejop2wi': 8444, 'abomb': 8445, 'destroyd': 8446, 'dlgnuuuuyn': 8447, 'cnv': 8448, 'vigil': 8449, 'jvkyzndtja': 8450, 'phdsquares': 8451, 'epl': 8452, 'jyxafd4knk': 8453, 'recal': 8454, 'j2erzbmjqd': 8455, 'rebahe': 8456, 'zenande': 8457, 'mcfen': 8458, 'ndzedze': 8459, 'ashes2ashes': 8460, 'txg7k2do9v': 8461, 'damidnighter': 8462, 'arent': 8463, 'egcv7ybjae': 8464, 'dfyasvj7nf': 8465, '178': 8466, 'florid': 8467, 'kctigymahl': 8468, 'superintendent': 8469, 'lanford': 8470, 'vplr5hka2u': 8471, 'sxhw2tnnlf': 8472, 'perforated': 8473, 'shear': 8474, 'sfor': 8475, 'cx5ojh2dr4': 8476, 'ye': 8477, 'geu4h46csz': 8478, 'piveupirky': 8479, 'w3rga0nkom': 8480, '0tzsqe8esd': 8481, 'ghk9xup6e0': 8482, 'roadid': 8483, 'hikdc1fm2f': 8484, 'mariasherwood2': 8485, 'johnjcampbell': 8486, 'marvellous': 8487, 'ruhl': 8488, 'modoc': 8489, 'temporarily': 8490, 'reassigned': 8491, 'tjgxdc3d5p': 8492, '0215': 8493, 'boltåêcyclone': 8494, '400dr': 8495, 'packåêfor': 8496, '2ao97o2a9d': 8497, 'oegfqbiqiq': 8498, 'xrrlnhelap': 8499, 'trafficalert': 8500, '210': 8501, 'citrus': 8502, 'azusa': 8503, 'promised': 8504, 'xn09mx6sxy': 8505, 'emrzicb004': 8506, 'dampen': 8507, 'fdzzumyw8i': 8508, 'superpower': 8509, '2025': 8510, 'buchana': 8511, 'emtwirknyq': 8512, 'm9k08oazve': 8513, 'wrb7xd8w5y': 8514, 'croydon': 8515, 'croydonization': 8516, 'choppas': 8517, 'redblood': 8518, 'videoclip': 8519, '9pymm2ruwf': 8520, 'untangle': 8521, 'besttalkradio': 8522, '8j09zutxwt': 8523, 'snubza6ksc': 8524, 'drob': 8525, 'tbbobvcotj': 8526, '3u6mdlk7di': 8527, 'dnj': 8528, '87efcbiczm': 8529, 'pusssssssssy': 8530, 'shoook': 8531, 'bez': 8532, 'bangin': 8533, 'vbsj8tniv1': 8534, 'gearing': 8535, 'deadgrassandflowers': 8536, 's0ctcqjvjx': 8537, 'ika': 8538, '8r5vpaoo5z': 8539, 'recip': 8540, 'jvcxb75drj': 8541, 'qi2bdvkab7': 8542, 'rchs': 8543, 'coffin': 8544, 'tommorow': 8545, 'rosewell': 8546, 'djjohnblaze': 8547, 'sothwest': 8548, 'slikrickdarula': 8549, 'jfjlbf40to': 8550, 'blitz': 8551, 'seminar': 8552, 'blitzed': 8553, 'tra': 8554, 'nkaw9ezqgg': 8555, 'amaramin3': 8556, 'capable': 8557, 'åèmgn': 8558, 'africaå': 8559, '263789f4': 8560, 'fdjuyvzmrv': 8561, 'wizkidayo': 8562, 'ictyosaur': 8563, 'tyewzf3hqa': 8564, 'kirafrog': 8565, 'wario': 8566, 'samajp32': 8567, 'tone': 8568, 'soonersportstv': 8569, '2o7eva1coe': 8570, 'eac4au': 8571, 'fvp3wnid4l': 8572, 'bwdhibtiks': 8573, 'qelroci7by': 8574, 'qyx5thkrbh': 8575, 'm3': 8576, 'router': 8577, 'ddos': 8578, 'vxxmvgtzvg': 8579, 'gaming': 8580, '4tiles': 8581, 'zacb': 8582, 'dell': 8583, 'win10': 8584, 'brittanypetko': 8585, 'chriscesq': 8586, 'sorrower': 8587, 'l056yj2ioi': 8588, 'utmwmjirty': 8589, 's4pnihjqx7': 8590, '8jxql8cv8z': 8591, 'campground': 8592, 'jbodkm6rbu': 8593, 'carefully': 8594, 'unlicensed': 8595, 'woc6akehyx': 8596, 'pediatric': 8597, 'specialized': 8598, 'k1tmlwvjmj': 8599, 'usfs': 8600, 'acronym': 8601, '8nadrgr4xc': 8602, 'lockdown': 8603, 'rumor': 8604, 'hubris': 8605, 'req': 8606, 'rigour': 8607, 'desperation': 8608, 'dislocation': 8609, 'separation': 8610, 'isolation': 8611, 'm9mowcmvnj': 8612, 'cgmjlseylo': 8613, 'mikecroninwmur': 8614, 'theconspiracytheory': 8615, 'newep': 8616, 'snowy': 8617, 'junction': 8618, 'beep': 8619, 'pierce': 8620, 'veil': 8621, 'bracelet': 8622, 'wristband': 8623, '6qc8whdizy': 8624, 'inezzaes5d': 8625, 'h0xunj3c7c': 8626, 'uuew4mjles': 8627, 'khadidon': 8628, 'asoopcygwn': 8629, 'uncover': 8630, 'slumber': 8631, 'f9j3l2yjl4': 8632, 'mwwwowcayo': 8633, 'trampling': 8634, 'vandalized': 8635, 'diyala': 8636, '4izfdyc3cg': 8637, 'fadc': 8638, 'florin': 8639, 'es1b3lyway': 8640, 'irqujaesck': 8641, 'qdweknrmi9': 8642, 'bhsuxvq6nf': 8643, 'hpd3snm6oy': 8644, '9973': 8645, 'gsmddmu9pu': 8646, 'nort': 8647, 'expanded': 8648, 'slight': 8649, 'twcnews': 8650, 'ncwx': 8651, 'dgbeh5l9ds': 8652, 'xgkyvf9t4f': 8653, 'accidentalprophecy': 8654, 'hz4lkffc59': 8655, 'etribune': 8656, 'waziristan': 8657, 'acebreakingnews': 8658, 'jb038rdfak': 8659, 'kristyleemusic': 8660, 'b7zwevsrgo': 8661, '250': 8662, '6l': 8663, 'v8': 8664, 'cudkryuuan': 8665, 'dkozymvy5l': 8666, 'ykltfj1fnc': 8667, 'umzkc9azwd': 8668, 'homasttopa': 8669, 'nowwwwww': 8670, 'lucypalladino': 8671, '1500': 8672, 'wrightsboro': 8673, 'dduxthvvnr': 8674, 'obfd7e4qcp': 8675, 'yazje5owvk': 8676, '6vei1mhea4': 8677, 'bbjls1fsad': 8678, 'avysss': 8679, 'atleast': 8680, 'di8elzswnr': 8681, 'medinah': 8682, '105': 8683, 'imkeepingmydayjob': 8684, 'kcmbbwwp8g': 8685, 'stlouis': 8686, 'caraccidentlawyer': 8687, 'speeding': 8688, 'k4zomof319': 8689, 's2kxvm0cba': 8690, 'riooooos': 8691, 'beast': 8692, '463p0ys0eb': 8693, 'a0ad8z5vsr': 8694, 'alipaper': 8695, 'keepingtheviginaclean': 8696, 'reviewing': 8697, 'commuter': 8698, 'ft7orfa52y': 8699, 'dv4mmlso1i': 8700, 'hinatobot': 8701, 'determine': 8702, 'financially': 8703, 'humbled': 8704, 'acc1z5q9zw': 8705, 'ltmgdp6jaf': 8706, 'cyhitheprynce': 8707, 'elephantintheroom': 8708, '5v29w19tfx': 8709, 'uhhhhh': 8710, 'crusade': 8711, 'optps1lgkc': 8712, 'stavernise': 8713, 'delivered': 8714, 'k4h8cq7puo': 8715, 'repulsive': 8716, 'victimiser': 8717, 'evangelical': 8718, 'liar': 8719, 'dupe': 8720, 'overdrive': 8721, 'choppergate': 8722, 'bronwynbishop': 8723, 'owenrbroadhurst': 8724, 'juanmthompson': 8725, 'hist': 8726, 'odws0waw9q': 8727, 'brochure': 8728, 'downside': 8729, 'b7omj7u3ei': 8730, 'zlagv1u5za': 8731, 'wasnt': 8732, 'everwhe': 8733, 'acquired': 8734, 'blowltan': 8735, 'crossfit': 8736, 'qamwojyahq': 8737, 'stephenking': 8738, 'thedarktower': 8739, 'j9lpdrxcde': 8740, 'bdisgusting': 8741, 'encouraged': 8742, '6qzxfk2lfs': 8743, 'fiction': 8744, '79upydcemp': 8745, 'reacts': 8746, 'i6zqlk2puz': 8747, 'aberystwyth': 8748, 'shrewsbury': 8749, 'shrew': 8750, 'att': 8751, 'emvohm9m6j': 8752, 'chubbysquirrel': 8753, '33333': 8754, 'sf2vwqvjya': 8755, 'terwilliger': 8756, 'pp15000266858': 8757, 'kook': 8758, 'gfrost1985': 8759, 'jeffpalmer16': 8760, 'cary': 8761, 'mim8hh2ce6': 8762, 'skq8oucm3r': 8763, 'woo': 8764, 'hoo': 8765, 'sexuality': 8766, 'diagnosis': 8767, 'digitalhealth': 8768, 'hcsm': 8769, '5qhqo6ejtu': 8770, 'leoblakecarter': 8771, 'mg1lpgr0rm': 8772, 'natasha': 8773, 'rideout': 8774, 'udhampuragain': 8775, '627': 8776, 'striked': 8777, 'otm': 8778, 'daewony0406': 8779, 'rebooting': 8780, 'teamfollowback': 8781, 'holtz': 8782, 'burford': 8783, 'council': 8784, '4vwsl2gfp0': 8785, 'wlmsq3mtho': 8786, 'runaway': 8787, 'u2kwof3wtj': 8788, 'avu9b4k2rv': 8789, 'thesensualeye': 8790, 'apr': 8791, 'boob': 8792, 'detector': 8793, 'shevlin': 8794, 'hixon': 8795, 'z6ee1jvhni': 8796, 'flowri': 8797, 'marinading': 8798, 'tnn': 8799, '9lo0hzwjpz': 8800, 'retiredfilth': 8801, 'unreal': 8802, '0blkwcupzq': 8803, 'harrystyles': 8804, 'cern': 8805, 'oo': 8806, 'p4huqundqi': 8807, 'sholt87': 8808, 'mtgrotto': 8809, 'eco11c': 8810, 'carlsbadbugkil1': 8811, 'lowered': 8812, '401ks': 8813, 'titortau': 8814, 'lynch': 8815, 'larious': 8816, 'checking': 8817, 'ombudsmanship': 8818, 'lifeguard': 8819, 'paztdblgyk': 8820, 'nigh': 8821, 'xwms1aww8m': 8822, 'te2yerugsi': 8823, 'gamin': 8824, 'ight': 8825, 'starflame': 8826, 'ujrx9kgawp': 8827, 'marc': 8828, 'holl': 8829, 'nennicook': 8830, 'aitchkaycee': 8831, 'vixstuart': 8832, 'benjbeckwith': 8833, 'ûïparties': 8834, 'sirtophamhat': 8835, 'scynic1': 8836, 'nafeezahmed': 8837, 'jeremyduns': 8838, 'wartime': 8839, 'wroug': 8840, 'efsa6pbemc': 8841, 'wth': 8842, 'rotating': 8843, 'j3di85ist5': 8844, 'kontrolled': 8845, 'ww3': 8846, 'dice': 8847, 'demonization': 8848, 'nbcnightlynews': 8849, 'foutpwgfwy': 8850, 'differently': 8851, 'pt1': 8852, '9utqe9zfde': 8853, 'column': 8854, 'yqg5pvw5gx': 8855, 'nyse': 8856, 'fdx': 8857, '2kdq56xtws': 8858, 'kue48nmjxh': 8859, 'sow': 8860, 'ixw2cutk1c': 8861, '1952': 8862, 'dodge': 8863, 'bodied': 8864, 'libby': 8865, 'mcejzzxgh8': 8866, 'trains': 8867, 'epsom': 8868, 'wimbledon': 8869, 'chili': 8870, 'molten': 8871, 'l90dcpv9zu': 8872, 'bilsen': 8873, 'z99pkjztrp': 8874, 'adanne': 8875, 'sensitive': 8876, '2jhtlwuey0': 8877, 'positivity': 8878, '1uo1atrbbj': 8879, 'mudgu1puns': 8880, 'aqxwolbcfq': 8881, 'coastguard': 8882, 'kjuzjc6igd': 8883, 'mazda': 8884, 'v6': 8885, 'c8uxkizwm6': 8886, 'snxgh9r16u': 8887, 'olliebailey11': 8888, 'havnt': 8889, 'knbv2ytnwc': 8890, 'qz': 8891, 'taraswart': 8892, 'giang': 8893, 'straightfire': 8894, 'pcjbvrs7xw': 8895, 'pspm3ahgkq': 8896, 'etyzy8gb2a': 8897, 'carmike': 8898, 'behfhsppud': 8899, 'gostei': 8900, 'um': 8901, 'vì': 8902, 'deo': 8903, 'christinartnd': 8904, 'bwe9kjcept': 8905, 'postcard': 8906, 'polaroid': 8907, 'burger': 8908, 'te5tdlyimn': 8909, 'newscomauhq': 8910, 'alarmingly': 8911, 'yhyy3o609u': 8912, 'audacityjamesta': 8913, 'lan': 8914, 'hmrt98oydj': 8915, 'investment': 8916, 'keurig': 8917, 'gtdnw1spvi': 8918, 'bluewestlo': 8919, '38745': 8920, 'upgd2cy9il': 8921, 'da9lzton1c': 8922, 'suing': 8923, 'modm8x1ot9': 8924, 'ossc7q12ir': 8925, 'dmac1043': 8926, 'reddish': 8927, 'colored': 8928, 'pronouncing': 8929, 'costa': 8930, 'urg': 8931, 'danemillar1': 8932, '666': 8933, 'i8sj1kws1d': 8934, 'doylech': 8935, 'persecution': 8936, 'impulsive': 8937, 'redesigned': 8938, '3967': 8939, 'deeeznvtzzz': 8940, 'j2bone': 8941, 'evacide': 8942, 'sharply': 8943, 'dfyrppzkpu': 8944, 'iwsdbgd1zq': 8945, 'onthisday': 8946, 'mayflower': 8947, 'laphamsquart': 8948, 'ssn1mxsfoa': 8949, 'fw8elbnap7': 8950, 'redbull': 8951, 'lightningstrike': 8952, 'rjjxucx5pm': 8953, 'constitute': 8954, 'jblrrnmdsm': 8955, 'publichealth': 8956, 'togthe': 8957, 'c0nkgp6w03åê': 8958, 'imwmfdjssn': 8959, 'rig': 8960, 'mixtape': 8961, 'goin': 8962, 'uungrqougn': 8963, 'modqnalwsb': 8964, '4c58ooavhy': 8965, 'sidelinesavage': 8966, 'htqvf44uqs': 8967, 'pvxelxcjeu': 8968, '10news': 8969, 'paug7a68i0': 8970, 'entitlement': 8971, 'gloomy': 8972, 'x4ecggvnsn': 8973, 'biblical': 8974, 'm4tui0p9nt': 8975, 'mylittlepwnies3': 8976, 'anathemazhiv': 8977, 'tonysandos': 8978, 'wrongdejavu': 8979, 'ohbv7yvtl5': 8980, 'ymuti3nd9r': 8981, 'tanehisicoates': 8982, 'laced': 8983, 'monologue': 8984, 'charlize': 8985, 'coulda': 8986, 'pummel': 8987, 'jkym9edofc': 8988, 'm6x1': 8989, 'thread': 8990, 'sqpshaws0w': 8991, 'udlebh88uz': 8992, 'yytkp1z5kg': 8993, 'krnw0wxhe5': 8994, '30pcs': 8995, '12mm': 8996, 'resin': 8997, 'flatback': 8998, 'rhinestone': 8999, 'decoration': 9000, 'fa': 9001, 'pardon': 9002, 'mindless': 9003, 'unharmed': 9004, 'denied': 9005, 'ex4fnjjl6h': 9006, '3ac5wuy1r0': 9007, 'greater': 9008, 'comfortable': 9009, 'mane': 9010, 'cuana': 9011, 'j3cirxjfa6': 9012, 'qhbzkerott': 9013, 'cogxbox': 9014, 'xboxone': 9015, 'zipped': 9016, 'kg5plkedhr': 9017, 'qeihvn3dnq': 9018, 'hardstyle': 9019, 'messy': 9020, 'mixify': 9021, 'sectarian': 9022, 'militia': 9023, 'withdraw': 9024, 'fightin': 9025, 'uve': 9026, 'boylesports': 9027, 'casino': 9028, 'zildpvknxp': 9029, '5ydb4s13pf': 9030, 'soaring': 9031, 'vymouzjzre': 9032, 'enrjh5qkve': 9033, '7uf7tst9zx': 9034, 'risky': 9035, 'invading': 9036, 'yqjpn3quux': 9037, 'apologise': 9038, 'sincerely': 9039, 'grudge': 9040, 'unfollow': 9041, 'baking': 9042, 'hfqlwo1kmy': 9043, 'letdown': 9044, 'lei9dwvllq': 9045, 'wr48aqtum7': 9046, 'chim': 9047, 'smarttek': 9048, 'mpers': 9049, '3oionqlfql': 9050, 'misfortunebut': 9051, 'juneau': 9052, '94uyt4ojyk': 9053, 'calestous': 9054, '8zy9n6fx9t': 9055, 'itz9masbvz': 9056, 'chapoutier': 9057, 'crozes': 9058, 'hermitage': 9059, 'violet': 9060, 'yum': 9061, 'skvwn38hz7': 9062, 'zhsll7swbh': 9063, 'stood': 9064, 'superiority': 9065, 'unconditional': 9066, 'b0es3ziork': 9067, 'juiit2yfvo': 9068, 'ys3walzvjg': 9069, 'glaucoma': 9070, 'nerve': 9071, 'eyefacts': 9072, 'leelanau': 9073, '2b': 9074, 'extended': 9075, 'oskfyj8ck7': 9076, 'besafe': 9077, 'tpoaprjudp': 9078, 'sqgogj3s5r': 9079, 'nightbeat': 9080, 'veronicadlcruz': 9081, '2minutemix': 9082, 'n1tjct8hmc': 9083, 'pytqm7rvp0': 9084, '2jxkmkpalp': 9085, 'ec46lyqqc6': 9086, 'oomf': 9087, 'instagrams': 9088, 'eyorbmf3o3': 9089, 'nia': 9090, 'quizzed': 9091, 'denies': 9092, 'ogzjokd7sv': 9093, 'achedin': 9094, 'grandmother': 9095, '8217': 9096, 'ndcy8q7r6i': 9097, 'argue': 9098, 'tindering': 9099, '20mins': 9100, 'ryleedowns02': 9101, 'nevaehburton33': 9102, 'tkmotaeaco': 9103, 'pmggavtokp': 9104, 'barbados': 9105, 'bridgetown': 9106, 'superintende': 9107, 'wdueaj8q4j': 9108, '15p': 9109, 'musbik7ejf': 9110, 'rescind': 9111, 'u4r8driuac': 9112, 'shantaeskyy': 9113, 'holymileyray': 9114, 'mooniighthunty': 9115, 'crazyindapeg': 9116, 'vets78734': 9117, 'understandable': 9118, 'guthrie': 9119, 'hcwrk81p71': 9120, 'ojq0kfg5ub': 9121, 'wxhmp5ppjq': 9122, 'auz': 9123, 'cst': 9124, 'radioriffrocks': 9125, 'pjlda9hd5v': 9126, 'hump': 9127, '3wnjauar7w': 9128, 'claiming': 9129, 'banthebomb': 9130, '6g49ywwsqj': 9131, 'iidkc0jsbx': 9132, 'najibrazak': 9133, 'malaysiaairlines': 9134, '2nip3d15dx': 9135, 'egyfnlaoqv': 9136, 'westchester': 9137, 'eligible': 9138, 'xsr2vujyiz': 9139, '3ln8trhw6x': 9140, 'pg': 9141, 'movt': 9142, 'cs8myauna4': 9143, '0npzp': 9144, 'tire': 9145, 'ph2xli8nve': 9146, '22fuxhn7el': 9147, 't6fuahfp7p': 9148, 'hempoil': 9149, 'cannabis': 9150, 'rhe7dxm7ey': 9151, 'tozlet': 9152, 'leprosy': 9153, 'jerkface': 9154, 'lateral': 9155, 'lisp': 9156, 'rickets': 9157, 'manual': 9158, 'towboat': 9159, 'vtc': 9160, 'eaaqumkkc9': 9161, 'boulder': 9162, 'stearns': 9163, '7cadm3lnko': 9164, '2fs649qdwx': 9165, 'panoramic': 9166, 'muwmfjgzyh': 9167, 'kltit88as3': 9168, 'wplrhbfhee': 9169, 'eelex4ssvf': 9170, 'crqck': 9171, 'becyme': 9172, 'mayor': 9173, 'includes': 9174, 'foursquare': 9175, 'balanced': 9176, 'u2do2mc2ri': 9177, '3om3xw6cz8': 9178, 'freebesieged': 9179, 'wafer': 9180, '2q3fuerey5': 9181, 'swami': 9182, 'agnivesh': 9183, 'presser': 9184, 'bulak': 9185, 'jaclynsonne': 9186, 'oliviaann': 9187, 'guessing': 9188, 'tarp': 9189, 'outfield': 9190, 'infield': 9191, '2iafpmqjep': 9192, 'lgrocbxpqo': 9193, 'rinkydnk2': 9194, 'zaibatsunews': 9195, 'neoprogressive1': 9196, 'push2left': 9197, 'ecology': 9198, 'rts': 9199, 'afghetc': 9200, 'humanitarian': 9201, 'darwinism': 9202, 'camila': 9203, 'spree': 9204, 'looooooooooool': 9205, 'jrkgyl7te5': 9206, 'slew': 9207, 'unfml': 9208, 'fz1haej255': 9209, 'ctaztrophe31': 9210, 'cranboonitz': 9211, 'hereticofethics': 9212, 'njaffyjarz': 9213, '1xhsuewqn4': 9214, 'fj7kcrlir7': 9215, 'oneborn': 9216, 'gtycqyfuam': 9217, 'qwd5pvgjbo': 9218, 'mantra': 9219, 'geht4ski86': 9220, 'moe': 9221, 'bouta': 9222, 'binellithresa': 9223, 'uan05tnksw': 9224, 'fce0k1ihti': 9225, 'portable': 9226, 'closet': 9227, 'gvm70u2bpm': 9228, 'mkayla': 9229, 'petty': 9230, 'childish': 9231, 'jonesboro': 9232, 'p3g3bqbczu': 9233, 'rpbxdfnx5k': 9234, 'returning': 9235, 'southline': 9236, 'yennora': 9237, 'cabramatta': 9238, 'pox': 9239, 'w2ixt1k0ab': 9240, 'infectiousdiseases': 9241, 'thriving': 9242, 'hub': 9243, 'ûótech': 9244, 'upa': 9245, 'cleverbot': 9246, 'vve3usesgf': 9247, 'omgbethersss': 9248, 'bethanymota': 9249, 'hendrixonfire': 9250, 'blackcats': 9251, 'noob': 9252, 'mixed': 9253, 'violated': 9254, 'mm': 9255, '459': 9256, 'jbxbi93clu': 9257, 'reminded': 9258, 'freshly': 9259, 'coiffed': 9260, 'bigåêconsequences': 9261, 'cvpdvhxd1r': 9262, 'fdmxp4fcmo': 9263, 'uu64wfg17m': 9264, 'overåêhostages': 9265, 'carvv6gsrb': 9266, 'lan76zqkxg': 9267, 'catalogue': 9268, 'hook': 9269, 'elementary': 9270, 'lwlexxjus8': 9271, 'zxathetis': 9272, 'badly': 9273, 'åêfedex': 9274, 'k0y7xfxmxa': 9275, 'uprooting': 9276, 'enrpgrgtts': 9277, 'modis': 9278, 'morocco': 9279, 'strait': 9280, 'gibraltar': 9281, 'qwqnni7vmz': 9282, 'duststorm': 9283, 'crabbycale': 9284, 'hbdo22nqpz': 9285, 'bangladeshaffected': 9286, 'bangladeshflood': 9287, 'surviving': 9288, 'qzcut7bvkt': 9289, 'chrisman528': 9290, 'sparking': 9291, 'akxbskdn': 9292, 'mkqsvp8e0g': 9293, 'currency': 9294, 'transgress': 9295, 'ward': 9296, 'payment': 9297, 'unsecured': 9298, 'jbumzqpk': 9299, 'duh': 9300, '7paovyzttw': 9301, 'frenzy': 9302, 'astounding': 9303, 'catovitch': 9304, 'tmogti6fb4': 9305, 'atombomb': 9306, 'wpd': 9307, '17th': 9308, 'ehlq3zsptd': 9309, 'djx5elbrv1': 9310, 'abha': 9311, '1xw0z8zeqw': 9312, 'sodamntrue': 9313, 'utahcanary': 9314, 'sigh': 9315, 'karijobe': 9316, 'tambourine': 9317, 'codycarnes': 9318, 'belie': 9319, 'a3b5n3rcr5': 9320, 'reince': 9321, 'presssec': 9322, 'manitou': 9323, 'forgets': 9324, 'wisely': 9325, 'carnage': 9326, 'continuing': 9327, 'ggindependencmessage': 9328, 'napviygkyk': 9329, 'poway': 9330, 'hcg': 9331, 'ensures': 9332, 'whensoever': 9333, 'nevermore': 9334, 'sizygwwf': 9335, 'deliberately': 9336, 'carolinaåêablaze': 9337, 'pcxarbh9an': 9338, 's3xleak': 9339, 'ph0tos': 9340, '19yrs': 9341, 'festac': 9342, 'exp0sed': 9343, 'bbm': 9344, 'ixrehm05yq': 9345, 'nno': 9346, '7cmf3noync': 9347, '3others': 9348, 'hardest': 9349, 'yard': 9350, '20000k': 9351, '0x2bieqxpv': 9352, '1x1': 9353, 'vjlnskbg86': 9354, 'tbstk5vqu0': 9355, 'rhode': 9356, 'modernize': 9357, 'ap9jbrpmqg': 9358, 'phiddleface': 9359, 'turns': 9360, 'mtmoia0oo0': 9361, 'nn4ztcmsru': 9362, 'keegan172': 9363, 'connorfranta': 9364, 'askconnor': 9365, 'hopefulbatgirl': 9366, 'beaten': 9367, 'ra': 9368, 'ghul': 9369, 'dggm5b0w4l': 9370, 'eyr2xx5l1p': 9371, 'ocmcvfdzkv': 9372, 'm19ivwrdkk': 9373, 'foreclosed': 9374, 'tejc': 9375, 'hav': 9376, 'sht': 9377, 'gilderoy': 9378, 'vygh2ni4ah': 9379, '6aqrnankfd': 9380, 'painful': 9381, 'bannister': 9382, 'rayquazaerk': 9383, 'employed': 9384, 'deployment': 9385, 'n6zflxigvr': 9386, 'fetch': 9387, 'pyjama': 9388, 'k9asktwxfl': 9389, 'tdeukjzzii': 9390, 'tdwprvb04y': 9391, 'j5onxfwlao': 9392, 'windstormåêinsurer': 9393, '92fwtobi3u': 9394, 'okgabby': 9395, 'carpooling': 9396, 'richarkkirkarch': 9397, 'ausinstarchitect': 9398, 'queenswharf': 9399, 'brisbane': 9400, 'jmkywhv7mp': 9401, 'financialreview': 9402, 'mazing': 9403, 'ficd5qbqwl': 9404, '0dqjeretxu': 9405, 'lancasteronline': 9406, 'ph7wllkrfi': 9407, 'lancaster': 9408, 'resort': 9409, 'mulan': 9410, 'scrolling': 9411, 'exact': 9412, 'pnhpljho8e': 9413, 'zicac': 9414, 'briefcase': 9415, 'a3xv6ff8dn': 9416, 'dented': 9417, 'deductible': 9418, 'wcvb': 9419, 'mrvxbzywd4': 9420, 'gaotrg4mtr': 9421, 'etoffe': 9422, 'charmeuse': 9423, 'clothesless': 9424, 'precisionistic': 9425, 'vestment': 9426, 'psfda': 9427, '7fsn1gewux': 9428, 'skinless': 9429, 'leitchfield': 9430, 'bella': 9431, 'rosalie': 9432, 'sponsorship': 9433, 'ajay0snplg': 9434, 'owje3i6ygn': 9435, 'elianaraquel': 9436, 'wilden': 9437, 'concludes': 9438, 'deactivated': 9439, '93iaeec26t': 9440, 'blazerfan': 9441, 'ignoranceshe': 9442, 'latinoand': 9443, 'benothing': 9444, 'morebut': 9445, 'zuqgvjneqa': 9446, 'philipduncan': 9447, 'breakfastone': 9448, 'philip': 9449, '6m0ynjwbc9': 9450, 'identification': 9451, 'bqv3qttuxr': 9452, '0drqlrsgy5': 9453, 'celestial': 9454, 'separate': 9455, 'trajectory': 9456, 'intertwine': 9457, 'trustymclusty': 9458, 'fcked': 9459, 'pattyds50': 9460, 'gwfrazee': 9461, 'joshuaassaraf': 9462, 'oioecbsh1f': 9463, 'seismicsoftware': 9464, 'enablement': 9465, 'kwmrcekvtf': 9466, '4xb4zwyhct': 9467, '500th': 9468, 'duststormfilm': 9469, 'rawfoodbliss': 9470, 'humid': 9471, 'forehead': 9472, 'flared': 9473, 'oli': 9474, 'extract': 9475, 'ara': 9476, 'infiltrated': 9477, 'ashrafiyah': 9478, 'afrin': 9479, 'ypg': 9480, 'imposed': 9481, 'eileenmfl': 9482, 'vsgqolr32g': 9483, 'p7uhcb13qx': 9484, 'participate': 9485, 'simulating': 9486, 'nwv2rvghf3': 9487, 'hvnewsnetwork': 9488, 'xh4dz1gpyw': 9489, 'g0hsyh7yav': 9490, 'q5q1x5vcqk': 9491, 'marilyn': 9492, 'monroe': 9493, 'ripriprip': 9494, 'yyeso': 9495, 'newser': 9496, 'tb8gzembxu': 9497, 'xe0ee1fzfh': 9498, 'tianta': 9499, 'busty': 9500, 'natalia': 9501, 'starr': 9502, 'ibx3cragtt': 9503, 'gqskwqzuul': 9504, 'redeemer': 9505, '4h8qyvvd0e': 9506, 'romanticsuspense': 9507, 'sword': 9508, 's5': 9509, 'starks': 9510, 'greyjoys': 9511, 'adoptive': 9512, 'suny': 9513, 'ctr': 9514, 'goshen': 9515, '80dzgco6vc': 9516, 'uchiha': 9517, 'genitals': 9518, 'terrified': 9519, 'shanaynay': 9520, 'annoyed': 9521, 'hung': 9522, 'audaciousspunk': 9523, 'terrific': 9524, 'pc7s8nxj6q': 9525, '9xohmmlmdy': 9526, 'gagnon': 9527, 'imposing': 9528, 'marriage': 9529, 'hipklxphnp': 9530, 'lyeh': 9531, '829n4hjhol': 9532, '3sqsergni2': 9533, '6gsamy6mts': 9534, 'paje5mxn1z': 9535, 'tuvbr4lep3': 9536, 'xfguklrltf': 9537, 'fegu8hwmc4': 9538, 'newyorkcity': 9539, 'lennox': 9540, 'drjustinmazur': 9541, 'car5qeuvhh': 9542, 'qfjjdxes7g': 9543, 'nanotech': 9544, 'clot': 9545, 'hfy5v3slbb': 9546, '5yrbegzafx': 9547, '6gldwx71da': 9548, 'disneyirh': 9549, 'tatzfk63ch': 9550, 'jmastrodonato': 9551, 'ortiz': 9552, 'bunting': 9553, 'forefather': 9554, 'implication': 9555, 'glove': 9556, '6jzcedayrg': 9557, 'yl67dkf4tb': 9558, 'o7qogmoegu': 9559, 'ssb4': 9560, 'loser': 9561, '8km': 9562, '3bwwnlsxhb': 9563, 'salvage': 9564, '7b2wf6ovfk': 9565, '7k5shaiqiw': 9566, 'meteor': 9567, 'qllkofdyzx': 9568, 'rgjjumnnah': 9569, 'ahhhh': 9570, 'y678xsnvj6': 9571, 'gpvzv0249y': 9572, 'ke6djxanmm': 9573, 'cm5u55miol': 9574, 'okcfox': 9575, 'qw8qk165sb': 9576, 'monica': 9577, 'fpaoulwu3n': 9578, 'jlput7va3s': 9579, 'resting': 9580, 'carlilescanoelivery': 9581, 'lovemyjob': 9582, 'zo8rsqura2': 9583, 'crowned': 9584, 'tends': 9585, 'jasminehuerta24': 9586, 'uriminzok': 9587, 'puppet': 9588, 'naemolgo': 9589, 'firmly': 9590, 'yiraneuni': 9591, '578gunp8t9': 9592, 'coalition': 9593, 'fondness': 9594, 'backing': 9595, '1984': 9596, 'totalitarianism': 9597, 'copied': 9598, '58wvchg1m9': 9599, 'kkdx8zmv4g': 9600, 'vienna': 9601, 'butcher': 9602, 'sequwmvfx4': 9603, 'wooooooo': 9604, 'gamerant': 9605, 'esports': 9606, '76ehhmqq6r': 9607, 'umtffa9jjb': 9608, 'mistresspip': 9609, 'amazed': 9610, 'mistress': 9611, 'doricreates': 9612, 'alhanda': 9613, 'moonbeam': 9614, 'toke': 9615, 'submitt': 9616, 'nbugsmqlrg': 9617, 'aviationaddicts': 9618, 'lyme': 9619, 'rgt9ghodpw': 9620, 'ì': 9621, 'glzmgbm7w0': 9622, 'savage': 9623, 'gangstermail': 9624, 'samsung': 9625, 'kach': 9626, '1994': 9627, 'bxgnq57xvb': 9628, 'queenwendy': 9629, 'staining': 9630, 'budmke3nnf': 9631, 'gigw51izpk': 9632, '8kj1wdaigj': 9633, 'ashdod': 9634, 'emittin': 9635, 'swq5lmydka': 9636, '8ddijzynkf': 9637, '52uus4tfn3': 9638, 'violator': 9639, 'improved': 9640, 'hurled': 9641, 'nuked': 9642, 'w0exzad5gc': 9643, 'argentaelite': 9644, 'engineermatarai': 9645, 'ate': 9646, 'mataas': 9647, 'kc': 9648, 'hired': 9649, 'incompetent': 9650, 'fy0r9o7xsl': 9651, 'ojhcgzxlst': 9652, 'hkxyzhvmqe': 9653, '616': 9654, 'qyu8grorq1': 9655, 'chew': 9656, 'ggn39m60tl': 9657, 'attempted': 9658, 'jbrk8zsry6': 9659, 'bestcomedyvine': 9660, 'shawie17shawie': 9661, '02elqlopfk': 9662, 'm9ig3wq8lq': 9663, 'dyersburg': 9664, 'jamienye': 9665, 'coaching': 9666, 'defence': 9667, 'cursed': 9668, 'igcetumkcw': 9669, 'calfee': 9670, 'mattburgener': 9671, 'msmigot': 9672, 'convincing': 9673, 'compelling': 9674, 'tend': 9675, 'delphi': 9676, 'as10004': 9677, 'lmrkgporcf': 9678, '6wadnmstov': 9679, 'carneross': 9680, 'remarkably': 9681, 'puny': 9682, 'epoch': 9683, 'jtw': 9684, 'ceiao1texr': 9685, 'bgrab7lk8d': 9686, 'magnet': 9687, 'btus5jejuy': 9688, 'zrtfxluk6r': 9689, 'qpwotugui9': 9690, 'reputation': 9691, 'prestige': 9692, 'prosser': 9693, 'h09nydbzov': 9694, 'oct336': 9695, 'laurenjauregui': 9696, 'kylewappler': 9697, 'thisishavehope': 9698, '1pdnlsp8xw': 9699, '3novices': 9700, '2i4eoggo5j': 9701, 'tem': 9702, 'gainesville': 9703, 'senatemajldr': 9704, 'rhee1975': 9705, 'deliciousvomit': 9706, 'toooooo': 9707, 'bck': 9708, 'daborsch': 9709, 'lured': 9710, 'fanbase': 9711, 'disappointed': 9712, 'everyones': 9713, 'dazzle': 9714, 'dal': 9715, 'eujgu1hvvx': 9716, 'r6kzsqdghz': 9717, 'maddie': 9718, 'tae': 9719, 'oktxduo': 9720, 'elreynetwork': 9721, 'ox6ouw3yut': 9722, 'ib': 9723, 'sauldale305': 9724, 'naturalexample': 9725, 'tl29lnu44o': 9726, 'safyuan': 9727, 'citation': 9728, 'possesion': 9729, 'decriminalized': 9730, 'substance': 9731, 'ykelquiban': 9732, 'ffnzit7kgn': 9733, 'sct014': 9734, 'bkn032': 9735, 'whistleblower': 9736, 'ipwysnik0g': 9737, 'adz8kburt7': 9738, 'supernovalester': 9739, 'jfc': 9740, 'boygbp0jw9': 9741, 'wa5c77f8vq': 9742, 'wackoes': 9743, 'geoffrickly': 9744, 'hvxu1zcvau': 9745, 'ijmccmhh5g': 9746, 'suelinflower': 9747, 'describe': 9748, 'painthey': 9749, 'lifeits': 9750, 'kz35rgngjf': 9751, 'pascoe': 9752, 'vale': 9753, 'outbound': 9754, 'tullamarine': 9755, 'citylink': 9756, 'moreland': 9757, 'u2njpor39k': 9758, 'gsomtdpmoj': 9759, 'a0v1ybysod': 9760, 'liveonstreamate': 9761, 'nzifztcugl': 9762, 'lbpx8bucnv': 9763, 'catlow': 9764, 'c720': 9765, 'swivel': 9766, '3dc': 9767, 'shar': 9768, 'blppzaiboe': 9769, 'themaine': 9770, 'nottingham': 9771, 'km8ucihrrn': 9772, 'qew': 9773, 'erie': 9774, 'bryansinger': 9775, 'rupaul': 9776, 'alexshipppp': 9777, 'oqw8jx6rts': 9778, 'cpeqv52lna': 9779, 'rjebpib5rz': 9780, '12pm': 9781, 'ayfdjeb7hy': 9782, 'theblackshag': 9783, 'dannyoneil': 9784, 'noxious': 9785, 'ddnt': 9786, 'reign': 9787, 'coco': 9788, 'ostentatious': 9789, 'candylit': 9790, 'sarumi': 9791, 'xizkjfff29': 9792, 'fuddy': 9793, 'authenticating': 9794, 'sole': 9795, 'mzrhfojt2j': 9796, 'xvii': 9797, 'kbtzzzg2tp': 9798, 'ik7mgidvbm': 9799, 'af1yzus8ln': 9800, 'y518jyrzav': 9801, 'kaputt21': 9802, 'gregory': 9803, 'wickett': 9804, 'kakajambori': 9805, 'yor': 9806, 'bfes5twbzt': 9807, 'dna': 9808, '7adqv1grvr': 9809, 'remembrance': 9810, 'ii4ewe1qir': 9811, 'h3vusqzyqo': 9812, 'tennis': 9813, 'defending': 9814, 'champ': 9815, 'svetlana': 9816, 'kuznetsova': 9817, 'withdraws': 9818, 'citi': 9819, 'espn': 9820, 'im2hdsklq5': 9821, 'bftou2nybw': 9822, 'inkuv5dntx': 9823, '1cvegtizog': 9824, 'oilandgas': 9825, 'ohholj9vev': 9826, '9rfo9gy3ne': 9827, '301dc': 9828, 'goldrush': 9829, 'tu9cglmgvr': 9830, 'rochdale': 9831, 'heywood': 9832, 'superman': 9833, 'slowpoke': 9834, 'poc': 9835, 'b2': 9836, 'fremont': 9837, '15000270364': 9838, 'winger': 9839, 'prem': 9840, 'kq9ae6ap2b': 9841, 'carfest': 9842, 'airplaneåê': 9843, 'wq3wjsgphl': 9844, 'xlfi7ovhfj': 9845, 'raq4zpdvke': 9846, '17000': 9847, 'columbus': 9848, 'n8ezfctfce': 9849, 'micallef': 9850, 'troubleonmymind': 9851, 'grupdates': 9852, 'fqcdphccg7': 9853, '5ebpybfh4d': 9854, 'rs5': 9855, 'rvczmimfvx': 9856, 'yeljpqhmed': 9857, '9tb82zmr2x': 9858, 'marge': 9859, 'eheks': 9860, '1ybe5mgzl4': 9861, '7zog3dpdu9': 9862, 'swedish': 9863, '4kdthctemv': 9864, 'tanstaafl23': 9865, 'correlation': 9866, 'imply': 9867, 'causation': 9868, 'ryanoss123': 9869, 'hitter': 9870, 'm2yuxnqlqy': 9871, 'v8gkkfmfxt': 9872, 'r5bgvlqpjt': 9873, 'mehwkzwtxd': 9874, 'documenting': 9875, '4q4zd7ou34': 9876, 'raniakhalek': 9877, 'orianna': 9878, 'ecxmoinzgu': 9879, 'ntwwdwednb': 9880, 'toxicsavior': 9881, 'froze': 9882, 'pound': 9883, '3htj2pypsg': 9884, 'jddnhmrmmj': 9885, 'rottentomatoes': 9886, 'thebuffshow': 9887, 'thetwisterokc': 9888, 'shaniatwain': 9889, 'twisterlovesshania': 9890, 'o61h2taae4': 9891, 'tricycle': 9892, 'ljeryhitwh': 9893, '119000': 9894, '966': 9895, 'eu8jypizsd': 9896, 'translated': 9897, 'dmrsyeiqz3': 9898, 'mateo': 9899, 'doesnt': 9900, 'pointless': 9901, 'complaining': 9902, 'emblem': 9903, 'gigant': 9904, 'lethbridge': 9905, '05th': 9906, 'mdt': 9907, 'yqyiwjn8ez': 9908, 'z5cfrwado6': 9909, '724gq5ebqz': 9910, 'h01j9pirie': 9911, 'awn': 9912, 'incapable': 9913, 'nothingness': 9914, 'blaise': 9915, 'pascal': 9916, 'hua': 9917, 'ppsellsbabyparts': 9918, 'wzc5r4xoqz': 9919, 'mrmikeeaton': 9920, 'muazimus': 9921, 'hil': 9922, 'emilee': 9923, 'electr': 9924, 'werk9qibvv': 9925, 'soulja': 9926, 'qnvxj2palj': 9927, 'targe': 9928, 'm0dap5xlwo': 9929, 'qxxn6rksp6': 9930, 'b3x1wqzaor': 9931, 'jkc0diqvxc': 9932, 'x1x6d5enef': 9933, 'xhehjfft7g': 9934, 'preventative': 9935, 'cabling': 9936, 'bracing': 9937, '905': 9938, '877': 9939, '8591': 9940, '4pqcmqchng': 9941, 'grtvnews': 9942, 'crptotech': 9943, 'khztevedja': 9944, 'banking': 9945, 'bitcoing': 9946, 'blockchain': 9947, 'obky8pc89h': 9948, 'dxirntdsrd': 9949, 'azl4xydvzk': 9950, 'anarchic': 9951, 'teapot': 9952, 'boironusa': 9953, 'zeno001': 9954, 'glononium': 9955, '6c': 9956, 'bashing': 9957, 'nitroglycerin': 9958, 'touchdown': 9959, 'mnkaji2q1n': 9960, 'buyout': 9961, '6bn': 9962, 'worldpay': 9963, 'ipo': 9964, 'skyåênews': 9965, '94gjskur0r': 9966, 'zhenghxn': 9967, 'akame': 9968, 'ghoul': 9969, 'resumed': 9970, 'residual': 9971, 'perth': 9972, 'iinet': 9973, 'nbn': 9974, 'buffering': 9975, 'ggperglvki': 9976, 'xrp0rtkffj': 9977, 't344phnpy9': 9978, 'k44tl3rfmy': 9979, 'ipt0honoti': 9980, 'lubrication': 9981, 'redwing': 9982, 'nxtwxjcavh': 9983, 'ol8esfrgle': 9984, 'ydjpoph1dw': 9985, 'p1wmkxa9d8': 9986, 'trident': 9987, '90225': 9988, 'pumper': 9989, 'ims': 9990, 'ho': 9991, 'faqnfupegn': 9992, 'mqfofkxtyh': 9993, 'gzekqwzijq': 9994, 'fecal': 9995, 'turdnado': 9996, 'forgeting': 9997, 'oq0lnf2yug': 9998, 'tzdbcgpsag': 9999, 'rubybot': 10000, 'jvai5vkmsy': 10001, 'sportinggoods': 10002, 'nr8jjmpmos': 10003, 'chrisroth98': 10004, 'chaselabsports': 10005, 'grilled': 10006, 'sandwich': 10007, 'figured': 10008, 'akq4rwjfvl': 10009, 'amalie': 10010, 'oogoto76uz': 10011, 'spike': 10012, '30min': 10013, 'ckec': 10014, 'uubovy9gqi': 10015, 'fastest': 10016, 'melrises': 10017, 'gayler1969': 10018, 'wwwbigbaldhead': 10019, 'jessienojoke': 10020, 'melissaross9847': 10021, 'monty': 10022, 'python': 10023, 'pumbrnebje': 10024, '1921': 10025, 'ch': 10026, 'pl': 10027, 'satin': 10028, '99mbyfl3id': 10029, '4ddmtguzzs': 10030, 'vbqmz5apwj': 10031, 'c2eyjnybfn': 10032, 'gt7gf0fsex': 10033, 'aubilenon': 10034, 'markkriegsman': 10035, 'ysxun5vceh': 10036, 'daughterofnai': 10037, 'tenshi': 10038, 'yuki': 10039, 'studying': 10040, '900037': 10041, 'thatdes': 10042, 'forthright': 10043, 'coma': 10044, 'kebab': 10045, 'tahini': 10046, 'fry': 10047, '6whugaem3c': 10048, 'ljmgdpdlvs': 10049, 'dismantling': 10050, 'vn0accf6d4': 10051, '23rd': 10052, 'bamenda': 10053, 'wnamtxlfmt': 10054, '6coidv11qv': 10055, 'p4doa5yyje': 10056, 'disclosed': 10057, 'zqihnhdwpv': 10058, 'osi2016': 10059, 'rmucfjcazr': 10060, 'kopiteluke1892': 10061, 'praying': 10062, 'repped': 10063, 'laura': 10064, 'milne': 10065, 'thejonesesvoice': 10066, 'liguistic': 10067, 'gymflow': 10068, 'gymtime': 10069, 'assassin': 10070, 'muhj8cbdqb': 10071, 'janenelson097': 10072, 'stephenscifi': 10073, 'adaptation': 10074, 'optioned': 10075, 'sciencefiction': 10076, 'ksbynews': 10077, 'lilitan': 10078, 'pegibiqk2w': 10079, 'bmsedzofsv': 10080, 'g62txymzbv': 10081, 'hick': 10082, 'pfft': 10083, 'unhinged': 10084, 'machismo': 10085, 'bullshit': 10086, 'gwnrhmso8k': 10087, 'hector': 10088, 'bellerin': 10089, 'ecmj18azai': 10090, 'marksmaponyane': 10091, 'sundown': 10092, 'arovolturi3000': 10093, 'agalloch': 10094, 'pixeljanosz': 10095, 'angelheartnight': 10096, '63rd': 10097, 'prairie': 10098, 'zz5udilrea': 10099, 'princessduck': 10100, 'cloydrivers': 10101, 'tosu': 10102, '77ciwxabva': 10103, 'fqmyprlg9g': 10104, 'bovine': 10105, 'smugglersåênabbed': 10106, 'e7fn5g5ruu': 10107, 'hhwv0eudfv': 10108, 'kamkasteiiano': 10109, 'bluntedjayt': 10110, 'sqoa1wv4um': 10111, 'graysondolan': 10112, 'dren': 10113, 'fhkhcqpl7j': 10114, 'cleav': 10115, 'cleavage': 10116, 'kv5l4ppxfg': 10117, 'ish': 10118, 'blogger': 10119, 'ineedexposure': 10120, 'labelled': 10121, '37qpssnacv': 10122, 'routine': 10123, 'g2h7xnecd8': 10124, 'weightless': 10125, 'fatburning': 10126, 'burnfat': 10127, 'nomissski': 10128, 'faint': 10129, 'tezltqeyw2': 10130, 'ninja': 10131, 'commence': 10132, 'nycha': 10133, 'ny1': 10134, 'ny1burst': 10135, 'w7siidujoh': 10136, 'snapping': 10137, '9stlkh59fb': 10138, 'kircut1': 10139, 'dopest': 10140, 'n3ow73oasw': 10141, 'gs9bmplbhh': 10142, 'triumphant': 10143, 'yolk': 10144, 'fqj5aga1pd': 10145, 'afterwards': 10146, 'savour': 10147, 'prolong': 10148, 'sigue': 10149, 'jzwrwlvlsj': 10150, 'ot3bjjhh8s': 10151, 'skardu': 10152, 'nqnwktrhsa': 10153, 'njlqrqcnl9': 10154, 'rqu5ub8plf': 10155, 'overrated': 10156, 'spouse': 10157, 'tziolfte5i': 10158, '4evttqpeia': 10159, '5xmce6jufs': 10160, '3zo7px3p1v': 10161, 'stillness': 10162, 'weigh': 10163, '6cx46e7qb7': 10164, 'inspi': 10165, 'jywfygclhm': 10166, 'm151a1': 10167, 'mutt': 10168, 'm416': 10169, '9rryaylgyy': 10170, 'nm83johluu': 10171, 'foothill': 10172, 'ctijdpxabk': 10173, 'salute': 10174, 'qbecjli7cx': 10175, 'peterhowenecn': 10176, 'necn': 10177, 'r3pddjpiee': 10178, 'latechwatch': 10179, 'pastie': 10180, 'industrial': 10181, '4cog0otiwn': 10182, 'iafflocal4416': 10183, 'sweetpea': 10184, 'allotment': 10185, 'brightening': 10186, 'rainy': 10187, '6ndbfopk5m': 10188, 'deadpool': 10189, '143': 10190, 'adndotcom': 10191, 'bptzamjl2k': 10192, 'alamodc': 10193, 'pmxlezjbrc': 10194, 'socal': 10195, 'ybtheprophet': 10196, 'realhiphop': 10197, 'zpsnx5iyaj': 10198, 'erdogan': 10199, 'socialist': 10200, 'z6xauidrxu': 10201, 'shareaholic': 10202, 'littlebitofbass': 10203, 'silinski': 10204, 'onåê': 10205, 'iosthxlcyv': 10206, 'ghghqm9e6d': 10207, 'raineishida': 10208, 'nervous': 10209, 'camilla': 10210, 'craykain': 10211, 'shatter': 10212, 'hindustan': 10213, 'cc9z5asvzh': 10214, 'lizhphoto': 10215, 'outburst': 10216, 'aggression': 10217, 'sux': 10218, 'rockstar': 10219, 'mctjnzx4h8': 10220, 'jgdlx4faw8': 10221, 'ivwtynoujk': 10222, 'kff8ojrzp4': 10223, 'job4ggtpal': 10224, 'legitimate': 10225, 'needing': 10226, 'argus': 10227, 'heidia1438': 10228, 'failing': 10229, 'yield': 10230, 'dgul7ffjt2': 10231, 'achieving': 10232, 'deltachildren': 10233, 'instaquote': 10234, 'quoteoftheday': 10235, 'waltdisney': 10236, 'blzt5zwose': 10237, 'missjadebrown': 10238, 'rpda60aoni': 10239, 'isnt': 10240, '0853': 10241, 'odmx36wdhm': 10242, 'gaheujruju': 10243, 'beastin': 10244, 'tapa': 10245, 'funtimes': 10246, 'jxuepkmkrh': 10247, '1pxpoqktjo': 10248, 'jt': 10249, 'ruff23': 10250, 'cameronhacker': 10251, 'ey': 10252, 'qamgvqafzc': 10253, 'cekbxjmpbj': 10254, 'iit': 10255, 'logically': 10256, 'policyholder': 10257, 'clico': 10258, 'e4dvi9vuxz': 10259, 'jycpf8iyhg': 10260, 'explicitpretty': 10261, 'jihad': 10262, 'ûïall': 10263, 'islamaphobe': 10264, 'hwnyxxkczz': 10265, 'scissor': 10266, 'alexhammerstone': 10267, 'kttape': 10268, 'ktfounder': 10269, 'remymarcel': 10270, 'frofrofro': 10271, 'b19z8vi3td': 10272, 'zzweeezjug': 10273, 'h1xigcen7f': 10274, 'q9zixci8e6': 10275, 'ej2ghnafhy': 10276, 'nashvilletraffic': 10277, '8m': 10278, '0ghk693egj': 10279, 'scriptettesar': 10280, 'katiecool447': 10281, '30th': 10282, 'landowner': 10283, 'rj7m42atws': 10284, 'kuualohax': 10285, 'husband': 10286, 'lively': 10287, 'thedailyshow': 10288, 'mahalo': 10289, 'nui': 10290, 'loa': 10291, 'holomua': 10292, 'oppose': 10293, 'ns5lbs5zup': 10294, 'surgical': 10295, 'healed': 10296, 'chrisdyson16': 10297, 'mta': 10298, 'sorrybutitstrue': 10299, '70000': 10300, 'outright': 10301, 'thehammers': 10302, 'tonycottee1986': 10303, 'alsowhat': 10304, 'bilic': 10305, 'slated': 10306, 'themhe': 10307, 'toocodtodd': 10308, 'wyattb23': 10309, 'lxmdiseucn': 10310, 'yug': 10311, 'quirk': 10312, 'hxvihdushp': 10313, 'dantmatrafajlo': 10314, 'k0qtl8aodh': 10315, 'zqbxe7x9y7': 10316, 'orchestrated': 10317, 'g1bwl3dqqk': 10318, 'cascada': 10319, 'dancefloor': 10320, 'ohcx3y8l4s': 10321, 'escort': 10322, 'gfe': 10323, 'dubai': 10324, 'n6ahgfmudt': 10325, 'mgzslzz1wf': 10326, 'qpur3vd7hl': 10327, 'iladqebxpn': 10328, 'hgf52611': 10329, 'robbie': 10330, 'redsox': 10331, 'hashtagteaclub': 10332, 'par': 10333, 'defender': 10334, 'tod': 10335, 'ensued': 10336, 'nside': 10337, 'kamchatka': 10338, 'korzhonov': 10339, '8t36hwgoqd': 10340, 'ks57': 10341, 'bzzdedcthl': 10342, 'oqjnuyibxm': 10343, 'sanfrancisco': 10344, 'ojuhfkhvb2': 10345, 'ronda': 10346, 'rousey': 10347, 'mayweather': 10348, 'ijzcytbffo': 10349, 'jixscpmdud': 10350, '87h5mba3n1': 10351, 'rumbling': 10352, 'dramatically': 10353, 'gbepdi0wzt': 10354, 'xwn7rgvkzc': 10355, 'swpdq84boi': 10356, 'tweetinglew': 10357, 'tersestuff': 10358, 'heartland': 10359, 'tfw': 10360, 'albertans': 10361, 'pxnatosil': 10362, 'renunciedilma': 10363, 'hornybigbadwolf': 10364, '2m1gneaifl': 10365, 'uqh85mip0v': 10366, 'libraryeliza': 10367, 'taylorswift13': 10368, 'kolmzbz1pz': 10369, 'musicadvisory': 10370, 'inbetween': 10371, 'bigperm28': 10372, 'drafted': 10373, 'overall': 10374, 'utahgrizz': 10375, 'gpgtafmkt0': 10376, 'sneezing': 10377, 'smack': 10378, 'aaarrrgghhh': 10379, 'g2uimbekge': 10380, 'encaustic': 10381, 'cerography': 10382, 'byityf': 10383, 'i7ap1mes8m': 10384, '0cxm5tkz8y': 10385, 'v5amdovhot': 10386, 'fijapxykrq': 10387, 'ndxrk2ncln': 10388, 'uswarcrimes': 10389, 'gleaned': 10390, 'yrqgnblkac': 10391, 'influential': 10392, 'severing': 10393, 'c9t2f6dltm': 10394, 'wfseaobato': 10395, 'bhusa': 10396, 'locksmithing': 10397, 'respecting': 10398, 'elaboration': 10399, 'lpdkl': 10400, 'horowitz': 10401, '6pagjqfbzk': 10402, 'qzizelxbyr': 10403, 'vibrates': 10404, 'tracklist': 10405, 'maratha': 10406, 'scorched': 10407, 'bengali': 10408, 'aqcsusqbdy': 10409, 'banki': 10410, '3gz5zqqthe': 10411, 'h6z7hxuqtu': 10412, 'tracy': 10413, 'lonelyness': 10414, 'c0t7rvotkj': 10415, 'examinercom': 10416, 'jwdfpyg3nt': 10417, 'kf0qybkzol': 10418, 'unhappy': 10419, 'purposely': 10420, 'granted': 10421, '1665': 10422, 'sailor': 10423, 'artillery': 10424, 'cartridge': 10425, 'r4wgxra59m': 10426, 'abbyairshow': 10427, 'vxjcx8ukmd': 10428, 'mmgsyahdzb': 10429, 'di5arr6hq6': 10430, 'mfalcon21': 10431, '2oroyunym2': 10432, 'c9jnxz3dxc': 10433, 'mcdonald': 10434, 'coolest': 10435, 'zonewolf123': 10436, 'u66kyg11zd': 10437, 'bene': 10438, 'gesserit': 10439, 'litany': 10440, 'dune': 10441, 'atgrannyshouse': 10442, 'hxwfbpp1b3': 10443, 'smokey': 10444, 'wtggqs5geh': 10445, '66obqmximb': 10446, 'acfi2rhz4n': 10447, 'stripped': 10448, 'vfbw3nyo9l': 10449, 'pol92mn8yz': 10450, 'afssgpnzwi': 10451, 'postering': 10452, 'calgaryfringe': 10453, 'mothernature': 10454, 'yycfringe': 10455, 'killhard': 10456, 'bailed': 10457, 'nite': 10458, 'testicle': 10459, 'timed': 10460, 'sincere': 10461, 'bradford': 10462, 'weep': 10463, 'olnfzb86zb': 10464, 'kodak': 10465, 'skippy6gaming': 10466, 'mxhrextrkh': 10467, 'ps3': 10468, 'alcoholandmetal': 10469, 'trusted': 10470, 'y2jt1amyfj': 10471, 'kamindoz': 10472, 'xrdwr8cdvm': 10473, 'fxtffl4axy': 10474, 'rzagdnwtah': 10475, 'uqettagscu': 10476, 'horno': 10477, 'yprjwmighl': 10478, '3rrkrcjyw7': 10479, 'tenn': 10480, 'tennessean': 10481, 'eb74iieiwn': 10482, 'discount': 10483, 'redesigning': 10484, 'itrawcwb': 10485, 'outbreed': 10486, 'akx': 10487, 'q9lxo4qkji': 10488, 'typing': 10489, '6n6gcej9iy': 10490, 'filming': 10491, 'sonyprousa': 10492, 'lumixusa': 10493, 'djiglobal': 10494, 'profbriancox': 10495, '2gljhvead9': 10496, 'ckosova': 10497, 'mentality': 10498, 'vegan': 10499, 'bk': 10500, 'strictly': 10501, 'kxplyom9rr': 10502, 'govegan': 10503, 'uniteblue': 10504, 'dill': 10505, 'alves': 10506, 'fejs0bu0sq': 10507, 'nervana': 10508, 'behaviour': 10509, 'pleasantly': 10510, 'div': 10511, 'fought': 10512, 'saudiåêmosque': 10513, 'h99bhb29xt': 10514, 'q3dtoqo04c': 10515, 'ncjpgf6znv': 10516, 'gerjau74ey': 10517, 'jmcwrites': 10518, 'pitchwars': 10519, 'realism': 10520, '64xr9ltnoh': 10521, 'sjh0hsrp4s': 10522, 'oooureli': 10523, 'tolerance': 10524, 'mutilated': 10525, 'byebyesoundcloud': 10526, 'zojadelin': 10527, 'metepec': 10528, 'oficial': 10529, 'nitclub': 10530, 'wtfjf9jjzs': 10531, 'aminespn': 10532, 'mencius': 10533, 'dehydration': 10534, 'atljw': 10535, 'polit': 10536, 'pipeliners': 10537, 'pst5bbq0av': 10538, 'qv1rmzi3j1': 10539, 'rowysolouisville': 10540, 'hxvfmouhdm': 10541, '66': 10542, 'broader': 10543, 'conservation': 10544, 'akgovbillwalker': 10545, 'ohmygoshi': 10546, 'metrobus': 10547, 'kash': 10548, 'foundation': 10549, '2fenu1syu6': 10550, 'b8n6e4ryvz': 10551, 'abandonedpics': 10552, 'abbandoned': 10553, 'darsena': 10554, 'castello': 10555, 'scaligero': 10556, 'sirmione': 10557, 'home2': 10558, 'suite': 10559, 'paobghv3c7': 10560, 'obedience': 10561, 'fylde': 10562, 'preston': 10563, 'disappearing': 10564, 'pdkhbdg9ho': 10565, 'norwaymfa': 10566, 'bahrain': 10567, 'gfjfgtodad': 10568, 'skyler': 10569, 'kushwush': 10570, 'hogging': 10571, 'fvxhopdf3w': 10572, 'tellyfckngo': 10573, 'jaycootchi': 10574, 'babality': 10575, 'smp': 10576, 'ks315': 10577, 'apvlh7hj1o': 10578, '1ljntejgmb': 10579, 'lalaloopsy': 10580, 'sunburst': 10581, 'seashore': 10582, 'spice': 10583, 'nyty7fcqo6': 10584, 'hyypspn0yq': 10585, 'f75qwyeeec': 10586, 'bgerljamte': 10587, 'spuhuvgasy': 10588, 'obligation': 10589, 'wveo9ed10e': 10590, 'seshqn5dsk': 10591, 'e2hltyyfak': 10592, 'pmxezuo4ay': 10593, 'ballew': 10594, 'boomerangtime': 10595, 'rskarim1': 10596, 'sopameer': 10597, 'wattashit3': 10598, 'ridah': 10599, 'likeavillasboas': 10600, 'chandler': 10601, 'wiped': 10602, 'yaqrsximph': 10603, 'appy': 10604, 'myth': 10605, 'obscuring': 10606, 'salon': 10607, 'dlp8kpkt2k': 10608, 'arfur': 10609, 'georgecole': 10610, 'sometimesi': 10611, 'anxietyproblems': 10612, 'apology': 10613, 'u8hsrtrxmm': 10614, 'yx1ukbmtqb': 10615, 'noahshack': 10616, 'freddiedeboer': 10617, 'thucydiplease': 10618, 'coates': 10619, 'charleston': 10620, 'broadly': 10621, 'mcsek4hx5s': 10622, 'iifgaz0fil': 10623, 'northerncalifornia': 10624, 'monijjth7v': 10625, '0yxbb5dzw5': 10626, 'alley': 10627, 'kezi9': 10628, 'sahbhlxssh': 10629, 'xr3xjj8gjb': 10630, 'obligatory': 10631, 'cartoony': 10632, 'papa': 10633, '4zmcqrmois': 10634, 'ipa': 10635, 'radler': 10636, 'a8nmdkd3rv': 10637, 'swea': 10638, 'exum': 10639, 'stem': 10640, '8pifutrb5u': 10641, 'neanderrebel': 10642, 'alfapedia': 10643, 'tradcatknight': 10644, 'okanowa': 10645, 'mainline': 10646, 'uncontrollable': 10647, 'cosmetic': 10648, 'periwinkle': 10649, 'copper': 10650, 'piping': 10651, 'a9bnlse6qb': 10652, 'io9ry1akon': 10653, 'beside': 10654, 'preferably': 10655, 'willinghearted': 10656, 'rpn': 10657, 'pbya7uv3v5': 10658, 'cookie': 10659, 'dough': 10660, '71st': 10661, 'highland': 10662, 'kif7m3fqlx': 10663, 'oz6vlwwtnr': 10664, 'gesture': 10665, 'o1enhjrkjd': 10666, 'o82yvxbztv': 10667, 'n5kmxuverg': 10668, 'wqow': 10669, 'hj26sfddfi': 10670, 'dynastic': 10671, 'yr8knephgu': 10672, 'dumuzid': 10673, '3ejl9lzlch': 10674, 'zdpvqmeezs': 10675, 'roose': 10676, 'scu9qzp6nq': 10677, 'abyhrgss1s': 10678, 'jota': 10679, 'esse': 10680, '9i5cczd5s0': 10681, 'weatrrihe1': 10682, 'moorlandschmbr': 10683, 'xvco7slxhw': 10684, 'jbvmgeg522': 10685, 'rg3bndkxjx': 10686, 'bq90pfzmrp': 10687, '2rtq9qmgpb': 10688, 'barbi': 10689, 'twins': 10690, 'kalinandmyles': 10691, 'kalinwhite': 10692, 'givebackkalinwhiteaccount': 10693, 'anonchimp': 10694, 'metrotown': 10695, 'maintained': 10696, 'burnaby': 10697, 'changefortheworse': 10698, 'rosemarytravale': 10699, 'screwed': 10700, 'ybyp68ievn': 10701, '1vjalja1sx': 10702, 'compensation': 10703, 'wmdihdiz1r': 10704, 'palinfoen': 10705, 'berlin': 10706, 'daubt': 10707, 'chubychux': 10708, '71vdjhjnwv': 10709, '0jfnvaxfph': 10710, 'nlk1dyd2tp': 10711, 'comdev': 10712, 'broadcasting': 10713, 'upcoming': 10714, 'iovr4ymlkp': 10715, 'lovelylikelaura': 10716, 'sonofbaldwin': 10717, 'nova': 10718, 'bookslast': 10719, 'sevenfigz': 10720, '20b3pnqxmd': 10721, 'c8b6ddiqig': 10722, 'bilingual': 10723, 'g5do2x6226': 10724, 'danielle': 10725, 'ou': 10726, 'wbball': 10727, 'n71hmvervv': 10728, 'thingsihate': 10729, 'sbzwruwufh': 10730, 'mrrobinson': 10731, 'thesteveharveyshow': 10732, 'vibe': 10733, 'q4gl3dvhu1': 10734, 'bagef9lfgt': 10735, 'bvxqa3kfrx': 10736, 'rolandonabeats': 10737, 'ellie': 10738, 'goulding': 10739, 'acesse': 10740, 'nosso': 10741, 'para': 10742, 'ouvir': 10743, 'zk69ugxmt8': 10744, 'whack': 10745, '6exs23muy3': 10746, 'l9idherotj': 10747, 'lesotho': 10748, 'chachi': 10749, 'otblb9pj2i': 10750, 'pijg5w2l2u': 10751, 'branch': 10752, 'surety': 10753, 'pramklrmhz': 10754, 'scottdpierce': 10755, 'billharris': 10756, 'harrisgle': 10757, 'beezersun': 10758, 'forfeiting': 10759, 'vassalboro': 10760, 'gazebo': 10761, 'petel': 10762, 'mcguire': 10763, 'uuewccdtow': 10764, 'teamhennessy': 10765, 'tprimo24': 10766, 'djeddygnj': 10767, 'colombian': 10768, 'mrv54fidfn': 10769, 'brrookkllyynnr': 10770, 'ahhtheenikki': 10771, 'mmchale13': 10772, 'imaginable': 10773, 'ayshun': 10774, '7s1gfnebgt': 10775, 'yo3t8qho9h': 10776, 'nkulw': 10777, '8odtzmvqar': 10778, 'untill': 10779, '5bgcw3ezb5': 10780, '0yzgw9zbhr': 10781, 'rhtaqjvqn2': 10782, 'askin': 10783, 'codemew': 10784, 'you': 10785, 'gorpuazikinak': 10786, 'puddle': 10787, 'drayesha4': 10788, 'indiakomuntorjawabdo': 10789, 'wjljq3ya4g': 10790, 'jqso4fyzp4': 10791, 'f4xnplio5s': 10792, 'akito': 10793, 'frothy': 10794, 'gyp': 10795, 'raqupzfkjy': 10796, 'weddinghour': 10797, 'qunxocxcga': 10798, 'prophecy': 10799, 'combining': 10800, 'xfccvmxuwb': 10801, 'smth': 10802, 'daorcey': 10803, 'nsit': 10804, 'graywardens': 10805, 'mitigating': 10806, '75vlsw85gi': 10807, 'txy3us2ejs': 10808, 'yi54xrhqgb': 10809, 'darchambau': 10810, 'bp6mfjhars': 10811, 'loathing': 10812, 'fullscreen': 10813, 'censorship': 10814, 'nmtlpo4b58': 10815, 'tennoatax': 10816, 'tenno': 10817, 'dojo': 10818, 'nashsnewvideo': 10819, 'epzwaseyky': 10820, 'cfevtrsc1u': 10821, 'resoluteshield': 10822, 'conklin': 10823, 'shuffled': 10824, '67tjn9egyk': 10825, 'lzk': 10826, 'auxsmdg1un': 10827, 'bgaj2oax1p': 10828, '2500fps': 10829, 'edison': 10830, 'lightbulb': 10831, 'wank': 10832, 'lr4btvueom': 10833, 'persistent': 10834, 'fasting': 10835, 'wox3vprixq': 10836, 'vgf41iupkn': 10837, 'thrhkhogcuåê': 10838, 'tzszmf2qxe': 10839, 'nxttd9nrux': 10840, 'irqj3zkcuz': 10841, 'finsup': 10842, 'i1eeuxxz3a': 10843, 'ks111': 10844, 'nxleiijfgs': 10845, 'xsgwm5zxpd': 10846, 'thomashcrown': 10847, 'grandfather': 10848, 'behindashield': 10849, 'wars': 10850, 'goddess': 10851, 'oven': 10852, 'fotofill': 10853, 'quora': 10854, 'ikfmektpcx': 10855, 'easier': 10856, 'hgb1mc3irk': 10857, '6ysxghc8gz': 10858, 'cristianinspire': 10859, 'ixjqg1sx6u': 10860, 'apperception': 10861, 'bridgework': 10862, 'xxhjesc': 10863, 'ybhbarajxp': 10864, '48h3tlvlxr': 10865, 'nowplay': 10866, '7vcezi6cbb': 10867, '9jxb3rx8mf': 10868, 'b5s5epj7um': 10869, 'hpa9gqrywa': 10870, 'pf8dxwibdp': 10871, 'meowing': 10872, 'louder': 10873, 'sahq5uoahw': 10874, 'fighterdena': 10875, 'tootrue': 10876, 'mcwd37iof9': 10877, 'ofr': 10878, 'gpxqbyzyu4': 10879, 'baekhyun': 10880, 'suho': 10881, 'attending': 10882, 'syjexo': 10883, 'oazjpwueyr': 10884, 'jengriffinfnc': 10885, 'arrival': 10886, 'sod': 10887, 'amman': 10888, 'diverted': 10889, 'gurion': 10890, 'jkpjpch9i6': 10891, 'entirely': 10892, 'irfcn71szv': 10893, 'kfzvmxj9st': 10894, 'austinpearcy22': 10895, 'z8cp77lvza': 10896, '737': 10897, 'takeoff': 10898, 'atc': 10899, 'shekhargupta': 10900, 'mihirssharma': 10901, 'trp': 10902, 'mockery': 10903, 'zehrs': 10904, 'jfb': 10905, 'tfb': 10906, 'alrasyid448iturasya': 10907, 'izjtoojzkp': 10908, 'smantibatam': 10909, 'roh3smantibatam': 10910, 'implores': 10911, 'motorist': 10912, 'reserve': 10913, 'hikf8mkjsn': 10914, 'mskn6d3ekh': 10915, 'ol': 10916, 'comma': 10917, 'osuoivnigo': 10918, 'gusramzp1s': 10919, 'vinustrip': 10920, '3p': 10921, 'lima': 10922, 'xqrlewia4x': 10923, 'suresh': 10924, 'harda': 10925, 'regr': 10926, 'q5mlbodvm4': 10927, 'devybnvxgq': 10928, 'todayng': 10929, 'byj5dfa2rv': 10930, 'dieanpink95': 10931, 'yu': 10932, 'nita99': 10933, 'brinco': 10934, 'beacon': 10935, 'nxkum9h7wd': 10936, '79': 10937, 'nu3xxn55vs': 10938, 'xngrfnqsx3': 10939, 'basket': 10940, 'charming': 10941, 'tonyakappes11': 10942, 'xyav4t5n0o': 10943, 'paranormal': 10944, 'flunkie': 10945, 'nino': 10946, 'boost': 10947, 'agycutkbnn': 10948, '945hpa': 10949, '45m': 10950, '60m': 10951, 'nbd5ot9iew': 10952, 'queer': 10953, 'sultry': 10954, 'rosenbergs': 10955, 'weymouth': 10956, 'seawall': 10957, 'th2wlilbmo': 10958, 'jocelyn': 10959, 'theeconomist': 10960, 'portrait': 10961, 'yuan': 10962, 'ibiza': 10963, 'dannyjohnjules': 10964, 'fearon': 10965, 'christielinford': 10966, 'bbcmtd': 10967, 'lhyxeohy6c': 10968, 'cal': 10969, '0x8jaqtowm': 10970, 'm1rosi2wcs': 10971, 'czpdn9obit': 10972, 'anarchy': 10973, 'strawberry': 10974, 'mqydxrlae7': 10975, 'epjjkb4be9': 10976, 'bestfriends': 10977, 'yourboy': 10978, 'shawn': 10979, 'fantosex': 10980, 'amends': 10981, 'asae15': 10982, 'exhibitor': 10983, 'r8ceprqxle': 10984, 'assnchat': 10985, 'defj7xekgx': 10986, 'xppqnyhiwc': 10987, 'harder': 10988, 'paine': 10989, 'spookyfob': 10990, 'feelslikefob': 10991, 'stump': 10992, 'dougmartin17': 10993, 'otratmetlife': 10994, 'kanger': 10995, 'vaping101': 10996, 'cykr4xaluh': 10997, 'lisatoddsutton': 10998, 'bcz': 10999, 'murphy': 11000, '75000': 11001, 'd2veppeh8s': 11002, 'bsgr67dywy': 11003, 'ndggr6xyqd': 11004, 'elisagxrcia': 11005, 'byvubg0wye': 11006, 'j6wseptxga': 11007, 'qwgiwc9w7z': 11008, '4678': 11009, 'o2jd4tbrwa': 11010, 'jfx6qiyivf': 11011, 'yubkhf9iyh': 11012, 'pu7c4hhbxj': 11013, 'businessman': 11014, 'foiled': 11015, 'troupe': 11016, 'racial': 11017, 'breakdancers': 11018, 'lbmekyphm5': 11019, 'michaelgbaron': 11020, 'lefty': 11021, '184': 11022, 'souda': 11023, 'sonia': 11024, 'kneelbot': 11025, 'tomdean86': 11026, 'shifted': 11027, 'nathanfillion': 11028, 'slipper': 11029, 'b1bx0eruep': 11030, '93dm6gnwwc': 11031, 'necro': 11032, 'kncm9jc8i9': 11033, 'swviazsphk': 11034, 'senschumer': 11035, 'religious': 11036, 'eyecuts': 11037, 'erasuterism': 11038, 'gal': 11039, 'deco': 11040, 'trickier': 11041, 'splash': 11042, 'wmutcdg36b': 11043, 'pjcoyle': 11044, 'included': 11045, 'oamqqbnice': 11046, 'ucbfgibfor': 11047, 'muhamadjabal': 11048, 'thou': 11049, 'idqcfjycym': 11050, 'godsfirstson1': 11051, 'practically': 11052, 'casu': 11053, 'kclkokqi8a': 11054, 'thh': 11055, 'furst': 11056, 'remaining': 11057, 'greystone': 11058, '85885473': 11059, 'lzljzzkcfa': 11060, 'medic914': 11061, 'aace': 11062, 'standardised': 11063, 'clinical': 11064, 'mzmandilynn': 11065, 'shirley': 11066, 'koch8slasq': 11067, 'rossbarton': 11068, 'cracker': 11069, 'cc7d0wxk0m': 11070, 'contactenergy': 11071, 'clyde': 11072, 'releasing': 11073, 'speccy': 11074, 'elecman': 11075, 'tirelessly': 11076, 'infographic': 11077, 'uvaojzcycz': 11078, 'v9ftyb30ei': 11079, 'fragrance': 11080, 'bathe': 11081, 'reg': 11082, 'competitiveness': 11083, 'brockton': 11084, '12m': 11085, 'regc': 11086, 'ppc': 11087, '72ix7vm87w': 11088, 'rebecca': 11089, 'roga': 11090, 'plantation': 11091, 'cic7h64qv8': 11092, 'rainforestresq': 11093, 'qjuu0wcwpx': 11094, 'oyster': 11095, 'carnegie': 11096, 'ikpngs3dti': 11097, 'ljhgsdraez': 11098, 'postponed': 11099, 'fnmje8gf7m': 11100, 'nye8ae2ifr': 11101, 'deedee': 11102, 'casey': 11103, 'prompting': 11104, 'r7vpaklhvi': 11105, 'scourgue': 11106, 'kathrynschulz': 11107, 'sumo': 11108, 'wrestler': 11109, 'muaytai': 11110, 'wantmyabsback': 11111, 'jagexhelpdibi': 11112, 'jag': 11113, 'hworb1n6vn': 11114, 'pwjjimrfly': 11115, 'nlccollide': 11116, '3w0pxfyyri': 11117, 'meanwhile': 11118, 'convene': 11119, 'award': 11120, '0t9yd557ry': 11121, 'gisuserpr': 11122, 'geotech': 11123, '2ns5tfnxpa': 11124, 'w2kvscbtlp': 11125, 'tn8o00nrlp': 11126, 'chord': 11127, 'axvq80rbyj': 11128, 'funnydadcoach': 11129, 'edwelchmusic': 11130, 'unpacked': 11131, 'qumce7w2ty': 11132, 'ktkg2sdhhl': 11133, '4cpnbbzkzg': 11134, 'orca': 11135, 'rjg0789': 11136, 'sterotypical': 11137, 'annddd': 11138, 'colorism': 11139, 'prevalent': 11140, 'jmd7zwksdm': 11141, 'wedwyn9kfs': 11142, 'arti': 11143, 'kaboom': 11144, 'tilgurkv7z': 11145, 'hibernating': 11146, 'pbx': 11147, 'irrespective': 11148, 'careerism': 11149, 'crbzfz': 11150, '290': 11151, 'reviewer': 11152, 'boxset': 11153, 'buroker': 11154, '4yu5sy1cui': 11155, 'mzmxmyklxv': 11156, 'vbswhz4s2v': 11157, 'aberdeen': 11158, 'rival': 11159, 'loosers': 11160, 'yelp': 11161, 'investigative': 11162, 'e8aegofdy2': 11163, 'ydgiuydqgb': 11164, 'cbs3': 11165, 'bzdfznkvog': 11166, 'erhdh37rdh': 11167, 'hyperbole': 11168, 'saintsfc': 11169, 'dianneg': 11170, 'kxewlhh7uw': 11171, 'thnexicgqe': 11172, 'wp6v1bhhoq': 11173, 'zl7ojdaj3u': 11174, 'etgqf28mge': 11175, 's4srgrmqcz': 11176, '9qpg0z3rh9': 11177, 'mockingpanems': 11178, 'cuddlesforjen': 11179, 'fw1ptaelgv': 11180, 'mueller': 11181, 'nov': 11182, 'pe2d3hcsni': 11183, 'reriellechan': 11184, 'lich': 11185, '0gidg9u45j': 11186, 'roddypiperautos': 11187, '97b8avgewu': 11188, 'radical': 11189, 'jennife29916207': 11190, 'oc73x': 11191, 'hrsfa8zuji': 11192, 'browseråêhijacker': 11193, 'vlnjnolnme': 11194, 'if5rogfjri': 11195, '74jppek6o7': 11196, 'esteem': 11197, 'tu6scrsxvg': 11198, 'idhj4jbq05': 11199, 'entity': 11200, 'montego': 11201, 'tvjnews': 11202, 'vacancy': 11203, 'v5gtunwohy': 11204, 'y217ceeemd': 11205, 'threatconnect': 11206, 'hrl4xnj9k7': 11207, 'dfir': 11208, 'threatintel': 11209, 'lkjfabqzb3': 11210, 'virtual': 11211, '547': 11212, 'dorrie': 11213, 'caruana': 11214, 'nf46paytvw': 11215, 'blaawhysct': 11216, 'ddr0zjxvqn': 11217, '4got': 11218, '81g18wsauk': 11219, 'treyarch': 11220, 'vuln': 11221, 'oxxrnab8un': 11222, 'orshow': 11223, 'n2ucnzh38p': 11224, 'vu8fwymw5r': 11225, 'epzgg4uqji': 11226, 'lender': 11227, 'linkedin': 11228, '9pmbtxmoal': 11229, 'e5cns6ufpa': 11230, 'xrja0xpl40': 11231, 'bowknot': 11232, 'womengirls': 11233, 'zip': 11234, 'sqmtkkjimj': 11235, 'kmdqm3nlns': 11236, 'daem': 11237, 'hart2010': 11238, 'fqwtsxlkrz': 11239, '20dncthr4d': 11240, 'jamessnyder22': 11241, 'sgxb6e5yda': 11242, 'traitor': 11243, 'falphil': 11244, 'compassion': 11245, 'sexist': 11246, 'jcszcjihlh': 11247, '0xh758onup': 11248, 'jihadis': 11249, '1wcofmlub9': 11250, 'freedomoutpost': 11251, 'slosheriff': 11252, 'huntington': 11253, 'txrswi0efg': 11254, 'linden': 11255, 'lite': 11256, 'cure': 11257, '073izwx0lb': 11258, 'lind': 11259, 'okmlagvkjv': 11260, 'onlinemh370': 11261, 'onlinea': 11262, 'zonnqgsxyw': 11263, 'saudiarabia': 11264, 'lwane9vupg': 11265, 'cpqgufzb28': 11266, 'pearlharbor': 11267, 'detkenlang': 11268, 'kcrnmjkj73': 11269, 'cufgvupkzi': 11270, 'aawzxykles': 11271, 'rsmvgdxriv': 11272, 'x3rcchkago': 11273, 'shayoly': 11274, 'epabinczmj': 11275, '1sgzgtgfw9': 11276, '10k': 11277, 'doningtondash': 11278, '11am': 11279, 'donington': 11280, 'g1nw99yj8u': 11281, 'kf74o2mcsc': 11282, 'n2zhrchcgv': 11283, 'ruling': 11284, 'empower': 11285, 'milita': 11286, 'v0nf1uc1ow': 11287, 'assailant': 11288, 'zdcvlyq6qk': 11289, 'e1vkc2efst': 11290, 'beua507iug': 11291, 'emily4everever': 11292, 'wmmkirj0hw': 11293, '6nqru2q5tz': 11294, 'africanbaze': 11295, '2nndbgwyei': 11296, 'dilutional': 11297, 'institutionalize': 11298, 'sued': 11299, 'slander': 11300, 'z9zj3kxwyu': 11301, 'lily': 11302, 'xo': 11303, 'cowgirl': 11304, 'popeyes': 11305, 'khulna': 11306, '3enyndxppm': 11307, 'gqpi7jmkan': 11308, 'fjdm8qhyai': 11309, 'sebee': 11310, 'defendbutera': 11311, 'cityofhummus': 11312, 'ilnewsflash': 11313, 'diaspora': 11314, 'psbxl1hvu3': 11315, 'blaaaaaaa': 11316, 'vibrate': 11317, 'resolutevanity': 11318, 'pagasa': 11319, '12am': 11320, 'panay': 11321, 'guimaras': 11322, 'mountainous': 11323, 'xc96rwuszb': 11324, 'xm9stfzcpv': 11325, 'thhjjw51pe': 11326, 'ofentse': 11327, 'tsie': 11328, 'govts': 11329, 'ubvevuuach': 11330, 'pearl': 11331, 'emptive': 11332, 'i2aag6lp6w': 11333, 'kpqk0c4g0m': 11334, 'sought': 11335, 'jp2qlrunjj': 11336, 'jbpgkgowsi': 11337, 'properly': 11338, 'paying': 11339, 'influencers': 11340, 'socialtimes': 11341, 'ptc0xcragy': 11342, 'scotrail': 11343, 'bloke': 11344, 'hassle': 11345, 'apocalpytic': 11346, 'y8wloctevc': 11347, 'rotting': 11348, 'potato': 11349, 'smelled': 11350, 'targ56igbz': 11351, 'visiting': 11352, 'ancop': 11353, 'ashghebranious': 11354, 'trans': 11355, 'ixjjlp1lvo': 11356, 'foto': 11357, 'ûïlove': 11358, 't5agps7t2b': 11359, 'lyf': 11360, 'nuys': 11361, 'fxux987vzx': 11362, 'vannuyscouncil': 11363, 'carmi': 11364, 'kqvn1utpmm': 11365, 'plymouth': 11366, 'litter': 11367, 'gdrssjbh8q': 11368, 'bozlwr716z': 11369, 'assured': 11370, 'investigated': 11371, 'kmxzho5tfm': 11372, 'albvdnwjtg': 11373, 'qvc': 11374, 'carmqivkwu': 11375, 'g3': 11376, '15000270653': 11377, 'congestion': 11378, 'qqsmshaj3n': 11379, 'warra': 11380, 'jwiv6wyw6f': 11381, 'osage': 11382, 'dumbass': 11383, 'wxia': 11384, 'zqqjrqsbjm': 11385, 'alvinnelson07': 11386, 'withstand': 11387, 'immediate': 11388, 'rebeccaforreal': 11389, 'accepts': 11390, 'wisconsin': 11391, 'govwalker': 11392, 'nbc15': 11393, 'pis0aivrbr': 11394, 'utica': 11395, 'pleasant': 11396, 'paw': 11397, '40hourfamine': 11398, 'worldvision': 11399, 'xqdvghz8g6': 11400, 'silentmind': 11401, 'bookofdaniel': 11402, 'fkqjy3ezyg': 11403, '9cntp3nq6o': 11404, 'qdf6asaelm': 11405, '96km': 11406, 'brenas': 11407, 'puerto': 11408, 'rico': 11409, 'sdzrrfzhmy': 11410, 'qct6fb8won': 11411, 'chelsdelong12': 11412, 'kendra': 11413, 'leigh13': 11414, 'varagesale': 11415, 'candace': 11416, 'dx': 11417, 'faction': 11418, 'ypbvs1ijya': 11419, '9dflv6ynqr': 11420, 'v57nugmgkt': 11421, 'sara': 11422, 'qn4zyisspo': 11423, '3vwp7wd56w': 11424, 'tarmineta3': 11425, 'acura': 11426, 'rsx': 11427, 'l4': 11428, 'vzaiqamdcp': 11429, 'ycecn44c8p': 11430, 'wosypvqufi': 11431, 'xw8sds1tjp': 11432, 'horrendous': 11433, 'sb3rjqqzix': 11434, 'pw3tzu0tay': 11435, 'dean': 11436, 'itzzkwfhg5': 11437, 'z87zmi3ozs': 11438, 'vzwsupport': 11439, '007npen6lg': 11440, 'cllrraymogford': 11441, 'comprehensive': 11442, 'gllawb2fsk': 11443, '3kaafuoztc': 11444, 'cpanel': 11445, 'birkbje23e': 11446, 'buzwjmw49e': 11447, 'hangout': 11448, 'est': 11449, 'qkahxwlwxa': 11450, 'freed': 11451, 'bokoharam': 11452, 'captive': 11453, 'ûïi': 11454, 'pk8dgvripw': 11455, 'rz0adzursw': 11456, 'almusafirah': 11457, 'innit': 11458, 'bjvfk1ete9': 11459, 'ocojppnrh1': 11460, 'glory': 11461, 'luiz': 11462, 'santos': 11463, 'cervelli': 11464, 'puff': 11465, 'southwest': 11466, 'omaha': 11467, 'utility': 11468, 'pole': 11469, 'dan0gkx28l': 11470, 'cramp': 11471, '9tyucdwh3g': 11472, 'italianåêalps': 11473, '8bhvxx2xl9': 11474, '4ou8s82hxj': 11475, 'eatfro3d5x': 11476, 'kjfordays': 11477, 'apcåêpdp': 11478, 'w1ufeibala': 11479, 'biulqprxke': 11480, 'jrlallo': 11481, 'narrator': 11482, 'chemically': 11483, 'lavatory': 11484, 'db5': 11485, 'shaznlmsfe': 11486, 'miller': 11487, 'gregorysanders': 11488, 'usdot': 11489, 'stat': 11490, 'lightrail': 11491, 'eganator2000': 11492, 'hwy401': 11493, 'cambridge': 11494, 'fx7uzzxte4': 11495, 'benedict': 11496, 'cumberbatch': 11497, '7xq8jrtl7i': 11498, 'j90dt2qnxb': 11499, 'deniseromano': 11500, 's7vygenjuv': 11501, 'faceåê': 11502, 'bm0sxzbnke': 11503, 'steven': 11504, 'theme': 11505, 'upstairs': 11506, 'wj7ujfs8fd': 11507, 'jasalhad': 11508, 'brianboru67': 11509, 'jimskiv92': 11510, 'hijinks1967': 11511, 'wisdc': 11512, 'death2usa': 11513, 'serarcnrby': 11514, 'bgytmqj3oo': 11515, 'bdsgf1cfax': 11516, 'catsandsyrup': 11517, 'trim': 11518, 'wqul8pg5px': 11519, '4ykxt3kd62': 11520, 'teamvodg': 11521, 'mattcohen4fake': 11522, 'gamma': 11523, 'january': 11524, 'vz19vvgmnv': 11525, 'forming': 11526, 'guam': 11527, 'molave': 11528, 'realistic': 11529, 'asset': 11530, 'koz': 11531, '9zrqmd8ngz': 11532, 'joegoodmanjr': 11533, 'copalibertadores': 11534, 'argentinean': 11535, '8tygo0kizz': 11536, 'stury': 11537, 'elm': 11538, 'remade': 11539, 'hvwkjqxxyt': 11540, 'jrowah': 11541, 'crazyideascollege': 11542, 'dh0s4buuk7': 11543, 'snqfhpym3o': 11544, 'woe': 11545, 'claiborne': 11546, '12giqbvlys': 11547, 'looney': 11548, 'griffin': 11549, 'dunking': 11550, 'ih0awv3l1o': 11551, 'noahcrothman': 11552, 'minutia': 11553, 'champagne': 11554, 'justinejayyy': 11555, 'ohgod': 11556, 'emaaalay': 11557, '00pm': 11558, 'urban': 11559, 'semw5cq7dg': 11560, 'hodge': 11561, 'aurora': 11562, 'notoriety': 11563, '1rpchru72c': 11564, 'scegnews': 11565, 'bftiapf35f': 11566, 'delmont': 11567, 'onion': 11568, 'yojkfqej6s': 11569, 'theboyofmasks': 11570, 'manor': 11571, 'partially': 11572, 'adamnibloe': 11573, 'x1392': 11574, 'dm0uupqgwy': 11575, 'marr': 11576, 'primal': 11577, '2065': 11578, 'ub1jzskmrc': 11579, 'm8': 11580, 'sfgate': 11581, 'iz9u8bhfaa': 11582, 'afycso': 11583, 'ouylwuixcs': 11584, '92pk0hujd8': 11585, 'sfa': 11586, 'rw8b50xz9m': 11587, '4m5uheyfdo': 11588, 'adriennetomah': 11589, 'cocoa': 11590, 'sip': 11591, 'awesomesauce': 11592, 'pty9hrcuzh': 11593, '5fcjvml520': 11594, 'fvyrwhux8p': 11595, 'organicallyrude': 11596, '1rockstar62': 11597, 'mattingly': 11598, 'bundy': 11599, 'mcgwire': 11600, 'etkd58un8n': 11601, 'lrelvrm06w': 11602, 'f6ntuc734z': 11603, 'esquireattire': 11604, '35qwnglkos': 11605, 'deb117': 11606, 'fulfilling': 11607, 'clerical': 11608, 'iz17klelzc': 11609, 'nathan': 11610, '918eqmtkrl': 11611, '14028': 11612, 'lfnippnoto': 11613, 'elevator': 11614, 'amznfavorites': 11615, 'devereaux': 11616, 'mw9ambgafq': 11617, 'hough': 11618, 'dougkessler': 11619, 'b2b': 11620, 'b2bagency': 11621, 'enqgtbaxuj': 11622, 'slideshare': 11623, 'contentmarketing': 11624, 'bhufevagpu': 11625, '6mgbizjfgd': 11626, 'durrellb': 11627, 'punishing': 11628, 'aauizggc9q': 11629, 'impairs': 11630, 'zisuwlqrhf': 11631, 'terminated': 11632, 'hideous': 11633, 'uglypeople': 11634, 'pckf0nl2yn': 11635, 'fxdh3u8bq3': 11636, 'yzhvobgocq': 11637, 'mere': 11638, 'n4neuiyt2k': 11639, 'qu8s89pvvt': 11640, 'wasting': 11641, 'edsheeran': 11642, 'kirsten': 11643, 'gillibrand': 11644, 'amea3lamdj': 11645, 'extend': 11646, '5zdbtktww7': 11647, 'zgsjwxdrcm': 11648, 'cheetosarabia': 11649, 'cheetos': 11650, 'gan14pw9tg': 11651, 'bioter': 11652, '5n4husewly': 11653, 'savagenation': 11654, 'peasant': 11655, 'stalin': 11656, 'redistribute': 11657, 'w0r8eaoka0': 11658, 'song21': 11659, 'hacked': 11660, 'nsf': 11661, 'pt4': 11662, 'xjtpv4oydl': 11663, 'ayyo': 11664, 'dei': 11665, 'freefromwolves': 11666, 'danny': 11667, 'janice': 11668, 'neal': 11669, 'rigga': 11670, '4virxkgmpc': 11671, 'absence': 11672, 'interaction': 11673, 'danhrothschild': 11674, 'greed': 11675, 'takecare': 11676, 'mkwyvm3i8r': 11677, 'thehighfessions': 11678, 'blasted': 11679, 'iowa': 11680, 'pioneer': 11681, 'paleface': 11682, 'raft': 11683, 'container': 11684, 'enkelbiljett': 11685, 'menolippu': 11686, 'paqanences': 11687, 'dmoneydemi': 11688, 'dtb': 11689, 'watchout': 11690, 'wasp': 11691, 'dive': 11692, 'fotoset': 11693, 'elanorofrohan': 11694, 'zurich': 11695, 'bq3p7n7w06': 11696, 'unrecognized': 11697, 'arab': 11698, 'ik8m4yi9t4': 11699, 'earnest': 11700, 'pletch': 11701, 'blooded': 11702, 'b9jaxx0vcf': 11703, 'udkesj01ml': 11704, 'q0x7e84r4e': 11705, 'nigeltanner1': 11706, 'newly': 11707, 'maple': 11708, 'grape': 11709, 'iphooey': 11710, 'bachmann': 11711, 'x9mdhocpda': 11712, 'lfw4iymsak': 11713, 'postal': 11714, '7mepkbf9e8': 11715, 'catwoman1775': 11716, 'crazier': 11717, 'nlm': 11718, 'dimrc': 11719, 'provider': 11720, 'auoeyirqe6': 11721, 'x1402': 11722, 'greenlacey': 11723, 'gist': 11724, '148': 11725, 'dkrgs2awex': 11726, 'streetjamzdotnet': 11727, 'mr9kcgpiwm': 11728, 'urine': 11729, 'egyptian': 11730, 'gtxndnjrrl': 11731, '1717': 11732, 'reddakushgodd': 11733, 'smfh': 11734, 'lfw4kuukem': 11735, 'k3mnk9hnz5': 11736, 'myhohvrhil': 11737, 'tm5hthfdo0': 11738, '2ppzgpxybi': 11739, 'ds9khkffwc': 11740, 'aknynpv461': 11741, '29pm': 11742, 'o8x4m5er6b': 11743, 'santiago': 11744, 'hollyw': 11745, 'c22ecvl4hw': 11746, 'kwislo': 11747, '115film': 11748, 'travelelixir': 11749, 'helo': 11750, 'tactical': 11751, 'aknbtuyaef': 11752, 'flames': 11753, 'optimistic': 11754, '777': 11755, 'vanished': 11756, '239': 11757, 'homealone2': 11758, 'film4': 11759, 'meyerbjoern': 11760, 'thelonevirologi': 11761, 'mackayim': 11762, 'newspaper': 11763, 'autismawareness': 11764, 'c5u9qsysej': 11765, 'bc19': 11766, 'actively': 11767, 'embraced': 11768, 'emhub': 11769, 'ugc': 11770, '6mbpvwitxf': 11771, 'm5rjekvddp': 11772, '36gccapaak': 11773, 'nqjzs6wkun': 11774, 'xfhh2xf9ga': 11775, 'bod': 11776, 'portgassdk': 11777, 'breach': 11778, 'ek6kyhxpe9': 11779, 'yn6nxoucr1': 11780, 'qm5sz0fyu8': 11781, 'passive': 11782, 'aggressively': 11783, 'coerced': 11784, 'commitment': 11785, '82ndabndiv': 11786, 'paratrooper': 11787, 'ugesklcn8m': 11788, 'uelz59wvom': 11789, 'pydisney': 11790, 'u0keoe5fmt': 11791, 'tremblayeh': 11792, 'sirmixalot': 11793, 'pitched': 11794, 'ofnsixjks': 11795, 'integrates': 11796, 'format': 11797, 'interval': 11798, 'shaping': 11799, 'techniqu': 11800, 'xuzee2budv': 11801, 'jxs50fkvik': 11802, 'onnnn': 11803, 'creeping': 11804, 'inflicted': 11805, 'derma': 11806, 'bracket': 11807, 'alhaji': 11808, 'sha': 11809, 'ibeto': 11810, 'competitor': 11811, 'kabul': 11812, 'o6armcgvbs': 11813, 'imilsfxntf': 11814, 'filipino': 11815, 'vjxa13n8ap': 11816, 'messeymetoo': 11817, 'evac': 11818, 'gzegjoakkw': 11819, 'jlabuz': 11820, 'kurtkamka': 11821, 'ariz': 11822, '0z1pvjvdpf': 11823, 'fe9hivfmxq': 11824, 'giyaad7dcc': 11825, 'bieyguqpb1': 11826, '2acrgdqhj0': 11827, 'taaylordarr': 11828, 'pittsburgh': 11829, 'barcousky': 11830, 'dhgavw8bsw': 11831, '0lmheaex9k': 11832, 'leaning': 11833, 'learni': 11834, 'wgl4lubnw1': 11835, 'ibazrhlsur': 11836, 'b6wwq2nyqi': 11837, 'sapphirescallop': 11838, 'oppa': 11839, 'haaaaaa': 11840, 'manuel': 11841, 'accuracy': 11842, 'improves': 11843, 'infinitegrace7': 11844, 'shakjn': 11845, 'c7': 11846, 'wvtpuryx63': 11847, 'ferno': 11848, 'engineering': 11849, 'inspect': 11850, 'gted6ldwho': 11851, 'thisispublichealth': 11852, 'qegmrhsms2': 11853, 'brctmnybjy': 11854, 'angelina': 11855, 'jolie': 11856, 'sef': 11857, 'r8ptvfuh5x': 11858, 'npckk0tleq': 11859, 'defines': 11860, 'perpetrator': 11861, 'couch': 11862, 'p1amginsys': 11863, '1pack': 11864, '2pack': 11865, '3pack': 11866, 'fleek': 11867, 'k5fijankjb': 11868, 'insanelimits': 11869, 'plugin': 11870, 'tps': 11871, 'tdm': 11872, '400t': 11873, 'mb': 11874, '100mb': 11875, 'tecno': 11876, 'q1': 11877, 'ime': 11878, 'avzsyie1nt': 11879, 'hara': 11880, 'kiri': 11881, 'uo0aqk9kr8': 11882, 'creation': 11883, 'ai': 11884, 'workforce': 11885, 'inequality': 11886, 'bonhomme37': 11887, 'orphanage': 11888, 'dja4relcns': 11889, '9wqixgmhfh': 11890, 'spicybreads': 11891, 'coxytown': 11892, 'downloading': 11893, 'erupting': 11894, 'pixar': 11895, 'g4schqfest': 11896, 'keits': 11897, 'liva': 11898, 'unconscious': 11899, 'bedding': 11900, 'sticker': 11901, 'decal': 11902, 'ykuauov9jo': 11903, 'homebuyer': 11904, 'miscalculation': 11905, 'mwjcdk': 11906, 'uiqsfgzoox': 11907, '20skyhawkmm20': 11908, 'traplord': 11909, 'fredosantana300': 11910, 'lilreese300': 11911, 'mosh': 11912, 'libertarianluke': 11913, 'rampage': 11914, 'perceive': 11915, 'faintly': 11916, 'sputtering': 11917, 'vast': 11918, 'glacier': 11919, 'eternity': 11920, 'gyrsi': 11921, 'petebests': 11922, 'dessicated': 11923, 'kneel': 11924, '9tarbox': 11925, 'sour': 11926, 'freezer': 11927, 'robertson2': 11928, 'imullbvued': 11929, 'cautious': 11930, 'jejc9xctmp': 11931, 'justus': 11932, 'corn': 11933, 'flake': 11934, 'bytorrecilla': 11935, 'torrecilla': 11936, 'forney': 11937, 'yfavsuogvl': 11938, 'isi1rllct0': 11939, 'ayhhhhhdjjfjrjjrdjjeks': 11940, 'detroitpls': 11941, 'kansa': 11942, 'hyatt': 11943, 'aia': 11944, 'cote': 11945, 'ths9iqswp3': 11946, 'huffpostarts': 11947, 'lzasr05ljo': 11948, 'iemxgse2be': 11949, 'girlthatsrio': 11950, '45twhj0l6m': 11951, 'romanatwoodvlogs': 11952, 'thatrussianman': 11953, '14cicptkna': 11954, 'vaxshill': 11955, 'troyslaby22': 11956, 'u1fuwrgk5u': 11957, 'zotar': 11958, 'skeleton': 11959, 'alchemist': 11960, 'atamathon': 11961, 'gpwrc1kz5i': 11962, 'err': 11963, '509': 11964, 'poconorecord': 11965, 'emergencymgtmag': 11966, '7zlsumiess': 11967, 'tdcch01n7q': 11968, '20yrs': 11969, 'selmoooooo': 11970, 'edvinnn': 11971, 'imtariik': 11972, 'dzafic': 11973, 'haris': 11974, 'selmo': 11975, 'witnessing': 11976, 'slaughter': 11977, 'l1gh8064yv': 11978, 'scichat': 11979, 'ehgtzhkan4': 11980, 'lamsdzkcuz': 11981, 'shield': 11982, 'gpv': 11983, 'wnw': 11984, '12jst': 11985, '18jst': 11986, 'l6jbjaj8dm': 11987, 'stylist': 11988, 'abnzqwlig1': 11989, 'justsaying': 11990, 'randomthought': 11991, 'mccain': 11992, 'photographed': 11993, 'jnromse1z2': 11994, 'acmilan': 11995, 'w6yu7qs4cv': 11996, 'qbdryxsglc': 11997, 'vzod7qfflv': 11998, 'x713omh6ai': 11999, 'xcgzc45gys': 12000, 'torrential': 12001, 'gl3c1vc88p': 12002, '8392': 12003, 'deluxe': 12004, 'vihdoksccc': 12005, 'coercion': 12006, 'ensuring': 12007, 'gnorijnsva': 12008, 'withering': 12009, 'undermine': 12010, 'mustering': 12011, 'baskgod': 12012, 'fiendnikki': 12013, 'collaborating': 12014, 'kroschel': 12015, 'vail': 12016, 'swwylrk0fv': 12017, 'articals': 12018, 'qd3dssfwue': 12019, '1yixfg1hdy': 12020, 'rfp': 12021, '450': 12022, 'transporta': 12023, '8gtrvece1n': 12024, 'roadworks': 12025, 'tottenham': 12026, 'xbznu0qkvs': 12027, 'booze': 12028, 'ia1hngnhvb': 12029, 'us101': 12030, 'unkn': 12031, 'js9ehp88wq': 12032, 'edwin': 12033, 'teahivetweets': 12034, 'acarewornheart': 12035, 'runkeeper': 12036, 'uonebahh3h': 12037, 'tyyfg4qqvm': 12038, 'matijwkzbh': 12039, 'impression': 12040, 'lieu': 12041, 'effected': 12042, 'cali': 12043, 'vmwtouyohm': 12044, 'expansion': 12045, 'bard': 12046, 'egioxbaboe': 12047, '1km': 12048, 'nne': 12049, 'x6el3ysycn': 12050, 'u52rw9ji2r': 12051, 'gx75w3q9ye': 12052, 'phalaborwa': 12053, '08lngclzsj': 12054, 'sucker': 12055, 'riser': 12056, 'dierks': 12057, 'bentley': 12058, 'iheartradio': 12059, 'zqoscqd64h': 12060, 'ylvvf139bb': 12061, 'joshacagan': 12062, 'alil': 12063, 'truckload': 12064, 'wjntaokdhf': 12065, 'bbclaurak': 12066, 'stowing': 12067, 'aboard': 12068, '2wbivkzjip': 12069, 'hailing': 12070, 'haildamage': 12071, 'yycweather': 12072, 'captureyyc': 12073, 'hirochii0': 12074, 'and1btizao': 12075, 'zv60chjclf': 12076, '9asc1hhfnj': 12077, 'beetroot': 12078, 'livin': 12079, 'zoom': 12080, 'imawvmzs3a': 12081, 'deconstruct': 12082, 'kerri': 12083, 'sackville': 12084, 'tms7': 12085, 'boarding': 12086, 'galleria': 12087, 'apts': 12088, 'nmpn2mqzge': 12089, 'iso': 12090, 'psp': 12091, 'hbpnfoawii': 12092, 'ode': 12093, 'gbonyin': 12094, 'lga': 12095, 'jdvsgvhlis': 12096, 'perrie': 12097, 'engagement': 12098, 'gedoxsppl9': 12099, 'aczruorytd': 12100, 'tunes': 12101, 'wgg': 12102, 'restoring': 12103, 'alphen': 12104, 'aan': 12105, 'den': 12106, 'rijn': 12107, 'sanjaynirupam': 12108, 'sureshprabhu': 12109, 'kiro7seattle': 12110, 'razedåê': 12111, 'ikpeazu': 12112, 'apga': 12113, 'akzzoe5ce6': 12114, 'organizer': 12115, '7ijlz6bcsp': 12116, 'h3sxfv5mtc': 12117, 'iewdrenauk': 12118, 'jude': 12119, 'mugabi': 12120, 'e9yfe3p7p1': 12121, '8gzbgmmaa1': 12122, 'playa': 12123, 'jetixrestored': 12124, 'teamo': 12125, 'supremo': 12126, 'pogo': 12127, 'wblimlmt2x': 12128, 'macdaddy': 12129, 'caption': 12130, 'k8ughv2aif': 12131, 'drvox': 12132, 'agw': 12133, 'gecko': 12134, 'chillin': 12135, 'wxela91juh': 12136, 'rqipgqslt6': 12137, 'ltz': 12138, 'adsvdpnp3r': 12139, 'exofficio': 12140, 'acb0ryenuo': 12141, 'headdesk': 12142, 'wise': 12143, 'jogger': 12144, 'yancey': 12145, 'kern': 12146, 'airing': 12147, 'kbak': 12148, 'cbs29': 12149, 'rorktmpqns': 12150, 'liveonkbak': 12151, 'edznx6goud': 12152, 'fcqmkffflw': 12153, 'vayaymbngu': 12154, 'nmgp7imeii': 12155, 'spaceshiptwo': 12156, 'eysblyx6l6': 12157, 'kpcc': 12158, 'cutekitten': 12159, 'catsofinstagram': 12160, 'summerinsweden': 12161, 'katt': 12162, 'katterpì': 12163, 'dumle': 12164, 'dagens': 12165, 'p4zfxdnbch': 12166, '98o2kc3a1z': 12167, 'tgdonttkty': 12168, 'snowywolf5': 12169, 'thegreenparty': 12170, 'resolution': 12171, 'fqsk7qcawo': 12172, 'mprnews': 12173, 'rationing': 12174, 'tbx8cakdrw': 12175, 'collateral': 12176, 'nycbuildings': 12177, 'm78ir0ik01': 12178, 'finer': 12179, 'subatomic': 12180, '2wcbrgn62j': 12181, 'contribution': 12182, 'fmu0fnumxf': 12183, 'aggryhvxkr': 12184, 'lado': 12185, 'tweeting': 12186, 'joshua': 12187, 'indonesian': 12188, '7mug2kahl7': 12189, 'mk2': 12190, 'uud': 12191, 'lk': 12192, 'eytay': 12193, 'neur0sis': 12194, 'zyrzx6dfki': 12195, '9jcibenckz': 12196, 'dmassa5': 12197, 'definite': 12198, 'romeocrow': 12199, 'organizing': 12200, 'd33munni': 12201, 'jeannamibian': 12202, 'noooooooo': 12203, 'jetstar': 12204, 'bali': 12205, 'jtjofltms4': 12206, '2hours': 12207, 'wactt18gda': 12208, 'mineness': 12209, 'spymiqnecj': 12210, 'socialwots': 12211, 'globi': 12212, 'inclusion': 12213, 'middleeast': 12214, 'engulfs': 12215, 'caravan': 12216, 'zaatari': 12217, 'xbnlsbzzgi': 12218, 'xjkrxrnwnv': 12219, 'jlwgshyy3n': 12220, 'tomislav': 12221, 'salopek': 12222, 'wiqjeruktf': 12223, 'marcoarment': 12224, 'fant4stic': 12225, 'qsekoeubmd': 12226, 'preseasonworkouts': 12227, 'biztip': 12228, 'dvbbs': 12229, 'borgeous': 12230, 'arceen': 12231, '743joqazrt': 12232, 'trad': 12233, 'plummeting': 12234, 'hasåêarrived': 12235, 'udqa53kfqu': 12236, '39iabcc5pk': 12237, 'nochilllukehammings': 12238, 'microwave': 12239, 'intead': 12240, 'chrisdanielshow': 12241, 'pee': 12242, 'francisco': 12243, '1tvlfrhm1m': 12244, 'k3': 12245, 'prayforsaipan': 12246, '8l4rffzd0p': 12247, 'vbffodtp6m': 12248, 'f1tcbg1mki': 12249, 'i3hzemldpu': 12250, 'torrance': 12251, 'wwfqgcqyii': 12252, 'gscswyuupa': 12253, 'kepznhxhxd': 12254, 'v5yuualoqw': 12255, '263chat': 12256, 'twimbos': 12257, 'zimpapersviews': 12258, 'yzdmouxqbo': 12259, 'pexfgawrg1': 12260, 'ojoubot': 12261, 'gthddzavhg': 12262, 'losangelestimes': 12263, 'bb7ttdvjwe': 12264, 'xmwodfmtui': 12265, 'palmater': 12266, 'perrybellegarde': 12267, 'firstnations': 12268, 'idlenomore': 12269, 'cndpoli': 12270, 'yyj': 12271, 'y8icf89h6w': 12272, 't9msnzv1kb': 12273, 'frightening': 12274, 'bdotq8dsln': 12275, 'arizonadot': 12276, 'salado': 12277, 'crackin': 12278, 'panicked': 12279, 'htpqvohtud': 12280, 'alwx': 12281, 'gtqmgsgcsb': 12282, 'offloading': 12283, 'wolter': 12284, 'peeters': 12285, 'nsw': 12286, 'rural': 12287, 'gxe7nhwz3e': 12288, 'srbqlmuwbv': 12289, 'levy': 12290, 'wdtv': 12291, '2fibe2haxc': 12292, 'ooc': 12293, 'subjected': 12294, 'unwarranted': 12295, 'haxj6go2ac': 12296, 'ronwyden': 12297, 'lyndon': 12298, '67': 12299, 'lunasagalle': 12300, 'synapsenkotze': 12301, 'shkimonmlw': 12302, 'mfsw0tysta': 12303, 'sousse': 12304, 'tunis': 12305, 'myhhthsli3': 12306, 'candidate': 12307, 'grime': 12308, 'pbegof4740': 12309, 'duchovbutt': 12310, 'starbuck': 12311, 'scully': 12312, 'madmakny': 12313, 'davidduchovny': 12314, 'gsa4o1mjnm': 12315, 'conditionsprivation': 12316, 'i5ma6ewuwc': 12317, 'asukager': 12318, 'magical': 12319, 'zpxe3fmyng': 12320, 'westmarch': 12321, 'arreat': 12322, 'northbayhealth': 12323, 'shine': 12324, '21b6skpdur': 12325, 'wbcb3sytj7': 12326, 'gail': 12327, 'russell': 12328, 'dalroy': 12329, '3vfkedgrso': 12330, 'rp2dxfkhdq': 12331, 'akmihlris1': 12332, 'beaumont': 12333, 'benews': 12334, 'pme0hojvya': 12335, 'ml8irhwg7o': 12336, 'dissuaded': 12337, 'r5bxzzhxkm': 12338, 'cech': 12339, 'keegan': 12340, 'welshninja87': 12341, 'beaverton': 12342, 'builder': 12343, 'blackmail': 12344, 'squeaver': 12345, 'hangin': 12346, 'watchin': 12347, 'septic': 12348, 'aphyr': 12349, 'somethin': 12350, '2872j5d4hb': 12351, 'battleroyalemod': 12352, 'teleported': 12353, 'decides': 12354, '1beegwrsis': 12355, 'scmp': 12356, 'drculiyp0t': 12357, 'laylovetournay': 12358, 'ryrotheunaware': 12359, 'groaning': 12360, 'jen': 12361, 'czqr3ci9xw': 12362, 'understood': 12363, 'kesabaran': 12364, 'membuahkan': 12365, 'hasil': 12366, 'indah': 12367, 'pada': 12368, 'saat': 12369, 'tepat': 12370, 'sethalphaeus': 12371, 'paramore': 12372, 'muse': 12373, 'taint': 12374, 'lucas': 12375, 'duda': 12376, 'nic': 12377, 'badass': 12378, 'uprootin': 12379, 'fhvokmphed': 12380, 'lordbrathwaite': 12381, 'growingupincolorado': 12382, 'onvd9d4nkg': 12383, 'aisle': 12384, 'serbian': 12385, 'clothing': 12386, 'yuppie': 12387, 'd1vjoyg52a': 12388, 'gards': 12389, 'dqsvyusy': 12390, 'portaloos': 12391, 'sentient': 12392, 'waseembadami': 12393, 'condemning': 12394, 'gv': 12395, 'heir': 12396, 'itg84q7vii': 12397, 'kl4r1ccwct': 12398, 'n7yst76ku3': 12399, 'tiggr': 12400, 'catoinstitute': 12401, 'deeply': 12402, 'solved': 12403, 'h2xcax4jbu': 12404, 'g6monvnpsu': 12405, 'beluga': 12406, 'seaworld': 12407, 'opseaworld': 12408, 'mzk5ujlfcv': 12409, 'shouout': 12410, 'kasad1lla': 12411, 'ldgwsyowss': 12412, 'cnyvvy4wat': 12413, 'vivid': 12414, 'triad': 12415, 'jmu5uyamdu': 12416, 'mbo6oaniqi': 12417, 'earthtwerk': 12418, '0mcxc68gzd': 12419, 'hibdw7d7ja': 12420, 'guidofawkes': 12421, 'mediaguido': 12422, 'we40iux7ib': 12423, 'rvfriedmann': 12424, 'lodisilverado': 12425, 'ritzy': 12426, 'jewels': 12427, 'ethic': 12428, 'stftjcrjea': 12429, 'navigating': 12430, 'mythgriy': 12431, 'advantage': 12432, 'apropos': 12433, 'favorable': 12434, 'pwhvgwax': 12435, 'garza': 12436, 'atlas': 12437, 'leone': 12438, 'copa': 12439, 'mx': 12440, 'usmnt': 12441, 'z4jyharrew': 12442, 'h9vmmdebdx': 12443, 'mwzqcjhzpb': 12444, '4y4ytwhd74': 12445, 'bm0qec7pja': 12446, 'eminem': 12447, 'nate': 12448, 'dogg': 12449, 'barak': 12450, 'depends': 12451, '3geroq49o1': 12452, 'neqw47e1uj': 12453, 'badchoices': 12454, 'bantrophyhunting': 12455, '7l6bhexixv': 12456, 'emosrmuvqa': 12457, 'giesomgwtr': 12458, '5cwuylnfum': 12459, '1tyyqfz13d': 12460, 'c0slabbp7j': 12461, 'strickskin': 12462, 'nickscomics': 12463, 'objective': 12464, 'efg8rth9rb': 12465, 'charlesadler': 12466, 'browner': 12467, 'ems1': 12468, 'emts': 12469, 'minimum': 12470, 'wage': 12471, '4oa6swlxmr': 12472, 'axk9xno6yz': 12473, 'livescience': 12474, 'dpgdnaoy4p': 12475, '4fcjfdkdzs': 12476, 'yvafi3zujx': 12477, '6ds67xai5e': 12478, 'borrower': 12479, 'sbhhkkz01y': 12480, 'raidersreporter': 12481, '957thegame': 12482, 'galaxy': 12483, 'jozerphine': 12484, 'everythign': 12485, 'mcpherson': 12486, 'tidalhifi': 12487, 'mzqq5pai8g': 12488, 'qzrcinaf5z': 12489, 'nljvp3vfyz': 12490, 'fiya': 12491, 'garbanzobean23': 12492, 'cutest': 12493, 'indot': 12494, 'bias': 12495, 'g7k9tqvqbk': 12496, 'igxrqpotm7': 12497, 'landi': 12498, '3kpbu6hgt5': 12499, 'peritoengrafoscopia': 12500, 'kp2lf4aute': 12501, 'cwzhgezaj4': 12502, 'heavydirtysoul': 12503, 'jssmmlnaq7': 12504, 'creationsbykole': 12505, 'cork': 12506, 'booktubeathon': 12507, 'inroices': 12508, 'tonymcguinness': 12509, 'creamfields': 12510, 'mainstage': 12511, 'fahlo': 12512, 'queenåê': 12513, 'olpbmy9xw9': 12514, 'on18cqgcoa': 12515, 'snapchatselfie': 12516, 'wrongperson': 12517, 'courtney': 12518, 'laudner': 12519, 'panty': 12520, 'peeked': 12521, 'immune': 12522, 'deafening': 12523, '410': 12524, 'bsmj2hvgwd': 12525, 'bxalnedy49': 12526, 'dayton': 12527, '7lhkjz0ivo': 12528, '65xr1p9soo': 12529, 'bcfcticketlady': 12530, 'aamir': 12531, 'javaid': 12532, 'kro': 12533, 'sleepjunkies': 12534, '7s9nm1fict': 12535, 'styled': 12536, 'undergroundbestsellers': 12537, 'dili5jhmur': 12538, 'xzfxrglalp': 12539, 'fanarmyfaceoff': 12540, 'kgtxnnbj7y': 12541, 'actavis': 12542, 'gemmahentsch': 12543, 'dloesch': 12544, 'envision': 12545, 'interpretation': 12546, 'my8q1uwijn': 12547, 'papcrdoll': 12548, 'deactivate': 12549, 'airhorns': 12550, 'unpredictable': 12551, 'disconnected': 12552, 'fedporn': 12553, 'absurd': 12554, 'satire': 12555, 'indistinguishable': 12556, 'seasonfrom': 12557, 'onshit': 12558, 'omfgv9ma1w': 12559, 'eqjcpwilvn': 12560, 'initiative': 12561, 'alliance': 12562, 'assad': 12563, 'ur7fexszg4': 12564, 'wb8awoblcl': 12565, 'jusstdoitgirl': 12566, 'wbu': 12567, 'twilightfairy': 12568, 'vortex': 12569, 'catcher': 12570, 'oiywrzl79z': 12571, 'szeapueuvy': 12572, 'a3': 12573, 'creepiest': 12574, 't8uqm7imir': 12575, 'mothe': 12576, 'rteugb5tnv': 12577, 'niggr': 12578, 'misfitrarity': 12579, 'misfit': 12580, 'algtcn8baf': 12581, 'fuckboy': 12582, 'pseudojuuzo': 12583, 'sigmund': 12584, 'freud': 12585, 'stevenontwatter': 12586, 'pussyxdestroyer': 12587, 'flavored': 12588, 'vecsosrler': 12589, 'fiuogj6hef': 12590, 'appeared': 12591, 'gtcffacvam': 12592, 'mechamacgyver': 12593, 'ujnrgfangj': 12594, 'tmipegqyev': 12595, 'christinalavv': 12596, 'wynn3': 12597, 'charminar': 12598, 'telangana': 12599, 'sobbing': 12600, 'endlessly': 12601, 'confused': 12602, 'z2ph0arzyi': 12603, 'biggangvh1': 12604, '100nd': 12605, 'qxh1h61cwd': 12606, 'dotish': 12607, 'tribe': 12608, 'ildbeje225': 12609, 'decree': 12610, 'k3pnnktlxh': 12611, 'destination': 12612, 'rl': 12613, 'qreinwg0gs': 12614, 'goooooooaaaaaal': 12615, 'cortneymo': 12616, 'oaqtjawgxg': 12617, '5koho39oje': 12618, 'datingtips': 12619, 'goodreads': 12620, 'wut': 12621, 'ditched': 12622, 'hungrier': 12623, 'xkmlq99sjy': 12624, 'a3rgqucugo': 12625, 'p96rgbbayl': 12626, 'cultsierre': 12627, 'muf5czqjrl': 12628, 'sslt8esmhy': 12629, 'wspuxorewb': 12630, 'drying': 12631, 'imouto': 12632, 'nxwestmidlands': 12633, 'rwzbfvnxer': 12634, 'musicvideo': 12635, 'uuzaumdobc': 12636, 'ltma9xqxpx': 12637, 'alextucker': 12638, 'firearm': 12639, 'vector': 12640, 'cutter': 12641, 'sdogef3kft': 12642, 'x0giy85bs8': 12643, 'ebrointheam': 12644, 'biggie': 12645, 'y33qckq7qd': 12646, 'lao': 12647, '8fvqrizoux': 12648, '6ioabsl6i7': 12649, 'hashtags': 12650, 'a6wmbnr51s': 12651, 'bldrcosheriff': 12652, 'cbsdenver': 12653, 'mphog0qddn': 12654, 'bagged': 12655, 'lac': 12656, 'lhdcpnzx6a': 12657, 'unconsciously': 12658, 'theashes': 12659, 'tim8x9bi0f': 12660, 'cg': 12661, 'eliminate': 12662, 'homeimprovement': 12663, 'kx8cu4s8t1': 12664, 'commodity': 12665, '4hngtkdqmv': 12666, 'xuhmj098lq': 12667, '2racaivffq': 12668, '5wfxbaqmbk': 12669, 'reopens': 12670, 'oabjztbvyz': 12671, 'gpbxrrdc07': 12672, '50vdq7a1m5': 12673, 'qh6oxft9ir': 12674, 'ajpbdcalew': 12675, 'gskjqwyi2d': 12676, 'homukami': 12677, 'lenn': 12678, 'usami': 12679, 'psychologist': 12680, 'lgglf5yrme': 12681, 'vazpg0ftmu': 12682, 'damnnnn': 12683, 'gmcr': 12684, 'accordingly': 12685, 'reportly': 12686, 'ntvde': 12687, 'silverman': 12688, 'sarahksilverman': 12689, 'soundtrack': 12690, 'tracey': 12691, 'ullman': 12692, 'kkbxiblah7': 12693, 'hazelannmac': 12694, 'wishing': 12695, 'hatman': 12696, 'delicious': 12697, 'missdaoh': 12698, 'uae': 12699, 'mideast': 12700, 'ncms': 12701, 'thundering': 12702, 'tk65ske0zm': 12703, 'tagzbcxfj0': 12704, 'gobsmacked': 12705, 'retard': 12706, 'dccc': 12707, 'vj44': 12708, 'jbouie': 12709, 'mmfa': 12710, 'psi35au3pc': 12711, 'mailonline': 12712, 'atom': 12713, 'hctxghr2yf': 12714, 'creative': 12715, 'interviewed': 12716, 'anatomy': 12717, 'j6mpdsx9lk': 12718, 'humboldt': 12719, 'cty': 12720, 'residence': 12721, 'lassics': 12722, 'eruzbuqzyu': 12723, 'htez4z48od': 12724, 'eq4rxc9bb3': 12725, 'tuicruises': 12726, 'aida': 12727, 'faroe': 12728, '3a3fgzfmzh': 12729, 'sedan': 12730, 'choctaw': 12731, 'ogxsy4gwd1': 12732, 'toddstarnes': 12733, 'hehe': 12734, 'wwfacu6nft': 12735, 'category': 12736, 'defined': 12737, 'odydt9qpk1': 12738, 'azimel': 12739, 'deceased': 12740, 'lightly': 12741, 'reserved': 12742, 'y2mt6v13e8': 12743, 'hes0bpu60y': 12744, 'nz7ackrrji': 12745, 'tnwx': 12746, 'floored4': 12747, 'lag': 12748, 'r5stv25zhq': 12749, 'indiana': 12750, 'lafayette': 12751, 'lmumzkltln': 12752, 'yebxxarybf': 12753, 'srruqfffr6': 12754, 'cadzxagmsi': 12755, 'roving': 12756, 'raccoon': 12757, 'toughens': 12758, 'ojus08yzrq': 12759, 'flint': 12760, 'metropolis': 12761, 'highsmith': 12762, 'zvobmdxhgp': 12763, 'glenstannard': 12764, 'essexweather': 12765, 'abouts': 12766, 'writebothfists': 12767, 'acne': 12768, 'xeni': 12769, 'kalmikya': 12770, 'astrakhan': 12771, 'volgagrad': 12772, 'dagestan': 12773, 'locust': 12774, '79fw9zwxtp': 12775, 'timeworld': 12776, 'bcsxyec4ji': 12777, 'dfxi76kvx0': 12778, 'mileena': 12779, 'q1glk8plud': 12780, 'o6onsjhcsd': 12781, 'p2': 12782, 'khsbzkfd6o': 12783, 'devpeace': 12784, 'jwxrx1lsqo': 12785, '3snyoohseq': 12786, 'remaster': 12787, 'frame': 12788, 'windwaker': 12789, 'lec1vms7x2': 12790, 'thorium': 12791, 'mly7sdn6ev': 12792, 'hearitfrompatty': 12793, 'fireball': 12794, 'davidcovucci': 12795, 'nv3uxv9imx': 12796, 'tx': 12797, 'ej30ihrea9': 12798, 'mutek': 12799, 'montreal': 12800, 'vjbhxn9x1o': 12801, 'isea2015': 12802, 'furiosoxv': 12803, 'gxgm1t3w0j': 12804, 'elation': 12805, 'pumxlvlsgm': 12806, 'papiichampoo': 12807, 'civility': 12808, 'jpu3es746i': 12809, 'wkrn': 12810, '950xijhnvh': 12811, 'uhc': 12812, 'creeper': 12813, 'vinnie': 12814, 'northumbria': 12815, 'up30aqgnlf': 12816, 'cedjdlpdan': 12817, 'lolla': 12818, 'yrfz5wj7r2': 12819, 'nicole': 12820, 'fletcher': 12821, '4hcywrwn6l': 12822, '2twxz6vxbx': 12823, 'f1bakpnyn6åê': 12824, 'lzxwoaye4x': 12825, 'lk5uqkop1e': 12826, 'gunfight': 12827, '2h0dpmv2ef': 12828, '6ysbcsszys': 12829, 'zlco4ue5oq': 12830, 'raisinfingers': 12831, 'gx9skuau9j': 12832, 'ûïnews': 12833, 'u30n3ffx8y': 12834, 'whelen': 12835, '295ss': 12836, 'amplifier': 12837, 'a5iwus8evq': 12838, 'gi82n2juwn': 12839, 'bs6pjt09tc': 12840, 'zsdvweglf5': 12841, '0t8vqkeari': 12842, 'loot': 12843, 'ricin': 12844, 'cartel': 12845, 'bust': 12846, '415': 12847, '751': 12848, '0880': 12849, '90l2lb5wmr': 12850, '4am': 12851, 'fuerk0gwui': 12852, 'mv7ggglmvc': 12853, 'bark': 12854, 'dip': 12855, 'halloikbenwill': 12856, 'fqj0squ3lg': 12857, 'osteen': 12858, 'ge': 12859, 'hrc3oxquik': 12860, 'wnptvbm5t7': 12861, 'gopsicp8bm': 12862, 'liam': 12863, 'payne': 12864, 'addtexastonext1dtour': 12865, 'marlene': 12866, 'menahem': 12867, 'moshav': 12868, 'safsufa': 12869, 'refer': 12870, 'ûïsippin': 12871, 'lame': 12872, 'effective': 12873, 'ekwtihlwuf': 12874, 'lnpscadaxr': 12875, 'xxj2b4jxrt': 12876, '9gtylgxroe': 12877, 'yg6rj86bki': 12878, 'holdin': 12879, 'rb02svlppu': 12880, 'kenny': 12881, 'mwcnvtcxvu': 12882, 'clolmorpld': 12883, 'wd7s6s0vci': 12884, 'lavapixcom': 12885, 'champion': 12886, 'championsblackfoot': 12887, 'v9i4pfxo0c': 12888, 'importance': 12889, 'heartbeat': 12890, 'familiar': 12891, 'anytime': 12892, 'riddler': 12893, 'presidential': 12894, 'f0wqlobooy': 12895, 'bromleythe': 12896, 'thpbdpdj35': 12897, 'cwgcciw3v6': 12898, 'jrztpt8ijq': 12899, 'baan': 12900, 'thai': 12901, 'sushi': 12902, 'udp10frxrl': 12903, 'w6o0uizf8p': 12904, 'clapton': 12905, 'qbmcsjavt0': 12906, 'mordechai': 12907, 'yehuda': 12908, 'friedman': 12909, 'ramat': 12910, 'beit': 12911, 'shemesh': 12912, 'pantalonesfuego': 12913, 'ranefihbuk': 12914, 'mflrvbh4qa': 12915, 'lionx3': 12916, 'andygilder': 12917, 'infomercial': 12918, 'crept': 12919, 'vcjcykq8b8': 12920, 'x1411': 12921, 'shrhkfj1bc': 12922, 'gggfvo5pb4': 12923, 'nlfr8t3xqm': 12924, 'stfxuniversity': 12925, 'l5awtundhm': 12926, 'calfreedommom': 12927, 'steph93065': 12928, 'contributor': 12929, 'nekm1rpohu': 12930, 'cntwb6sczj': 12931, 'rin': 12932, 'misha': 12933, 'emi': 12934, 'kenji': 12935, 'yuuko': 12936, 'nomiya': 12937, 'hisao': 12938, 'trois': 12939, 'rivieres': 12940, 'legionstrackandfield': 12941, 'pue5xnznqb': 12942, 'texansdc': 12943, 'kylekrenek': 12944, 'zepp1978': 12945, 'frobeus': 12946, 'ns': 12947, 'teddy': 12948, 'gaping': 12949, '0xa6fcjyec': 12950, 'ny3l1orzqb': 12951, 'liveleak': 12952, 'raheel': 12953, 'sharif': 12954, 'chitral': 12955, 'lauded': 12956, 'fwo': 12957, 's': 12958, 'evahanderek': 12959, 'marleyknysh': 12960, 'toiindianews': 12961, 'ofcourse': 12962, 'caued': 12963, 'washing': 12964, '6hkca1dsna': 12965, '30stm': 12966, 'quem': 12967, 'lembra': 12968, 'filmed': 12969, 'aog5chjmvs': 12970, 'cln2sxzy1z': 12971, 'heals': 12972, 'dubbo': 12973, 'hdbmfovutz': 12974, 'dailyliberal': 12975, 'heavyåêrain': 12976, 'q3xq8r658r': 12977, 'sunflower': 12978, 'vlnmklwwby': 12979, 'p769eo49fj': 12980, 'pnssia5e46': 12981, 'lsvsyspdxx': 12982, 'annihilating': 12983, 'quarterstaff': 12984, 'tastemycupcakee': 12985, 'lmfaooo': 12986, 'nawh': 12987, '5ukohk7sob': 12988, 'kennel': 12989, 'yorkshire': 12990, 'zqrcptlrum': 12991, 'mentalhealthgov': 12992, 'ahhhhh': 12993, 'alec': 12994, 'tort': 12995, 'injustice': 12996, 'mh': 12997, 'qejedwsfdg': 12998, 'detonates': 12999, 'xyckgxzv9s': 13000, 'abran': 13001, 'caballero': 13002, 'vosloorus': 13003, 'gauteng': 13004, 'toyota': 13005, 'bkb066gp': 13006, 'odmp01eyzu': 13007, 'connormidd': 13008, 'krsy54xmmc': 13009, 'gmtty': 13010, 'rq': 13011, 'damnaarielle': 13012, 'j4ni4n0yfz': 13013, 'santaclara': 13014, 'bayarea': 13015, 'pmlohzurwr': 13016, 'weloveyoulouis': 13017, 'worstoverdose': 13018, 'jaileens': 13019, 'caked': 13020, 'conducted': 13021, 'skim': 13022, 'morethan': 13023, 'kashmirconflict': 13024, '2mwc9ywjzy': 13025, 'stretch': 13026, 'victorian': 13027, 'sofa': 13028, 'lilithsaintcrow': 13029, 'eswnsetftf': 13030, 'temecafreeman': 13031, 'gyqlaoz3l2': 13032, 'd2i9bl89zo': 13033, 'pastor': 13034, 'iecc1jdoub': 13035, 'trollkrattos': 13036, 'juan': 13037, 't7ge0j3cay': 13038, 'mtsalert': 13039, 'developed': 13040, 'arrogant': 13041, 'jeromekem': 13042, 'nq89drydbu': 13043, 'thinkpink': 13044, 'magichairbump': 13045, 'nmhztb1ewm': 13046, 'fiery': 13047, 'disdain': 13048, 'qpr1980': 13049, 'rorington95': 13050, 'nowt': 13051, 'fergie': 13052, 'drinker': 13053, 'wenger': 13054, 'checkout': 13055, 'nurgle': 13056, 'snuck': 13057, 'khrone': 13058, 'he7q7h3nzf': 13059, 'rpvzbesuqj': 13060, 'uncomfortable': 13061, 'exqkmlg4nj': 13062, 'ghetto': 13063, 'reunite': 13064, '1ki8lgvay4': 13065, 'stemming': 13066, 'arizzo44': 13067, 'jlester34': 13068, 'xgnjgle9eq': 13069, 'r3do': 13070, 'hdv3zirbci': 13071, 'kiwi': 13072, 'karyn': 13073, 'hpvodud7ip': 13074, 'iucpcsfbmt': 13075, 'qltwhojqya': 13076, 'u7vavyrgv9': 13077, 'dangdaddy': 13078, 'qaqqrjv9gu': 13079, 'nelson': 13080, 'mandela': 13081, 'qr1l2jyuez': 13082, 'idaho': 13083, 'i15': 13084, 'idwx': 13085, '0cr74m1uxm': 13086, 'tfl': 13087, 'downtime': 13088, 'icsfdsifqb': 13089, 'byuwnbeki': 13090, 'tacit': 13091, 'raging': 13092, 'qchv3jqovk': 13093, 'gc0udfnfgg': 13094, 'ìñ1': 13095, 'michaelwestbiz': 13096, 'deai': 13097, 'sqydkslfzp': 13098, 'construct': 13099, 'e9d9lk5fdw': 13100, 'meetkakarotto': 13101, 'offline': 13102, 'hinata': 13103, 'kerrykatona7': 13104, 'bak': 13105, 'wvlah8jrxe': 13106, 'stl': 13107, 'ace': 13108, 'grille': 13109, 'speedtech': 13110, 'amber': 13111, '544': 13112, 't6seku4yvm': 13113, 'tjoz4u4txl': 13114, 'materialism': 13115, 'sdxzhjco0x': 13116, '2002': 13117, '81neizeknm': 13118, '033': 13119, 'wxces39zte': 13120, 'pygkssscfr': 13121, 'olrules': 13122, 'chapter': 13123, '6qx7arf4ag': 13124, 'thatpersianguy': 13125, 'youngsafe': 13126, 'harden': 13127, 'flopping': 13128, 'identical': 13129, 'sakhalintribune': 13130, 'l9udest': 13131, 'nruzhr5xqu': 13132, 'mulberry': 13133, 'antony': 13134, '279': 13135, '00end': 13136, 'ftm4rkl8mn': 13137, 'customized': 13138, 'dcubecrafts': 13139, 'greetingcards': 13140, 't07qxp5cbe': 13141, 'skiing': 13142, 'l8w30wfw3r': 13143, 'bhzr9ugus2': 13144, 'bv': 13145, 'publish': 13146, 'x1441': 13147, 'v1mtr517ue': 13148, 'packing': 13149, 'masturbates': 13150, '5qhoehe9hf': 13151, 'icsjgz9te1': 13152, '9fxmn0l0bd': 13153, 'nonucleariran': 13154, 'badirandeal': 13155, 'jebbush': 13156, 'z7phpjtqud': 13157, 'ryans': 13158, 'adip0unxhu': 13159, 'weyburn': 13160, 'fentanyl': 13161, 'province': 13162, '8bqjtp6id5': 13163, '8kjs7zqajs': 13164, 'correcting': 13165, 'dvieablofz': 13166, 'qzqc8wwwcn': 13167, 'devon': 13168, 'breneman': 13169, 'heated': 13170, '7qrepylluk': 13171, 'lawsonofficial': 13172, 'followed': 13173, 'thankyou': 13174, 'joboozoso': 13175, 'usat': 13176, 'dgkmueoaxz': 13177, 'judson1360': 13178, 'xtra1360': 13179, 'barring': 13180, 'remodeled': 13181, 'install': 13182, 'frp': 13183, 'tuna': 13184, 'kijangbank': 13185, 'negara': 13186, 'zpqwkhfhnf': 13187, 'amen': 13188, 'lauren83199': 13189, 'xojademarie124': 13190, 'batista': 13191, 'ymczyvkfme': 13192, 'eighty': 13193, 'spe7u8t40k': 13194, 'hatzolah': 13195, 'sek6mq6njf': 13196, 'veldfest': 13197, 'pp05etlk7t': 13198, '3ol8mhhpma': 13199, 'kc8o81bchg': 13200, '28pm': 13201, 'd02sbm0ojs': 13202, 'wxky': 13203, 'committing': 13204, 'drdrewhln': 13205, 'areva': 13206, 'kabarmesir': 13207, 'badr58': 13208, 'rabaa': 13209, 'observed': 13210, 'rememberrabaa': 13211, 'afterhaiyan': 13212, 'ga14egplw9': 13213, 'yolandaph': 13214, 'disasterrecovery': 13215, 'lzff4pt4az': 13216, 'ftsn': 13217, 'ftsnnewsdesk': 13218, '9vw0uqqi1y': 13219, '9mj8ouj3vt': 13220, 'dispute': 13221, 'oazghozgya': 13222, 'gunfail': 13223, 'nra': 13224, 'uplfsqmr0c': 13225, 'cali74142290': 13226, 'nataliealund': 13227, 'hopeinhearts': 13228, 'encouraging': 13229, 'preacher': 13230, 'daplllfuqk': 13231, 'lara': 13232, 'flesh': 13233, 'clawing': 13234, 'j43nwkx0x3': 13235, 'hm': 13236, 'ebolatrends': 13237, 'ihvmtmzxne': 13238, 'jliemrsnnj': 13239, 'leonalewis': 13240, 'essenceofme': 13241, 'fgvn2vcrrx': 13242, 'kftvnu7nvf': 13243, 'jn8s0drwbp': 13244, 'hhbu': 13245, 'blanksocietyx': 13246, 'hammond': 13247, '3xn1soh4bb': 13248, 'jungle': 13249, 'qp6q8rs8on': 13250, 'megancoopy': 13251, 'laurathorne97': 13252, 'mesqtvdu63': 13253, 'qzlpfhpwdo': 13254, 'chann': 13255, 'x39jwsyrqr': 13256, 'misscharleywebb': 13257, 'fucoqhclad': 13258, 'oamsgajagahahah': 13259, 'laighign': 13260, 'etkbw1rcrv': 13261, 'uvm975yha2': 13262, 'heavyweight': 13263, 'smoak': 13264, 'gvaipmlsl0': 13265, 'slimebeast': 13266, 'ulr6myklnh': 13267, '367': 13268, 'gusto': 13269, 'persist': 13270, 'pated': 13271, 'hpssjd': 13272, 'censor': 13273, 'pg4y3i5ciu': 13274, 'sprain': 13275, 'g0dn1chluo': 13276, 'srajapakse': 13277, 'missy': 13278, 'suited': 13279, 'yee': 13280, 'haw': 13281, 'uclvihwoec': 13282, 'carolina': 13283, 'median': 13284, 'p18lzrlmy6': 13285, 'lmwkjsycgj': 13286, 'athens': 13287, 'memorable': 13288, 'ronald': 13289, 'romp': 13290, '2xohtjqjwh': 13291, 'vfbbchwrfd': 13292, 'dispatcher': 13293, 'boone': 13294, '5fhkxtrhyu': 13295, 'kfyebhb3di': 13296, 'uooygbb6az': 13297, 'sivan': 13298, 'basalt': 13299, 'massage': 13300, 'jjxcnwbp15': 13301, 'h31knuwzz5': 13302, 'nicklee8': 13303, 'london3': 13304, 'loo': 13305, 'rftyyz4gwj': 13306, 'lau0ay7ahv': 13307, 'hfzk09mcen': 13308, '924': 13309, 'hpzhe0cjvf': 13310, 'saohvjktqc': 13311, 'comlg0vdbv': 13312, 'passion': 13313, 'overblown': 13314, 'mmzgphnknp': 13315, '6peeip4y7w': 13316, 'gassymexican': 13317, 'lpgfqnpjd3': 13318, 'glitch': 13319, 'immigrant': 13320, 'bl59fw4sys': 13321, 'dctv1ujlhc': 13322, 'qox1jnqsau': 13323, 'nvp6wrkl1e': 13324, 'reusing': 13325, 'drumming': 13326, 'champaign': 13327, 'fdbdp': 13328, 'quedv2xxxx': 13329, 'pilgrim': 13330, 'unimpressed': 13331, 'pw5dst9roz': 13332, 'eeasterling': 13333, 'qo3vwfelkp': 13334, 'swam': 13335, 'bounced': 13336, 'suffice': 13337, 'abc7eyewitness': 13338, 'hometownglory': 13339, 'fuckyeahcarey': 13340, 'bornverified': 13341, 'wmnonhxeir': 13342, 'bannukes': 13343, 'disabledveterans': 13344, 'groin': 13345, 'thepartyofmeanness': 13346, 'gztolll5wo': 13347, 'niiiice': 13348, 'pennlive': 13349, 'mechanicsburg': 13350, 'ohyd7hhcpe': 13351, 'samihonkonen': 13352, 'appropriate': 13353, 'jamaican': 13354, 'vhrlswvzql': 13355, 'haaretz': 13356, 'u4gsbnu8wc': 13357, 'pgxfocghqg': 13358, 'zachzaidman': 13359, '670thescore': 13360, 'wld': 13361, 'boycottbears': 13362, '3nuih6pkui': 13363, '2ufcc6gh3m': 13364, 'lastma': 13365, 'lagos': 13366, '8vzsftr1bg': 13367, 'satanaofhell': 13368, 'dreamy': 13369, 'iiii': 13370, 'riveeeeeer': 13371, '4kbwpcmmbm': 13372, 'lightseraphs': 13373, 'pikachu': 13374, 'yg697fcqgr': 13375, 'foo': 13376, 'carsonrex': 13377, 'spaceangelseven': 13378, 'p0fizxmn5r': 13379, 'm9o08gurt4': 13380, 'evaded': 13381, 'csxvwxuz6t': 13382, '1vz3rmjhy4': 13383, 'xevueefqbz': 13384, 'fingerrockfire': 13385, 'ex8a5jyzm5': 13386, 'azwx': 13387, 'deeekobmxa': 13388, 'contribute': 13389, 'hillaryclinton': 13390, '9naw3qoqol': 13391, 'jesse': 13392, 'suffers': 13393, 'r4utnewlna': 13394, '3yu26v19zh': 13395, 'inåêchaos': 13396, 'xkonkz0zl6': 13397, 'dxvtgi1bvo': 13398, 'pone': 13399, 'cantar': 13400, 'l53oabeqc9': 13401, 'q3izqdk1n0': 13402, 'ariabrisard': 13403, 'leiaorganasolo': 13404, 'lipstick': 13405, 'rediscovered': 13406, 'nars': 13407, 'emilyschuman': 13408, '4egh1g1jk7': 13409, 'follownflnews': 13410, '5dujgypima': 13411, 'y87gi3brlv': 13412, '1zbhvdcxzs': 13413, '55436': 13414, '1950': 13415, 'magne': 13416, 'traction': 13417, 'xezbs3sq0y': 13418, 'c2x0qokgly': 13419, 'bitten': 13420, 'dgelj8ryt9': 13421, 'wesleylowery': 13422, 'tub': 13423, 'planner': 13424, 'singled': 13425, 'b5okgpspbh': 13426, 'trossen': 13427, 'rs40000cr': 13428, 'lifeline': 13429, 'fci': 13430, 'n6rbnhmtd4': 13431, 'greenspace': 13432, 'development': 13433, 'zzcbbqyj1q': 13434, 'kksghsblfh': 13435, 'neat': 13436, 'uaodoquda1': 13437, 'trailhead': 13438, 'ablz20mgzv': 13439, 'communicate': 13440, 'gravitychat': 13441, 'brokenscnecal': 13442, 'i5k3vjicmg': 13443, 'cizjafnm4e': 13444, 'pageparkescorp': 13445, 'chloeunguyen': 13446, 'laurensicle': 13447, 'charstevens97': 13448, 'tiara': 13449, 'marei': 13450, 'gemma': 13451, 'bowe': 13452, '9wowps78vd': 13453, 'sleeper': 13454, 'railing': 13455, 'noahj456': 13456, 'xnto3jmmts': 13457, 'sticky': 13458, 'motivator': 13459, 'cs6': 13460, 'cvgjfpbtrn': 13461, 'ugyegkfs4x': 13462, 'cd2ng2awql': 13463, 'i1vpkq9yag': 13464, 'ty5gavn7uk': 13465, 'carriage': 13466, 'tennews': 13467, 'hfyrloqy8q': 13468, 'uorxff0nfx': 13469, 'thewesterngaz': 13470, '9i6crcrq2m': 13471, 'speech': 13472, 'tjyyft6nv0': 13473, 'onpnbx0zex': 13474, 'um5icn5et2': 13475, 'tarzana': 13476, 'hkyfkug5zw': 13477, '1pulaekxcq': 13478, 'beth': 13479, 'underwood': 13480, 'gravity': 13481, 'rlpttkbg4w': 13482, 'kurt': 13483, 'j3lyon': 13484, 'ffvii': 13485, 'exclamation': 13486, 'midweek': 13487, 'munch': 13488, '37dqvjhncv': 13489, 'nyack': 13490, 'pineview': 13491, 'railroad': 13492, 'crossing': 13493, 'ling': 13494, 'rainbow': 13495, 'akilah': 13496, 'vn2fnmy7li': 13497, 'nikki': 13498, 'ut7r2ixrjq': 13499, 'v3z96ydmvd': 13500, 'kxslftz2i5': 13501, 's43we7oe2i': 13502, 'pictured': 13503, 'yi9bbbx3fe': 13504, 'harveymaine': 13505, 'aaaa': 13506, 'lemme': 13507, 'roomr': 13508, 'hears': 13509, 'ageekyfangirl14': 13510, 'humor': 13511, 'destiel': 13512, 'mkx6ux4ozt': 13513, 'font': 13514, 'drained': 13515, 'xdxdprcpns': 13516, 'ìü': 13517, 'pw78nbljky': 13518, 'atchisonsean': 13519, 'plank': 13520, 'ys3nmwwyvc': 13521, 'alpotnb7q3': 13522, 'beloeil': 13523, 'richelieu': 13524, 'laurent': 13525, 'expanding': 13526, 'hmuyzmv8qh': 13527, 'joshsternberg': 13528, 'zdtdqqbahc': 13529, 'psqcnsvfgp': 13530, '6zgef8j8bm': 13531, 'ashberxo': 13532, 'ep03': 13533, 'finalise': 13534, 'alt': 13535, 'onlin': 13536, 'n3lndjkyo3': 13537, '5ortb8p51c': 13538, 'beatdown': 13539, 'nypdnews': 13540, 'ihhrkg4v1s': 13541, 'aryu5qngjj': 13542, 'buren': 13543, 'kjsvw06gbv': 13544, 'calabria': 13545, 'malta': 13546, 'hmrtqeykyi': 13547, 'hksbmijqz1': 13548, 'dorett': 13549, 'dy1ersdcrh': 13550, 'm4cpmxmurk': 13551, 'roadway': 13552, '15901': 13553, 'statesville': 13554, 'mogacola': 13555, 'zamtriossu': 13556, 'usarmy': 13557, 'jagm': 13558, 'tow': 13559, '2mnqc73hfk': 13560, 'visting': 13561, 'georgina': 13562, 'pylfb3ti9u': 13563, 'ilford': 13564, 'j3rtf2dt3x': 13565, 'khqa': 13566, 'slone': 13567, 'pileq': 13568, 'indiahttp': 13569, 'informationng': 13570, '309943': 13571, 'yvmphd0z9x': 13572, 'gargoyle': 13573, 'hoof': 13574, '2ii3brc7nx': 13575, 'iu9bafdxey': 13576, 'aphqu5svet': 13577, 'zfivvxydzy': 13578, 'praro2owia': 13579, 'e61x9y65qd': 13580, 'ovlet0gdqm': 13581, 'massgrave': 13582, 'm0utldif77': 13583, 'orbette': 13584, 'apwxs5mm44': 13585, 'ds76lozlsu': 13586, 'superbug': 13587, 'biolabs': 13588, 'biosurveillance': 13589, 'cvhygwcbzv': 13590, 'lordrsbiscuits': 13591, 'hfxstanfield': 13592, 'beelievedc': 13593, 'discoverycntr': 13594, 'contractor': 13595, 'e84ifmcczn': 13596, 'sega': 13597, 'flo8fgy35a': 13598, '86rsyy2tng': 13599, 'allocating': 13600, 'veneto': 13601, 'w3esx6ud8t': 13602, 'bqblwiw08g': 13603, 'roimentor': 13604, 'yycwalks': 13605, 'jkd7cti2iw': 13606, 'lajn2n5e2d': 13607, 'boyd': 13608, '3ugfpwmy2x': 13609, 'detroitnews': 13610, 'wakeupflorida': 13611, 'floridian': 13612, 'trophyhunt': 13613, 'j5in8mexaj': 13614, 'begforcum': 13615, 'allday': 13616, 'cumshots': 13617, 'cumcovered': 13618, 'sexycumshots': 13619, 'cumtown': 13620, 'bj': 13621, 'nutt': 13622, 'cumslut': 13623, 'girlslovecum': 13624, '2cx1yjjoz9': 13625, 'x1434': 13626, 'revise': 13627, 'scenario': 13628, 'drlkebeypi': 13629, 'faved': 13630, 'zdhwrn6czc': 13631, 'extent': 13632, 'privilege': 13633, 'unfair': 13634, 'favoritism': 13635, 'swb1192': 13636, 'prolly': 13637, 'okgooner': 13638, 'liver': 13639, 'zdpa4dbtsu': 13640, 'tft1bb4xaz': 13641, 'twcds433yi': 13642, 'gigawatts': 13643, 'installed': 13644, 'gwatt': 13645, 'leczolkmsv': 13646, 'starbs': 13647, 'printed': 13648, 'rjzw6c8asx': 13649, 'wtdiav11ua': 13650, 'ud7xobyua1': 13651, 'rosenthal': 13652, 'nalathekoala': 13653, 'sequalae': 13654, 'homicide': 13655, 'pyrotechnic': 13656, 'artwork': 13657, 'cai': 13658, 'guo': 13659, 'qiang': 13660, 'blossom': 13661, 'orovzfsku2': 13662, 'ct2jutvytg': 13663, 'pharma': 13664, 'overloaded': 13665, 'rude': 13666, 'yerct4j244': 13667, 'appetite': 13668, '198': 13669, 'rqlpsaye3b': 13670, 'eunice': 13671, 'njoki': 13672, 'aiii': 13673, 'calmly': 13674, 'honduran': 13675, 'ndwep6izdq': 13676, 'freiza': 13677, 'cleanest': 13678, '9lpf4v4hmq': 13679, 'soil': 13680, 'entershikari': 13681, 'lanjut': 13682, 'dirumah': 13683, 'yagitudeh': 13684, 'rumah': 13685, 'cipinang': 13686, 'yilt1bb68k': 13687, 'officialtjonez': 13688, 'yi3oivk2x4': 13689, 'godof': 13690, 'loki': 13691, 'dagger': 13692, 'jammed': 13693, 'grabbed': 13694, 'sif': 13695, 'sorrowful': 13696, 'redemption': 13697, 'platt': 13698, '86v81dv00e': 13699, 'parental': 13700, 'offspring': 13701, 'preconditioning': 13702, 'n9c3i9v8go': 13703, 'rz7fbr10xw': 13704, 'gurmeetramrahim': 13705, 'msgdoing111welfareworks': 13706, 'appx': 13707, '65000': 13708, 'har': 13709, 'liye': 13710, 'tyar': 13711, 'hai': 13712, 'ojyw7jkuh5': 13713, 'snippet': 13714, 'allay': 13715, 'glanders': 13716, 'equestrian': 13717, 'uotpnsqpz5': 13718, 'horsetalknz': 13719, 'pqslug4jk5': 13720, 'sejorg': 13721, 'xgn': 13722, 'ronin': 13723, 'carbon': 13724, 'preset': 13725, 'nades': 13726, 'achieve': 13727, 'excellence': 13728, 'vaca': 13729, 'dani': 13730, 'pandora': 13731, 'vzcvadkcqp': 13732, 'vulcan': 13733, 'gaehr9bhek': 13734, 'tpuu3eatb3': 13735, 'cowx': 13736, 'xk9owgv1o5': 13737, 'demise': 13738, 'ajkmcuswho': 13739, '7ieiz619h0': 13740, 'tfeanwhh2h': 13741, 'sjicbhzfo4': 13742, 'etswuod3om': 13743, 'brb': 13744, 'lindenow': 13745, 'tamrcwfygd': 13746, 'jaymcleanauthor': 13747, 'developer': 13748, 'hld5xlywbn': 13749, 'hddbmu2yca': 13750, 'zct5cchoj0': 13751, 'bleed': 13752, 'masterpiece': 13753, 'homies': 13754, 'qvs7o10bg3': 13755, 'twist': 13756, 'ksgmy0d0mx': 13757, 'ov': 13758, 'mzk0pfogi7': 13759, 'seanpeconi': 13760, 'lynchonsports': 13761, 'criscyborg': 13762, 'ohndh2ri0v': 13763, 'mba': 13764, 'careen': 13765, 'eovm': 13766, 'e0pi0c54ff': 13767, '8sp8xlbbdr': 13768, 'snowflake': 13769, 'dde8gxaqrp': 13770, 'nook': 13771, 'thebachelorette': 13772, 'handside': 13773, 'cyompz1a0z': 13774, 'piprhys': 13775, 'colo': 13776, 'lzkely': 13777, 'xhnews': 13778, 'clnv': 13779, 'rokiieee': 13780, 'katramsland': 13781, 'news3lv': 13782, 'exdbcx4gcr': 13783, 'ahamedis': 13784, 'messiah': 13785, 'dajaal': 13786, 'gog': 13787, 'magog': 13788, 'wk63tm34a0': 13789, 'geek': 13790, '4pm': 13791, 'hesse': 13792, 'tngpshnl87': 13793, 'imzlnzltf5': 13794, 'etcpb': 13795, '11dvqjvxpo': 13796, 'o1smuh2unn': 13797, 'xqj6wgiuqh': 13798, 'misdirection': 13799, 'ignite': 13800, 'vanishing': 13801, 'kurokobot': 13802, 'odv3rqs8ju': 13803, 'karen': 13804, 'enviromental': 13805, '1meeo3wjco': 13806, 'attend': 13807, 'organized': 13808, 'bvckd9pdti': 13809, 'pawsox': 13810, 'durham': 13811, '9ckgggyvou': 13812, 'u0vdbrxfia': 13813, 'scotto519': 13814, 'amazondeals': 13815, 'skylanders': 13816, 'pmbuzfgin3': 13817, 'bmwmpoydig': 13818, 'thr': 13819, 'thrarchives': 13820, '1928': 13821, 'wpkl2qniqw': 13822, 'bd52fxdvhq': 13823, 'halljh1720': 13824, 'wezjqc4cf2': 13825, 'vsvy1qe69t': 13826, 'harmony': 13827, 'bah': 13828, 'menswear': 13829, 'urbanfashion': 13830, 'ccwzdtfbus': 13831, 'shipsxanchors': 13832, 'idek': 13833, 'jihadi': 13834, 'proto': 13835, 'd5h4jif1y3': 13836, 'z4ilb9y9nu': 13837, 'j295md1sow': 13838, 'heheh': 13839, 'toddyrockstar': 13840, 'jdtpirnm76': 13841, 'bbcengland': 13842, 'q4kgftc2am': 13843, '6w6a2l4qae': 13844, 'babmf0w2yw': 13845, 'firm': 13846, 'cybersecurity': 13847, 'laftj2gyly': 13848, 'aptly': 13849, 'engineerd': 13850, 'rgpem2tqej': 13851, '8jcyxhq1az': 13852, 'gam7otgisw': 13853, 'allowing': 13854, 'johndcgow': 13855, 'hlportal': 13856, 'avbronstein': 13857, 'popehat': 13858, 'instapundit': 13859, 'kennethbauer': 13860, 'noodle': 13861, 'xv3d9bpjhi': 13862, 'victorinox': 13863, 'mop': 13864, '241487': 13865, 'yfy3nkkcoh': 13866, 'knehvvohvk': 13867, 'elk': 13868, '8j19fvu7qa': 13869, 'pisces': 13870, 'vb3vfm76ke': 13871, 'huffpostcomedy': 13872, 'attendee': 13873, 'xwvw1sft4i': 13874, 'j7hukhwmal': 13875, 'haircut': 13876, 'minimal': 13877, 'integrative': 13878, '7y2gnva2ev': 13879, 'foxa': 13880, 'cmcsa': 13881, 'sni': 13882, 'amcx': 13883, 'viab': 13884, 'twx': 13885, 'aqinavl1b6': 13886, 'ao4ju9vmmf': 13887, 'greasy': 13888, 'georgie': 13889, 'forreal': 13890, 'whipe': 13891, 'ow4gexynbh': 13892, 'sriramk': 13893, 'dlin71': 13894, 'ownership': 13895, 'fftokd0vts': 13896, 'prettyboyshyflizzy': 13897, 'beautifully': 13898, 'fkxcsztezb': 13899, 'appoints': 13900, 'brig': 13901, 'gen': 13902, 'kaiser': 13903, 'mississippi': 13904, 'commission': 13905, 'mrc': 13906, 'vdukcv7yjy': 13907, 'bbshelli': 13908, 'kitchen': 13909, 'flour': 13910, 'nipzmflibd': 13911, 'yahoonewsdigest': 13912, 'sprite': 13913, 'n9snjmevi6': 13914, 'earn': 13915, 'mcr': 13916, 'snort': 13917, 'jst5hauk35': 13918, 'flavorchargedtea': 13919, 'aod2ftbmgu': 13920, '8hgcbxukz0': 13921, '4kopkcyvtt': 13922, 'embra': 13923, 'tier': 13924, 'dee': 13925, 'dum': 13926, '96p3hujntj': 13927, 'rgyuakc0dr': 13928, 'nwspocatello': 13929, 'brunt': 13930, 'grayed': 13931, 'interspersed': 13932, 'uke': 13933, 'kidsthesedays': 13934, 'yahooschwab': 13935, 'm5djllxozp': 13936, 'renovation': 13937, 'pq3ipugkuy': 13938, 'smallbiz': 13939, 'carted': 13940, '4dbhono3rk': 13941, 'comuiok3mp': 13942, 'plmiwofpom': 13943, 'pouring': 13944, 'coquitlam': 13945, 'geqkdao4cv': 13946, 'dg0bgzecgm': 13947, 'breast': 13948, 'superfood': 13949, 'stalled': 13950, '800000': 13951, 'nother': 13952, 'uci8stqug1': 13953, 'us8r6qsn0p': 13954, 'lrtu8rwn2f': 13955, 'riverroaming': 13956, '407v1y4hhg': 13957, '3pbfyjx0ya': 13958, 'luhan': 13959, 'exo': 13960, 'y7o55by36f': 13961, 'mirmanda11': 13962, 'evaaasr': 13963, 'cfxhqhvbvb': 13964, 'dismissed': 13965, 'raped': 13966, 'occupational': 13967, 'wreak': 13968, 'seatbelt': 13969, 'njqv45nds2': 13970, 'piss': 13971, 'moan': 13972, 'demeanor': 13973, 'staid': 13974, 'youd': 13975, 'bo3': 13976, 'r8k6rxw6d6': 13977, 'qms8rressd': 13978, 'zla30jcssq': 13979, 'adriasimon': 13980, 'round2': 13981, 'fqqi8gvlq4': 13982, 'jans3fd4lf': 13983, '2sdmichb2z': 13984, 'bbcintroducing': 13985, 'purpleturtlerdg': 13986, 'giantgiantsound': 13987, 'ofan6dkoez': 13988, 'rdg': 13989, 'cultivating': 13990, 'o0ltqdjbqe': 13991, 'tcotåê': 13992, 'mo9wptyqkp': 13993, 'yhqu5uv6ok': 13994, 'jolly': 13995, 'jinu': 13996, 'babri': 13997, 'todayhave': 13998, 'revenge': 13999, '4onvxncz8w': 14000, 'tnggxnm6k8': 14001, 'frail': 14002, 'nu0d3uannz': 14003, 'heyitsepark': 14004, 'detains': 14005, 'xuub2hbli5': 14006, 'h5epx2d1ga': 14007, 'kelby': 14008, 'mild': 14009, 'mannered': 14010, 'baseman': 14011, 'metropolitan': 14012, 'rbi': 14013, 'sfgiants': 14014, 'mute': 14015, 'booty': 14016, 'pz56zjssft': 14017, 'epa': 14018, 'norkxbrs6g': 14019, 'ixiybap8qa': 14020, 'lynchburg': 14021, 'zepzqydby4': 14022, '0840728': 14023, 'pdiit0af3q': 14024, 'dynamix': 14025, 'zq5kdox7by': 14026, '6sy44kyysd': 14027, 'eve': 14028, 'honored': 14029, 'ofecs6tcvc': 14030, 'innovative': 14031, 'z3nevglufm': 14032, 'susanj357': 14033, 'allinwithchris': 14034, 'vickie627': 14035, 'unqualified': 14036, 'treaty': 14037, 'faze': 14038, 'phnotf': 14039, 'cheekiness': 14040, 'bleeds': 14041, 'recoil': 14042, 'kg4vaal': 14043, 'lmaov': 14044, 'babalmao': 14045, 'nyozi': 14046, 'kwaaaaa': 14047, 'nflexpertpicks': 14048, 'cocky': 14049, 'strutted': 14050, 'ptkrxtzjtv': 14051, '11000': 14052, 'mre': 14053, 'dchfpxgy2m': 14054, 'ughptzjulk': 14055, 'audi': 14056, 'no': 14057, 'periferico': 14058, 'm7na4skfwr': 14059, 'orapinforma': 14060, 'fuso': 14061, 'yamashiro': 14062, 'cachet': 14063, 'aq5zlim7l4': 14064, 'fvr9jdq71a': 14065, 'endorsement': 14066, 'sqfp6ecz0i': 14067, 'googlemaps': 14068, 'mashup': 14069, 'calculates': 14070, 'yup': 14071, 'ii2spvp89b': 14072, 'mash': 14073, 'sct012': 14074, 'bkn025': 14075, 'gf5qjgoyci': 14076, 'ymy4rskq3d': 14077, '241cn8yxjq': 14078, 'kierannicholson': 14079, 'xii': 14080, 'nightmarishly': 14081, 'brutal': 14082, 'ritualistic': 14083, 'nmaumydke1': 14084, 'chowchilla': 14085, 'schoenfeld': 14086, 'glwoakppjq': 14087, 'wllflfndgg': 14088, 'hannahkauthor': 14089, 'freeamirnow': 14090, 'freeallfour': 14091, 'gwnlhneku9': 14092, 'captor': 14093, 'recluse': 14094, '0q040stkcv': 14095, 'jbjrg3ep1q': 14096, 'drsarwatzaib070': 14097, 'mcourt': 14098, 'parliment': 14099, 'jun': 14100, 'yemeni': 14101, 'ûªa': 14102, '11juzhlgmt': 14103, 'theemobrago': 14104, 'jitsu': 14105, 'hexagon': 14106, 'yelled': 14107, 'overtook': 14108, 'tru': 14109, 'luv': 14110, 'uvq41i3kx2': 14111, 'rdxzsl5eac': 14112, 'qwijrriyif': 14113, 'alexandrapullin': 14114, 'bolshevik': 14115, 'monopolized': 14116, 'seize': 14117, 'hunhry': 14118, '0xouv7dhwz': 14119, 'basildudin': 14120, 'barbaric': 14121, 'saudies': 14122, 'austrian': 14123, 'abcnews24': 14124, 'peterdutton': 14125, 'labor': 14126, 'yhaqa5wxok': 14127, 'refugeesmatter': 14128, 'oez7o9ab2c': 14129, 'minus': 14130, 'toenail': 14131, '3gvus8nppy': 14132, 'nf': 14133, 'lkwxu8qv7n': 14134, 'wholeteam3': 14135, 'wholesaleent': 14136, 'jwnxh9q5ov': 14137, '9hieifhsmc': 14138, 'russellville': 14139, 'clarksville': 14140, 'dardanelle': 14141, 'n844h1aspj': 14142, 'slsp': 14143, 'zhzvprzbgq': 14144, 'ghe': 14145, 'cunayyh': 14146, 'taufikcj': 14147, 'aaronthefm': 14148, 'jetengine': 14149, 'turbojet': 14150, 'boing': 14151, 'g90': 14152, 'kxxnszp6nk': 14153, 'xcq48ourvl': 14154, 'parksboardfacts': 14155, 'zippoline': 14156, 'moveit': 14157, 'breakth': 14158, 'mgyvglenks': 14159, 'zdj2hyf6ro': 14160, 'eqccrtlnbd': 14161, 'z8r6r3nbtb': 14162, 'namffldh5h': 14163, 'kk8cnppzmk': 14164, 'denying': 14165, 'polar': 14166, 'edwing': 14167, 'g5zsru0zvq': 14168, 'jakegint': 14169, 'bothered': 14170, 'traditionalist': 14171, 'valleywx': 14172, 'u9fcb8dz3h': 14173, 'txetcysm1h': 14174, 'ushiocomics': 14175, 'submitting': 14176, 'flynn': 14177, 'onr': 14178, 'in8lys7v5l': 14179, 'exitlxgisj': 14180, 'commenters': 14181, 'underestimate': 14182, 'sd7loww9nu': 14183, '7hkavtvx81': 14184, 'interrupt': 14185, 'bernard': 14186, 'represents': 14187, 'shortfall': 14188, 'rtuetdfbqb': 14189, 'csismica': 14190, 'referred': 14191, 'u8rgb51d22': 14192, '2tnu95vgfe': 14193, 'lucysforsale': 14194, 'shoppe': 14195, 'harperanetflixshow': 14196, 'elxn42': 14197, 'stopharper': 14198, 'slosher': 14199, 'splatdown': 14200, 'switching': 14201, 'splatling': 14202, 'iwcu3dgi1a': 14203, 'sks5jccrj2': 14204, '179': 14205, 'nypd': 14206, '3åê': 14207, 'cn1jommugh': 14208, '1pflm532mg': 14209, '58qrugzvg0': 14210, 'pat': 14211, 'spen': 14212, 'r6yjw4xcky': 14213, '14wh0pjj2c': 14214, 'wildlife': 14215, 'boyhaus': 14216, 'jakeåê': 14217, 'ûïafter': 14218, 'montana': 14219, 'fid3z4x3s5': 14220, 'vymnrnsthg': 14221, '1mvsqg0xke': 14222, '390': 14223, 'bonsai': 14224, 'jid4ro34gb': 14225, 'natgeo': 14226, 'sr14': 14227, '1700': 14228, 'qposkp3mwj': 14229, 'mtqjsvupwy': 14230, '15t': 14231, 'sa15t': 14232, 'padded': 14233, 'qty': 14234, '2jbibeib9g': 14235, 'p5ktaqw5qg': 14236, 'mav': 14237, 'ju8nfpnedl': 14238, 'gevrmbvznb': 14239, 'xpwkodpqto': 14240, 'hrips': 14241, 'corpse': 14242, 'jittering': 14243, '0fekgyby5f': 14244, 'molys': 14245, 'sensanders': 14246, 'wrked': 14247, 'reed': 14248, '8437150124': 14249, 'naaa': 14250, 'j4fsdpfa63': 14251, 'ycwaulqz3u': 14252, 'heyot6': 14253, 'ce': 14254, 'w56cf75mxe': 14255, 'badotweet': 14256, 'cbaxcuba0h': 14257, 'atlarnxx': 14258, 'theghostparty': 14259, 'jeesss': 14260, '7giglwdmhy': 14261, 'rjopjkbydr': 14262, 'nufdgw9yev': 14263, '2okscwyohc': 14264, 'yzzxxknism': 14265, 'zzsee5hipm': 14266, 'wews': 14267, 's7grbznwlr': 14268, '350': 14269, 'ko0oz3ryfg': 14270, '5pmikavykl': 14271, 'imposition': 14272, 'gi2p9tuvbi': 14273, 'bulletproof': 14274, 'funeral': 14275, 'uqssnaattu': 14276, 'ing': 14277, 'gishwhes': 14278, 'soaked': 14279, 'pad': 14280, 'tampon': 14281, 'imminent': 14282, 'xjb0dcaahf': 14283, 'brandonmulcahy': 14284, 'fpine': 14285, 'tgxutuoyhl': 14286, 'xszx9mwxyp': 14287, 'decisionsondecisions': 14288, 'emiiliexirwin': 14289, 'blaming': 14290, 'netkicorp': 14291, 'eltne5v1qn': 14292, 'bruv': 14293, 'wwgadpffkw': 14294, 'ngkrzpza45': 14295, 'baseball41': 14296, 'granttamane8': 14297, 'drewwtaylor': 14298, 'dtop77': 14299, 'hillside': 14300, 'lq4lxgs2xu': 14301, 'holly': 14302, 'us1dmdxzvb': 14303, 'racer': 14304, 'cm7hqwwulz': 14305, 'kdwazhqtov': 14306, 'mlg': 14307, 'ijustine': 14308, 'alaskaseafood': 14309, 'askforalaska': 14310, '2snyghaivs': 14311, 'imhfdaowrd': 14312, '4ftzjk94dt': 14313, 'clap': 14314, 'cgvuy3rcxo': 14315, 'woundedpigeon': 14316, 's9soaevcvo': 14317, 'i4aogcsoy5': 14318, 'djiwg9pxv4': 14319, 'h6amecx5k7': 14320, 'b8iwrdxcm0': 14321, 'brownie': 14322, 'xqv6gzzmmn': 14323, 'smashing': 14324, '7pqs4rshhb': 14325, '89x': 14326, 'gibyqhhkpk': 14327, 'prmtxjjdue': 14328, 'ûïcat': 14329, '6f9afql6wp': 14330, '3945': 14331, 'v2yxurne2p': 14332, 'roblox': 14333, 'namekians': 14334, 'sanity': 14335, 'iembot': 14336, 'hfo': 14337, 'hana': 14338, 'maui': 14339, 'gg0dzsvbz7': 14340, 'kbe91arcdw': 14341, 'demolishes': 14342, 'hoisting': 14343, 'dyy7ml2nzj': 14344, 'zggpacjp7d': 14345, 'asimtanvir': 14346, 'nemesisk': 14347, 'pes': 14348, 'kevr': 14349, 'hollywarnexx': 14350, 'apaz': 14351, 'workspace': 14352, 'forsee': 14353, 'badkitty': 14354, 'yxtzbtvmhm': 14355, '7jggqwbv6s': 14356, 'olympia': 14357, 'yu6nue7gfb': 14358, 'captivity': 14359, 'introduced': 14360, 'compensate': 14361, 'ncjlxzfwaa': 14362, 'gm80x3vutf': 14363, 'cwheate': 14364, 'axxdcakzty': 14365, 'ezralevant': 14366, 'zeal': 14367, 'indecisiveness': 14368, 'dhggxo7mcc': 14369, 'zcp5cszsll': 14370, 'mariomaraczi': 14371, 'freaked': 14372, 'ge0yd3mkav': 14373, 'invokces': 14374, 'oup': 14375, 'sqn4girdvz': 14376, '7ad0l7cgee': 14377, 'hhzql9tznp': 14378, 'reaction': 14379, '6dznejuvd3': 14380, 'absolut': 14381, 'sumya15': 14382, 'v8aftd9zez': 14383, 'skh': 14384, 'ashton5sos': 14385, 'luke5sos': 14386, 'secondhand': 14387, 'ydgmgbryl2': 14388, 'pyramidhead76': 14389, 'kenai': 14390, 'hbbgy2vzyt': 14391, '3mtwh0jjns': 14392, 'dec': 14393, 'dywwnbbyvj': 14394, 'h20': 14395, 'deploy': 14396, 'ng2x5': 14397, 'baiting': 14398, 'foxsportscom': 14399, 'convertible': 14400, '238': 14401, '0llwuqn8vg': 14402, 'antichrist': 14403, 'desecrates': 14404, 'jerusalem': 14405, 'fk1vyh5qlk': 14406, 'newsdict': 14407, 'bomairinge': 14408, 'elutranscendent': 14409, 'az': 14410, 'tantonationalforest': 14411, 'rollingstones': 14412, 'wm5l8pj2iy': 14413, 'myfriendmina': 14414, 'screenshot': 14415, 'erally': 14416, 'unplug': 14417, 'myelf': 14418, 'overtaking': 14419, 'bathandnortheastsomerset': 14420, 'fa3fcnln86': 14421, '6zcfhi7srw': 14422, 'vwykdau1vm': 14423, 'stunckle': 14424, 'r74': 14425, 'crazydoctorlady': 14426, 'rod': 14427, 'creature': 14428, 'igm2fc4t0m': 14429, 'yiltu7sxar': 14430, 's01e09': 14431, 'vrpthvpymt': 14432, 'bloodymonday': 14433, 'tvshowtime': 14434, 'nkkvknbvoz': 14435, 'qnij2p8zv6': 14436, 'lh9mrypdrj': 14437, 'mp3': 14438, 'pqhuthss3i': 14439, 'rar': 14440, '0iw6drf5x9': 14441, 'cameronhigdon34': 14442, 'stockholm': 14443, 'copperfields': 14444, '6un7xc9sve': 14445, 'ercjmnea': 14446, 'stankyboy88': 14447, 'mtvsummerstar': 14448, 'lana': 14449, 'hienshi': 14450, 'gbay99': 14451, 'wouldnt': 14452, 'ibed3xg7fy': 14453, 'emily': 14454, 'difficultpeople': 14455, 'christycroley': 14456, 'vela': 14457, 'q8reoevlue': 14458, 'sandunes': 14459, 'gentle': 14460, 'lapping': 14461, 'gull': 14462, 'sizewell': 14463, 'x9cuihib5n': 14464, 'soap': 14465, 'twain': 14466, 't4pv0nroov': 14467, 'pseylyzck4': 14468, 'uninvestigated': 14469, 'incite': 14470, 'ezbtg81trz': 14471, 'afrikaan': 14472, 'preorder': 14473, 'thebargain': 14474, 'uml5jztmcb': 14475, 'igm2fcmupm': 14476, 'uxcfbj3mzx': 14477, 'pblvpm6c27': 14478, 'hmmm': 14479, 'reconnect': 14480, 'rdjpor3azg': 14481, 'cimubweyib': 14482, '9r5fsts7bd': 14483, 'arktj9qn4s': 14484, 'buzzfeed': 14485, 'qsipl1c9fa': 14486, 'busey': 14487, 'dixie': 14488, 'fiddle': 14489, 'sequence': 14490, 'vdefmulx43': 14491, 'yqpaijsa5g': 14492, 'grave': 14493, 'wizard': 14494, 'lwb': 14495, 'mgr809yc5a': 14496, 'texting': 14497, '7k': 14498, 'practitioner': 14499, 'recruitment': 14500, 'wasilla': 14501, 'lkz5cnynxx': 14502, 'ev1ahoucza': 14503, 'rembr': 14504, 'macob5xlsu': 14505, '72': 14506, 'motivated': 14507, 'donnelly': 14508, 'cnxxmffrae': 14509, 'presume': 14510, 'soggy': 14511, 'lashing': 14512, 'moist': 14513, 'savedenaliwolves': 14514, 'tweetstorm': 14515, 'sywuel7yyx': 14516, 'ltyefjdm3a': 14517, 'indiatv': 14518, '0la1aw9uud': 14519, 'zaynmaiikist': 14520, 'hearth': 14521, 'of3td6dglb': 14522, 'z8xiqngulc': 14523, 'cpr': 14524, 'panama': 14525, 'kfkaosh0kh': 14526, 'kee1tytz15': 14527, 'semasirtalks': 14528, 'advertise': 14529, 'youssefyamani': 14530, 'equation': 14531, 'hunchback': 14532, 'notre': 14533, 'tzxeg4gokd': 14534, 'osha': 14535, 'siteinvestigating': 14536, 'noranda': 14537, 'kfvs12': 14538, 'girardeau': 14539, 'carbondale': 14540, 'bluff': 14541, 'pxyh7zo7vt': 14542, 'huriivfdkc': 14543, 'bloopandablast': 14544, 'ztonvgubvm': 14545, 'bluehand': 14546, 'sxmlg3xdvx': 14547, 'cmweiojj55': 14548, 'djryanwolf': 14549, 'djcoreygrand': 14550, 'djknyce': 14551, 'djoneplustwo': 14552, 'officialcoredjs': 14553, 'standup': 14554, 'iamtonyneal': 14555, 'p6gqmctglj': 14556, 'rickybonessxm': 14557, 'u2': 14558, 'sirius': 14559, 'sayin': 14560, 'restart': 14561, 'dbaujp29ub': 14562, 'unwanted': 14563, '12th': 14564, 'pp15000266818': 14565, 'simmering': 14566, 'concussion': 14567, 'pioneerpress': 14568, 'zl7fhucxhl': 14569, 'ndetention': 14570, 'unscreened': 14571, 'b4k0r4gga8': 14572, 'dcclothesline': 14573, 'vulnera': 14574, 'au5jwgt0ar': 14575, 'stationcdrkelly': 14576, 'sys': 14577, 'clergyforced': 14578, 'grossly': 14579, 'disfigured': 14580, 'sikh': 14581, 'dviyer': 14582, 'colorlines': 14583, 'nlbltynv36': 14584, 'bjrrqhhohl': 14585, 'offense': 14586, 'mqp4hf9gpo': 14587, 'nolesfan05': 14588, 'nutsandboltssp': 14589, 'taxuxp9qa2': 14590, 'jimin': 14591, 'expander': 14592, 'nvzdilrfgj': 14593, 'u9cd0txe7z': 14594, 'pfannebeckers': 14595, 'rediscover': 14596, 'fantabulous': 14597, 'wmhy47xkil': 14598, 'khq': 14599, 'anlhw2izkz': 14600, 'sophiewisey': 14601, 'v1sfllowgh': 14602, 'dofrh5yb01': 14603, 'favorited': 14604, 'g38y8h1tjt': 14605, '1xpw292tje': 14606, 'gzxipmoknb': 14607, 'g0r3zr1nqj': 14608, 'ucawg59ulj': 14609, 'enqdfbjump': 14610, 'swellyjetevo': 14611, 'disneyland': 14612, 'b0zjwgmaiw': 14613, 'coleslaw': 14614, 'sijnbmczij': 14615, 'flee': 14616, 'burundi': 14617, 'jojnq2oopi': 14618, 'dskui6mmgl': 14619, 'wrqf6u55hh': 14620, 'hamayun': 14621, 'shaheed': 14622, 'heli': 14623, '2z8ubsy5m8': 14624, 'marrie': 14625, 'igll3ph6o1': 14626, 'echo': 14627, 'aggressif': 14628, 'porcupine': 14629, 'iylvzy3cob': 14630, 'newrelease': 14631, 'jimmy': 14632, 'lapaka': 14633, '4l8h2fklno': 14634, 'zitqkdfxjy': 14635, 'onlyftf': 14636, 'tusky': 14637, 'robsimss': 14638, 'cantmisskid': 14639, 'entrance': 14640, 'dzlpnp399x': 14641, 'cx6aupnemu': 14642, 'grandad': 14643, 'uziwgzryny': 14644, 'slingnews': 14645, 'isaiah': 14646, '44': 14647, 'contemporary': 14648, 'wearethenews': 14649, 'weeklong': 14650, 'voltaire': 14651, 'zyssobxntc': 14652, 'lining': 14653, 'mizuta': 14654, 'gl4mcax0ny': 14655, 'annmarieronan': 14656, 'niamhosullivanx': 14657, 'tat': 14658, 'canceling': 14659, 'f2gwxeprak': 14660, 'getbjip5rh': 14661, 'hzpx6vaqpz': 14662, 'l4w0pcorbs': 14663, 'pnaqxprweg': 14664, 'coloiccarnality': 14665, 'instinct': 14666, 'scratch': 14667, 'donjazzy': 14668, 'policeng': 14669, 'humanrights': 14670, 'xyfl8wy62g': 14671, 'x9ofv1kmv7': 14672, 'markwschaefer': 14673, 'j8tyt1xrrk': 14674, '9d4nazoi94': 14675, 'abolxmh1vy': 14676, 'memenaar': 14677, 'kindof': 14678, 'restrospect': 14679, 'molecularly': 14680, 'lungcancer': 14681, 'twi3pym7us': 14682, 'qt8jmd9pi1': 14683, 'lawfulsurvivor': 14684, 'morale': 14685, 'andrea': 14686, 'jacqui': 14687, 'merle': 14688, '7ufnxxavqs': 14689, 'newyear': 14690, 'yuo7jdnijx': 14691, 'akwa': 14692, 'ibom': 14693, 'uruan': 14694, 'udom': 14695, 'emmanuel': 14696, '1cnw6nska5': 14697, 'sonofbobbob': 14698, 'shimmyfab': 14699, 'trickxie': 14700, 'chopping': 14701, 'rooftop': 14702, 'shadowman': 14703, 'monstrosity': 14704, 'tbpqlyfyot': 14705, 'hdckeposqc': 14706, 'srsly': 14707, 'dribbling': 14708, 'urself': 14709, 'embarrassment': 14710, '165000': 14711, 'dhaka': 14712, 'ûòthe': 14713, 'na': 14714, 'fukbbedfgx': 14715, 'uea0txrhys': 14716, 'seclusion': 14717, 'compliance': 14718, 'morevoices': 14719, 'rcburzsb2b': 14720, 'ehsfklgri3': 14721, 'airstrikes': 14722, 'kurdistan': 14723, 'toyu16mxbo': 14724, 'p10hndc0mm': 14725, 'disillusioned': 14726, 'crowe': 14727, 'trope': 14728, 'crocodile': 14729, 'gravy': 14730, 'kidscompany': 14731, 'bcpmvylsih': 14732, 'indigo6e': 14733, 'carful': 14734, 'spotting': 14735, 'baggage': 14736, 'y8yqpbe4t9': 14737, 'screeching': 14738, 'accompanying': 14739, '3x5': 14740, 'cjhh17duli': 14741, 'cafetiere': 14742, 'crockery': 14743, 'qrhng6kj1c': 14744, 'cq7jj6yjfz': 14745, 'eau': 14746, 'claire': 14747, 'sentenced': 14748, 'chippewa': 14749, 'kqpky7dthj': 14750, 'xdt4vhfn7b': 14751, 'evildead': 14752, 'spfke5kqu4': 14753, 'campsite': 14754, 'recommendation': 14755, 'pub': 14756, 'midge': 14757, 'b1g': 14758, 'bmurph1019': 14759, 'youtsey': 14760, 'termn8r13': 14761, 'goblue': 14762, 'wrestleon': 14763, 'oaskgki6qj': 14764, 'wal4frtfka': 14765, 'itbj6dkrzi': 14766, 'leejasper': 14767, 'interestraterise': 14768, '3939': 14769, 'stormtrooper': 14770, 'engaged': 14771, 'somme': 14772, 'ìñ': 14773, 'yxvmiflvc4': 14774, 'shud': 14775, 'contries': 14776, 'qiopbtiuvu': 14777, 'thankkk': 14778, 'notificationsu': 14779, 'parsholics': 14780, 'superb': 14781, 'jus': 14782, 'awesomelove': 14783, 'frvrgrateful': 14784, 'frpbnhvpyi': 14785, 'hotboy': 14786, 'zaire2005': 14787, 'mulruifnn1': 14788, 'specialguest': 14789, 'crapgamer': 14790, 'gamescom': 14791, 'kunstler': 14792, 'ac6i3te8mt': 14793, 'residualincome': 14794, 'mlm': 14795, 'wq0jlshw1g': 14796, 'dustinbrowder': 14797, 'frequently': 14798, 'distraction': 14799, 'reckon': 14800, 'dmt': 14801, 'ecmujkkqx1': 14802, 'sumn': 14803, 'geeknwjjsz': 14804, 'canonusaimaging': 14805, 'canonbringit': 14806, 'canontattoo': 14807, 'mn': 14808, 'theresmorewherethatcamefrom': 14809, 'tcxxhdjas6': 14810, 'mofo': 14811, 'unarmed': 14812, 'gunned': 14813, 'worseits': 14814, 'ass': 14815, 'karnythia': 14816, 'jackmulholland1': 14817, 'pkfv8lksld': 14818, 'a7zf6n7vrl': 14819, 'ranked': 14820, 'vq3yab2j8n': 14821, 'sbee': 14822, '1017': 14823, 'ryobyqjfce': 14824, 'lw9o2kdk18': 14825, 'joelsherman1': 14826, 'chipper': 14827, 'ny35': 14828, 'thebriankrause': 14829, 'metaphorically': 14830, 'piperwearsthepants': 14831, 'charmed': 14832, 'pink': 14833, 'edfringe': 14834, 'm00nf00l': 14835, 'titania': 14836, 'summerhallery': 14837, 'reimagining': 14838, 'shakespeare': 14839, 'midsummer': 14840, 'iiaigzkbnj': 14841, 'activate': 14842, 'timey': 14843, '8ihuco4glw': 14844, 'dylanmcclure55': 14845, 'zumiez': 14846, 'zw5jp46v5k': 14847, 'niqqa': 14848, 'parisian': 14849, '91': 14850, 'edna': 14851, 'jefferson': 14852, 'doris': 14853, 'sherfield72': 14854, 'l6nslzl7mi': 14855, 'companionship': 14856, 'chester': 14857, 'chestertweetsuk': 14858, 'kaiseiw': 14859, '994': 14860, 'h2ahxpch0y': 14861, 'vq3vwxj8yu': 14862, '4yi4nuovbv': 14863, 'yahoo7': 14864, 'absurdly': 14865, 'manhood': 14866, 'vtp8i8qlen': 14867, 'oqeq4uegf8': 14868, 'kasich': 14869, 'saddle': 14870, 'accountable': 14871, 'preferable': 14872, 'brass': 14873, 'tawfmcaw': 14874, 'unexplainable': 14875, 'childhooddefined': 14876, 'mv': 14877, 'strutting': 14878, 'productive': 14879, 'enterprise': 14880, 'rln09wke9g': 14881, 'squibby': 14882, 'savannahross': 14883, 'nightmarish': 14884, 'runjewels': 14885, 'relation': 14886, 'loveislove': 14887, '6ce1vwovhs': 14888, 'mothernaturenetwork': 14889, 'thundersnow': 14890, 'uncommon': 14891, 'eydapaupvg': 14892, 'bushman': 14893, 'palmer': 14894, 'cecil': 14895, 'commentes': 14896, 'qwiihnmchr': 14897, 'flickershowell': 14898, 'reebok': 14899, 'xl': 14900, 'znsvstgwx3': 14901, 'rangerkaitimay': 14902, 'janiethekillr': 14903, 'sketchbook': 14904, 'biting': 14905, 'mask': 14906, 'petereallen': 14907, 'huffpostuk': 14908, 'bbc5live': 14909, 'substantial': 14910, 'chromsucks': 14911, 'b9zx2xz6aw': 14912, 'tkyonly1fmk': 14913, 'warlord': 14914, 'thrust': 14915, 'womb': 14916, 'darkndtatted': 14917, 'holmes': 14918, 'fgcu': 14919, 'bayonet': 14920, 'randpaul': 14921, 'xb8nfxabum': 14922, 'evilempire': 14923, 'jadehelm15': 14924, 'gbluhrrlto': 14925, 'grabakahitman': 14926, 'izi': 14927, 'garcia': 14928, 'machida': 14929, '358': 14930, 'o207jyabyz': 14931, 'cjctb2ocxg': 14932, 'bmx': 14933, 'areal': 14934, '62oddekvli': 14935, 'gfsl2kwt5h': 14936, 'harshness': 14937, 'pacing': 14938, 'prontouo91': 14939, 'subcontractor': 14940, 'cgg': 14941, 'qwrrfdgxcc': 14942, 'sstj2bepqn': 14943, 'fluctuation': 14944, 'disturbance': 14945, 'imbalance': 14946, 'margaret': 14947, 'wheatley': 14948, 'econom': 14949, 'zsqm8ihe1k': 14950, 'uqnj6nk9y3': 14951, 'qlnnmxzfqk': 14952, 'machinegunkelly': 14953, 'underground': 14954, 'birb': 14955, '7amdollela': 14956, '3la': 14957, 'kulli': 14958, '7aal': 14959, 'a6ro9bmxcy': 14960, 'pvc': 14961, '7l9qazljvg': 14962, 'q0hsyfrwec': 14963, 'dgatkrdyny': 14964, 'seagull07': 14965, 'aleisstokes': 14966, 'intelligencebar': 14967, 'funnynews': 14968, 'lci3pljx25': 14969, 'roar': 14970, 'dlvyfvnqee': 14971, 'alexeivolkov1': 14972, 'mcfaul': 14973, 'roskomnadzor': 14974, 'ridiculously': 14975, 'politicized': 14976, 'josie': 14977, 'splifs': 14978, 'yhmregauxz': 14979, 'nas3ipm5vh': 14980, 'francisunderwood': 14981, 'hoc': 14982, 'zqo6nuvytu': 14983, 'bounce': 14984, 'churchill': 14985, 'freeze': 14986, 'veggie': 14987, 'met0mtpr3s': 14988, 'aubrey': 14989, 'hogan': 14990, 'thanking': 14991, 'publicity': 14992, 'neon': 14993, '501': 14994, 'mandem': 14995, 'totteham': 14996, 'maddddd': 14997, 'ting': 14998, 'dere': 14999, 'appraisal': 15000, 'mrospd9878': 15001, 'ukqybhxmqi': 15002, 'idws2zgysa': 15003, 'prob': 15004, 'raishimi33': 15005, 'hdvmhsqxhm': 15006, 'orchid': 15007, 'ytkxwpyihg': 15008, 'moving2k15': 15009, 'expertwhiner': 15010, 'zmwecbwvao': 15011, 'frustrated': 15012, 'quantit': 15013, 'https': 15014, '64cymg1ltg': 15015, 'daretotaha': 15016, 'foreskin': 15017, 'umqbyrupbd': 15018, 'remand': 15019, '1osmiuxkhw': 15020, 'mannequin': 15021, 'politician': 15022, 'plannedparenthood': 15023, 'fooled': 15024, 'eqdm2opybg': 15025, 'robertcalifornia': 15026, 'thereisonlysex': 15027, 'kimkardashian': 15028, '3tssxphufe': 15029, 'lastingness': 15030, 'acquiesce': 15031, 'retreat': 15032, 'ziuw': 15033, 'irt4kkgsjx': 15034, 'breachgamingorg': 15035, 'amo': 15036, 'cdxe5vmzoj': 15037, '9k1tqsaarm': 15038, 'ev3nx9scx3': 15039, 'reduces': 15040, 'jvivt6zrv7': 15041, 'stew': 15042, 'f5miuhqaby': 15043, 'wedneday': 15044, 'taykreidler': 15045, 'loveyouuuu': 15046, 'aintsheperty': 15047, 'wemwdtfwic': 15048, 'loner': 15049, 'diary': 15050, 'choked': 15051, 'ekfaz6wvbz': 15052, 'cins': 15053, 'tg': 15054, 'jinx': 15055, 'tngye2fklv': 15056, 'duckvillelol': 15057, '03l7nwqdje': 15058, 'indiegogo': 15059, 'wps': 15060, 'medusa': 15061, 'input': 15062, 'mxkalmqpdb': 15063, '8kznhtytt9': 15064, 'ûïlittle': 15065, 'testimonial': 15066, 'muanfwcrw9': 15067, 'vergil': 15068, 'agnus': 15069, 'dmd': 15070, 'leedstraif': 15071, 'zhrtcvu0ff': 15072, 'notified': 15073, 'sbgirvqvzb': 15074, 'mattmosley': 15075, 'okinawan': 15076, 'yvsjyzwxjr': 15077, '660': 15078, 'kfbjvjivqb': 15079, 'bn7xpzqdm0': 15080, 'macbreck': 15081, 'math': 15082, 'hawaiianpaddlesports': 15083, 'lgpgajgomy': 15084, 'fkd1mbtb68': 15085, 'zu9yydf5di': 15086, 'xspqdoriqj': 15087, 'cqyvfr4ucy': 15088, 'doofus': 15089, 'jokin': 15090, 'disrwhqgym': 15091, 'icttz0divr': 15092, 'loupascale': 15093, 'ferrochrome': 15094, 'verge': 15095, 'ssp': 15096, 'aeg': 15097, '061': 15098, 'akram': 15099, 'carhot': 15100, 'exchanged': 15101, 'firing': 15102, 'air1bullet': 15103, 'wc': 15104, 'os1wjrvx5c': 15105, 'weebly': 15106, 'r5live': 15107, 'herring': 15108, 'scraptrident': 15109, 'thugging': 15110, 'huhwpmrywz': 15111, 'ahahahga': 15112, 'mortified': 15113, 'brewer': 15114, '51': 15115, 'hhllqckcep': 15116, 'japanjapan': 15117, 'inferior': 15118, 'ensure': 15119, 'treatmen': 15120, 'followme': 15121, 'burp': 15122, 'kasabwe': 15123, 'biryani': 15124, 'alisonannyoung': 15125, '1pdjoq4jc1': 15126, 'juanny': 15127, 'beisbol': 15128, 'lgm': 15129, 'mjtn3qbgos': 15130, 'yahoofinance': 15131, 'booksbyroger': 15132, 'l9mb2j5pxg': 15133, '2hv2y2m2oz': 15134, 'bclqpwfdod': 15135, 'sxwjyr3k3l': 15136, 'aewglvqreh': 15137, 'mopheme': 15138, 'bigstar': 15139, 'vuzuhustle': 15140, 'freemurphy': 15141, 'hitchhiking': 15142, 'sorely': 15143, 'loyalty': 15144, 'involves': 15145, 'kicking': 15146, 'nobleman': 15147, 'elven': 15148, 'weirdo': 15149, 'unaddressed': 15150, 'keithboykin': 15151, 'randallpinkston': 15152, 'pozarmy': 15153, 'gxq1auzb18': 15154, 'kiddie': 15155, 'ploppy': 15156, 'jailbreak': 15157, '48tpnmbjvg': 15158, 'ywkk26arag': 15159, 'thestrain': 15160, 'e0lugbl6pb': 15161, 'upi': 15162, 'irannucleardeal': 15163, 'hhahaha': 15164, 'okamsczbwg': 15165, 'thenissonian': 15166, 'rejectdcartoons': 15167, 'nissan': 15168, 'vrpmplczcy': 15169, 'uzwxjbg0zh': 15170, 'kp1hdchfnz': 15171, 'uplifting': 15172, 'bizzlemahomie': 15173, 'lonepine': 15174, 'descendant': 15175, '666canberra': 15176, 't4fvvnrpc5': 15177, '0zznbvfuvo': 15178, 'easton': 15179, 'softball': 15180, 'fastpitch': 15181, 'sk398': 15182, 'ra2majpkq2': 15183, 'y7ghhyk05b': 15184, 'submission': 15185, 'paulhollywood': 15186, '2liwkjybe9': 15187, 'norge2040': 15188, 'oblivious': 15189, 'bury': 15190, 'limpar33': 15191, 'sweeping': 15192, 'nx2d83a4du': 15193, 't8sv2ai7sw': 15194, 'acebabes': 15195, 'healthweekly1': 15196, 'amateurnester': 15197, 'guaj2t910b': 15198, 'tcgreno': 15199, 'reset': 15200, 'orcot': 15201, 'orpol': 15202, 'dazqamoo0c': 15203, 'malistkiss': 15204, 'righteous': 15205, 'ideal': 15206, 'rgoguyt0lf': 15207, 'mfsbwpj0ce': 15208, 'a5gnzbusqq': 15209, 'ij': 15210, 'h132iul7mu': 15211, 'pierc': 15212, 'ejdhvlkxaf': 15213, 'xyyev89wiz': 15214, 'bekah': 15215, 'beating': 15216, 'traveller': 15217, 'qsheu3yf0w': 15218, 'tdhn9zy0er': 15219, 'foxnewsvideo': 15220, 'aiiamericangiri': 15221, 'anhqdc': 15222, 'melted': 15223, 'cube': 15224, 'itsnasb': 15225, 'master0fsloths': 15226, 'szx6v0bbjf': 15227, 'reliefweb': 15228, '0abgfglh7x': 15229, 'avoids': 15230, 'hlyhdfwsqb': 15231, 'gwsnbmmcqf': 15232, 'tni92fea3u': 15233, 'czbamzq3gl': 15234, 'omgggg': 15235, 'q4grdpajr5': 15236, 'buckley': 15237, 'q8ivrzojzv': 15238, '7xglah10zl': 15239, 'thmblaatzp': 15240, 'stayed': 15241, 'wooden': 15242, 'e0uusnpsq5': 15243, 'chpsre': 15244, 'rezaphotography': 15245, 'rpmtropsvr': 15246, 'efkcoegjck': 15247, 'immensely': 15248, 'qwo7q1amh8': 15249, 'esrkmazeq9': 15250, 'correlate': 15251, 'marketwatch': 15252, 'mvrsyu2ppk': 15253, 'meade': 15254, 'irpssresrq': 15255, 'explaining': 15256, 'evolved': 15257, 'godlike': 15258, 'lattice': 15259, 'studded': 15260, 'qj2kbltcxz': 15261, 'xqpn2zykct': 15262, 'canagal': 15263, 'wozubxri2p': 15264, 'drako': 15265, 'zarharzar': 15266, 'nar': 15267, 'phuket': 15268, 'qyaendvdgc': 15269, '3zp6ahnsxn': 15270, 'unu': 15271, 'damaturu': 15272, 'bbqnk76qus': 15273, '3imaomknna': 15274, 'territory': 15275, 'twenty': 15276, 'cedarglade2015': 15277, 'iamdowntown': 15278, 'hbhx0dwkpc': 15279, 'gulfport': 15280, 'cjuighbxyn': 15281, 'deemed': 15282, '0xrfvidxa2': 15283, 'oihwgezdck': 15284, 'billmccabe': 15285, 'hhtwayt4yo': 15286, 'radychildrens': 15287, 'igwstttkwk': 15288, 'reveillertm': 15289, 'macabrelolita': 15290, 'amino': 15291, 'diobzghfju': 15292, 'fkv5qxdcy3': 15293, 'banditregina': 15294, 'caroline': 15295, 'bigsby': 15296, 'supermarket': 15297, 'wgmzmj5imd': 15298, 'b231ul1o1k': 15299, 'lumbar': 15300, 'cbccalgary': 15301, 'underpass': 15302, 'enacts': 15303, 'casting': 15304, 'deviating': 15305, 'dyxtmrydu': 15306, 'deserved': 15307, 'kevinbacon': 15308, 'soz': 15309, 'iqowzgvznl': 15310, 'vfctrzaok2': 15311, 'avv6hpnpch': 15312, 'benignovito': 15313, 'libertybell1000': 15314, 'hillarymass': 15315, 'artectura': 15316, 'pop2015': 15317, 'nå¼36': 15318, 'florence': 15319, '9le0b19lvf': 15320, 'izjk6kpwiz': 15321, 'lqd1wefpqd': 15322, 'ggnbvzohwu': 15323, 'b9kuylcxg4': 15324, 'mumbaitimes': 15325, 'e14epzhoth': 15326, '22a9d5do6q': 15327, 'ouch': 15328, 'clelli': 15329, 'lasted': 15330, 'standstill': 15331, 'rkb7egkveb': 15332, 'dustpiggies': 15333, 'awash': 15334, 'abstract': 15335, 'dustpig': 15336, 'conveniently': 15337, 'revere': 15338, 'honour': 15339, '3kob7xbea0': 15340, 'retooled': 15341, 'retiree': 15342, 'handicapped': 15343, 'nomorehandouts': 15344, 'waimea': 15345, 'czdw8oowa2': 15346, 'pleaded': 15347, 'jcfehrhlq8': 15348, '400000': 15349, 'ûò800000': 15350, 'txzxcnudr8': 15351, 'sprinkler': 15352, 'faq': 15353, 'lawn': 15354, 'answered': 15355, 'ebb': 15356, '28t3nwhdky': 15357, 'icrgseagya': 15358, 'kpvymhm2ub': 15359, 'ikuggvbyei': 15360, 'slsandpet': 15361, 'sally': 15362, 'emailed': 15363, 'awol': 15364, 'argh': 15365, 'resigninshame': 15366, 'pga': 15367, 'speculation': 15368, 'speculatio': 15369, 'dcyyjvmxhr': 15370, 'copy': 15371, 'stare': 15372, 'tampabay': 15373, 'qgyn2u1up3': 15374, 'wis3h9tqrm': 15375, 'patrol': 15376, 'grzchkdf37': 15377, 'pft': 15378, 'barkevious': 15379, 'mingo': 15380, 'd7m9kgmpji': 15381, 'jq2ib1ob1x': 15382, 'tesco': 15383, 'dogs': 15384, 'qzvkpahsq7': 15385, 'ppfa': 15386, 'landolina': 15387, '0btniwagt1': 15388, 'realestate': 15389, 'hhzy3oqela': 15390, 'halfhourhotel': 15391, 'edgarsgift': 15392, 'promotion': 15393, 'zrn30a78ir': 15394, 'torrent': 15395, 'java': 15396, 'rsdkwzrc8g': 15397, 'c5jutfxbm9': 15398, 'straighten': 15399, 'swooping': 15400, 'pc8bvuflfj': 15401, 'wart': 15402, 'wk': 15403, 'seward': 15404, 'seattledot': 15405, 'seattletimes': 15406, 'calk5nv5vc': 15407, 'wzbt': 15408, 'kamon': 15409, 'etg0prbp4g': 15410, 'lzob8qoh1b': 15411, 'hk6nqrgedb': 15412, 'gamer': 15413, 'backtoback': 15414, 'chargedup': 15415, 'beyondthebomb': 15416, '3nkculgvmw': 15417, 'gidiexclusixe': 15418, 'rgtyzbnkeo': 15419, 'bennycapricon': 15420, 'amumumux': 15421, 'quit': 15422, 'actin': 15423, 'int': 15424, 'bridgeportspeed': 15425, 'dih1tgqhej': 15426, 'mjbiuvbmo6': 15427, 'i5cdtd8ftj': 15428, 'p8yr2po6jn': 15429, 'nghlth': 15430, 'mousse': 15431, 'tuai0zwgxu': 15432, 'thetxi': 15433, 'gunnersfan89': 15434, 'ham': 15435, 'relegation': 15436, 't1aa5ov7eg': 15437, 'mzgraciebaby': 15438, 'jumpin': 15439, 'officialrealrap': 15440, 'marginoferror': 15441, 'rom': 15442, 'thailand': 15443, 'rukjyjg9oq': 15444, 'pc3h1ne4g0': 15445, 'tiost8okvx': 15446, 'revitup': 15447, 'pizzarev': 15448, 'bp8bm8xsxw': 15449, 'kakeru': 15450, 'teduka': 15451, 'bfore': 15452, '70years': 15453, 'bomd': 15454, '8vzl1ns2io': 15455, 'kelworldpeace': 15456, 'taxstone': 15457, 'yoga': 15458, 'ciwwuqthin': 15459, 'inspiration': 15460, 'asianshawtyy': 15461, 'magnetic': 15462, 'electrostatic': 15463, 'fusion': 15464, 'em5opytbpg': 15465, 'benkin97': 15466, 'mili': 15467, '5499': 15468, 'probs': 15469, 'veld': 15470, 'vku3rtoz1j': 15471, 'trc': 15472, 'torontorc': 15473, 'jhscgda2g8': 15474, 'treescape': 15475, 'acousticmaloley': 15476, 'thda': 15477, 'xzlrwc0pik': 15478, 'o5xlxmkoyq': 15479, 'dogger': 15480, 'westward': 15481, 'regent': 15482, 'towing': 15483, '8400': 15484, 'metre': 15485, 'snoop': 15486, 'collie': 15487, 'buddz': 15488, 'preppers': 15489, 'doomsday': 15490, 'shtf': 15491, 'preppertalk': 15492, '2a': 15493, 'vpqtgeqlma': 15494, 'hagerstown': 15495, 'your4state': 15496, 'whag': 15497, 'zdtcw9fsx1': 15498, 'zenit': 15499, 'hfvnyft78c': 15500, 'proportion': 15501, 'commences': 15502, 'manage': 15503, 'sioux': 15504, 'siouxland': 15505, 'siouxlan': 15506, 'sztgmbkohg': 15507, 'falmer': 15508, '6tvvlg2fni': 15509, 'mickinyman': 15510, 'theatlantic': 15511, 'benzema': 15512, 'increasingly': 15513, 'benitez': 15514, 'thetshirtkid': 15515, 'trinna': 15516, 'smug': 15517, 'lgpne5hkao': 15518, 'sjxllzosw7': 15519, 'aqmpxzo3v1': 15520, 'roleplay': 15521, 'kynespeace': 15522, 'prablematicla': 15523, 'adweek': 15524, '300k': 15525, 'exotic': 15526, 'j49xeuj7ps': 15527, 'photograph': 15528, '1800': 15529, 'mandate': 15530, 'x8i0mhyrmn': 15531, 'indepth': 15532, 'ayp6zvhm2a': 15533, 'salmanmydarling': 15534, 'dub': 15535, 'c0p3sesqwm': 15536, 'maxsys': 15537, 'qtizcbww7g': 15538, 'tagged': 15539, 'attackonstiles': 15540, 'alpha': 15541, 'latssuo4ws': 15542, 'infested': 15543, 'wimp': 15544, 'kingmyth1999': 15545, 'mpoaefql6k': 15546, 'josephjett': 15547, 'ina': 15548, 'buted': 15549, '9nly2tovud': 15550, 'blockage': 15551, 'woodward': 15552, 'northbound': 15553, 'davison': 15554, 'shoalstraffic': 15555, 'trailed': 15556, 'colin': 15557, 'goodness': 15558, 'feikc9fxed': 15559, '060': 15560, 'damp': 15561, 'qnh': 15562, '1028': 15563, 'colt': 15564, 'whine': 15565, 'cantmakeitup': 15566, 'patriotsnation': 15567, 'tpw5gpmhq4': 15568, 'ndgpwyxu6h': 15569, 'lightman': 15570, '4wsva9wo0f': 15571, 'trillac': 15572, 'icymagistrate': 15573, 'ûóher': 15574, 'icicle': 15575, 'projectile': 15576, 'miniature': 15577, 'asymbina': 15578, 'tithenai': 15579, 'hampered': 15580, 'liking': 15581, 'ella': 15582, 'vickers': 15583, 'washable': 15584, 'ysfyeahpvg': 15585, 'esemjrn5cc': 15586, 'johnfromcranber': 15587, 'plea': 15588, 'wahhabism': 15589, 'vnni3zzuz6': 15590, 'dq3ddgvgbf': 15591, 'sunbathe': 15592, 'drno7okm21': 15593, 'takeaway': 15594, 'magnificent': 15595, 'dbdwtocgxf': 15596, 'peeped': 15597, 'frontin': 15598, 'jeepåêsunk': 15599, 'tinted': 15600, 'bumpin': 15601, 'satisfying': 15602, 'rand': 15603, 'qzdqrbr4lh': 15604, 'flashflood': 15605, 'gilgit': 15606, 'farmland': 15607, '365disasters': 15608, '911f3ixrh0': 15609, 'takis': 15610, 'rubbing': 15611, 'onå': 15612, 'swayoung01': 15613, 'recognised': 15614, 'xrgpdlswfd': 15615, 'hastle': 15616, 'filling': 15617, '7old5mjwph': 15618, 'bigsim50': 15619, 'trivium': 15620, 'rrusa': 15621, 'cubdnsnuvt': 15622, 'demetae12': 15623, '0ubg9wfyge': 15624, 'losangeles': 15625, 'dorismatsui': 15626, 'supporting': 15627, 'isbtzujfbm': 15628, 'usvyhdg9og': 15629, 'edmonton': 15630, 'f8gvwkfqox': 15631, 'ptq3zmgnck': 15632, 'oqpsvrgbjc': 15633, 'm96kbqwior': 15634, 'wrjr846fks': 15635, 'wii': 15636, 'shantaeforsmash': 15637, 'shantaehalfgeniehero': 15638, 'nintendo': 15639, 'zztbvjypn1': 15640, 'cwcvbubs01': 15641, 'nosy': 15642, 'heebsterrr': 15643, 'heiekfchdm': 15644, 'lobo': 15645, 'paranoico': 15646, 'supportive': 15647, 'economically': 15648, '300m': 15649, 'lw2fglrgxb': 15650, 'y7rv0til1w': 15651, 'personalize': 15652, 'nbizatlsmv': 15653, 'rm6cnzkszl': 15654, 'dwight': 15655, 'eisenhower': 15656, 't5trhjuau0': 15657, '93vqkdfgnr': 15658, 'obsolete': 15659, 'ashes2015': 15660, 'a7tjawwtj7': 15661, 'slit': 15662, 'apologize': 15663, 'estellasrevenge': 15664, 'swiming': 15665, 'testified': 15666, 'burglary': 15667, 'wftcrlz32p': 15668, 'disclos': 15669, 'wbi7laq18e': 15670, 'muttatek': 15671, 'kwwwkwwwk': 15672, 'jiahahahha': 15673, 'yeyeulala': 15674, 'craig': 15675, 'nvfkzv5fex': 15676, 'brics': 15677, 'teamatowinner': 15678, 'mino': 15679, 'drf3mmrbyx': 15680, 'kindermorgan': 15681, 'dn5buo7gsk': 15682, '1200000': 15683, '11000000': 15684, 'prci76howu': 15685, 'rtcufag0au': 15686, 'drothvader': 15687, 'nevalistis': 15688, 'arachys': 15689, '2500': 15690, 'taxreturn': 15691, 'cleaning': 15692, 'cri': 15693, 'gxqwd1qzbd': 15694, 'katiekatcubs': 15695, 'startelegram': 15696, 'k9airfq3ql': 15697, 'jdbtlymehy': 15698, 'rodpt33xfm': 15699, 'eversafe': 15700, '0bvk5tub4j': 15701, 'catechize': 15702, 'confidential': 15703, 'm4jdzmgjow': 15704, 'n0uhasfkbv': 15705, 'argent': 15706, 'sw1sbua3mn': 15707, 'riwup1rbhu': 15708, '86pknkchmr': 15709, 'loudest': 15710, 'higuain': 15711, 'offside': 15712, 'drfriedencdc': 15713, 'infection': 15714, 'niv8x5tbe0': 15715, 'adiossuperbacterias': 15716, 'universityoflaw': 15717, 'eg1fskqbv6': 15718, 'archetype': 15719, 'grounded': 15720, 'readiness': 15721, 'fpoj': 15722, 'wxbrarc7p3': 15723, 'cabrillo': 15724, 'magellan': 15725, 'mir': 15726, 'liquidation': 15727, 'usar2015': 15728, 'usar15': 15729, 'ruor': 15730, 'ggtmdquddo': 15731, 'shadowflame': 15732, 'wraith': 15733, 'ldbao0rsuz': 15734, '4yygb': 15735, 'strongest': 15736, 'esevu': 15737, 'emzn4spwnk': 15738, 'tomarse99': 15739, 'intending': 15740, 'signal': 15741, 'canadasuicide': 15742, 'ktd5ig9m5o': 15743, 'tareksocal': 15744, 'celebrity': 15745, 'ljxce1qw2p': 15746, 'womem': 15747, 'mommyisbomb': 15748, 'nn6y0fd3l0': 15749, 'appreciativeinquiry': 15750, 'soea1ggbkj': 15751, 'brodyfrieling': 15752, 'brooksie': 15753, 'bekrpjnyhs': 15754, 'ajabrown': 15755, 'wmnb5ita5p': 15756, 'gnynjhne6j': 15757, '1funemes7m': 15758, 'kissimmee': 15759, 'fpyru5golh': 15760, 'djdewd13wr': 15761, 'romantic': 15762, 'sensei': 15763, 'rhyme': 15764, 'boyinahorsemask': 15765, 'panda': 15766, 'gentleman': 15767, 'patron': 15768, 'opener': 15769, 'gasping': 15770, 'giggling': 15771, 'dinosaurdracula': 15772, 'irhh2gvsed': 15773, '8j4rdwyjwu': 15774, '9mkzpzfkl2': 15775, 'sahel': 15776, 'chore': 15777, 'ysg9vsrt4g': 15778, 'nashvillefd': 15779, 'swiftly': 15780, 'arrives': 15781, 'nosvu0zx4x': 15782, 'sittway': 15783, '5mjzjnkpfn': 15784, 'weudlkc4o4': 15785, 'trl1dskf81': 15786, 'rrzbzgo48n': 15787, 'kessily': 15788, 'allthekidneybeansandsorbet4misha': 15789, 'pow': 15790, 'talked': 15791, 'sudkk1weez': 15792, 'wolverine': 15793, 'aåêmiddle': 15794, 'aged': 15795, 'manåêarmed': 15796, 'tyd47nfl5x': 15797, 'utc7pdidfo': 15798, '1tr2kvxctw': 15799, 'meerkat': 15800, 'periscope': 15801, 'separated': 15802, 'dmtzmgyrik': 15803, 'our': 15804, 'y0qqs2l7bs': 15805, 'istg': 15806, '2sz7okjrxi': 15807, 'segment': 15808, 'anthology': 15809, 'lqjmuaxjuu': 15810, 'fond': 15811, 'sz2rvwpwhj': 15812, 'lajx578dru': 15813, 'relaxinpr': 15814, 'miprv': 15815, 'ylhayfaoou': 15816, 'kgswhsr7mn': 15817, 'teamsurvivors': 15818, 'zombiefunrun2014': 15819, 'intense': 15820, 'cityporn': 15821, '4608ìñ2474': 15822, '8e6xuhrbkh': 15823, 'qo190n8udd': 15824, 'alarming': 15825, 'v6h97k688j': 15826, 'tjw9bseipw': 15827, 'n00dvxega2': 15828, 'qwsbvflpe1': 15829, 'mistrustful': 15830, 'vaunps6wja': 15831, 'onegreenplanet': 15832, 'lisavanderpump': 15833, 'schism': 15834, 'dqtmtpqmbr': 15835, 'dmsnyptscy': 15836, 'sirtitan45': 15837, 'p6kdh0p0sp': 15838, 'waetkgsza9': 15839, 'pyvrprnhop': 15840, '999': 15841, 'news786': 15842, 'islamist': 15843, 'anjem': 15844, 'choudary': 15845, 'u7bbenxwyk': 15846, 'umjprrwruu': 15847, 'univsfoundation': 15848, 'rwaph6dauv': 15849, 'warthen': 15850, 'midst': 15851, 'bullpen': 15852, 'asb': 15853, 'dorling': 15854, 'kindersley': 15855, 'publishing': 15856, 'tj3ltpzfw1': 15857, 'a3dsmbqkwu': 15858, 'soaker': 15859, 'jqfcy9guqv': 15860, 'tn65puhfhw': 15861, 'ruby': 15862, 'pours': 15863, 'wished': 15864, 'spilt': 15865, 'mayonnaise': 15866, 'foxnewsinsider': 15867, 'astros': 15868, 'stunningly': 15869, 'mia': 15870, 'urged': 15871, 'coun': 15872, 'tfcdronra6': 15873, 'wacko': 15874, 'karinagarciaxo': 15875, 'bud': 15876, 'greenbuildermag': 15877, 'webinar': 15878, 'xmsvohkccp': 15879, 'firewise': 15880, 'telnet': 15881, '172': 15882, 'streamyx': 15883, 'bz07c9wthx': 15884, 'ijournal': 15885, 'zhejiang': 15886, '8picbkdjm0': 15887, 'kane': 15888, 'blending': 15889, '8qqzyziaqf': 15890, 'nnylxhinpx': 15891, 'horiikawa': 15892, 'phantasmal': 15893, 'cummerbund': 15894, 'qrhjei7grq': 15895, 'kaccpk85wf': 15896, 'nnixodhigc': 15897, 'ad38kwoglh': 15898, 'dlizfkk30y': 15899, 'overcharging': 15900, 'rent': 15901, 'await': 15902, 'disembarkment': 15903, 'tconnellyr': 15904, 'aim5cyhl0y': 15905, '53p4ooo1xn': 15906, 'cantwaittoplayinminneapolis': 15907, 'gasoline': 15908, 'calais': 15909, 'py4mtw5xpm': 15910, 'officialmqm': 15911, '5bdrfu1duo': 15912, 'teq7sri57p': 15913, 'q5qcoao8jp': 15914, 'choosegod': 15915, 'restoringpaths': 15916, '3brme6sn4t': 15917, 'vigilent': 15918, 'nativehuman': 15919, 'myreligion': 15920, 'wwu070tjej': 15921, 'huthxlkyxy': 15922, 'us0qqqhqvj': 15923, 'dserialpcilp': 15924, 'pci': 15925, '16550': 15926, 'l0b14sj7jb': 15927, 'ladyfleur': 15928, 'cafì': 15929, '3hoikdmocb': 15930, 'lemairelee': 15931, 'danharmon': 15932, 'representative': 15933, 'withåêannihilation': 15934, 'c1qxjweqqu': 15935, 'zhp0sowxry': 15936, 'chibi877': 15937, 'shouted': 15938, 'turnedonfetaboo': 15939, 'hsjb215': 15940, 'e1wrvyzfkv': 15941, 'leaking': 15942, 'sewage': 15943, 'keampurley': 15944, 'ganseyman': 15945, 'ipxpi3me16': 15946, 'pochette': 15947, 'bosphore': 15948, 'rv0fk7q4y5': 15949, 'mrw': 15950, 'ifunny': 15951, 'xiydyfptru': 15952, 'ibaraki': 15953, 'prefecture': 15954, 'offing': 15955, 'm5': 15956, '60km': 15957, 'ddhwori5w1': 15958, '37592': 15959, 'replacement': 15960, 'cosme': 15961, 'zcvfc500yy': 15962, 'g37hujx6et': 15963, 'willie': 15964, 'am': 15965, 'justthebottle': 15966, 'cooling': 15967, 'winechat': 15968, 'unrealtouch': 15969, 't97jmbzobo': 15970, 'almighty': 15971, 'strength': 15972, 'ei1k01zab3': 15973, 'sl': 15974, 'rsa': 15975, 'bd': 15976, 'aberdeenfc': 15977, 'aberdeenfanpage': 15978, 'coefficient': 15979, 'plz': 15980, '7aze4iogme': 15981, 'assessment': 15982, 'optimization': 15983, 'routing': 15984, 'deosl86': 15985, 'meaningless': 15986, 'aesop': 15987, 'ueppjwvlcb': 15988, 'watersafety': 15989, 'frusciante': 15990, '00cy9vxeff': 15991, 'dave': 15992, 'an3w16c8f6': 15993, 'n95igskd3p': 15994, 'lowkey': 15995, 'acmrm833zq': 15996, 'flurry': 15997, 'revel': 15998, 'farewell': 15999, 'gtxrwm': 16000, 'defective': 16001, 'intertissue': 16002, 'guabxfv': 16003, 'uzsqzycb8x': 16004, 'j4ggmkiney': 16005, 'forbesasia': 16006, 'nq77efmf88': 16007, 'ynxnvvkcda': 16008, 'weqpesenku': 16009, 'pixelsmovie': 16010, 'lvbuw01yoh': 16011, 'zdieodwbog': 16012, 'msoreo': 16013, 'v6nylvdped': 16014, 'disappointing': 16015, 'gyzpisbi1u': 16016, 'msdntkwyaf': 16017, 'e2wfgp8jhk': 16018, 'gerryconnolly': 16019, 'repdonbeyer': 16020, 'debacle': 16021, 'mgr': 16022, 'o9dzgzqemf': 16023, 'wk6b5z803o': 16024, 'ssssnell': 16025, 'rope': 16026, 'bksyymvisg': 16027, 'capicapricapri': 16028, 'brento': 16029, 'bento': 16030, 'wha': 16031, 'zkgqspwyj3': 16032, '964dk4rwwe': 16033, 'gbbo2015': 16034, 'physically': 16035, 'gasped': 16036, 'invested': 16037, 'animallogic': 16038, 'lotg': 16039, 'smoothed': 16040, 'chalked': 16041, 'mouse': 16042, 'subtle': 16043, 'nro': 16044, 'unauthorized': 16045, 'workshop': 16046, 'booth': 16047, 'kappa': 16048, 'thisdayinhistory': 16049, '1862': 16050, 'confederate': 16051, 'iw7elszifz': 16052, 'envyseven': 16053, 'aquarius': 16054, 'queenmy': 16055, 'pretense': 16056, 'overture': 16057, 'songfor': 16058, 'enews': 16059, 'eonlinechat': 16060, 'illustrated': 16061, 'horrifying': 16062, 'gzib0mawmn': 16063, 'dobzc3pitm': 16064, 'citing': 16065, 'casing': 16066, 'zg1yddywa5': 16067, 'conclusion': 16068, 'jacinta': 16069, '2k13': 16070, 'mar': 16071, '7mlmsuzv1z': 16072, 'hqdczzdmbn': 16073, 'pms4pmur0q': 16074, 'f5ylp7pfn7': 16075, 'theellenshow': 16076, '54000': 16077, 'signature': 16078, 'jyheffect': 16079, 'fanboys': 16080, 'qhtoerhdkm': 16081, 'glassanimals': 16082, 'slithering': 16083, 'viscous': 16084, 'yeahs': 16085, 'erykah': 16086, 'badu': 16087, '7zb9gm5z0h': 16088, 'palmoil': 16089, '4zn0mdsrvp': 16090, 'wwxcob52zi': 16091, '2y5morpugt': 16092, 'unaware': 16093, 'sanitizing': 16094, 'yrvgykdbm6': 16095, 'yao1e0xngw': 16096, 'everydaynaija': 16097, 'nonm8c6l8p': 16098, 'silverstar58200': 16099, 'romero': 16100, 'praiz8': 16101, 'bangtan': 16102, 'k8bexkgwr2': 16103, 'vimeo': 16104, 'lkxi6uxjaq': 16105, 'lasvegaslocally': 16106, 'vitalvegas': 16107, 'reined': 16108, 'stool': 16109, 'drrichardbesser': 16110, '88': 16111, '92': 16112, 'dispersed': 16113, 'uv': 16114, 'gin': 16115, 'mjfdcrjs8j': 16116, 'listia': 16117, '40w': 16118, 'us70': 16119, 'trib': 16120, 'suspended': 16121, 'r4yzhxk7lw': 16122, 'mssq0svnbm': 16123, 'eug6zhciun': 16124, 'deepak': 16125, 'chopra': 16126, 'ethgagpy5g': 16127, 'pacquiao': 16128, 'marquez': 16129, 'unfilled': 16130, 'durvod': 16131, '6vja8r4yxa': 16132, 'archipelagowolves': 16133, 'nearing': 16134, 'extinction': 16135, 'standforwolves': 16136, 'hbwoivjqkd': 16137, 'robbiewilliams': 16138, 'asswipe': 16139, 'crucial': 16140, 'psychic': 16141, '4esbsa8int': 16142, 'utfire': 16143, 'biz': 16144, 'r33ncvjovc': 16145, 'truckcrash': 16146, 'fortworth': 16147, 'rs22lj4qfp': 16148, 'ld0uniyw4k': 16149, 'establishment': 16150, 'donzilla': 16151, 'trump2016': 16152, 'xvaoqo4egr': 16153, 'rachelcaine': 16154, 'weatherit': 16155, 'ba': 16156, 'icc': 16157, 'realckt': 16158, 'slopeofhope': 16159, 'dilute': 16160, 'tsutomi': 16161, 'yamaguchi': 16162, 'otd': 16163, 'daalpenzp0': 16164, 'iamrrsb': 16165, 'pdehd1tcpk': 16166, 'skywars': 16167, 'flechadas': 16168, 'sinistras': 16169, 'researcher': 16170, 'select': 16171, '9viibxgjav': 16172, 'vts9cayibc': 16173, 'rbzomwgjee': 16174, 'bcpoli': 16175, 'canpoli': 16176, 'vanpoli': 16177, 'natz5ipv1x': 16178, 'leaeby6cr2': 16179, 'ali': 16180, 'booradleyvancullen': 16181, 'exquisite': 16182, 'y9w0v6te9o': 16183, 'cumshot': 16184, 'porno': 16185, 'bmxsndx14g': 16186, 'induced': 16187, '6cadrhioxp': 16188, 'photogenic': 16189, 'gosh': 16190, 'counterstrike': 16191, 'z5y4xr14w6': 16192, 'baaaack': 16193, 'petersen': 16194, 'bowhunting': 16195, 'bow': 16196, 'fj73gdvg2n': 16197, '82': 16198, 'interlocking': 16199, 'jevrcwudpm': 16200, 'rosvxqelqj': 16201, 'omron': 16202, 'hem': 16203, '712c': 16204, 'gjbainqwn9': 16205, 'jphgpl1c5x': 16206, 'ifak': 16207, 'fdsaooiskj': 16208, '2uvmq4vafq': 16209, 'kjmgteeklp': 16210, 'spouting': 16211, 'co2': 16212, 'upsetting': 16213, 'ndjja4d5o8': 16214, 'l7bjsq0y2o': 16215, 'sunray': 16216, 'hairy': 16217, 'dried': 16218, 'spiderweb': 16219, 'zrzejpef5j': 16220, 'anywhere': 16221, 'fmj8mxjy8a': 16222, 'drbcrypj4p': 16223, 'joshcorman': 16224, 'prysmian': 16225, 'secures': 16226, 'olg09kb6ha': 16227, '3am': 16228, 'footed': 16229, 'pajama': 16230, 'sarniamakchris': 16231, 'hromadske': 16232, 'kasiadear33': 16233, 'silly': 16234, 'bartlett': 16235, 'hs2': 16236, 'astroturfers': 16237, 'crumbling': 16238, 'x3vqxdouvt': 16239, 'mics': 16240, 'argentings': 16241, 'aaaaaaallll': 16242, 'mariankeyes': 16243, 'worthless': 16244, 'acrylic': 16245, 'x17fubqbgg': 16246, 'gns': 16247, '4ryzmzsgdw': 16248, 'homecoming': 16249, 'vmkexjtyg4': 16250, 'kirstiealley': 16251, 'animaladvocate': 16252, '58hif': 16253, 'wkv8vqvkt6': 16254, 'artisteoftheweekfact': 16255, 'coast2coastdjs': 16256, 'blaz': 16257, 'jiwonle': 16258, 'clubbanger': 16259, 'noooooooooooo': 16260, 'spa': 16261, 'ex6jzqj3ni': 16262, 'longaberger': 16263, 'floral': 16264, 'strap': 16265, 'fb8snrg4hu': 16266, '1970s': 16267, 'piracy': 16268, 'slavery': 16269, 'purely': 16270, 'historical': 16271, 'occur': 16272, 'calwildfires': 16273, 'aftermath': 16274, 'wwxbgubww5': 16275, 'usage': 16276, 'sjnyfszcu1': 16277, 'hungerarticles': 16278, 'rebuilding': 16279, 'lrouwjmbix': 16280, 'antiochhickoryhollow': 16281, 'provocation': 16282, 'lhw4vtbhzg': 16283, 'fwqfckncqw': 16284, 'legacyofthesith': 16285, 'sagacioussaber': 16286, 'lordofbetrayal': 16287, 'crescent': 16288, 't6obvwaphw': 16289, 'viking': 16290, 'infact': 16291, 'zimmer': 16292, 'sabrina': 16293, '1k2phqcuw8': 16294, 'trooper': 16295, 'bobble': 16296, 'funko': 16297, 'kjbxieypma': 16298, 'enpjcfma8l': 16299, 'redskin': 16300, 'wr': 16301, 'gbcvvevdty': 16302, 'jmawrlt7hb': 16303, 'scheer': 16304, 'huebel': 16305, 'flsa8mldsn': 16306, 'avwe1lbvhn': 16307, 'thereal': 16308, '4i0rjc9rqu': 16309, 'comin': 16310, 'bucs': 16311, 'ogt': 16312, 'colomr': 16313, 'khf0ih05a9': 16314, 'vjgr6liaxh': 16315, '55jr66plov': 16316, 'victoriagittins': 16317, 'tui9uwbvvp': 16318, 'blcbabm7a1': 16319, 'precedent': 16320, 'undetected': 16321, 'bzkqpl6r0a': 16322, '4fxfllrien': 16323, 'i12nlsr8fk': 16324, 'i77': 16325, 'airlift': 16326, 'ûïfor': 16327, 'ûïplans': 16328, 'prosper': 16329, 'cirtvml9vp': 16330, 'crawling': 16331, 'hea': 16332, 'margarita': 16333, 'engle': 16334, 'holt': 16335, 'byr': 16336, 'i7eskymoec': 16337, 'arian': 16338, 'yeat': 16339, 'gideonstrumpet': 16340, 'eulogy': 16341, 'tormented': 16342, 'matias': 16343, 'lhtvkcoiso': 16344, 'unhealed': 16345, 'unending': 16346, 'endoccupation': 16347, 'endconflict': 16348, 'freekashmir': 16349, 'unite': 16350, 'freesikhpoliticalprisnors': 16351, 'bapusuratsingh': 16352, 'spt54kfa9q': 16353, 'raheelsharif': 16354, 'manifesting': 16355, 'helm': 16356, 'stormy': 16357, 'cnshlnjuqx': 16358, '3drsmxw3cr': 16359, 'ltvvpflsg8': 16360, '30bst': 16361, 'a10': 16362, 'a40': 16363, 'a7': 16364, 'a2': 16365, 'hanover': 16366, 'karlsruhe': 16367, 'gotthard': 16368, 'yoi9tocxiq': 16369, 'ldjet9tfmk': 16370, 'ashenforest': 16371, 'floorburnt': 16372, 'manzanita': 16373, 'timber': 16374, 'fymp4i2wp5': 16375, 'bowery': 16376, 'mesgcngaz0': 16377, 'beached': 16378, 'rqbspucjdf': 16379, 'lulu': 16380, 'mypillowstudio': 16381, 'm4pqkkeevc': 16382, 'd7zxz42qw1': 16383, 'juliechen': 16384, 'madisonpa': 16385, 'deflategate': 16386, 'incremental': 16387, 'caring': 16388, 'swiftycommissh': 16389, 'taoistinsight': 16390, 'immortaltech': 16391, 'tht': 16392, 'killin': 16393, 'aladdin': 16394, 'braoubgec2': 16395, 'horoscope': 16396, 'gk4unpznhn': 16397, 'qr3ypekfoe': 16398, 'ay6zzcupnz': 16399, 'sc9dns41mc': 16400, 'pumped': 16401, 'southridgelife': 16402, 'charred': 16403, 'neighboring': 16404, 'ja3w1s3tmr': 16405, 'nanking': 16406, 'tipndempuz': 16407, 'wsj': 16408, 'wpo': 16409, 'luzukokoti': 16410, 'umntu': 16411, 'wakho': 16412, 'legna989': 16413, 'dialysis': 16414, 'atcmrjzjtp': 16415, 'firefigthers': 16416, 'northampton': 16417, 'hppld1jhtz': 16418, 'msuy4qtpk9': 16419, 'ozk1qhjvfh': 16420, 'xo2zbpbjb3': 16421, 'lithium': 16422, 'dhambp54ya': 16423, 'angelriveralib': 16424, 'jaawuiovdc': 16425, 'shed': 16426, 'polluted': 16427, 'gloriavelez': 16428, 'kennedy': 16429, 'avert': 16430, 'tinybaby': 16431, 'adultblackmale': 16432, 'mattytalks': 16433, 'mwednesday': 16434, 'invented': 16435, 'insomniac': 16436, '5t69ev0xti': 16437, 'nyp8oq2z9t': 16438, 'wsls': 16439, 'childcare': 16440, 'jennasjems': 16441, 'patrickwsls': 16442, 'gbxafy1m1c': 16443, 'qvsp6b2qsu': 16444, '0s6ydfrwdq': 16445, 'gasparc': 16446, 'z5grlrey6v': 16447, 'jwalkerlyle': 16448, 'xela': 16449, 'dcfd': 16450, 'chr3lyc': 16451, 'iaff36': 16452, 'yopeypjkb2': 16453, 'bleacher': 16454, 'cllwud4wsu': 16455, 'h3dch6fyaw': 16456, 'externally': 16457, 'f7wqpcekg2': 16458, 'bluebirddenver': 16459, 'setzorah': 16460, 'ccvcte3lcw': 16461, 'autoames': 16462, 'ventilated': 16463, 'bandolier': 16464, 'dix': 16465, 'vcv73buacz': 16466, 'sihqpluidw': 16467, 'mallelis': 16468, 'mason': 16469, 'violin': 16470, 'eeenice221': 16471, 'daddy': 16472, 'becarefulharry': 16473, '950': 16474, 'tumble': 16475, 'todayi': 16476, 'kaotix': 16477, 'craving': 16478, 'fowler': 16479, 'xxoupfy8nq': 16480, 'a3bjabhqhe': 16481, 'alexjacobsonpfs': 16482, 'andre': 16483, 'gore': 16484, 'x8zqbwnfo1': 16485, 'ribbon': 16486, 'pa5sslefec': 16487, 'offtrackhorse': 16488, 'ljylxz1fbi': 16489, 'kinesiology': 16490, 'ironmanå': 16491, 'durability': 16492, 'effectiveness': 16493, 'ejymkzpeex': 16494, '0iyuntxduv': 16495, 'ruddyyyyyy': 16496, 'jamiegriff97': 16497, 'jamie': 16498, 'vzgslepkkh': 16499, 'lcnw4ead8v': 16500, 'u9bkqt6xhr': 16501, 'zsykzj2bzg': 16502, 'fundraiser': 16503, 'ma4ra7atql': 16504, 'cg579wldne': 16505, 'breakingnewslh': 16506, 'bree': 16507, 'mars': 16508, 'seventy': 16509, 'stuckinbooks': 16510, 'jp3oy0ouxq': 16511, 'nikoniko12022': 16512, 'ponting': 16513, 'hsgktezucn': 16514, 'willienelson': 16515, 'efcn9ivnfg': 16516, 'jjl89f9o3v': 16517, 'rave': 16518, 'catfishmtv': 16519, 'movietheatre': 16520, '615': 16521, '5kbrzzmf8c': 16522, 'tafs': 16523, 'fb100': 16524, 'lthmwtl5fp': 16525, 'onfireanders': 16526, 'bb': 16527, 'sexydragonmagic': 16528, 'span': 16529, 'robdelaney': 16530, 'unable': 16531, 'ejaculating': 16532, 'mhl7pfr7kb': 16533, 'lou8lbla1f': 16534, 'itss': 16535, 'selenaluna': 16536, 'barcelona': 16537, 'alba': 16538, 'jyiegtnc6h': 16539, 'align': 16540, 'repatriating': 16541, 'wvvgmeja7l': 16542, 'yelllowheather': 16543, 'undeserving': 16544, 'jaureguiswisdom': 16545, 'daisycuttertz': 16546, 'grogparty': 16547, 'burke': 16548, 'imam': 16549, 'shrimplevy': 16550, 'parked': 16551, 'modestmouseremix': 16552, 'truestory': 16553, '19th': 16554, 'jul': 16555, 'o2cdkpsdfp': 16556, 'rjac5sitep': 16557, 'plqf1biks4': 16558, 'akcsl': 16559, 'venture': 16560, 'suitable': 16561, 'driverlesscars': 16562, '6o1mgmghgt': 16563, 'wtpo6elrzd': 16564, '3km': 16565, 'henshaw': 16566, 'f9kqksosw3': 16567, 'gallup': 16568, 'qdmvtj4lzj': 16569, 'grocery': 16570, 'aching': 16571, 'christianvalues': 16572, 'kp5dpoaf58': 16573, '149': 16574, '0oms8ri3l1': 16575, 'vulrclw7bd': 16576, '9pfeaqeski': 16577, 'fntg70rnkx': 16578, 'emsne': 16579, 'danryckert': 16580, 'drewscanlon': 16581, 'stealth': 16582, 'silenced': 16583, 'haji': 16584, 'hunter762': 16585, 'middleeasteye': 16586, 'muzzies': 16587, 'payback': 16588, 'frustration': 16589, 'p6cylz5lpt': 16590, 'jpu9gips9f': 16591, '999day': 16592, 'wmoyibwec1': 16593, 'lucymayofficial': 16594, '0rsverlztm': 16595, 'doctorfluxx': 16596, 'stefanejones': 16597, 'spinnellii': 16598, 'themermacorn': 16599, 'embarrassing': 16600, 'easlgea1b7': 16601, 'preseason': 16602, 'scotiabank': 16603, 'saddledome': 16604, '5g8qa6mpxm': 16605, 'sonofliberty357': 16606, 'illuminated': 16607, 'brightly': 16608, 'trashed': 16609, 'y3fo0ghg8t': 16610, 'vijfnhl630': 16611, 'homeworldgym': 16612, 'thisisperidot': 16613, 'wbre': 16614, 'wyou': 16615, 'jhvigsx5jg': 16616, 'valdes1978': 16617, 'testy': 16618, 'ayhoka': 16619, 'cvkqigr1az': 16620, 'clancy': 16621, 'paperback': 16622, 'obix79ncxn': 16623, 'tomclancy': 16624, 'chxrmingprince': 16625, 'luna': 16626, 'folding': 16627, 'r18autnlsd': 16628, 'cnqae9foj6': 16629, 'receives': 16630, 'impacting': 16631, 'drvm8isote': 16632, 'chikislizeth08': 16633, 'charlieputh': 16634, 'tkeoaedqkq': 16635, 'trucking': 16636, '1qochspybw': 16637, 'scofield': 16638, 'hotbox': 16639, 'sona': 16640, 'mixxtail': 16641, 'watermelon': 16642, 'loko': 16643, 'brittsand9': 16644, 'cuvkf5ykax': 16645, 'hunting': 16646, 'outnumbering': 16647, 'fp64yosjwx': 16648, 'petersburg': 16649, 'khalidkkazi': 16650, 'etp': 16651, 'hszjafxrvi': 16652, 'midfield': 16653, 'soni': 16654, 'soner': 16655, 'sonisoner': 16656, 'devffptcvj': 16657, '8jvqi9uspl': 16658, 'bbcwomanshour': 16659, 'setsuko': 16660, 'thurlow': 16661, 'cvjyml7krm': 16662, 'fph01u3eii': 16663, 'sarahmcpants': 16664, 'justjon': 16665, 'titty': 16666, 'uymxocfs33': 16667, '319': 16668, 'incinerator': 16669, 'pulkovo': 16670, 'chilli': 16671, 'doritos': 16672, 'p85nwcmkqu': 16673, 'nonprofit': 16674, 'h1xch54kd3': 16675, 'hoodedu': 16676, 'berlatsky': 16677, 'antipozi': 16678, 'cucks': 16679, 'ks161': 16680, 'wadpp69lwj': 16681, 'yjth2nabv5': 16682, 'elielcruz': 16683, 'newåêheights': 16684, 'iglnqpgbnw': 16685, 'aoesbvns45': 16686, 'ia44nczlif': 16687, 'ogtuv1plht': 16688, 'slab': 16689, 'ripping': 16690, 'labourleadership': 16691, 'contest': 16692, 'popcorn': 16693, 'elgeotaofeeq': 16694, 'ambition': 16695, 'reidlake': 16696, 'maca': 16697, 'nwt': 16698, 'yzf': 16699, 'mdnugvubwn': 16700, 'yh5vetm0yz': 16701, '17wgug8z0m': 16702, 'wqikqx9e3w': 16703, 'gs50ddg1jy': 16704, '5qyczywkgg': 16705, 'lakeeffect': 16706, 'twill': 16707, 'denim': 16708, 'txtpx4umqh': 16709, 'rachelrofe': 16710, 'prohibits': 16711, 'ke1zs6naml': 16712, 'heyimbeeyt': 16713, 'rio2016': 16714, '9mtrq5jf4d': 16715, 'jackass': 16716, 'stuffin': 16717, 'ae9cpiexak': 16718, 'klavierstuk': 16719, 'lvg': 16720, 'smaller': 16721, 'lcb': 16722, 'cl': 16723, 'xum8ylcb4q': 16724, 'skaausjpo4': 16725, 'oliviamiles01': 16726, 'frkodestuk': 16727, 'bailout': 16728, 'cjvbqxw83s': 16729, 'jarmusch': 16730, 'vampire': 16731, 'sqwizzix': 16732, 'ggqcz9ab6u': 16733, 'piano': 16734, 'entertainer': 16735, 'toosoon': 16736, 'wj0u59mppb': 16737, 'pwamg8ozj4': 16738, 'mumbailocals': 16739, 'lessonforlife': 16740, 'marinelines': 16741, 'fctrawjcyl': 16742, 'ndtv': 16743, 'rkdzb0tgc3': 16744, 'fadelurker': 16745, 'dalinthanelan': 16746, 'camped': 16747, 'redcliffe': 16748, 'aidan': 16749, 'cryibg': 16750, 'biigd1leq3': 16751, 'isai': 16752, 'psm': 16753, '138': 16754, 'scattered': 16755, 'gujaratriot': 16756, 'mumbairiot92': 16757, '93': 16758, 'indianperpetrated': 16759, 'chawalchorbjp': 16760, 'women': 16761, 'unnewsteam': 16762, 'u8ykr63b1g': 16763, 'theevilolives': 16764, 'hypo': 16765, 'xxkhjysn0p': 16766, 'jevhknjgbx': 16767, 'diretube': 16768, 'fightåêterrorism': 16769, 'v6ijxccd2i': 16770, 'ysxhfwmgod': 16771, 'gajtugaui7': 16772, 'pressing': 16773, 'docked': 16774, 'jw6fnnssxt': 16775, '4zaztb19qe': 16776, 'bae0ap4g9y': 16777, 'nears': 16778, 'uo8grdauat': 16779, 'ahrar': 16780, 'negotiation': 16781, 'tangled': 16782, 'africansinsf': 16783, 'beyondgps': 16784, 'etdgpiwxti': 16785, 'davidolszak': 16786, 'fe': 16787, 'studebaker': 16788, '6uhih9pbru': 16789, 'a1moejxqya': 16790, 'corii': 16791, 'spoil': 16792, 'l3gizrucy4': 16793, 'wishlist': 16794, 'hgedwxtdjn': 16795, 'kmactwn': 16796, 'meaganerd': 16797, 'cereal': 16798, 'kellogg': 16799, 'sugar': 16800, 'crunchy': 16801, 'joonma': 16802, 'brooktekle': 16803, 'length': 16804, 'amrox4y4nx': 16805, 'bettyfreedoms': 16806, 'abninfvet': 16807, 'stark': 16808, 'rendered': 16809, '9cpwiecegv': 16810, 'rzlytnez2u': 16811, 'nueva': 16812, 'favorita': 16813, 'met4ytzmfb': 16814, 'deezercolombia': 16815, 'rpneaj6fod': 16816, 'ogtomd': 16817, 'zvre6ffnyd': 16818, 'albeit': 16819, 'unsuccessful': 16820, 'mackinnon08': 16821, 'grid': 16822, 'avvsoino8z': 16823, 'voyruxcrin': 16824, 'ykdsp0nrdq': 16825, 'goodluck': 16826, 'hashgqafic': 16827, 'codythompson25': 16828, 'overwhelming': 16829, 'fairly': 16830, 'adjusted': 16831, '1erd2fpryp': 16832, 'l0unafly0y': 16833, 'ja': 16834, 'afzqvotutj': 16835, '1epiyenqyl': 16836, 'moly': 16837, 'praise': 16838, 'ministry': 16839, 'wdyouth': 16840, 'biblestudy': 16841, 'ujk0e5gbcc': 16842, 'milf': 16843, 'oiled': 16844, 'closeup': 16845, 'faogxkwdpg': 16846, 'asbury': 16847, 'dadz5zfo1g': 16848, 'asburyparkpress': 16849, 'atv': 16850, 'd3p88xdlec': 16851, 'j2ddvh7fy0': 16852, 'soloquiero': 16853, 'firefighte': 16854, 'nominates': 16855, 'ohhsehuns': 16856, 'rcvdrwowvo': 16857, 'mages': 16858, 'tail': 16859, 'specialize': 16860, 'natsu': 16861, 'dragneel': 16862, 'tagging': 16863, 'thursd': 16864, 'ibype1kaz5': 16865, 'z6hxx6d2pm': 16866, 'euroquake': 16867, 'qcyqhvn2ha': 16868, 'msdizftz2g': 16869, 'iphazv47g7': 16870, 'dtfswnjzil': 16871, 'iys9xwpvmk': 16872, 'shakeology': 16873, 'protein': 16874, 'apod4eivba': 16875, 'mccauleysdesign': 16876, 'abysmaljoiner': 16877, 'dyamiplotke': 16878, 'purpose': 16879, '4k': 16880, 'agony': 16881, 'n08qluornx': 16882, 'prayed': 16883, 'wf8itk2kvx': 16884, 'huffpostrelig': 16885, 'jrgj17oamt': 16886, '141': 16887, 'rfjzexqgxt': 16888, 'wqgsmioimx': 16889, 'pieceofme': 16890, '4mjyw7p7cf': 16891, 'fn': 16892, 'troylercraft': 16893, 'spammer': 16894, 'resilience': 16895, 'factsheet': 16896, 'fcfpijiqt5': 16897, 'aphiabeta1907': 16898, 'ugliness': 16899, 'amesocialaction': 16900, 'frat': 16901, 'bioterrorismi': 16902, 'tolewant': 16903, 'normally': 16904, 'embrace': 16905, 'l1gfxgozvx': 16906, 'tkjybjjskl': 16907, 'ought': 16908, 'c1xhizprad': 16909, 'concentration': 16910, 'caitsroberts': 16911, 'barra': 16912, 'jaiden': 16913, 'uxp6poqjlb': 16914, 'visible': 16915, 'tucson': 16916, 'steep': 16917, 'terrain': 16918, 'zrtrpl77qv': 16919, 'goz': 16920, 'manually': 16921, 'ru': 16922, 'snaymldiun': 16923, 'ptevy815mt': 16924, 'aimlessly': 16925, 'detersion': 16926, 'hlg': 16927, 'mjmwa72er6': 16928, 'adx9iyi246': 16929, 'pzeixi4xk7': 16930, 'hcyajsacfj': 16931, 'spacex': 16932, 'musk': 16933, 'lvizo9cssr': 16934, 'sureshpprabhu': 16935, 'shii': 16936, 'intended': 16937, 'rodarmer21': 16938, 'dolla': 16939, 'phelimkine': 16940, '8go68kje4b': 16941, '0krw1zyahm': 16942, 'qqc0gkbegs': 16943, 'efs300': 16944, 'zstuvsbqq0': 16945, 'charon': 16946, 'senzu': 16947, 'gohan': 16948, 'pouch': 16949, 'robpulsenews': 16950, 'huyovoetripolye': 16951, 'phillips': 16952, 'ldnr': 16953, 'xwnjysv9v9': 16954, 'rightly': 16955, 'despicable': 16956, 'ocalan': 16957, 'marxism': 16958, 'gs0km0vlgk': 16959, 'deathmule': 16960, 'sxhgfithjw': 16961, 'mk': 16962, 'stalag': 16963, 'ermac': 16964, 'daviskawalya': 16965, 'mauryn143': 16966, 'dcdecfv934': 16967, 'dwbc1duvdk': 16968, 'potter': 16969, 'remind': 16970, 'deepest': 16971, 'officeofrg': 16972, 'resemblance': 16973, 'campbell': 16974, 'libertygeek83': 16975, 'kissing': 16976, 'lej5onus9q': 16977, 'dodxi41y1cåêis': 16978, 'lyrically': 16979, 'hlmyaanrc9': 16980, 'breaking411': 16981, 'onlvf2fyoy': 16982, 'im6m4xaen2': 16983, 'devastates': 16984, 'fcujsioyqo': 16985, 'bobbyxfisher': 16986, 'canadian': 16987, 'timing': 16988, 'dislike': 16989, 'femnism': 16990, 'r7pvtsduma': 16991, 'kyee': 16992, 'nockthie': 16993, 'hamlet': 16994, 'taungbazar': 16995, 'buthidaung': 16996, 'severely': 16997, 'kasitaroch': 16998, 'vivianunhcr': 16999, 'spends': 17000, 'srslcxhc2t': 17001, 'mugged': 17002, 'jrxgolnpqw': 17003, 'lin16kvzbn': 17004, '688': 17005, 'y7peto0dx2': 17006, 'aul': 17007, 'sammysosita': 17008, 'ciggs': 17009, 'infantry': 17010, 'lume': 17011, 'dial': 17012, 'analog': 17013, 'hep9k0xghb': 17014, '80ebvglmra': 17015, 'uavfrtlfs4': 17016, '85g1pcccxg': 17017, 'saltriverwildhorses': 17018, 'ikuayuseqt': 17019, 'bqbhuyfme9': 17020, 'soonergrunt': 17021, 'cjrssry1rt': 17022, 'demco': 17023, '8550013': 17024, 'hitch': 17025, '21k': 17026, 'ultra': 17027, 'hrdwgfbfyq': 17028, 'nuohkmpzfj': 17029, 'wtafaepukz': 17030, 'esn': 17031, 'cilla': 17032, 'f7a66diiyk': 17033, 'freediscountbks': 17034, 'axvqldtehc': 17035, 'amreading': 17036, 'playingnow': 17037, 'bloodbound': 17038, 'dly6ruusqk': 17039, 'randy': 17040, 'irwin': 17041, 'k14q8chwkp': 17042, 'che': 17043, 'guevara': 17044, 'gljbnsfgll': 17045, 'bfthahlcr0': 17046, 'ee8rpoahpk': 17047, 'goetjgihop': 17048, 'jamilazzaini': 17049, 'alifaditha': 17050, 'mathew': 17051, 'is': 17052, 'z3ke': 17053, 'sk1': 17054, 'saladinahmed': 17055, 'pianohands': 17056, 'sacrifice': 17057, 'dwilliams313': 17058, 'ieansquad': 17059, 'nu6wrp716d': 17060, 'hse': 17061, 'h4usheekxm': 17062, 'jnhnx3oisn': 17063, 'u3wao8asfg': 17064, 'hc6hzs4wsi': 17065, 'twoptwips': 17066, 'sifting': 17067, 'sayzt2oagm': 17068, 'nicolekidman': 17069, 'oprah': 17070, 'grubbing': 17071, 'kike': 17072, 'cluei': 17073, 'telekinesis': 17074, 'glosblue66': 17075, 'wisdomwed': 17076, 'bonus': 17077, 'lifehacks': 17078, 'tbm9fqb8cw': 17079, 'kallemattson': 17080, '3w6sea9tuv': 17081, 'gazans': 17082, 'jw3hn9ewft': 17083, 'presstv': 17084, 'nywrkrq7kn': 17085, 'scam': 17086, 'sarcastic': 17087, 'bangalore': 17088, 'of3q75fgeu': 17089, 'condenses': 17090, 'villa': 17091, 'mcv': 17092, 'fd9dzspugk': 17093, 'hdjs9rntj4': 17094, 'rku0idm6aq': 17095, 'implode': 17096, 'lwdcrpehtn': 17097, 'mj8rezoxlj': 17098, 'dysfunctional': 17099, 'mcconnell': 17100, 'judicial': 17101, 'nomination': 17102, 'govern': 17103, 'vt2aky5mgk': 17104, 'infrastructure': 17105, 'ngehhg9yga': 17106, 'purified': 17107, 'pale': 17108, 'moonlight': 17109, 'derives': 17110, 'vincent': 17111, 'peale': 17112, 'vxegcmmvbv': 17113, 'collar': 17114, 'worldwatchesferguson': 17115, 'govjaynixon': 17116, 'clairecmc': 17117, 'v5ogr3f5n9': 17118, 'gamefeed': 17119, 'gx1kz3c2tc': 17120, 'videogame': 17121, 'himeruisu': 17122, 'shove': 17123, 'muffle': 17124, 'puezv6bd37': 17125, 'brbrs': 17126, 'fousey': 17127, 'stormbeard': 17128, 'juda': 17129, 'astonishing': 17130, 'indexing': 17131, 'remedial': 17132, 'angioplasty': 17133, 'dissertation': 17134, 'dismayed': 17135, 'vgvjgr8zoo': 17136, 'enca': 17137, 'onboard': 17138, 'dno7qxcffh': 17139, 'davidvitter': 17140, '2003': 17141, 'ltf6jl5keu': 17142, 'zlq8thctkw': 17143, 'scarier': 17144, 'structuring': 17145, 'edcxo': 17146, 'christiec733': 17147, 'na0ptn0dtr': 17148, 'scored': 17149, '111020': 17150, 'squeaky': 17151, 'skull': 17152, 'aetgbxm1pl': 17153, 'thelegendblue': 17154, 'cozmo23': 17155, 'ascend': 17156, 'tiyulif5c6': 17157, 'magnitude': 17158, 'av2jsjfftc': 17159, 'supremacist': 17160, 'anders': 17161, 'breivik': 17162, 'unsurprisingly': 17163, '1lxnjvl8tr': 17164, 'juliekragt': 17165, 'wildwestsixgun': 17166, 'stable': 17167, 'vsoxkbt6nq': 17168, 'html5': 17169, 'y32owbrovf': 17170, 'vr2u4cerw8': 17171, 'shite': 17172, 'plez': 17173, 'easternoregon': 17174, 'v6qxnfhrxf': 17175, 'since1970the': 17176, 'depreciation': 17177, 'usd': 17178, 'b4federal': 17179, 'wgqkxmby3b': 17180, '17egmlni80': 17181, 'morn': 17182, 'uhl0akfvsm': 17183, '1942': 17184, 'burberryant': 17185, 'saver': 17186, 'blazer': 17187, 'icrzi5tqc5': 17188, 'onxhkfhn2a': 17189, 'zj3odgqhyp': 17190, 'converting': 17191, 'vzhtibe4jh': 17192, '3x6rbqjhn3': 17193, 'xy41z0o5ei': 17194, 'pollster': 17195, '1fhrrhcimh': 17196, 'l5g2zj3kgg': 17197, 'saadthe': 17198, 'kpdied': 17199, '2007he': 17200, 'kppolice': 17201, 'h9v4howtip': 17202, '8icseshbj3': 17203, 'enemity': 17204, 'bishopfred': 17205, 'trade': 17206, 'um3wtl5r7k': 17207, '2lqyxzq5dn': 17208, 'mirad': 17209, 'c6lgtotvsf': 17210, '8owc41fmbr': 17211, 'talisman': 17212, 'keen': 17213, 'cristiano': 17214, 'mipasho': 17215, 'lxvlqvbc8r': 17216, 'cinla1964': 17217, 'windowgatribble': 17218, 'foreboding': 17219, 'expansive': 17220, 'saturation': 17221, 'hue': 17222, '53lorsrgqf': 17223, 'lax': 17224, 'zel': 17225, 'kno': 17226, 'frautrapani': 17227, '9z9hsmiavd': 17228, 'witnessed': 17229, 'cncpts': 17230, 'solelinks': 17231, 'willhillbet': 17232, 'adamtuss': 17233, 'climbing': 17234, 'vern': 17235, 'sq': 17236, 'grindhouse': 17237, 'screening': 17238, 'texaschainsawmassacre': 17239, '1wopsgbvvv': 17240, 'morbidmovies': 17241, 'ezeisasm0c': 17242, 'blower': 17243, 'tuffers': 17244, 'bbctms': 17245, 'episcopal': 17246, 'interracial': 17247, 'harrowing': 17248, 'harassment': 17249, 'rg4jishybs': 17250, 'lhpgxc4b8j': 17251, 'tux0ypwzur': 17252, 'tactful': 17253, 'direct': 17254, 'rzsulzmokx': 17255, 'ableg': 17256, 'cdnpoli': 17257, 'delany': 17258, 'dhalgren': 17259, 'beastly': 17260, 'downing': 17261, 'yahoocare': 17262, 'imawesome7986': 17263, 'guiltygearxxacp': 17264, 'sk3l74flzz': 17265, 'anutoopkf4': 17266, 'ajtxuafoem': 17267, 'kabwandi': 17268, 'cwm0ulqu3e': 17269, 'courage': 17270, 'awake': 17271, 'osbourne': 17272, 'remark': 17273, '7nagdsadwp': 17274, '9nyxjndora': 17275, 'trollingtilmeekdiss': 17276, 'empathy': 17277, 'anakin': 17278, 'wbc2015': 17279, '202': 17280, 'hqzfcxxrsb': 17281, '0vwpdizcko': 17282, 'traintragedy': 17283, 'jthusynjah': 17284, 'muppet': 17285, 'tattooed': 17286, 'arkansas': 17287, 'nola': 17288, 'johnsontionne': 17289, 'maatmhi': 17290, 'hr88cwxpgz': 17291, 'goodell': 17292, 'ucnckrnlow': 17293, '250000': 17294, 'lxjjgyv86a': 17295, 'u9x3perxco': 17296, 'iamhorsefly': 17297, 'åêm': 17298, 'jd7rik7fx0': 17299, 'h6ngsw9a5b': 17300, 'modnao23': 17301, 'migraine': 17302, 'uppwxda4yd': 17303, 'kevin': 17304, 'chef': 17305, 'pasture': 17306, 'd9xvuvp9s6': 17307, 'chaboyyhd': 17308, 'yr67ugesrm': 17309, 'sidjsjdjekdjskdjd': 17310, '0vcsafx9by': 17311, 'mydrought': 17312, '2zvhx41i9v': 17313, 'humanityi': 17314, 'apologized': 17315, 'nuclearweapons': 17316, 'twykzn4rlc': 17317, 'tvyqczgjdy': 17318, 'sweetiebirks': 17319, 'mirrorlady2': 17320, 'slatukip': 17321, 'aside': 17322, 'modelbubbles': 17323, 'axhclfersu': 17324, 'realjaxclone': 17325, '3sth9lrbun': 17326, 'jqxm4gcqz3': 17327, 'nh1news': 17328, 'suspending': 17329, 'ser': 17330, 'id4qgqdnjq': 17331, 'tna': 17332, 'appease': 17333, 'morbid': 17334, 'destinationimpact': 17335, 'dccomics': 17336, 'imagecomics': 17337, 'darkhorsecomics': 17338, 'idwpublishing': 17339, 'enabling': 17340, 'psd': 17341, '9xo9mkqqsi': 17342, 'bp03eafewr': 17343, 'ftunlh6ddg': 17344, 'xwxbyhtuzc': 17345, 'wzedxefblg': 17346, 'hhs': 17347, 'selects': 17348, 'qmo1txxdkj': 17349, 'notion': 17350, 'seemly': 17351, 'narcissism': 17352, 'richhomeydon': 17353, 'swag': 17354, 'kpivxgjnqt': 17355, 'rjcaxjp4os': 17356, 'honeybunzgem': 17357, 'primalkitchen': 17358, 'gix1gaynxz': 17359, 'p93s2rfhx6': 17360, 'sedar': 17361, 'a2myutpdiq': 17362, 'xrskt0s9lz': 17363, 'babybackreeve': 17364, 'njrjxqbjr4': 17365, 'steveycheese99': 17366, 'mapmyrun': 17367, 'kellkane': 17368, 'narrowly': 17369, 'expo': 17370, '14th': 17371, 'keith': 17372, 'yh4r7ug21a': 17373, 'flqxd3q5py': 17374, 'k9cd0efvut': 17375, 'unprepared': 17376, 'emp': 17377, 'posse': 17378, 'recordand': 17379, 'njmidysxof': 17380, 'abc7chicago': 17381, '1h7zk6uyze': 17382, 'angusmacneilsnp': 17383, 'embarrassed': 17384, 'indy': 17385, 'ajzy19vepu': 17386, 'osama': 17387, 'mhmmm': 17388, 'starmade': 17389, 'stardate': 17390, 'planetary': 17391, 'i2hhviumtm': 17392, 'curl': 17393, 'wyokt0ftrw': 17394, 'jzgxwrgfqg': 17395, 'majesty': 17396, 'salman': 17397, 'unstoppable': 17398, 'bajrangi': 17399, 'bhaijaan': 17400, 'crosed': 17401, 'hunterston': 17402, 'process': 17403, 'smithereens': 17404, 'cxb55h37jn': 17405, 'rascal': 17406, 'flatts': 17407, 'h6tyysgr30': 17408, 'fkhanage': 17409, 'shad': 17410, 'forsythe': 17411, '0usdi5jcho': 17412, 'xyg7jhrjof': 17413, 'gypsy': 17414, '66yvulizbk': 17415, 'nycdivorcelaw': 17416, 'algae': 17417, 'bloom': 17418, 'alska': 17419, 'seeweed': 17420, 'caribean': 17421, 'inhofe': 17422, 'bjjoifzuhl': 17423, 'iywzallsn4': 17424, 'gut': 17425, 'deutsch': 17426, 'monarchy': 17427, 'rjju70rhyu': 17428, 'skarletan': 17429, '4bcqzqjrzn': 17430, 'su': 17431, 'kabk3tcjnl': 17432, 'umanaahwmi': 17433, 'bloodbath': 17434, 'introducing': 17435, 'bnnidfzwbd': 17436, 'ohmyloz': 17437, 'rondarousey': 17438, 'lizbon': 17439, 'kidicalmassdc': 17440, 'breakdown': 17441, 'kinetic': 17442, 'typography': 17443, 'fl8gci84aj': 17444, 'dvonwiv3l1': 17445, 'shoutout': 17446, 'xqmjhiozxg': 17447, 'marketingåêmediocrity': 17448, 'ilq0wqj0xs': 17449, 'aw1nytpwjr': 17450, '1960s': 17451, 'oryx': 17452, 'symbol': 17453, 'peninsula': 17454, 'yangeqbuqw': 17455, 'jq2eh5kglt': 17456, 'greet': 17457, 'bask': 17458, 'warmth': 17459, 'bliss': 17460, 'finna': 17461, 'boutta': 17462, 'hurting': 17463, 'odai': 17464, 'bucharest': 17465, 'romania': 17466, 'pjigxpvpl0': 17467, 'tdeqwm8zxn': 17468, 'vibrator': 17469, 'vape': 17470, 'busted': 17471, 'touching': 17472, 'obtaing': 17473, 'transcription': 17474, 'butiqob': 17475, 'hamptonroadsfor': 17476, '9qnq45zduw': 17477, 'dhyljllrhl': 17478, 'halsey': 17479, 'troye': 17480, 'collab': 17481, 'vagersedolla': 17482, 'uuweikd7sp': 17483, '3g79prayyc': 17484, 'topnews': 17485, 'starve': 17486, 'beauscoven': 17487, 'debbie': 17488, 'coated': 17489, 'layer': 17490, 'grit': 17491, 'hvjmuualxv': 17492, 't8nz6h9zz4': 17493, 'alumrgl40e': 17494, '8h2kctfb8i': 17495, 'delhi': 17496, 'h6pm1w7ell': 17497, 'iknyok9zzr': 17498, 'qckqcx4hw9': 17499, 'p5zicjudxo': 17500, 'kzhb8zx6yc': 17501, 'pmhmmkspaq': 17502, 'ps1': 17503, 'platinum': 17504, 'deals': 17505, '0gknpy4lua': 17506, 'tailor': 17507, 'kay': 17508, 'robbed': 17509, '8rabhqrth5': 17510, 'collideworship': 17511, 'vnzybfgzcm': 17512, 'fitz': 17513, 'tantrum': 17514, 'pwd5l0glkv': 17515, 'thomasvissman22': 17516, 'keithyyl': 17517, 'keithyy': 17518, 'dlkuftlqnf': 17519, 'jonas': 17520, 'pfvzvpxqgr': 17521, 's61': 17522, '231a': 17523, 'index': 17524, 'icd10': 17525, 'ûªarabia': 17526, 'aseer': 17527, 'pmtqhivsxx': 17528, 'whaley': 17529, 'ofclans': 17530, 'tcsolvwhxq': 17531, 'wpgvayfkbq': 17532, 'damatu': 17533, 'rzxqssun02': 17534, 'torro': 17535, 'loco': 17536, 'phfoeozyps': 17537, 'likwqhshhx': 17538, 'e7shtylbnl': 17539, 'r1cnsjuayq': 17540, 'dq1ylcrf9k': 17541, 'vvorm': 17542, 'news4buffalo': 17543, 'guardrail': 17544, 'smallforestelf': 17545, 'umm': 17546, 'f7ljwxj5jp': 17547, 'devise': 17548, '42mawzb8t9': 17549, 'kessler': 17550, 'exponential': 17551, 'proliferation': 17552, 'gravitymovie': 17553, 'freddie': 17554, 'sippin': 17555, 'fairx818x': 17556, 'playoverwatch': 17557, 'blizzardcs': 17558, 'zkkn6mse1n': 17559, 'fzhjf8bxld': 17560, '4zsxjgv7it': 17561, 'mnh6fxhodb': 17562, 'soonermagic': 17563, 'summons': 17564, 'pokemon': 17565, 'yohvuwumzs': 17566, 'definition': 17567, 'beconfident': 17568, 'rhiannon': 17569, 'hungover': 17570, 'uhmmmm': 17571, 'klitschko': 17572, 'jszzqst3xs': 17573, 'talkmc': 17574, 'thesmallclark': 17575, 'trigger': 17576, 'c5u9qshhnb': 17577, '9vd6x4wdoy': 17578, 'rgj': 17579, 'kaf3wdrmtn': 17580, 'wuh1g2blp1': 17581, 'shingal': 17582, 'ezidigenocide': 17583, 'q4l7dg56jm': 17584, 'fascinating': 17585, 'propaganda': 17586, 'e2dbcpwd9u': 17587, 'rewatchingthepilot': 17588, 'teamscorpion': 17589, 'costing': 17590, 'apiece': 17591, 'dtdidinqyf': 17592, 'grh7zlk979': 17593, 'bonn1egreer': 17594, 'propelled': 17595, 'jorge': 17596, '0nr4dpjgyl': 17597, 'ttw': 17598, 'bumzvmwam3': 17599, 'pe2r3ln16o': 17600, 'markoturner': 17601, 'annaciclismo': 17602, '5kfovovjso': 17603, 'incitement': 17604, 'beinart': 17605, 'ot2oooedts': 17606, 'freemarketeer': 17607, 'dibang': 17608, 'azovgv4sb6': 17609, 'slows': 17610, 'p0gos5urxg': 17611, 'orxdqfz0j0': 17612, 'wd9odwjj9l': 17613, 'literarycakes': 17614, 'm6lvkxl9ii': 17615, 'qu1iug3e9r': 17616, 'choke': 17617, 'tube4nbqnz': 17618, 'gfdhfmpcel': 17619, 'ijobz3mzp0': 17620, 'jdavis': 17621, 'tweet4taiji': 17622, 'worship': 17623, 'anthxvy': 17624, 'ffa': 17625, 'foodstand': 17626, 'fairground': 17627, 'marek1330': 17628, 'zar': 17629, 'cringes': 17630, 'marek': 17631, 'toss': 17632, 'ronge': 17633, 'sask': 17634, 'urogyn': 17635, 'mesh': 17636, 'offender': 17637, 'npoqlkqup9': 17638, 'meshnewsdesk': 17639, 'rvmmut3gvc': 17640, 'algeria': 17641, '48zg5ynebn': 17642, 'plotted': 17643, 'micjnpuhg0': 17644, 'multidimensional': 17645, 'vddi5chktp': 17646, 'assumes': 17647, 'mafireems': 17648, 'qufwxrjiql': 17649, 'kcarosawmur': 17650, 'tipster': 17651, 'pfsryjs1pc': 17652, 'skdbot7tgf': 17653, 'cxi82rfifs': 17654, 'knowledge': 17655, 'foolish': 17656, 'wisdom': 17657, 'amsal': 17658, 'gbctmhx7pw': 17659, 'tyjxrfd3st': 17660, 'hollyorange8': 17661, 'cgfzk8ha1r': 17662, 'niallhariss': 17663, 'vain': 17664, 'iahjj0agq6': 17665, 'f2tqmfh1yb': 17666, 'cher': 17667, 'dubloadz': 17668, 'droppd': 17669, 'meelllttting': 17670, 'vxsqpfe9na': 17671, 'cramming': 17672, 'to0bpieyms': 17673, 'motordom': 17674, 'lobbied': 17675, 'visionzero': 17676, 'cavb7pgepv': 17677, 'slc27emugm': 17678, 'stiiilo': 17679, 'meisnkv5tb': 17680, 'coppednews': 17681, 'wx11d69gez': 17682, 'wsoc': 17683, 'djufkrrtft': 17684, 'fo': 17685, '7evyelw4lc': 17686, '214904': 17687, '139055': 17688, 'hilversum': 17689, 'dumping': 17690, 'ledmvezcol': 17691, 'organism': 17692, 'sume5pro0f': 17693, 'yllqjljiiq': 17694, '10m': 17695, '2baxg1wdpp': 17696, 'ordained': 17697, 'spurgeon': 17698, '25sy9y295l': 17699, 'stefano': 17700, 'mbataweel': 17701, 'binladen': 17702, 'fandom': 17703, '3ife1zsop7': 17704, 'aphl': 17705, 'cgdj3drso9': 17706, 'a2tiivnjdy': 17707, 'fw2xifj6ec': 17708, 'thisisfaz': 17709, 'kefxtjtakb': 17710, 'winkie': 17711, 'directing': 17712, 'recognition': 17713, 'creek': 17714, 'lyxnjlxl8s': 17715, 'cxyfqn3ue4': 17716, 'twi': 17717, 'ryeqmxirj8': 17718, 'manchesterlite': 17719, 'capeann': 17720, 'seagull': 17721, 'triciaoneill': 17722, 'triciaoneillphoto': 17723, 'ols6qdi9um': 17724, 'chiasson': 17725, 'coloradoavalanche': 17726, '2bk7lagma9': 17727, 'bkdgcfsuiq': 17728, 'cnni': 17729, 'prisonplanet': 17730, 'noting': 17731, '0szwlwl9qu': 17732, '0mnpcer9no': 17733, 'can': 17734, 'kaldi': 17735, 'u6isxv2f3v': 17736, 'wiedemer': 17737, 'wztz4hgmvq': 17738, 'squeezed': 17739, 'blubber': 17740, 'keeponrockin': 17741, 'strawberrysoryu': 17742, 'suspicious': 17743, 'quiet': 17744, 'phandom': 17745, 'generous': 17746, 'ms8e8mnddb': 17747, 'thedailybeast': 17748, 'v4': 17749, 'ulupxyzjwv': 17750, 'rvacchianonydn': 17751, 'adamantly': 17752, 'opposed': 17753, 'misguided': 17754, 'imprison': 17755, 'remote': 17756, 'ki9ehjhl8y': 17757, 'cnmi': 17758, '2slow2report': 17759, 'tqh5amoknd': 17760, 'goof': 17761, 'guild': 17762, 'saunders': 17763, 'hkbxxvd9iw': 17764, 'purported': 17765, 'swvuzxi6gt': 17766, 'moa0q0aufa': 17767, 'nkou7zwwrt': 17768, 'crpo9dkw9v': 17769, 'dialta6t69': 17770, 'zoepzsoky1': 17771, 'xomi4zqzgp': 17772, '0m1tw3datd': 17773, 'keith44': 17774, 'hannomottola': 17775, 'trpreston01': 17776, 'mlrydalch': 17777, 'crcn8rwvkj': 17778, 'spy': 17779, 'vbhu2t8wgb': 17780, 'bradley': 17781, 'diebold': 17782, 'epileptic': 17783, 'unsayjdtu7': 17784, 'meditationbymsg': 17785, '45600': 17786, 'meditation': 17787, 'divine': 17788, 'vmf5lnxvzc': 17789, 'raychielovesu': 17790, 'lemonade': 17791, 'semi': 17792, 'sammy': 17793, 'kfc': 17794, 'tremont': 17795, 'fpkiqbus9r': 17796, 'cvinch': 17797, 'waow': 17798, 'stacy': 17799, 'lawx': 17800, 'u0sykowvwv': 17801, 'stw3pg3t0o': 17802, 'carolinagutierr': 17803, 'navigate': 17804, 'audit': 17805, 'je86vetdxh': 17806, 'penneys': 17807, 'ou1m9chznq': 17808, 'goooooooo': 17809, 'fz5ew4ihmb': 17810, 'overboard': 17811, 'tonyabbottmhr': 17812, 'ugzu9iqprw': 17813, 'nwsbayarea': 17814, 'lodormtfsq': 17815, 'ibsvy2r3ph': 17816, 'takin': 17817, 'lknu8902je': 17818, 'haydnexists': 17819, 'wedgie': 17820, 'qqskybarng': 17821, 'cspanwj': 17822, '0tslqjokvh': 17823, 'rvkyj3yuvk': 17824, 'elvis': 17825, 'presley': 17826, 'panther': 17827, 'shuffle': 17828, 'legend': 17829, 'arabic': 17830, 's0ktiliskq': 17831, 'yvo6q6w442': 17832, 'explicitly': 17833, 'qadrkejz9t': 17834, 'roofer': 17835, '6mf7eyzoaw': 17836, 'i2el5acrrw': 17837, 'jdkqc12tid': 17838, 'gdjtzkpchk': 17839, 'garage': 17840, 'propane': 17841, 'sunnymeade': 17842, 'administrative': 17843, 'mt029qj4ig': 17844, 'soultech': 17845, '8xixbspot8': 17846, 'trending': 17847, 'ruler': 17848, 'informant': 17849, '93infxzhx0': 17850, 'fco': 17851, 'tobias': 17852, 'ellwood': 17853, 'condemns': 17854, 'c3w95h0ozz': 17855, 'pen': 17856, 'publication': 17857, '9fxpixqujt': 17858, 'lightumupbeast': 17859, 'benstracy': 17860, 'uwijmegl4e': 17861, 'xqiadg9h2w': 17862, 'ypeelmjdzy': 17863, '7cehnv3dky': 17864, 'fox5newsdc': 17865, 'ox3qb15lwq': 17866, '8u07foqjzw': 17867, 'tg5fqc8zey': 17868, 'retirement': 17869, 'bookmobile': 17870, 'l2nmywrmq2': 17871, 'sj57boksib': 17872, 'storen': 17873, 'curing': 17874, 'disrespect': 17875, 'pwwpum6rbj': 17876, 'yspon4d6qo': 17877, 'lovemywife1983': 17878, 'shedid': 17879, '4the': 17880, 'washard': 17881, 'stopping': 17882, 'brobread': 17883, 'oi6cmagasi': 17884, 'fnpdjwvw1j': 17885, 'cardboard': 17886, 'heartwarming': 17887, 'colinhoffman29': 17888, 'sayed': 17889, 'ridha': 17890, 'amin': 17891, 'akh': 17892, 'congratulation': 17893, 'capturing': 17894, 'besieged': 17895, 'indiscriminate': 17896, 'rbcinsurance': 17897, 'existant': 17898, 'planing': 17899, 'constellation': 17900, 'gaia': 17901, 'drumstep': 17902, '7le5gq2psx': 17903, '9km': 17904, 'rhxmghspd7': 17905, 'jj': 17906, 'dirty': 17907, 'mlstransfers': 17908, 'greggmair': 17909, 'gio': 17910, 'skc': 17911, 'nycfc': 17912, 'sweated': 17913, 'nagel': 17914, 'vicken52': 17915, 'basedlarock': 17916, 'goonc1ty': 17917, 'fs012trudg': 17918, 'yahootv': 17919, 'bardissimo': 17920, 'faked': 17921, '10muey8pxj': 17922, 'miubkz77m6': 17923, 'mustachemurse': 17924, 'dateswhitecoats': 17925, 'mocked': 17926, 'zodiac': 17927, 'trey': 17928, 'dupree': 17929, 'sparkz': 17930, 'beatz': 17931, 'chuck': 17932, 'hdkd9j2lw0': 17933, '7lvgcmyiyj': 17934, '0xcb7yeqmw': 17935, 'wsvr1686b': 17936, 'hull': 17937, 'runabout': 17938, '8prnhrhb2t': 17939, 'oahlthrozy': 17940, 'tayiorrmade': 17941, 'megatronafc': 17942, 'ubfr1urafc': 17943, 'alnv51d95x': 17944, 'scrambledeggs': 17945, 'kia': 17946, 'aspiring': 17947, 'omjmtu9kfg': 17948, 'hay': 17949, 'masonite': 17950, 'wahpeton': 17951, 'kw3vq4nijq': 17952, 'nieuws': 17953, '8lkmwp9qzw': 17954, 'ntswuayeji': 17955, 'wgefbuk4jk': 17956, 'shopping': 17957, 'l0pmmtzlwp': 17958, 'thoutaylorbrown': 17959, 'foodborne': 17960, 'frackfreelancs': 17961, 'deccgovuk': 17962, 'frackfree': 17963, 'tarleton': 17964, 'jsccx8k0ja': 17965, 'aiginsurance': 17966, 'divestiture': 17967, 'q2': 17968, '2y2wzk1frm': 17969, 'bkpfpogysi': 17970, '22days': 17971, 'wdym': 17972, 'shitton': 17973, 'exclusively': 17974, 'playthrough': 17975, 'sirensicebreaker': 17976, 'hpljur0obo': 17977, 'roughdeal1': 17978, 'hudhud': 17979, 'chandrababu': 17980, 'valle': 17981, 'recovered': 17982, 'airasia': 17983, 'tasted': 17984, 'writes4coffee': 17985, 'sto58qa94c': 17986, 'iartg': 17987, 'rwa': 17988, 'tw4rw': 17989, 'rrbc': 17990, 'cocktail': 17991, 'verde': 17992, 'mezcal': 17993, 'chartreuse': 17994, 'cucumber': 17995, 'bitter': 17996, 'reuosjek4m': 17997, '9zmwt9xydz': 17998, 'caneyttwev': 17999, 'jaxhzjccd4': 18000, '2y9dnp5vtg': 18001, '6xul6dcosh': 18002, '7npbfrzejl': 18003, 'y0kbyy8nce': 18004, 'tm9zbhjcyf': 18005, 'zach': 18006, 'galifianakis': 18007, 'farce': 18008, 'tq3j2qgtzq': 18009, 'fllabzgcrc': 18010, 'liv': 18011, 'oliviaapalmerr': 18012, 'thatswhatfriendsarefor': 18013, 'sb57': 18014, 'deepwater': 18015, 'distribution': 18016, 'dkpsrkg6pc': 18017, 'm5sbfrrsn7': 18018, '6aimd1uway': 18019, '9cgbjwmhii': 18020, 'anthelmintic': 18021, 'drawing': 18022, 'kcrw': 18023, '6agmkx2ww4': 18024, 'kou': 18025, 'myrtlegroggins': 18026, 'gasp': 18027, 'kukmal605a': 18028, 'policylab': 18029, 'cecanf': 18030, 'neglect': 18031, 'n2cy3z4tpb': 18032, 'su4zvwadj7': 18033, 'regress': 18034, 'ctafails': 18035, '1udz0nvoeh': 18036, '5uecmcv2pk': 18037, 'ootd': 18038, 'doubleghats': 18039, 'jsuhupz6vp': 18040, 'n5vrffrbo3': 18041, 'hakogaku': 18042, 'åêi': 18043, 'obp595w7tm': 18044, 'forestservice': 18045, 'dhsscitech': 18046, 'ûówe': 18047, 'kybqcsvrza': 18048, 'ih49kymsmp': 18049, 'edekrmqtpq': 18050, 'graph': 18051, 'ulxf6dq3ns': 18052, 'comcastcares': 18053, 'happing': 18054, 'brace': 18055, 'depressed': 18056, 'hexpc77otn': 18057, 'bjycrgfh5y': 18058, '8000': 18059, 'x1xj0xvtj7': 18060, 'sourmashnumber7': 18061, 'tomfromireland': 18062, 'rfcgeom66': 18063, 'bbctalkback': 18064, 'succeed': 18065, 'peacetime': 18066, 'jsunnews': 18067, 's7nbowa7tp': 18068, '3f7owdecy7': 18069, 'pzotpdgaki': 18070, 'mrsbinker': 18071, 'emiliorivera48': 18072, 'davidlabrava': 18073, 'diesel': 18074, 'breed': 18075, 'pug': 18076, 'me': 18077, 'up': 18078, 'guk': 18079, 'sxqtyduvul': 18080, 'worldoil': 18081, 'subscription': 18082, 'kqvevuutdj': 18083, 'lfbdhtgqwg': 18084, 'moir': 18085, '2sgdofsmrq': 18086, 'xlegc6uora': 18087, 'kiddo': 18088, 'sang': 18089, 'raabchar': 18090, 'drphil': 18091, 'morganlawgrp': 18092, 'inflict': 18093, 'consistent': 18094, 'dimension': 18095, 'wz55nbyao3': 18096, 'l7pmdmejs1': 18097, 'mdp2ni1pqu': 18098, 'fitba': 18099, 'cw500': 18100, 'jq9nj6gko3': 18101, 'railed': 18102, 'deepthoughts': 18103, 'trynna': 18104, 'gritty': 18105, 'amico': 18106, 'amicospizzato': 18107, 'seeyouatamicos': 18108, 'mz8vqxbkts': 18109, 'exil1bkzmp': 18110, 'ehomn68ojb': 18111, 'wheat': 18112, 'trespass': 18113, 'lest': 18114, 'hometown': 18115, 'bsrerjby0i': 18116, 'ciyty0fgpr': 18117, 'wpilp4mymf': 18118, '8nhd9idajs': 18119, 'noel': 18120, 'ensuing': 18121, 'wbcshirl2': 18122, 'doessnt': 18123, 'rejoice': 18124, 'ect': 18125, 'rlftjmhhvt': 18126, 'awxr24zsqh': 18127, 'o9a26fn27y': 18128, '5uftrxppv0': 18129, 'burma': 18130, 'enduring': 18131, 'telegraphworld': 18132, 'mmmm': 18133, 'mmiye1k8zz': 18134, 'theburnageblue': 18135, 'i9dspdkruk': 18136, 'nep5azwkna': 18137, 'hxdg254dho': 18138, 'anime': 18139, 'bcldqmmehg': 18140, 'occasion2b': 18141, 'bs6xaqhsim': 18142, 'slash': 18143, '5dj6chjfzp': 18144, 'arcade': 18145, 'cte': 18146, 'overpriced': 18147, 'osp': 18148, 'mounting': 18149, 'ymp0ginwza': 18150, 'fyioqvioif': 18151, 'exznmxbinj': 18152, 'baileysmsteach': 18153, 'ahhh': 18154, 'perrychat': 18155, 'pl2vzlrkvk': 18156, 'hunted': 18157, 'competitive': 18158, 'ss1zl36y9v': 18159, 'neces': 18160, 'tls40nqipn': 18161, 'todayngr': 18162, 'fel': 18163, 'zakuun': 18164, 'x1onv3d5ux': 18165, 'beet': 18166, 'luigmhma1i': 18167, 'usg': 18168, 'paeds': 18169, 'imaging': 18170, 'foamed': 18171, 'foamcc': 18172, '6lojoorouk': 18173, 'kgb': 18174, 'cossack': 18175, 'bla42rdt1o': 18176, 'einsqs8tfq': 18177, 'yosemite': 18178, 'sam': 18179, 'drumpf': 18180, 'ûïnobody': 18181, 'rabbit': 18182, 'blowin': 18183, '6hhmbdk9yo': 18184, 'hsu': 18185, 'hao': 18186, 'qave': 18187, 'knowlddge': 18188, 'cj76k0yayj': 18189, 'waved': 18190, 'misled': 18191, 'xzv0lt9zzk': 18192, 'gl6eejyjky': 18193, 'wqtdnp3w5a': 18194, 'bjzssw4tid': 18195, 'mauds99': 18196, 'jagexsupport': 18197, 'ush59uq30j': 18198, 'kinkyconnors': 18199, 'announce': 18200, 'dull': 18201, 'monotonous': 18202, 'gzmoblsjxu': 18203, '5cgtqfk2ur': 18204, 'smelling': 18205, 'bon': 18206, 'more': 18207, 'gyh00mrkjm': 18208, 'blink': 18209, 'd4c2iqirnu': 18210, 'directed': 18211, 'gjfd85vuf2': 18212, 'alanhahn': 18213, 'hdumpty39': 18214, 'daughtery': 18215, 'factual': 18216, 'attached': 18217, 'forrestmankins': 18218, 's0vgtkhw7v': 18219, 'merycormier': 18220, 'cosima': 18221, 'shay': 18222, 'disciplinary': 18223, 'measure': 18224, 'lwilliams': 18225, 'ocnj': 18226, 'jzprciqa9d': 18227, 'reizei': 18228, 'sama': 18229, 'rindou': 18230, 'stacdemon': 18231, 'mullin': 18232, 'nmrvthkvah': 18233, 'sjubb': 18234, 'freya': 18235, 'molina036': 18236, 'milioooo': 18237, 'emilio': 18238, 'arobotlegion': 18239, 'oppressed': 18240, 'ignorant': 18241, 'setting4success': 18242, 'smallbusiness': 18243, 'gfs7usulgq': 18244, 'dudairbbpo': 18245, 'padosfyxnm': 18246, 'eazzy': 18247, 'warranted': 18248, 'jap': 18249, 'donnie': 18250, 'maailiss': 18251, '4o460fm8hn': 18252, 'vscpgmsjxy': 18253, 'lifeaintfairkid': 18254, 'brooo': 18255, 'thatsabinegirl': 18256, 'dose': 18257, 'ks100': 18258, '7o4lnfbe7k': 18259, 'fvzsgjtbew': 18260, 'mortar': 18261, 'pestle': 18262, 'nzrwddlntp': 18263, '7huen4rwrn': 18264, 'destinythegame': 18265, 'bungie': 18266, 'xwoevmk0aa': 18267, 'atåêcinema': 18268, '5ng0fzpvds': 18269, 'wjwyjbncat': 18270, '0erisq25kt': 18271, 'lincoln': 18272, 'bti8jamfiu': 18273, 'y3zfqjsvpz': 18274, 'darrylb1979': 18275, '2017': 18276, '2019': 18277, 'c5ggszugw1': 18278, '2pimg9bice': 18279, 'wukcalnqms': 18280, 'anodgxzr3e': 18281, 'achievement': 18282, 'replaced': 18283, 'reboot': 18284, 'bel': 18285, 'ttb9oil8r2': 18286, 'timesofindia': 18287, 'pharrell': 18288, 'scvsupremecourt': 18289, 'dismisses': 18290, 'quantum': 18291, 'aurugjegiq': 18292, 'l3w8mipvnt': 18293, 'o85m1bjfrw': 18294, 'nevada': 18295, 'exceptional': 18296, 'steady': 18297, 'nyo1xuebfa': 18298, 'droughtgov': 18299, 'w0a1mjorhy': 18300, 'hw18': 18301, 'keeping': 18302, '2fast2furious': 18303, 'ashville': 18304, '752': 18305, 'hylmo0wgfi': 18306, 'gxyivswki7': 18307, 'catholicism': 18308, 'homophobia': 18309, 'tt': 18310, 'kettlebell': 18311, 'lopez': 18312, 'hindsight': 18313, 'jhmnye': 18314, 'jobvbvkfnz': 18315, 'c8zpmzhtde': 18316, 'nikostar': 18317, 'abject': 18318, 'khd99oz7u3': 18319, 'sruj5zljgl': 18320, 'vdgfxyx3bw': 18321, 'ariana': 18322, 'iot': 18323, 'conserve': 18324, 'nnv3zwvant': 18325, 'carajdeievingnc': 18326, 'ratio': 18327, 'rabidmonkeys1': 18328, 'zt5ofbiwtd': 18329, 'bukidnon': 18330, 'z0hsckvysn': 18331, 'constitutional': 18332, 'politic': 18333, 'gfa3sow9zn': 18334, 'wonderousallure': 18335, 'z8ij8ktkyk': 18336, 'simmons': 18337, 'camden': 18338, 'handsome': 18339, '4jno677zkv': 18340, 'dl': 18341, 'symantec': 18342, 'xzvmzqus0x': 18343, 'alexandrian': 18344, 'baseballquotes1': 18345, 'dynasty': 18346, 'critically': 18347, 'vwz3vzpmfb': 18348, '293': 18349, 'eddy': 18350, '3a': 18351, 'okvsimogic': 18352, 'observation': 18353, 'pccwsgcyma': 18354, 'pornhub': 18355, 'gghfx8pzmh': 18356, 'descended': 18357, 'shadowed': 18358, 'crest': 18359, 'harshly': 18360, 'qdhxto57em': 18361, 'reflection': 18362, 'seeking': 18363, 'dxfqou4kt2': 18364, 'cjbanning': 18365, '4sake': 18366, 'argsuppose': 18367, 'individl': 18368, 'courtof': 18369, 'forbids': 18370, 'manly': 18371, '2327564d': 18372, 't1mbw0ia3o': 18373, 'clfa0py5lm': 18374, '2xmdidgpnr': 18375, 'jk7npdpwro': 18376, 'dannyraynard': 18377, 'aguero': 18378, 'berahino': 18379, 'annealiz1': 18380, 'ag65u29sgo': 18381, '9y0paj8sxd': 18382, 'oldjsowky5': 18383, 'bluebell': 18384, 'p9rymfjcux': 18385, 'famineåêmemories': 18386, 'sgecnkfthu': 18387, 'trained': 18388, 'urjwsvr311': 18389, '7jfreteii4': 18390, 'st9jpz8y24': 18391, 'reviving': 18392, 'biolab': 18393, 'dumbfounded': 18394, 'rujv4vpnbv': 18395, 'kiildu8gpo': 18396, 'crowdtappers': 18397, 'joinvroom': 18398, 'ohhhh': 18399, 'tangletalk': 18400, 'invincible': 18401, 'zntg2wndmj': 18402, 'nagaski': 18403, 'indyfest': 18404, 'audreyp77': 18405, 'teena': 18406, '797': 18407, 'darryl': 18408, 'brooks': 18409, 'elitesportsny': 18410, 'lopezandthelion': 18411, 'natsnation': 18412, 'msmiggi': 18413, 'presentation': 18414, 'kiranahmedd': 18415, 'kxy56fr8vm': 18416, 'legionna': 18417, 'rsv9atj9vh': 18418, 'punkblunts': 18419, 'sincerelyevelnn': 18420, 'cottage': 18421, '4d9cd4mnvh': 18422, 'unhqcq6bex': 18423, 'elitist': 18424, 'keeper': 18425, 'runnin': 18426, 'sworn': 18427, 'proven': 18428, 'financialtimes': 18429, 'receiving': 18430, 'ethiopia': 18431, '2fggzqn1v4': 18432, 'xehwmsh7lv': 18433, 'whocares': 18434, 'telemarketing': 18435, 'renamed': 18436, 'goonda': 18437, 'motley': 18438, 'selfavowed': 18439, 'crook': 18440, 'determined': 18441, 'scxfc5wi9t': 18442, 'gx1otoh8sj': 18443, 'nssjpr6pdd': 18444, 'caaaaaall': 18445, 'ritual': 18446, 'iniqzfyioi': 18447, 'blinker': 18448, 'benjm1': 18449, 'tourofutah': 18450, 'b1grego': 18451, 'becca': 18452, 'caitlyn99': 18453, 'jlu2j5qs8u': 18454, 'ocxbwgyft8': 18455, 'sami': 18456, 'zxcorq0a3a': 18457, 'behead': 18458, 'a6ppegelox': 18459, 'eurocrisis': 18460, 'ââ': 18461, 'bbm9sr1wow': 18462, '3460': 18463, 'limestone': 18464, 'ln': 18465, 'yellowstone': 18466, 'fieldstone': 18467, 'gwesgeszxv': 18468, 'critter': 18469, 'dxkt2shuj2': 18470, 'sgxp1u5ol1': 18471, 'treblinka': 18472, 'rebelled': 18473, 'seizing': 18474, 'cw': 18475, 'hoops': 18476, 'sa5cdwvdxt': 18477, 'rbbnjkoqud': 18478, 'remainontop': 18479, 'szmnextdoor': 18480, 'mumbling': 18481, 'cackling': 18482, 'esoteric': 18483, 'astrologian': 18484, 'poignant': 18485, 'mwmt3bdr5l': 18486, 'wowsavannah': 18487, 'collectible': 18488, 'throwin': 18489, '50ft': 18490, 'transgender': 18491, 'indiepopmom': 18492, 'aelinrhee': 18493, 'mascara': 18494, 'smeared': 18495, 'rdfaakkbnj': 18496, 'dawson': 18497, 'hhhvkxfaih': 18498, 'gastric': 18499, 'carcinoma': 18500, 'gene': 18501, 'allyinwondrland': 18502, 'trader': 18503, 'joes': 18504, 'wknd': 18505, 'ub3woz2ut1': 18506, 'inviting': 18507, '2z2htdjqzd': 18508, 'kmtwa3n1gf': 18509, 'o4xljnav8f': 18510, 'lomasvisto': 18511, 'devours': 18512, 'intersectio': 18513, 'qwtk1b2fmc': 18514, 'cadenadeseguidores': 18515, 'quotesttg': 18516, 'helios': 18517, 'qouxigdtbz': 18518, 'i0tvl15coz': 18519, 'igtxhapo0k': 18520, 'temecula': 18521, 'zr5rgbgh03': 18522, 'bayelsaåêstate': 18523, 'vh8qtbypzt': 18524, 'negotiating': 18525, 'remembers': 18526, 'schulz': 18527, 'disappears': 18528, 'lhbzhwq4b9': 18529, 'leicester': 18530, 'merc': 18531, 'hqewmreyso': 18532, 'y4y8fcljed': 18533, 'kasiakosek': 18534, 'onesie': 18535, 'recalled': 18536, '0pamznyyuw': 18537, 'mango': 18538, '3glyoyf6oc': 18539, 'glue': 18540, 'gnwt': 18541, 'rvsyxwj9cp': 18542, 'nepd': 18543, 'loyko': 18544, 'texan': 18545, 'std': 18546, 'slogan': 18547, 'charlesdagnall': 18548, 'rub': 18549, 'undone': 18550, 'adverse': 18551, 'gotriangle': 18552, 's7xdxuudcy': 18553, 'reporter': 18554, 'arzemsr7fq': 18555, 'ellenfromnowon': 18556, 'nexus': 18557, 'shifter': 18558, 'rjpjbwvfck': 18559, 'orangi': 18560, 'sindh': 18561, 'le4brduau9': 18562, 'stretched': 18563, 'igz7v24ge9': 18564, 'm75dnf2xyg': 18565, 'connor': 18566, 'franta': 18567, 'howell': 18568, 'v4smaeslk5': 18569, 'i10': 18570, 'eo': 18571, 'redlands': 18572, 'ft9kigmigh': 18573, 'itfbbz9xyc': 18574, 'x2qsjod40u': 18575, 'kacrlpjc0l': 18576, 'yjjbntcazy': 18577, 'georgous': 18578, 'cultural': 18579, 'sd': 18580, 'seanhannity': 18581, 'cooool': 18582, 'dallascowboys': 18583, 'cessna': 18584, 'ocampo': 18585, 'oia5fxi4gm': 18586, '81hvv3n3rs': 18587, 'icfql7i9op': 18588, 'lakh': 18589, 'cheated': 18590, 'octnpyueei': 18591, 'jannet2208': 18592, '7qpg80ud7v': 18593, 'martial': 18594, 'biuey7buts': 18595, 'jwqybe4ep1': 18596, 'eastwood77': 18597, 'knobhead': 18598, 'duvuzhmvut': 18599, 'lesleychappelle': 18600, 'sophieingle01': 18601, 'angharadjames16': 18602, 'banana': 18603, 'malt': 18604, 'loaf': 18605, 'worm': 18606, 'slain': 18607, 'mexican': 18608, 'unknowingly': 18609, 'qxhowcv16r': 18610, 'breitbartnews': 18611, 'capoeira': 18612, 'charleyisqueen': 18613, 'barber': 18614, 'obstacle': 18615, 'dontexpectnothing': 18616, 'tam6aoskoj': 18617, 'el24mnfchw': 18618, 'scseestapreparando': 18619, 'mag': 18620, '73km': 18621, 'khuzdar': 18622, 'wednes': 18623, 'i6lmccclv5': 18624, 'volcanodiscover': 18625, 'oldest': 18626, 'donthate': 18627, '8jymd9ypsj': 18628, '57pkmmcadg': 18629, 'jackman': 18630, 'downgraded': 18631, 'h31mmuduqt': 18632, 'xpddwh5tem': 18633, 'christopherszen': 18634, 'hunterlove1995': 18635, 'tblack': 18636, 'mthe': 18637, 'premise': 18638, 'stpoda901u': 18639, 'db7ft3yi6d': 18640, 'discussing': 18641, 'bsg': 18642, 'sufficiently': 18643, 'hyped': 18644, 'iggfnbixt5': 18645, 'star39': 18646, 'illegals': 18647, 'protected': 18648, 'harlan': 18649, '4ry6zhcpoq': 18650, 'mink': 18651, 'chaning': 18652, 'vivaargentina': 18653, 'emile': 18654, 'hirsch': 18655, 'filmmaker': 18656, 'e4qonkzndz': 18657, 'entretenimento': 18658, 'sel': 18659, 'oyy9mgw7hn': 18660, 'hinterestin': 18661, 'sfakqnveta': 18662, 'icaseit': 18663, 'mfi': 18664, 'b32jmvsb1e': 18665, 'xkmijgy59t': 18666, 'robertbenglund': 18667, 'broadcast': 18668, 'television': 18669, 'superv': 18670, 'preserve': 18671, 'ajw': 18672, 'x5jgkjv6ma': 18673, 'jishin': 18674, 'minamisoma': 18675, 'connects': 18676, 'jwfiilj8wr': 18677, 'liveleakfun': 18678, 'ionwarvrfy': 18679, 'anew': 18680, 'kyrikoni': 18681, 'expressandstar': 18682, 'veg': 18683, 'sinkingshipindy': 18684, 'scarlet': 18685, 'lenore': 18686, 'saison': 18687, 'stonebrewingco': 18688, 'maaaaan': 18689, 'tunisia': 18690, 'kurqlxfihl': 18691, 'darkreading': 18692, '8eijdxapnp': 18693, 'smb': 18694, 'relay': 18695, 'credential': 18696, 'wvobvvtxkg': 18697, 'sg1ftkaegq': 18698, 'millennium': 18699, 'plaza': 18700, 'layzba9y8h': 18701, 'rnqebaycvm': 18702, 'systematic': 18703, 'grahamwp': 18704, 'nv7rk63pgc': 18705, 'maxi': 18706, 'erws6ieldg': 18707, 'icy': 18708, 'rum': 18709, 'jxhazebnqk': 18710, 'slating': 18711, 'gpaulista5': 18712, 'jackwilshere': 18713, 'disgrace': 18714, 'ovary': 18715, 'rivalry': 18716, 'wogc': 18717, 'izaknpjeqw': 18718, 'fy30fv0qbx': 18719, 'elwoods': 18720, 'blazingelwoods': 18721, 'qyzpb1gkmr': 18722, 'raptor': 18723, 'beg': 18724, 'differ': 18725, 'rang': 18726, 'goodlook': 18727, 'patio': 18728, 'umbrella': 18729, 'flipped': 18730, 'jackholes': 18731, 'silas': 18732, 'sliced': 18733, 'headlinelike': 18734, 'chopped': 18735, 'cabbage': 18736, 'gh': 18737, 'scumper': 18738, 'fab': 18739, 'albertsons': 18740, 'cwhslmb8x9': 18741, 'gkprvzq6lk': 18742, 'rffpqbaz2f': 18743, 'xsx26oo16s': 18744, 'blossominglilac': 18745, 'marley': 18746, 'brinx': 18747, 'striptease': 18748, 'pounding': 18749, 'livemint': 18750, 'rptouz2ijs': 18751, '69mlhfefhr': 18752, 'allthenews': 18753, 'aatt5amnmd': 18754, 'weloverobdyrdek': 18755, 'adrian': 18756, 'clue': 18757, 'ih8udz8mq3': 18758, 'whimsy': 18759, 'lamb': 18760, 'intro': 18761, 'lem5z1nfk3': 18762, 'pea': 18763, 'tsaletftkt': 18764, '2oqsgzqlbz': 18765, 'jariana': 18766, 'cihc8nrc9h': 18767, 'ki1ykrs9fi': 18768, 'ihphzckm41': 18769, 'wuicdttuhf': 18770, 'redcoatjackpot': 18771, 'curse': 18772, 'countermoonbat': 18773, 'wexler': 18774, 'sanford': 18775, 'hardcover': 18776, 'kk0qfkgqcy': 18777, 'smc1ro09fs': 18778, 'oct': 18779, '1895': 18780, 'zckxtfc9pt': 18781, 'pleb': 18782, 'cameronciletti': 18783, 'tigersjostun': 18784, 'th9ywbbeet': 18785, 'oversee': 18786, 'butterlondon': 18787, 'crayon': 18788, 'ram0s': 18789, 'bbloggers': 18790, 'dsb3ldfuxu': 18791, 'splatoon': 18792, 'default': 18793, 'splattershot': 18794, 'sirbrandonknt': 18795, 'lesnar': 18796, 'cena': 18797, 'summerslam': 18798, 'langata': 18799, '22pm': 18800, '91jvycxxvi': 18801, 'fever': 18802, 'yxnagsqvbm': 18803, 'curry': 18804, 'herman': 18805, 'stephenson': 18806, 'overturned': 18807, 'ybjezkurw1': 18808, 'joked': 18809, 'cubstalk': 18810, 'cod8sandscrims': 18811, 'empirikgaming': 18812, 'codawscrims': 18813, '4tp': 18814, 'kotc': 18815, '4tpfa': 18816, 'twon': 18817, 'cityofkamloops': 18818, 'sec': 18819, 'kamloops': 18820, 'ta6n9szyfp': 18821, 'babysweet420': 18822, '420': 18823, 'interrogation': 18824, 'uwitvbsbnc': 18825, 'gnpstnvi5g': 18826, 'mbiwa': 18827, 'ufn': 18828, 'rtfirzcpoc': 18829, 'copped': 18830, 'briannafrost': 18831, 'paxton': 18832, 'igmpj': 18833, 'dangling': 18834, 'piercing': 18835, 'ocd': 18836, 'oer5hh41ew': 18837, 'thomassmonson': 18838, 'lds': 18839, 'mormon': 18840, 'canberra': 18841, 'fluffy': 18842, 'b77t2qxdcs': 18843, 'violentfeminazi': 18844, 'armenian': 18845, 'drag0nking0201': 18846, 'animatronics': 18847, 'cjqq6cgohg': 18848, 'thedoolinggroup': 18849, 'bordento': 18850, 'yqhfio9xqm': 18851, 'arkmc7vcln': 18852, 'pour': 18853, 'simpson': 18854, 'uyyyrkd6q3': 18855, '1buf0xm53d': 18856, 'andåêchina': 18857, '3og66nfsig': 18858, 'dantwitty52': 18859, 'shuts': 18860, 'eighth': 18861, 'convivted': 18862, 'bridgeport': 18863, 'burglar': 18864, '7mlcd0l0b8': 18865, 'nhxse3rthx': 18866, '6craekc9wb': 18867, 'contemplation': 18868, 'bridal': 18869, 'wiwnpfxa': 18870, 'xysnxum29t': 18871, 'kijima': 18872, 'hebrooon': 18873, 'formula': 18874, 'apd': 18875, 'qyccvuubkr': 18876, 'eioqjwgeix': 18877, 'argentina': 18878, 'm2y9ym3if6': 18879, 'fgdeh56plo': 18880, 'colnharun': 18881, '3tnuaciv3c': 18882, 'sakorgdqul': 18883, 'significance': 18884, 'certainty': 18885, 'tricky': 18886, 'dicky': 18887, 'miusvpxqte': 18888, '3ev07ppapn': 18889, 'mofanon': 18890, 'followlasg': 18891, 'urgentthere': 18892, 'storey': 18893, 'oworoshoki': 18894, 'mainland': 18895, 'tounge': 18896, 'pepperoni': 18897, 'tore': 18898, 'nzqwtcyidv': 18899, 'mht': 18900, 'mtfnbhryzq': 18901, 'l9ekhnkbar': 18902, 'cubc0nq6fd': 18903, 'ufo4ublogeurope': 18904, 'benaffleck': 18905, 'stil': 18906, 'cortezera': 18907, 'directory': 18908, 'balcony': 18909, 'rizzo': 18910, '4ssuyhkgrb': 18911, 'tderbtgz2k': 18912, 'casually': 18913, 'demo': 18914, 'kenosha': 18915, 'eyes': 18916, 'blowjob': 18917, 'cannibalism': 18918, 'masturbation': 18919, '0yaxrjicrr': 18920, 'jackperu1': 18921, 'nz': 18922, '0ajisa5531': 18923, 'hugomatz': 18924, 'doctordryadma': 18925, 'servicin': 18926, 'lurkin': 18927, 'ecd7hizja1': 18928, 'activision': 18929, 'cognizant': 18930, 'gknrp0e8qs': 18931, 'smirking': 18932, 'remorseless': 18933, 'boasting': 18934, 'fpjlwoxklg': 18935, 'motogp': 18936, 'indianapolis': 18937, 'espargaro': 18938, 'rny4l3sr7a': 18939, 'igx8xfz8ko': 18940, 'q6oxzq45ve': 18941, 'llegaste': 18942, 'tu': 18943, 'summervibes': 18944, 'pitmix': 18945, 'brixton': 18946, 'banksy': 18947, 'mybabies': 18948, '7vovktxspo': 18949, 'pbohanna': 18950, 'justaguess': 18951, '0fs9ksv5xk': 18952, 'optical': 18953, 'switzerland': 18954, 'eyevziopg1': 18955, 'bestie': 18956, 'chainsaw': 18957, 'windows10': 18958, '3fzidhqrk3': 18959, 'lolgop': 18960, 'fraud': 18961, 'vra50': 18962, 'suncorp': 18963, 'cwz37lndvk': 18964, 'razak': 18965, 'isla': 18966, 'fk1l4nozig': 18967, '8lcbdw7m2z': 18968, 'kaky4mpco4': 18969, '7dyoglhmre': 18970, 'hkm3rtd4zf': 18971, 'marynmck': 18972, 'adorable': 18973, 'snipe': 18974, 'slqnph34nt': 18975, '8960': 18976, 'driller': 18977, 'boxed': 18978, 'h7ldx29aba': 18979, 'soldi': 18980, 'obsz45ybaj': 18981, 'stray': 18982, 'stranger': 18983, 'qhfqlui6ry': 18984, 'reshareworthy': 18985, 'mqmcolwbzc': 18986, 'uncertain': 18987, '1rreo2jg9u': 18988, 'nckogwjq61': 18989, 'q4q8xsyzob': 18990, 'bre2lgmn7c': 18991, 'an247': 18992, 'qadufo8zxg': 18993, 'kunalkapoor': 18994, 'chaser': 18995, '4wjy7sehmw': 18996, 'pod': 18997, 'l0hhwb9lsz': 18998, 'rm50vcvjsh': 18999, 'ytw9slwvmg': 19000, 'createdunique23': 19001, 'keren': 19002, 'serpa': 19003, 'arianareed11': 19004, 'pcinc8ytfh': 19005, '31pm': 19006, 'h9i6mozask': 19007, 'overcome': 19008, 'behold': 19009, 'tcc': 19010, 'endless': 19011, 'eerkh8ljws': 19012, 'etuuyislhw': 19013, 'zhgu8ye1bj': 19014, 'roberts': 19015, 'nana': 19016, 'restlessness': 19017, 'panik': 19018, 'kelbytomlinson': 19019, 'hujvgsflus': 19020, '40mln': 19021, '0dxvz7fdh3': 19022, 'gailsimone': 19023, 'iwasdisappointedby': 19024, 'telltale': 19025, 'w00kjprfdr': 19026, 'mixl1pfrje': 19027, 'm9yda5k6jf': 19028, 'spyro': 19029, 'texture': 19030, 'csaresu': 19031, 'sdmrzgeryx': 19032, 'developing': 19033, 'symptom': 19034, 'rqkk15uhey': 19035, 'vl5tbr3wbr': 19036, 'slamming': 19037, 'rg9yaybosa': 19038, 'streetlight': 19039, 'conning': 19040, 'portfolio': 19041, 'diversification': 19042, '33fbr25t1o': 19043, 'agqo1479xm': 19044, 'songhey89': 19045, 'wsjthinktank': 19046, 'colleenmnelson': 19047, 'xyxtuaczvb': 19048, 'khyqqsi6my': 19049, 'g6vs3xeinb': 19050, 'dawabsha': 19051, 'erode': 19052, 'homegrown': 19053, 'q8n5tn8wme': 19054, 'bengston': 19055, 'ûïnumbers': 19056, 'upward': 19057, 'smem': 19058, 'galvnews': 19059, 'cm9tve2vsq': 19060, 'damsel': 19061, 'distress': 19062, 'peer': 19063, '5xrc0a76vd': 19064, 'amtalia': 19065, 'sgc72': 19066, 'opportunity': 19067, 'awtscucbbv': 19068, '129': 19069, 'pandemic': 19070, 'nbcvbso9nm': 19071, 'malabamiandsons': 19072, 'eggalie': 19073, 'deqqopsp4f': 19074, 'lbkvfqrpgt': 19075, '3rva5uvt0p': 19076, 'ioq051t5te': 19077, '629': 19078, 'klxaucnp5i': 19079, 'ehklp12yip': 19080, 'paci': 19081, 'rsf': 19082, 'gag': 19083, 'pyrbliss': 19084, 'dwarfonjetpack': 19085, 'cyzlshlqhg': 19086, 'ndis8f1vzt': 19087, 'bickleton': 19088, 'qi8qdw5dfg': 19089, 'belligerent': 19090, 'unfold': 19091, 'ogun': 19092, 'smuggler': 19093, 'shootoutåê': 19094, 'allegedly': 19095, 'puxbc2loyk': 19096, 'economics': 19097, 'hubert': 19098, 'humphrey': 19099, 'intriguing': 19100, 'dominant': 19101, 'jobbing': 19102, '1xssvgimvb': 19103, 'ibrahimmisau': 19104, '5zcje7arci': 19105, 'havxobcsvu': 19106, 'jeannathomas': 19107, 'vic': 19108, 'freeman': 19109, 'practicing': 19110, 'errrr': 19111, 'notgoingoutinthat': 19112, 'hellonwheelsamc': 19113, 'how': 19114, 'talkinghell': 19115, '9giaxd6jty': 19116, 'oddball': 19117, 'observer': 19118, 'w0xr5gp8cw': 19119, 'ayekoradio': 19120, 'brasswork': 19121, 'shaken': 19122, 'qh5axvhwh5': 19123, 'netlabel': 19124, 'electronicmusic': 19125, 'ccmusic': 19126, 'giorgio': 19127, 'hiatt': 19128, 'salisbury': 19129, '325': 19130, 'cypress': 19131, '10am': 19132, 'oa6b0z2h6y': 19133, 'awpu0gae0b': 19134, 'cufi': 19135, 'jew': 19136, 'convert': 19137, '4arwwrzpsr': 19138, 'mkjq9yfmp8': 19139, 'smoochy': 19140, 'awakening': 19141, 'bicentennial': 19142, 'disowned': 19143, 'kasab': 19144, 'disowns': 19145, 'hgdrk81sn4': 19146, 'vol': 19147, 'deejayempiresound': 19148, 'rqiuqxnm2x': 19149, '0ymf6txfch': 19150, '3i3d2ngent': 19151, 'jyiekeo2he': 19152, 'enzasbargains': 19153, 'donated': 19154, 'handi': 19155, 'wipe': 19156, 'profittothepeople': 19157, 'eur': 19158, 'bwin': 19159, 'sikkg0fphr': 19160, 'jfyfzddlrn': 19161, 'helmet': 19162, 'silvery': 19163, 'karnal': 19164, 'pbcanpcx': 19165, '2jr3yo55dr': 19166, 'mwlippert': 19167, 'southkorea': 19168, 'electrocutedboiling': 19169, 'waterfur': 19170, '3a50dhz7yi': 19171, 'ojoecw29qa': 19172, 'reafs': 19173, 'referencereference': 19174, 'xekstrin': 19175, 'partake': 19176, 'o7yyjlukfj': 19177, 'br': 19178, 'mithitennis': 19179, 'crackedgem': 19180, '662': 19181, 'reoz7h3em8': 19182, 'udj50j3mv4': 19183, 'smusx16475': 19184, 'skype': 19185, 'defensive': 19186, 'vulnerability': 19187, 'bhramabull': 19188, 'jewel': 19189, 'socially': 19190, 'duo': 19191, 'ld5p1sia2n': 19192, '528': 19193, '530': 19194, '740': 19195, 'switch': 19196, 'oem': 19197, '20177': 19198, '707d': 19199, 'kvnahthuwz': 19200, 'y8xknpqmnj': 19201, 'ledofficial1': 19202, 'smoker': 19203, 'bros': 19204, 'vzpkn23rx4': 19205, 'kkoovbkndp': 19206, '2781': 19207, 'willis': 19208, 'foreman': 19209, 'vckit6edev': 19210, 'inbounds': 19211, 'nats': 19212, 'nl': 19213, 'l0deocxu6o': 19214, 'poured': 19215, 'fallontonight': 19216, 'zfwmjh6slh': 19217, 'blairmcdougall': 19218, 'commenting': 19219, 'arkan': 19220, 'feelingmanly': 19221, 'fa07af174a71408': 19222, 'tolerated': 19223, 'cebu': 19224, 'philippi': 19225, 'al28rvkqpq': 19226, 'skateboard': 19227, 'saferåê': 19228, 'ihinj3enqi': 19229, 'iateyourfood': 19230, 'yikes': 19231, 'pup': 19232, 'bobbyofhomewood': 19233, 'joxroundtable': 19234, 'top25': 19235, 'justintrudeau': 19236, 'g7': 19237, 'g20': 19238, '3rrght4ewp': 19239, 'cochisecollege': 19240, 'ldx9ukngsk': 19241, 'd8awx2okke': 19242, 'mfjxh4p51u': 19243, 'gimp': 19244, 'newave': 19245, 'x0qlgwoymt': 19246, 'hqnx8qmeg3': 19247, 'namjoon': 19248, 'bye': 19249, 'ramp': 19250, 'ugliest': 19251, 'tight': 19252, 'vanilla': 19253, 'dig': 19254, 'hoke': 19255, 'excepting': 19256, 'versus': 19257, 'dfljev': 19258, 'brucewillis': 19259, 'cxdjapzxmp': 19260, 'tora': 19261, 'wgrxly9pdo': 19262, 'bj4haavaye': 19263, '59p3aoiqus': 19264, 'fu1btuq1et': 19265, 'uknews': 19266, 'q5mp2q6hy8': 19267, 'badastronomer': 19268, 'farther': 19269, 'c9dvdssofn': 19270, 'georg': 19271, '0sa6xx1oq7': 19272, 'mygc': 19273, 'suspend': 19274, '6e7hhferz4': 19275, 'skip': 19276, 'dnu5hwsxo2': 19277, 'grlxurko8d': 19278, 'rp': 19279, 'silo': 19280, '260th': 19281, 'hartford': 19282, 'uhxodsc7wi': 19283, 'vz640xoswj': 19284, 'm2hpnoak8b': 19285, 'warriorcord': 19286, '550': 19287, 'paracord': 19288, '5040': 19289, 'strand': 19290, 'eejrmktj0r': 19291, 'st5fgblsye': 19292, '0uk0h9hozn': 19293, 'cest': 19294, '68': 19295, 'fforecast': 19296, '61': 19297, 'quadrillion': 19298, 'ghmmuj7gbe': 19299, 'u9lvvlzhye': 19300, 'lyj57pq3yx': 19301, 'councilscc': 19302, 'yfppifdkqo': 19303, 'ajyulmftif': 19304, 'spying': 19305, 'nsa': 19306, 'qycw5jjaj1': 19307, 'chkp0gfynj': 19308, '73rd': 19309, 'goode': 19310, 'ski': 19311, 'pgkbt3mbap': 19312, 'willow': 19313, 'glen': 19314, 'trestle': 19315, 't4axz7kc3s': 19316, 'natalie': 19317, 'stavola': 19318, 'lh': 19319, 'indiefilm': 19320, '2dw23pmf4b': 19321, 'silverwood': 19322, 'flow397': 19323, 'atcha': 19324, 'golfball': 19325, 'parkchat': 19326, 'macon': 19327, 'warnerrobins': 19328, 'milledgeville': 19329, 'phnez60cwe': 19330, 'whistled': 19331, 'gucci': 19332, 'mkrxqzehmy': 19333, 'jpa6sajfe3': 19334, 'subcommittee': 19335, 'oversight': 19336, 'htt': 19337, 'orchardalley': 19338, 'repression': 19339, 'abcnorio': 19340, 'ba2rrxugsg': 19341, 'kpmyqujsue': 19342, 'myvintagesoul': 19343, 'manservant': 19344, 'pampered': 19345, 'reversal': 19346, 'hhpvpael4n': 19347, 'cyv2zg935g': 19348, 'robertharding': 19349, 'repjohnkatko': 19350, 'gc': 19351, '9newsbrisbane': 19352, 'kd3qsakbi5': 19353, 'vpvj5hrc1i': 19354, 'dlaub2nvtn': 19355, 'chicagoscanner': 19356, 'nffc': 19357, 'wesley': 19358, 'verhoek': 19359, 'tpanic': 19360, 'nopeach': 19361, 'otfw5sekd7': 19362, 'currensy': 19363, 'naypyidaw': 19364, 'prensa': 19365, 'latina': 19366, 'jods9a32pi': 19367, 'ûïairplane': 19368, '6ffylajwps': 19369, 'deployed': 19370, 'fwup9yurzy': 19371, 'acaciapenn': 19372, 'shidddd': 19373, 'wifi': 19374, 'hotspot': 19375, 'perform': 19376, 'hrqcjdovjz': 19377, 'novalismi': 19378, 'joseph': 19379, 'mallord': 19380, 'turner': 19381, 'shade': 19382, '1843': 19383, 'clicca': 19384, 'sul': 19385, 'titolo': 19386, '458dtr3ulx': 19387, 'kmpfhglhoo': 19388, 'm27329': 19389, '1236': 19390, 'waldo': 19391, '12u': 19392, 'cooperstown': 19393, 'joestrong': 19394, 'gokitgo': 19395, 'esk4yvzvap': 19396, 'bible': 19397, 'unloads': 19398, 'descriptive': 19399, 'indecency': 19400, 'chuckswindoll': 19401, 'iflcanada': 19402, '9eh2lcqkxl': 19403, 'blackinamerica': 19404, 'zy3hpdjnwg': 19405, 'drmartyfox': 19406, 'libs': 19407, 'wfaaweather': 19408, 'frisco': 19409, 'okla': 19410, 'fzujg7sxjg': 19411, 'sww0qsmxvm': 19412, 'bcdp4gkoka': 19413, 'pqrjvgvgxg': 19414, 'roguewatson': 19415, 'tfan6qq2ys': 19416, 'rakwwritpo': 19417, 'prrb4fhxtv': 19418, 'qkrltrd39b': 19419, 'allergic': 19420, 'vecmsiuuh1': 19421, 'sg': 19422, 'knockout': 19423, 'nyv51681ue': 19424, 'montalbanony': 19425, 'catalinas': 19426, 'n0tawgezjx': 19427, '1acd4900c1424d1': 19428, 'chrissie': 19429, 'finn': 19430, 'hairdryer': 19431, 'cqnow': 19432, 'xlq8g6vb2r': 19433, '6siirlnv6z': 19434, 'noches': 19435, 'bestia': 19436, 'teammate': 19437, 'goodnight': 19438, 'gunner': 19439, 'uc4j4jhvgr': 19440, 'gargron': 19441, 'ppact': 19442, 'watchthevideo': 19443, 'p64xrvgjik': 19444, 'ukfloods': 19445, 'trekker': 19446, 'nsfzkfgznj': 19447, 'm8mvdspjp7': 19448, 'chorr2xovp': 19449, 'atlbizchron': 19450, 'annoucement': 19451, '7bevuje5ep': 19452, 'creationmin': 19453, 'rwrabbit': 19454, 'gooneratheist': 19455, 'atheistic': 19456, 'lolatjesus': 19457, 'mcfadden': 19458, 'hamstring': 19459, 'jwq4kvjh2j': 19460, 'lesley': 19461, 'mariiee': 19462, 'cydia': 19463, 'tweak': 19464, 'wkmfdig3nt': 19465, 'phillipten': 19466, 'oekucq4zl0': 19467, 'shaolin': 19468, 'shen': 19469, 'chiang': 19470, 'venom': 19471, 'kung': 19472, 'fu': 19473, 'favori': 19474, 'adidas': 19475, 'swingman': 19476, 't81oayjowc': 19477, '8pdnhh6tzh': 19478, 'flyopinemonkey': 19479, 'honshu': 19480, 'coronet': 19481, 'allied': 19482, '30m': 19483, 'deadgirltalking': 19484, 'unfortunemelody': 19485, 'jaylenejoybeligan': 19486, 'tarynel': 19487, 'dredougie': 19488, 'santanico': 19489, 'pvkgo79jni': 19490, 'engineshed': 19491, 'omnbatjeao': 19492, 'x36': 19493, 'rczalru05o': 19494, 'doone': 19495, 'permission': 19496, 'natwest': 19497, 'tallest': 19498, 'uchicago': 19499, 'faculty': 19500, 'protester': 19501, 'ta1yqclpsc': 19502, 'xtohi1hexy': 19503, 'brandonskeie': 19504, 'samsmithworld': 19505, 'yetagc2d8a': 19506, 'uzwlgjqzns': 19507, 'fangirling': 19508, 'wdvqlewybs': 19509, 'shotgun': 19510, 'denton': 19511, '0r03c6njli': 19512, '573': 19513, '1890': 19514, 'uilpg8i1ev': 19515, 'm9pxto2kww': 19516, 'rubi': 19517, 'resxavgpyj': 19518, 'asterpuppet': 19519, 'academia': 19520, 'y46isyzkc8': 19521, 'lukebox': 19522, 'ireporter': 19523, '0rny349unt': 19524, 'tonne': 19525, 'swayback': 19526, 'vn73o4sgzj': 19527, 'calfires': 19528, 'bigbrother': 19529, '37b': 19530, '6m': 19531, '0migwcmtje': 19532, 'enders': 19533, 'mgs2': 19534, 'pagexxi': 19535, 'ps2': 19536, 'chillimik': 19537, 'hushlegs': 19538, 'comparing': 19539, 'brilliant': 19540, 'arse': 19541, 'robertoneill31': 19542, 's4sicmyrmh': 19543, 'otsm38xmas': 19544, 'ghostoftheav': 19545, 'montroseband': 19546, 'wdvxjsqwic': 19547, 'hxox7o42rq': 19548, 'homefolk': 19549, 'opinionated': 19550, 'proposal': 19551, 'modernized': 19552, 'omw': 19553, 'worsen': 19554, 'olzavtjfkh': 19555, 'ucsudk3q1d': 19556, 'transwomen': 19557, 'butch': 19558, 'credited': 19559, 'inciting': 19560, 'unbelievably': 19561, 'aeroplane': 19562, 'freaky': 19563, 'cezhq7czll': 19564, 'casewrites': 19565, 'redo': 19566, 'ayyy': 19567, 'bccca4vy9r': 19568, 'gunning': 19569, 'heartache': 19570, 'jhupogbvs8': 19571, '1o0j9fcpbi': 19572, 'fphfesemyj': 19573, 'xcolwugfjg': 19574, 'hvbj30aj9s': 19575, 'robertwelch': 19576, 'cutlery': 19577, 'bq8kyi7gng': 19578, 'gnzwxqktam': 19579, '4kus': 19580, '15moferadio': 19581, 'heavybag201': 19582, 'qotring': 19583, 'battlerapchris': 19584, 'hughes1128': 19585, '7spydy1csc': 19586, 'benji': 19587, 'devos': 19588, '5gktshiorr': 19589, '9jeuu86koi': 19590, 'assume': 19591, 'spotlight': 19592, 'paradise': 19593, 'wniagospel': 19594, '1he4ufawzm': 19595, 'bnhtxaezmm': 19596, 'preschool': 19597, 'miracle': 19598, 'mankind': 19599, 'gabd0cjmag': 19600, '9lyx7zmthe': 19601, '5pbc96rtmj': 19602, 'web': 19603, 'umtnnimtbm': 19604, '3stfmn26r9': 19605, 'bsf': 19606, 'jawan': 19607, 'fidayeen': 19608, '1lk1eqwyuw': 19609, 'ap30pszkvx': 19610, 'espn2': 19611, '4k8olzv9bv': 19612, 'nashhmu': 19613, '6acswzo7cw': 19614, '4roisyxjlw': 19615, '3r8qozjt7t': 19616, '4sf0rgn8wo': 19617, 'nosa8jjjin': 19618, 'wukvdavuju': 19619, 'gaae0no5du': 19620, 'saumur': 19621, '419': 19622, 'hcdiwe5flc': 19623, 'zlvebeoavg': 19624, 'kp': 19625, 'volfan326': 19626, 'tneazzy': 19627, 'mizzou': 19628, 'muschamp': 19629, 'bama': 19630, 'pledged': 19631, 'cbxnhhz6kd': 19632, 'bjpsamvad': 19633, 'xszicdwxq0': 19634, 'dt': 19635, 'georgegalloway': 19636, 'galloway4mayor': 19637, 'pickpocket': 19638, 'liverpool': 19639, 'stree': 19640, 'vxin1goq4q': 19641, 'nwq6wjqk1z': 19642, 'mwnhappy': 19643, 'aluminum': 19644, 'missouri': 19645, 'naomi': 19646, '0wdseihyqu': 19647, 'gpcecp9khv': 19648, 'janeenorman': 19649, 'probability': 19650, 'cdohgnjmst': 19651, 'indictment': 19652, 'qr6btdcqcj': 19653, 'sterlingknight': 19654, 'crashsterling': 19655, 'carmel': 19656, 'joeysterling': 19657, 'smkznf52za': 19658, 'mcnabbychic': 19659, 'modibo': 19660, 'maiga': 19661, 'fucktard': 19662, 'coyi': 19663, 'savs': 19664, 'convinced': 19665, 'guage': 19666, 'eyeball': 19667, '5b7qt2yxda': 19668, 'beckyfeigin': 19669, 'defs': 19670, 'adamrubinespn': 19671, 'caixxum5sos': 19672, 'sanitised': 19673, 'narrative': 19674, 'gkpanz7vg0': 19675, 'doco': 19676, 'setanta': 19677, 'freeview': 19678, 'imagini': 19679, 'noi': 19680, 'clipuri': 19681, 'j6cfwukofe': 19682, 'cliptv': 19683, 'desolationofsmaug': 19684, 'poze': 19685, 'thehobbit': 19686, 'carterville': 19687, 'kkimmbue04': 19688, 'anp9g6njfd': 19689, 'wayward': 19690, 'qzloremft': 19691, 'belter': 19692, 'mpp': 19693, 'lambasts': 19694, 'kanglaonline': 19695, 'jp9xyla3c5': 19696, 'wc8aqxedf7': 19697, 'ginga': 19698, 'drago': 19699, 'josephus': 19700, 'antiochus': 19701, 'epiphanes': 19702, 'fwj9ccyw6k': 19703, 'davidjordan88': 19704, 'stephanenny': 19705, 'particular': 19706, 'k2tbes65oa': 19707, 'agreement': 19708, 'fionagilbert': 19709, 's107ee7cyc': 19710, 'pvris': 19711, 'nicolaclements4': 19712, 'covering': 19713, 'scab': 19714, 'darrellissa': 19715, 'yessum': 19716, 'chronicillness': 19717, 'mylifestory': 19718, 'fyjwjdkm5i': 19719, 'friend50': 19720, 'hy5pbe12tm': 19721, 'c1njpli5or': 19722, 'vita': 19723, 'mlk': 19724, 'tcjfckxdzl': 19725, 'emtxtgo4ce': 19726, 'jusreign': 19727, 'hxm8c8e33d': 19728, 'knocked': 19729, 'yday': 19730, '2day': 19731, 'dzlense1gw': 19732, 'stern': 19733, 'yhh7x0maio': 19734, 'bjojvm0pjx': 19735, 'whoc7lhb5f': 19736, 'carb': 19737, 'consultative': 19738, 'subconscious': 19739, 'xkdrx': 19740, 'monwabisi': 19741, 'hlongwane': 19742, 'ryt': 19743, 'ashestoashes': 19744, 'dspws6hj8w': 19745, 'untameddirewolf': 19746, 'sansa': 19747, 'blinked': 19748, 'adelaide': 19749, 'pcaldicott7': 19750, '7newsadl': 19751, 'r1xwdnvb0g': 19752, 'affliction': 19753, 'u2es0uk1u3': 19754, 't0c1f2ledv': 19755, 'u0mexo4uhh': 19756, 'morty': 19757, 'uqkx5vbium': 19758, 'cfe9huqn0h': 19759, 'maid': 19760, 'dh30000': 19761, 'y35qtvdsoh': 19762, 'qhujajctr5': 19763, 'mdash': 19764, 'bronville': 19765, '6jjvcdn4ti': 19766, 'redeem': 19767, 'serene': 19768, 'amirkingkhan': 19769, 'floydmayweather': 19770, 'iwate': 19771, 'gmoul9zq2q': 19772, 'calgarians': 19773, 'fkfa9vsssz': 19774, 'barrington': 19775, 'hoffman': 19776, 'afte': 19777, 'b6nphxorzg': 19778, 'uhkxmxab9l': 19779, 'hayden': 19780, 'pose': 19781, 'nxs3z1kxid': 19782, 'udkmadkuzy': 19783, 'heather': 19784, 'ava': 19785, 'sparxxx': 19786, 'threesome': 19787, 'shzpyiqok5': 19788, 'so81ab3a1x': 19789, 'swollen': 19790, 'juic1': 19791, 'chieftain': 19792, 'dickson': 19793, 'n15b': 19794, 'lqgoe7psxp': 19795, 'robertmeyer9': 19796, 'farmer': 19797, 'dart': 19798, 'participating': 19799, 'intensive': 19800, 'technical': 19801, 'tl93aod3er': 19802, 'uphill': 19803, 'ei8qqhregz': 19804, 'fz8ytwqkwv': 19805, 'pugprobs': 19806, 'adani': 19807, 'backed': 19808, 'sje59u2nnm': 19809, 'solano': 19810, 'sr37': 19811, 'skaggs': 19812, 'mylieruxk1': 19813, 'noxdv': 19814, 'gemmasterful': 19815, '47km': 19816, 'alabamaquake': 19817, 'zm6vczqvwk': 19818, 'dknlznom6n': 19819, 'nr7ust3uh8': 19820, 'pioy1o54f4': 19821, 'cbps1gskvo': 19822, 'picthis': 19823, 'br7gmmh5ek': 19824, 'amazingness': 19825, 'finall': 19826, '0yo2l38ozr': 19827, 'breaking144': 19828, 'declarat': 19829, 'm8ciks60bx': 19830, 'acenewsdesk': 19831, 'adavis': 19832, 'cuddling': 19833, 'encoded': 19834, 'sensory': 19835, 'cognitive': 19836, 'dmb6xp966d': 19837, '325ci': 19838, '5l': 19839, 'l6': 19840, 'gbvdnczjou': 19841, 'c211hise0r': 19842, 'staged': 19843, 'ei9x4h8thm': 19844, 'spokane': 19845, 'qbs2k01wzk': 19846, 'mvlziysgll': 19847, 'vxuftvt9au': 19848, 'mis0rjxuir': 19849, 'shootas': 19850, 'burner': 19851, 'confesses': 19852, 'tmz6x1n2gq': 19853, 'whitewalkers': 19854, 'intrigued': 19855, 'poisoned': 19856, 'hskl0vq2d2': 19857, 'mainly': 19858, 'mirror': 19859, 'reflected': 19860, 'serephina': 19861, 'k6uetsnlht': 19862, 'thruuu': 19863, 'hardball': 19864, 'zqmtrbkas0': 19865, 'yeqq3bzx3g': 19866, 'kmvrzasxy4': 19867, 'rtrrtcoach': 19868, '1008planet': 19869, 'alameda': 19870, 'coke': 19871, '6fynermusg': 19872, 'pokemoncards': 19873, 'icequeenfroslas': 19874, '4914njpio3': 19875, 'lolo': 19876, 'rebelmage2': 19877, 'reference': 19878, 'heller': 19879, 'thoroughly': 19880, 'brutality': 19881, 'nvr': 19882, 'plo2qkrwhu': 19883, 'goofball': 19884, 'pd': 19885, 'mayoroflondon': 19886, 'compulsory': 19887, 'notrocketscience': 19888, 'k5knnwugwt': 19889, 'korean': 19890, 'apksnplxzj': 19891, 'steamship': 19892, 'qp3gvvfofq': 19893, 'pfmn63vnam': 19894, 'vkwqbojfjc': 19895, 'yumiko': 19896, 'woah': 19897, 'lenkaiswaifu': 19898, 'kitana': 19899, 'slay': 19900, 'ûókody': 19901, 'kombatfans33': 19902, 'umajwsnluf': 19903, 'isao': 19904, 'hashimoto': 19905, 'atomicbomb': 19906, 'v0t8h4iecc': 19907, 'pinto001': 19908, 'orpik': 19909, 'dfr': 19910, 'ep016': 19911, 'monthly': 19912, 'dnbheaven': 19913, 'ejkrf8n8a8': 19914, 'sphwe6wfi5': 19915, 'requa': 19916, 'dauntedpsyche': 19917, 'gently': 19918, 'dabbed': 19919, 'rag': 19920, 'vjsaqpxngn': 19921, '2be7bwcmpl': 19922, 'l5vaklr59m': 19923, 'provokes': 19924, 'fjeafgbzfj': 19925, 'thejenmorillo': 19926, 'e1': 19927, 'particulate': 19928, 'voltaic': 19929, 'voc': 19930, 'petroleum': 19931, 'bacteria': 19932, 'decomposition': 19933, 'kigy7m6bgj': 19934, 'kotowsa': 19935, 'sudan': 19936, 'mexwohd3tg': 19937, 'gb46fid2we': 19938, 'x1386': 19939, '985dwwpdet': 19940, 'relaxing': 19941, 'soothmyslumber': 19942, 'watermeloann': 19943, 'populardemand': 19944, 'thewebbeffect19': 19945, 'f0qirs5lja': 19946, 'urbanisation': 19947, 'brahman': 19948, 'dominance': 19949, 'fife': 19950, 'hu5cxqnobf': 19951, 'powder': 19952, 'discussed': 19953, 'introduction': 19954, 'aesthetic': 19955, 'bz3ir4gmwj': 19956, '0w12pwpsfx': 19957, 'hilda': 19958, 'ksxto8nknl': 19959, 'jv8ppkhjy7': 19960, '9newsmornings': 19961, 'reginald': 19962, 'inws': 19963, 'spsgsp': 19964, 'ldcwkyuaff': 19965, 'jaydennotjared': 19966, 'squabble': 19967, 'immigration': 19968, 'vf6cklmcsx': 19969, '5ytiex55lh': 19970, 'zfyqsawvrk': 19971, 'kea5l3b1ae': 19972, 'ohyayyyyay': 19973, 'scalpium': 19974, 'heyseto': 19975, 'pple': 19976, 'paddytomlinson1': 19977, 'qfyy5azifx': 19978, 'ma3route': 19979, 'imeshika': 19980, 'hapa': 19981, 'aar': 19982, 'bonnieg434': 19983, 'piga': 19984, 'kijan': 19985, 'coldmpress': 19986, 'commiting': 19987, 'buffett': 19988, 'sector': 19989, 'j4dqpflmkr': 19990, 'growingupspoiled': 19991, 'clay': 19992, 'pigeon': 19993, 'hoop': 19994, 'recruiting': 19995, 'dorette': 19996, 'y3dm9ulqxg': 19997, 'ly8x7rqbwn': 19998, 'implicit': 19999, '5hljucxi0s': 20000, 'charcoal': 20001, 'handled': 20002, 'exceptionally': 20003, 'cor4': 20004, 'apano55': 20005, 'deluded': 20006, '6vyyer6py0': 20007, '2y4rgob7pj': 20008, 'mves6vssyn': 20009, 'norfolk': 20010, '6x0xhlbxji': 20011, 'wonderfully': 20012, 'installment': 20013, 'kainyusanagi': 20014, 'grummz': 20015, 'pixelcanuck': 20016, 'balding': 20017, 'emo': 20018, 'generic': 20019, 'connecticut': 20020, 'qwpuxpywbf': 20021, '8jlxz6fkxy': 20022, 'wvexjjrg6e': 20023, 'ngata': 20024, 'z16dtoqhhg': 20025, 'sounder': 20026, 'epiqdbxvzo': 20027, 'bhfoylqljp': 20028, 'gz27audyha': 20029, 'p4ekgc9sig': 20030, '94sxki7kvx': 20031, 'xl61': 20032, '62': 20033, '74yfqxvak0': 20034, 'kxrehvt6hl': 20035, 'schelbertgeorg': 20036, 'ren': 20037, 'fukurodani': 20038, 'bokuto': 20039, 'ppor': 20040, 'utp': 20041, '7vsqqsvgni': 20042, 'q13': 20043, 'e981dgskab': 20044, 'earthquakenews': 20045, 'fjord': 20046, '534q3jg2ov': 20047, 'icelandreview': 20048, 'amateur': 20049, 'reprises': 20050, 'horrormovies': 20051, 'w9cd6offcj': 20052, 'ecstatic': 20053, 'racco': 20054, 't8q6dzvgwx': 20055, 'psalm34': 20056, 'statistically': 20057, 'tackettdc': 20058, 'aliveafter5': 20059, 'sc4twjkxr1': 20060, 'yn6duotimr': 20061, 'bairstow': 20062, 'buffet': 20063, 'lad': 20064, 'woodchuck': 20065, 'cy0ciu2u1c': 20066, 'kcoff6bmie': 20067, 'missleylaha': 20068, 'invzices': 20069, 'sllikely': 20070, 'nj36': 20071, '516': 20072, 'leonardville': 20073, '2xwihy2wsg': 20074, 'shovel': 20075, 'expirehc': 20076, 'dopeitsval': 20077, 'ipfzwwnxxp': 20078, 'schoolboy': 20079, 'pq0d7mh3qr': 20080, '4e719w6m4v': 20081, 'realhotcullen': 20082, 'lyrium': 20083, '26oo0fcl53': 20084, 'x5yeuylt1x': 20085, '2ugrmd1z1n': 20086, 'awickedassassin': 20087, 'hugged': 20088, 'tightly': 20089, 'warfare': 20090, 'founding': 20091, 'tgtcru8jio': 20092, 'betting': 20093, 'rebound': 20094, '1yggzziz9o': 20095, 'dbu30obdxz': 20096, '8e7ry8ebmf': 20097, 'mqbyravk6h': 20098, 'patricia': 20099, 'traina': 20100, 'mcclain': 20101, 'nyg': 20102, 'lyrical': 20103, 'vocalist': 20104, 'themale': 20105, 'madonna': 20106, 'melanie': 20107, 'fiona': 20108, 'slept': 20109, '1145': 20110, 'mjstefggu5': 20111, 'defeater': 20112, 'yeaahh': 20113, 'testa': 20114, 'distinction': 20115, 'htarvrgly': 20116, 'cyxbrzxwq4': 20117, 'mclaughlin': 20118, 'amazin': 20119, 'dedication': 20120, 'u9ao3a4ogc': 20121, 'mesick': 20122, 'a9gtopyzk8': 20123, 'gilmanrocks7': 20124, 'ka1hbjlqvw': 20125, 'brant': 20126, 'drummond': 20127, 'eudwnfyuem': 20128, 'icrc': 20129, 'bkh7z6cwwl': 20130, '8rdxcfgqem': 20131, 'rahulkanwal': 20132, 'jammu': 20133, 'x8moyevjsj': 20134, 'xaermbmvlv': 20135, 'harassed': 20136, 'sbila2yqjq': 20137, 'enolagay': 20138, 'disarmed': 20139, 'jb25fhke6q': 20140, 'accepte': 20141, 'vg8hrbebda': 20142, 'zourryart': 20143, 'thinner': 20144, 'bnwygx6luh': 20145, 'rjkrraj': 20146, 'karnakarank': 20147, 'vimvith': 20148, 'thalapathi': 20149, 'tunisian': 20150, 'bardo': 20151, '1fvootqnej': 20152, 'reached': 20153, 'opjwunuvg8': 20154, 'roofing': 20155, 'nephew': 20156, 'ary': 20157, 'cowardly': 20158, 'ldywd4ydt9': 20159, 'oqb7dasmvy': 20160, 'newbeginningsanimalrescue': 20161, 'makewaterwork': 20162, 'maxed': 20163, 'txrbdaubnn': 20164, 'ue78c7egox': 20165, 'westerncanadadrought': 20166, 'vgzgok5k3s': 20167, 'rigged': 20168, 'ursula': 20169, 'protoshoggoth': 20170, 'blakeschmidt': 20171, 'gbqtc7sp9c': 20172, 'bolasie': 20173, '7ct01neptl': 20174, '159': 20175, 'burton': 20176, 'fjddx43ewj': 20177, 'messnermatthew': 20178, 'newcity': 20179, 'rescuing': 20180, 'sophistication': 20181, 'closely': 20182, 'zrnf': 20183, 'deldryden': 20184, 'twitch': 20185, 'flamethrower': 20186, 'eo2f96wxpz': 20187, 'tdaktglu5p': 20188, 'nbanews': 20189, 'sunburned': 20190, 'ririnsider': 20191, 'hendricks': 20192, 'hospitality': 20193, 'neanea2724': 20194, 'stung': 20195, 'x6asgrjswc': 20196, 'thesewphist': 20197, 'fuckface': 20198, 'wineisdumb': 20199, 'spam': 20200, 'transcend': 20201, 'diversified': 20202, 'nr1i8qnao1': 20203, 'vancouveråêisland': 20204, 'vdiliicyr5': 20205, '8acdf4zui6': 20206, 'gigagil': 20207, 'iof': 20208, '513': 20209, 'morality': 20210, 'hunwx': 20211, 'e3l1jqjh2u': 20212, 'hsdbgciyrs': 20213, 'fvck': 20214, 'wccorosen': 20215, 'insure': 20216, 'corycove': 20217, 'x8w7tf6fhg': 20218, '9nz9zfm93i': 20219, 'waterproof': 20220, 'weiqin': 20221, 'michel': 20222, 'lujo': 20223, '1jgsioujas': 20224, '719tzeyhfn': 20225, 'lt3dave': 20226, 'spec': 20227, 'lore': 20228, 'umgd92wlja': 20229, 'hqsu8lwlth': 20230, 'qhwe5k7xuw': 20231, 'bae': 20232, 'backroom': 20233, 'kgxnwziuxd': 20234, 't2kk8fya77': 20235, 'breeder': 20236, 'bred': 20237, 'dragonvale': 20238, 'qgum9xheos': 20239, 'gazette': 20240, 'jhc2rt0v9f': 20241, 'eerie': 20242, 'revealing': 20243, 'cadrought': 20244, 'lakeisabella': 20245, 'jpanzar': 20246, 'pvexbiiqsk': 20247, 'youtu': 20248, 'lzktjnox': 20249, 'zz0cewew64': 20250, 'btjpeo0bto': 20251, 'clyj32l333': 20252, 'yhngsjlg': 20253, 'tweeted': 20254, 'ioqm5bm1dg': 20255, 'frying': 20256, 'maine': 20257, 'childfund': 20258, 'pqhq4jnztt': 20259, 'fx0w2sq05f': 20260, 'careemergencies': 20261, 'appeal': 20262, 'arranged': 20263, 'guatemalan': 20264, '4fynq1hwwb': 20265, 'freeing': 20266, 'newidea': 20267, 'stfmbbzfb5': 20268, 'baffling': 20269, 'overhead': 20270, 'oakridge': 20271, 'naayf': 20272, 'chandanee': 20273, 'magu': 20274, 'halfway': 20275, 'conf': 20276, 'flavafraz21': 20277, 'whatcanthedo': 20278, 'shestooyoung': 20279, 'oef123l5rc': 20280, 'reblogged': 20281, '5sosfamupdater': 20282, 'animation': 20283, 'ameribag': 20284, 'khaki': 20285, 'beige': 20286, 'r4k7tylofj': 20287, '0rokdutyun': 20288, 'adjuster': 20289, 'safeco': 20290, '3k42mjvqca': 20291, 'pantofel': 20292, '23928835': 20293, 'dthneezupe': 20294, 'pnpizody': 20295, 'summon': 20296, 'directly': 20297, 'irishirr': 20298, 'mchapmanwsaz': 20299, 'wsaz': 20300, 'brittany': 20301, 'kellyannwx': 20302, 'qj3pvgavn7': 20303, 'stvmlly': 20304, 'safferoonicle': 20305, 'yell': 20306, '7ageakvn2x': 20307, 'xbmm7ite9q': 20308, 'qyn6kxjstl': 20309, 'ûónegligence': 20310, 'd5w2zynp7b': 20311, 'kristenkoin6': 20312, 'pdx': 20313, 'abq': 20314, 'bcuz': 20315, 'erker': 20316, 'eep': 20317, 'yi30zgizsw': 20318, '2jgvhw7yzs': 20319, '2am': 20320, 'wander': 20321, 'hw': 20322, 'ohlordy': 20323, 'hank': 20324, 'you7wn9xvs': 20325, 'bigburgerboi55': 20326, 'spartan': 20327, 'crushing': 20328}\n"
          ]
        }
      ],
      "source": [
        "print(tokenizer.word_index)"
      ]
    },
    {
      "cell_type": "code",
      "execution_count": 252,
      "id": "edafa637",
      "metadata": {
        "trusted": true,
        "id": "edafa637"
      },
      "outputs": [],
      "source": [
        "# Now for each sentence a list is created and with respect to the word a unique number is assigned \n",
        "train_x = tokenizer.texts_to_sequences(X_train)\n",
        "test_x = tokenizer.texts_to_sequences(X_test)"
      ]
    },
    {
      "cell_type": "code",
      "execution_count": 253,
      "id": "e7d67ff5",
      "metadata": {
        "trusted": true,
        "id": "e7d67ff5"
      },
      "outputs": [],
      "source": [
        "## Pad the sentences to have the same length \n",
        "train_x = pad_sequences(train_x, maxlen=150)\n",
        "test_x = pad_sequences(test_x, maxlen= 150)"
      ]
    },
    {
      "cell_type": "code",
      "execution_count": 254,
      "id": "5a4c0b00",
      "metadata": {
        "trusted": true,
        "colab": {
          "base_uri": "https://localhost:8080/"
        },
        "id": "5a4c0b00",
        "outputId": "d02ea999-a270-46c0-9073-f92caf6e8e86"
      },
      "outputs": [
        {
          "output_type": "stream",
          "name": "stdout",
          "text": [
            "(6090, 150)\n"
          ]
        }
      ],
      "source": [
        "print(train_x.shape)"
      ]
    },
    {
      "cell_type": "code",
      "execution_count": 255,
      "id": "f8f43093",
      "metadata": {
        "trusted": true,
        "colab": {
          "base_uri": "https://localhost:8080/"
        },
        "id": "f8f43093",
        "outputId": "5ac551ac-93f8-4a19-de63-728f514ede6f"
      },
      "outputs": [
        {
          "output_type": "stream",
          "name": "stdout",
          "text": [
            "(1523, 150)\n"
          ]
        }
      ],
      "source": [
        "print(test_x.shape)"
      ]
    },
    {
      "cell_type": "markdown",
      "id": "96ba9730",
      "metadata": {
        "id": "96ba9730"
      },
      "source": [
        "# IMPLEMENTING A CONVOLUTIONAL 1 D NEURAL NETWORK"
      ]
    },
    {
      "cell_type": "code",
      "execution_count": 256,
      "id": "bb4a28b7",
      "metadata": {
        "trusted": true,
        "id": "bb4a28b7"
      },
      "outputs": [],
      "source": [
        "model = Sequential()\n",
        "model.add(Embedding(input_dim=vocab_size, output_dim=80, input_length = train_x.shape[1]))\n",
        "model.add(Conv1D(32,3,activation=\"relu\"))\n",
        "model.add(Conv1D(16,3,activation=\"relu\"))\n",
        "model.add(MaxPooling1D(2))\n",
        "model.add(Flatten())\n",
        "model.add(Dense(3))\n",
        "model.add(Dense(1, activation='sigmoid'))"
      ]
    },
    {
      "cell_type": "code",
      "execution_count": 257,
      "id": "37f8bba8",
      "metadata": {
        "trusted": true,
        "id": "37f8bba8"
      },
      "outputs": [],
      "source": [
        "model.compile(loss = 'binary_crossentropy', optimizer='adam', metrics = ['accuracy'])\n"
      ]
    },
    {
      "cell_type": "code",
      "execution_count": 258,
      "id": "a1952105",
      "metadata": {
        "trusted": true,
        "colab": {
          "base_uri": "https://localhost:8080/"
        },
        "id": "a1952105",
        "outputId": "94d3a8af-7630-4264-9264-1267106e1419"
      },
      "outputs": [
        {
          "output_type": "stream",
          "name": "stdout",
          "text": [
            "Epoch 1/15\n",
            "191/191 [==============================] - 8s 37ms/step - loss: 0.5635 - accuracy: 0.7011 - val_loss: 0.4828 - val_accuracy: 0.7827\n",
            "Epoch 2/15\n",
            "191/191 [==============================] - 7s 36ms/step - loss: 0.3069 - accuracy: 0.8755 - val_loss: 0.5172 - val_accuracy: 0.7656\n",
            "Epoch 3/15\n",
            "191/191 [==============================] - 7s 36ms/step - loss: 0.1031 - accuracy: 0.9635 - val_loss: 0.6489 - val_accuracy: 0.7544\n",
            "Epoch 4/15\n",
            "191/191 [==============================] - 7s 36ms/step - loss: 0.0323 - accuracy: 0.9908 - val_loss: 0.9324 - val_accuracy: 0.7065\n",
            "Epoch 5/15\n",
            "191/191 [==============================] - 10s 52ms/step - loss: 0.0206 - accuracy: 0.9941 - val_loss: 0.8532 - val_accuracy: 0.7505\n",
            "Epoch 6/15\n",
            "191/191 [==============================] - 9s 46ms/step - loss: 0.0133 - accuracy: 0.9957 - val_loss: 0.9596 - val_accuracy: 0.7439\n",
            "Epoch 7/15\n",
            "191/191 [==============================] - 12s 61ms/step - loss: 0.0111 - accuracy: 0.9964 - val_loss: 0.9735 - val_accuracy: 0.7367\n",
            "Epoch 8/15\n",
            "191/191 [==============================] - 7s 36ms/step - loss: 0.0097 - accuracy: 0.9961 - val_loss: 0.9991 - val_accuracy: 0.7505\n",
            "Epoch 9/15\n",
            "191/191 [==============================] - 7s 36ms/step - loss: 0.0095 - accuracy: 0.9959 - val_loss: 1.0098 - val_accuracy: 0.7347\n",
            "Epoch 10/15\n",
            "191/191 [==============================] - 7s 38ms/step - loss: 0.0068 - accuracy: 0.9970 - val_loss: 1.0557 - val_accuracy: 0.7446\n",
            "Epoch 11/15\n",
            "191/191 [==============================] - 7s 37ms/step - loss: 0.0079 - accuracy: 0.9962 - val_loss: 1.0527 - val_accuracy: 0.7446\n",
            "Epoch 12/15\n",
            "191/191 [==============================] - 7s 37ms/step - loss: 0.0080 - accuracy: 0.9969 - val_loss: 1.0468 - val_accuracy: 0.7400\n",
            "Epoch 13/15\n",
            "191/191 [==============================] - 7s 37ms/step - loss: 0.0067 - accuracy: 0.9969 - val_loss: 1.0959 - val_accuracy: 0.7446\n",
            "Epoch 14/15\n",
            "191/191 [==============================] - 7s 37ms/step - loss: 0.0073 - accuracy: 0.9966 - val_loss: 1.0765 - val_accuracy: 0.7360\n",
            "Epoch 15/15\n",
            "191/191 [==============================] - 7s 37ms/step - loss: 0.0064 - accuracy: 0.9970 - val_loss: 1.1121 - val_accuracy: 0.7459\n"
          ]
        }
      ],
      "source": [
        "history = model.fit(train_x, y_train, epochs=15, validation_data=(test_x, y_test))"
      ]
    },
    {
      "cell_type": "code",
      "execution_count": 259,
      "id": "6cdd4903",
      "metadata": {
        "trusted": true,
        "colab": {
          "base_uri": "https://localhost:8080/",
          "height": 407
        },
        "id": "6cdd4903",
        "outputId": "40fbc1c0-f4d3-46ac-ce16-24e5813f9902"
      },
      "outputs": [
        {
          "output_type": "display_data",
          "data": {
            "text/plain": [
              "<Figure size 576x432 with 1 Axes>"
            ],
            "image/png": "[encoded data removed]"
          },
          "metadata": {
            "needs_background": "light"
          }
        }
      ],
      "source": [
        "# summarize history for loss\n",
        "plt.figure(figsize=(8, 6))\n",
        "\n",
        "\n",
        "plt.plot(history.history['accuracy'])\n",
        "\n",
        "plt.plot(history.history['val_accuracy'])\n",
        "\n",
        "plt.title('model accuracy')\n",
        "\n",
        "plt.ylabel('Accruacy', fontsize = 12)\n",
        "\n",
        "plt.xlabel('epoch', fontsize = 12)\n",
        "\n",
        "plt.legend(['Train', \"Test\"], loc='upper left')\n",
        "\n",
        "plt.show()"
      ]
    },
    {
      "cell_type": "code",
      "execution_count": 260,
      "id": "38b42b6d",
      "metadata": {
        "trusted": true,
        "colab": {
          "base_uri": "https://localhost:8080/",
          "height": 407
        },
        "id": "38b42b6d",
        "outputId": "86148ae7-da9c-416a-9b3f-29ed73c5b00a"
      },
      "outputs": [
        {
          "output_type": "display_data",
          "data": {
            "text/plain": [
              "<Figure size 576x432 with 1 Axes>"
            ],
            "image/png": "[encoded data removed]"
          },
          "metadata": {
            "needs_background": "light"
          }
        }
      ],
      "source": [
        "# summarize history for loss\n",
        "plt.figure(figsize=(8, 6))\n",
        "\n",
        "plt.plot(history.history['loss'])\n",
        "\n",
        "plt.plot(history.history['val_loss'])\n",
        "\n",
        "plt.title('model loss')\n",
        "\n",
        "plt.ylabel('loss', fontsize = 14)\n",
        "\n",
        "plt.xlabel('epoch', fontsize = 12)\n",
        "\n",
        "plt.legend(['Train', \"Test\"], loc='upper left')\n",
        "plt.show()"
      ]
    },
    {
      "cell_type": "code",
      "execution_count": 260,
      "id": "628bf78b",
      "metadata": {
        "trusted": true,
        "id": "628bf78b"
      },
      "outputs": [],
      "source": []
    }
  ],
  "metadata": {
    "colab": {
      "provenance": []
    },
    "language_info": {
      "name": "python"
    },
    "kernelspec": {
      "name": "python3",
      "display_name": "Python 3"
    }
  },
  "nbformat": 4,
  "nbformat_minor": 5
}